{
 "cells": [
  {
   "cell_type": "code",
   "execution_count": 1,
   "metadata": {},
   "outputs": [],
   "source": [
    "import pyodbc\n",
    "import pandas as pd\n",
    "import numpy as np\n",
    "import matplotlib.pyplot as plt\n",
    "con = pyodbc.connect('Trusted_Connection=yes', driver = '{SQL Server}',server = 'reportersql', database = 'allocations_2011')\n",
    "cursor = con.cursor()"
   ]
  },
  {
   "cell_type": "code",
   "execution_count": 151,
   "metadata": {},
   "outputs": [
    {
     "data": {
      "text/plain": [
       "(608046, 934)"
      ]
     },
     "execution_count": 151,
     "metadata": {},
     "output_type": "execute_result"
    }
   ],
   "source": [
    "age = pd.read_sql_query(\"\"\"\n",
    " select *\n",
    "\n",
    "from InfoBaseUSdemov1 ib\n",
    "\n",
    "where ib.[10786] = 1\n",
    " \"\"\",con) \n",
    "#age25_29.head(5)\n",
    "age.shape\n",
    "#65+"
   ]
  },
  {
   "cell_type": "code",
   "execution_count": 152,
   "metadata": {},
   "outputs": [
    {
     "name": "stdout",
     "output_type": "stream",
     "text": [
      "count of row,columns (933, 2)\n"
     ]
    },
    {
     "data": {
      "text/plain": [
       "(None,              variable   count\n",
       " 0             seq_num       0\n",
       " 1                 zip       0\n",
       " 2  one_percent_sample  608046\n",
       " 3                1004   21947\n",
       " 4                1005   38095)"
      ]
     },
     "execution_count": 152,
     "metadata": {},
     "output_type": "execute_result"
    }
   ],
   "source": [
    "age = age.drop(['300935820'],axis=1)\n",
    "a_indx = pd.DataFrame(columns=['variable','count'])\n",
    "for i,j in zip(range(0,934),age.columns):\n",
    "    a_indx.loc[i,'variable'] = j\n",
    "    a_indx.loc[i,'count'] = len(age[age[j]=='1'])\n",
    "\n",
    "print ('count of row,columns',a_indx.shape),(a_indx.head(5))\n",
    " \n",
    "    "
   ]
  },
  {
   "cell_type": "code",
   "execution_count": 16,
   "metadata": {},
   "outputs": [],
   "source": [
    "path_in = 'C:/Users/varunn/Desktop/PAF Std - August 2019 Delivery Docs/New folder/IDandvariablenamelist.csv'\n",
    "var_name = pd.read_csv(path_in,encoding = 'unicode_escape')"
   ]
  },
  {
   "cell_type": "code",
   "execution_count": 153,
   "metadata": {},
   "outputs": [],
   "source": [
    "a_indx = a_indx.drop([0,1,2])\n",
    "a_indx= a_indx.apply(pd.to_numeric,errors='coerce')"
   ]
  },
  {
   "cell_type": "code",
   "execution_count": 17,
   "metadata": {},
   "outputs": [],
   "source": [
    "var_name[var_name['Taxonomy ID'].isna()]\n",
    "var_name = var_name.drop([5470])\n",
    "var_name['Taxonomy ID']= var_name['Taxonomy ID'].astype(int)\n",
    "var_name = var_name.rename(columns={\"Taxonomy ID\": \"variable\"})"
   ]
  },
  {
   "cell_type": "code",
   "execution_count": 103,
   "metadata": {},
   "outputs": [
    {
     "data": {
      "text/plain": [
       "variable    int64\n",
       "count       int64\n",
       "dtype: object"
      ]
     },
     "execution_count": 103,
     "metadata": {},
     "output_type": "execute_result"
    }
   ],
   "source": [
    "#a1824_indx.dtypes"
   ]
  },
  {
   "cell_type": "code",
   "execution_count": 104,
   "metadata": {},
   "outputs": [
    {
     "data": {
      "text/plain": [
       "variable                    int32\n",
       "Segments and Categories    object\n",
       "dtype: object"
      ]
     },
     "execution_count": 104,
     "metadata": {},
     "output_type": "execute_result"
    }
   ],
   "source": [
    "#var_name.dtypes"
   ]
  },
  {
   "cell_type": "code",
   "execution_count": 154,
   "metadata": {},
   "outputs": [],
   "source": [
    "a_indx1 = pd.merge(a_indx,var_name)"
   ]
  },
  {
   "cell_type": "code",
   "execution_count": 155,
   "metadata": {},
   "outputs": [],
   "source": [
    "path_in = 'C:/Users/varunn/Desktop/PAF Std - August 2019 Delivery Docs/New folder/index/a65plus_indx.csv'\n",
    "a_indx1.to_csv(path_in)"
   ]
  },
  {
   "cell_type": "code",
   "execution_count": 91,
   "metadata": {},
   "outputs": [
    {
     "data": {
      "text/plain": [
       "(121633, 2375)"
      ]
     },
     "execution_count": 91,
     "metadata": {},
     "output_type": "execute_result"
    }
   ],
   "source": [
    "prop = pd.read_sql_query(\"\"\"\n",
    "select *\n",
    "\n",
    "from \n",
    "APScore6 ap6 inner join\n",
    "APScore7 ap7 on ap7.seq_num=ap6.seq_num inner join\n",
    "Apscore8 ap8 on ap8.seq_num=ap6.seq_num inner join\n",
    "APScore9 ap9 on ap9.seq_num=ap6.seq_num inner join\n",
    "InfoBaseUSdemov1 ib on ib.seq_num=ap6.seq_num\n",
    "\n",
    "where ap6.[300112699]<>1 and  ib.[1825]=1\n",
    "\n",
    " \"\"\",con) \n",
    "#age25_29.head(5)\n",
    "prop.shape\n",
    "#prop score 6-9  consumers automotive insurance brand affinity to Progressive.\n"
   ]
  },
  {
   "cell_type": "code",
   "execution_count": 92,
   "metadata": {},
   "outputs": [
    {
     "data": {
      "text/plain": [
       "(121633, 2363)"
      ]
     },
     "execution_count": 92,
     "metadata": {},
     "output_type": "execute_result"
    }
   ],
   "source": [
    "df = prop.loc[:,~prop.columns.duplicated()]\n",
    "df.shape"
   ]
  },
  {
   "cell_type": "code",
   "execution_count": 93,
   "metadata": {},
   "outputs": [],
   "source": [
    "df1 =  df.sample(n=15000,random_state=1)\n",
    "#df1 = df"
   ]
  },
  {
   "cell_type": "code",
   "execution_count": 94,
   "metadata": {},
   "outputs": [
    {
     "data": {
      "text/plain": [
       "(15000, 2363)"
      ]
     },
     "execution_count": 94,
     "metadata": {},
     "output_type": "execute_result"
    }
   ],
   "source": [
    "df1.shape"
   ]
  },
  {
   "cell_type": "code",
   "execution_count": 95,
   "metadata": {},
   "outputs": [
    {
     "name": "stdout",
     "output_type": "stream",
     "text": [
      "count of row,columns (2363, 2)\n"
     ]
    },
    {
     "data": {
      "text/plain": [
       "(None,              variable  count\n",
       " 0             seq_num      0\n",
       " 1                 zip      0\n",
       " 2  one_percent_sample  15000\n",
       " 3           300026699   4067\n",
       " 4           300031699    877)"
      ]
     },
     "execution_count": 95,
     "metadata": {},
     "output_type": "execute_result"
    }
   ],
   "source": [
    "a_indx = pd.DataFrame(columns=['variable','count'])\n",
    "for i,j in zip(range(0,2364),df1.columns):\n",
    "    a_indx.loc[i,'variable'] = j\n",
    "    a_indx.loc[i,'count'] = len(df1[df1[j]=='1'])\n",
    "\n",
    "print ('count of row,columns',a_indx.shape),(a_indx.head(5))\n",
    " "
   ]
  },
  {
   "cell_type": "code",
   "execution_count": 99,
   "metadata": {},
   "outputs": [],
   "source": [
    "idx_IN_columns = a_indx[a_indx['count']>550].sort_values(by=['count'],ascending=False)\n",
    "idx_IN_columns.shape\n",
    "index = list(idx_IN_columns.index)\n",
    "good_data = df1.iloc[:,index]"
   ]
  },
  {
   "cell_type": "code",
   "execution_count": 126,
   "metadata": {},
   "outputs": [],
   "source": [
    "#a_indx = a_indx.drop([0,1,2])\n",
    "#a_indx= a_indx.apply(pd.to_numeric,errors='coerce')"
   ]
  },
  {
   "cell_type": "code",
   "execution_count": 62,
   "metadata": {},
   "outputs": [],
   "source": [
    "#a_indx1 = pd.merge(a_indx,var_name)\n",
    "#path_in = 'C:/Users/varunn/Desktop/PAF Std - August 2019 Delivery Docs/New folder/index/prop_indx_a24.csv'\n",
    "#a_indx1.to_csv(path_in)\n",
    " "
   ]
  },
  {
   "cell_type": "code",
   "execution_count": 100,
   "metadata": {},
   "outputs": [
    {
     "data": {
      "text/plain": [
       "[]"
      ]
     },
     "execution_count": 100,
     "metadata": {},
     "output_type": "execute_result"
    }
   ],
   "source": [
    "good_data = good_data.drop(['one_percent_sample'],axis=1)\n",
    "good_data= good_data.apply(pd.to_numeric,errors='coerce')\n",
    "good_data = good_data.fillna(0)\n",
    "[ col  for col, dt in good_data.dtypes.items() if dt == object]"
   ]
  },
  {
   "cell_type": "code",
   "execution_count": 101,
   "metadata": {},
   "outputs": [
    {
     "data": {
      "text/html": [
       "<div>\n",
       "<style scoped>\n",
       "    .dataframe tbody tr th:only-of-type {\n",
       "        vertical-align: middle;\n",
       "    }\n",
       "\n",
       "    .dataframe tbody tr th {\n",
       "        vertical-align: top;\n",
       "    }\n",
       "\n",
       "    .dataframe thead th {\n",
       "        text-align: right;\n",
       "    }\n",
       "</style>\n",
       "<table border=\"1\" class=\"dataframe\">\n",
       "  <thead>\n",
       "    <tr style=\"text-align: right;\">\n",
       "      <th></th>\n",
       "      <th>Eig</th>\n",
       "      <th>Exp_var</th>\n",
       "      <th>Eig_ben</th>\n",
       "      <th>Exp_var_ben</th>\n",
       "      <th>Eig_gre</th>\n",
       "      <th>Exp_var_gre</th>\n",
       "    </tr>\n",
       "    <tr>\n",
       "      <th>Factor</th>\n",
       "      <th></th>\n",
       "      <th></th>\n",
       "      <th></th>\n",
       "      <th></th>\n",
       "      <th></th>\n",
       "      <th></th>\n",
       "    </tr>\n",
       "  </thead>\n",
       "  <tbody>\n",
       "    <tr>\n",
       "      <th>1</th>\n",
       "      <td>0.377742</td>\n",
       "      <td>0.073402</td>\n",
       "      <td>0.142389</td>\n",
       "      <td>0.564283</td>\n",
       "      <td>0.142389</td>\n",
       "      <td>0.551596</td>\n",
       "    </tr>\n",
       "    <tr>\n",
       "      <th>2</th>\n",
       "      <td>0.209812</td>\n",
       "      <td>0.040770</td>\n",
       "      <td>0.043810</td>\n",
       "      <td>0.173617</td>\n",
       "      <td>0.043810</td>\n",
       "      <td>0.169713</td>\n",
       "    </tr>\n",
       "    <tr>\n",
       "      <th>3</th>\n",
       "      <td>0.136270</td>\n",
       "      <td>0.026480</td>\n",
       "      <td>0.018420</td>\n",
       "      <td>0.072996</td>\n",
       "      <td>0.018420</td>\n",
       "      <td>0.071355</td>\n",
       "    </tr>\n",
       "    <tr>\n",
       "      <th>4</th>\n",
       "      <td>0.089608</td>\n",
       "      <td>0.017412</td>\n",
       "      <td>0.007926</td>\n",
       "      <td>0.031409</td>\n",
       "      <td>0.007926</td>\n",
       "      <td>0.030703</td>\n",
       "    </tr>\n",
       "    <tr>\n",
       "      <th>5</th>\n",
       "      <td>0.075219</td>\n",
       "      <td>0.014616</td>\n",
       "      <td>0.005569</td>\n",
       "      <td>0.022071</td>\n",
       "      <td>0.005569</td>\n",
       "      <td>0.021575</td>\n",
       "    </tr>\n",
       "    <tr>\n",
       "      <th>6</th>\n",
       "      <td>0.061728</td>\n",
       "      <td>0.011995</td>\n",
       "      <td>0.003737</td>\n",
       "      <td>0.014809</td>\n",
       "      <td>0.003737</td>\n",
       "      <td>0.014476</td>\n",
       "    </tr>\n",
       "    <tr>\n",
       "      <th>Σ</th>\n",
       "      <td>0.950378</td>\n",
       "      <td>0.184676</td>\n",
       "      <td>0.221851</td>\n",
       "      <td>0.879184</td>\n",
       "      <td>0.221851</td>\n",
       "      <td>0.859417</td>\n",
       "    </tr>\n",
       "  </tbody>\n",
       "</table>\n",
       "</div>"
      ],
      "text/plain": [
       "             Eig   Exp_var   Eig_ben  Exp_var_ben   Eig_gre  Exp_var_gre\n",
       "Factor                                                                  \n",
       "1       0.377742  0.073402  0.142389     0.564283  0.142389     0.551596\n",
       "2       0.209812  0.040770  0.043810     0.173617  0.043810     0.169713\n",
       "3       0.136270  0.026480  0.018420     0.072996  0.018420     0.071355\n",
       "4       0.089608  0.017412  0.007926     0.031409  0.007926     0.030703\n",
       "5       0.075219  0.014616  0.005569     0.022071  0.005569     0.021575\n",
       "6       0.061728  0.011995  0.003737     0.014809  0.003737     0.014476\n",
       "Σ       0.950378  0.184676  0.221851     0.879184  0.221851     0.859417"
      ]
     },
     "execution_count": 101,
     "metadata": {},
     "output_type": "execute_result"
    }
   ],
   "source": [
    "from sklearn.decomposition import PCA\n",
    "import prince\n",
    "import visuals as vs\n",
    "from mca import *\n",
    "\n",
    "N_eig = 6\n",
    "mca_ben = MCA(good_data)\n",
    "mca_ind = MCA(good_data, benzecri=False)\n",
    "data = {'Eig': pd.Series(mca_ind.L[:N_eig]),\n",
    "        'Exp_var': mca_ind.expl_var(greenacre=False,N=N_eig),\n",
    "        'Eig_ben': pd.Series(mca_ben.L[:N_eig]),\n",
    "        'Exp_var_ben': mca_ben.expl_var(greenacre=False,N=N_eig),\n",
    "        'Eig_gre': pd.Series(mca_ben.L[:N_eig]),\n",
    "        'Exp_var_gre': mca_ind.expl_var(greenacre=True,N=N_eig)}\n",
    "\n",
    "# 'Indicator Matrix', 'Benzecri Correction', 'Greenacre Correction'\n",
    "columns = ['Eig', 'Exp_var', 'Eig_ben', 'Exp_var_ben', 'Eig_gre', 'Exp_var_gre']\n",
    "table2 = pd.DataFrame(data=data, columns=columns).fillna(0)\n",
    "#table2 = pd.DataFrame(data=data, columns=columns)\n",
    "table2.index += 1\n",
    "table2.loc['Σ'] = table2.sum()\n",
    "table2.index.name = 'Factor'\n",
    "\n",
    "table2"
   ]
  },
  {
   "cell_type": "code",
   "execution_count": 102,
   "metadata": {},
   "outputs": [],
   "source": [
    "cont = 'contribution'\n",
    "table3 = pd.DataFrame(columns=good_data.columns, index=pd.MultiIndex\n",
    "                      .from_product([[cont], range(1, 5)]))\n",
    "\n",
    "table3.loc[cont,  :] = mca_ben.cont_c(N=4).T * 1000\n",
    "\n",
    "\n"
   ]
  },
  {
   "cell_type": "code",
   "execution_count": 103,
   "metadata": {},
   "outputs": [],
   "source": [
    "table3 = table3.loc['contribution',:].T"
   ]
  },
  {
   "cell_type": "code",
   "execution_count": 104,
   "metadata": {},
   "outputs": [
    {
     "name": "stdout",
     "output_type": "stream",
     "text": [
      "Max values of row are at following columns :\n",
      "1825         1\n",
      "15041        1\n",
      "15045        1\n",
      "15046        1\n",
      "10533        3\n",
      "            ..\n",
      "1235         4\n",
      "300334999    4\n",
      "300368799    2\n",
      "10866        4\n",
      "1236         4\n",
      "Length: 1568, dtype: int64\n"
     ]
    }
   ],
   "source": [
    "# identify facotrs that contribut the most to individual variable\n",
    "maxValueIndexObj = table3.idxmax(axis=1)\n",
    " \n",
    "print(\"Max values of row are at following columns :\")\n",
    "print(maxValueIndexObj)"
   ]
  },
  {
   "cell_type": "code",
   "execution_count": 106,
   "metadata": {},
   "outputs": [
    {
     "data": {
      "text/html": [
       "<div>\n",
       "<style scoped>\n",
       "    .dataframe tbody tr th:only-of-type {\n",
       "        vertical-align: middle;\n",
       "    }\n",
       "\n",
       "    .dataframe tbody tr th {\n",
       "        vertical-align: top;\n",
       "    }\n",
       "\n",
       "    .dataframe thead th {\n",
       "        text-align: right;\n",
       "    }\n",
       "</style>\n",
       "<table border=\"1\" class=\"dataframe\">\n",
       "  <thead>\n",
       "    <tr style=\"text-align: right;\">\n",
       "      <th></th>\n",
       "      <th>1</th>\n",
       "      <th>2</th>\n",
       "      <th>3</th>\n",
       "      <th>4</th>\n",
       "      <th>factor</th>\n",
       "      <th>variable</th>\n",
       "    </tr>\n",
       "  </thead>\n",
       "  <tbody>\n",
       "    <tr>\n",
       "      <th>1825</th>\n",
       "      <td>0.938978</td>\n",
       "      <td>0.006194</td>\n",
       "      <td>0.014124</td>\n",
       "      <td>0.598405</td>\n",
       "      <td>1</td>\n",
       "      <td>1825</td>\n",
       "    </tr>\n",
       "    <tr>\n",
       "      <th>15041</th>\n",
       "      <td>0.938978</td>\n",
       "      <td>0.006194</td>\n",
       "      <td>0.014124</td>\n",
       "      <td>0.598405</td>\n",
       "      <td>1</td>\n",
       "      <td>15041</td>\n",
       "    </tr>\n",
       "    <tr>\n",
       "      <th>15045</th>\n",
       "      <td>0.938978</td>\n",
       "      <td>0.006194</td>\n",
       "      <td>0.014124</td>\n",
       "      <td>0.598405</td>\n",
       "      <td>1</td>\n",
       "      <td>15045</td>\n",
       "    </tr>\n",
       "    <tr>\n",
       "      <th>15046</th>\n",
       "      <td>0.938978</td>\n",
       "      <td>0.006194</td>\n",
       "      <td>0.014124</td>\n",
       "      <td>0.598405</td>\n",
       "      <td>1</td>\n",
       "      <td>15046</td>\n",
       "    </tr>\n",
       "    <tr>\n",
       "      <th>10533</th>\n",
       "      <td>0.174300</td>\n",
       "      <td>0.223728</td>\n",
       "      <td>1.057835</td>\n",
       "      <td>0.737487</td>\n",
       "      <td>3</td>\n",
       "      <td>10533</td>\n",
       "    </tr>\n",
       "  </tbody>\n",
       "</table>\n",
       "</div>"
      ],
      "text/plain": [
       "              1         2         3         4  factor variable\n",
       "1825   0.938978  0.006194  0.014124  0.598405       1     1825\n",
       "15041  0.938978  0.006194  0.014124  0.598405       1    15041\n",
       "15045  0.938978  0.006194  0.014124  0.598405       1    15045\n",
       "15046  0.938978  0.006194  0.014124  0.598405       1    15046\n",
       "10533  0.174300  0.223728  1.057835  0.737487       3    10533"
      ]
     },
     "execution_count": 106,
     "metadata": {},
     "output_type": "execute_result"
    }
   ],
   "source": [
    "#append the factor variable to column names\n",
    "\n",
    "table3 =  pd.concat([table3,maxValueIndexObj],axis=1)\n",
    "table3=table3.rename({0: \"factor\"},axis='columns')\n",
    "table3['variable'] = table3.index\n",
    "#col_factor_selection.to_csv('factor_analysisv2.csv')\n",
    "table3.head(5)"
   ]
  },
  {
   "cell_type": "code",
   "execution_count": 41,
   "metadata": {},
   "outputs": [
    {
     "data": {
      "text/html": [
       "<div>\n",
       "<style scoped>\n",
       "    .dataframe tbody tr th:only-of-type {\n",
       "        vertical-align: middle;\n",
       "    }\n",
       "\n",
       "    .dataframe tbody tr th {\n",
       "        vertical-align: top;\n",
       "    }\n",
       "\n",
       "    .dataframe thead th {\n",
       "        text-align: right;\n",
       "    }\n",
       "</style>\n",
       "<table border=\"1\" class=\"dataframe\">\n",
       "  <thead>\n",
       "    <tr style=\"text-align: right;\">\n",
       "      <th></th>\n",
       "      <th>1</th>\n",
       "      <th>2</th>\n",
       "      <th>3</th>\n",
       "      <th>factor</th>\n",
       "    </tr>\n",
       "  </thead>\n",
       "  <tbody>\n",
       "    <tr>\n",
       "      <th>300026699</th>\n",
       "      <td>0.177437</td>\n",
       "      <td>0.125114</td>\n",
       "      <td>0.204968</td>\n",
       "      <td>3</td>\n",
       "    </tr>\n",
       "    <tr>\n",
       "      <th>300031699</th>\n",
       "      <td>0.282779</td>\n",
       "      <td>0.248963</td>\n",
       "      <td>0.630281</td>\n",
       "      <td>3</td>\n",
       "    </tr>\n",
       "    <tr>\n",
       "      <th>300034699</th>\n",
       "      <td>0.854782</td>\n",
       "      <td>1.306485</td>\n",
       "      <td>1.475046</td>\n",
       "      <td>3</td>\n",
       "    </tr>\n",
       "    <tr>\n",
       "      <th>300035699</th>\n",
       "      <td>0.051715</td>\n",
       "      <td>4.224950</td>\n",
       "      <td>2.463514</td>\n",
       "      <td>2</td>\n",
       "    </tr>\n",
       "    <tr>\n",
       "      <th>300037699</th>\n",
       "      <td>0.337257</td>\n",
       "      <td>1.658018</td>\n",
       "      <td>0.208558</td>\n",
       "      <td>2</td>\n",
       "    </tr>\n",
       "  </tbody>\n",
       "</table>\n",
       "</div>"
      ],
      "text/plain": [
       "                  1         2         3  factor\n",
       "300026699  0.177437  0.125114  0.204968       3\n",
       "300031699  0.282779  0.248963  0.630281       3\n",
       "300034699  0.854782  1.306485  1.475046       3\n",
       "300035699  0.051715  4.224950  2.463514       2\n",
       "300037699  0.337257  1.658018  0.208558       2"
      ]
     },
     "execution_count": 41,
     "metadata": {},
     "output_type": "execute_result"
    }
   ],
   "source": [
    "table3.head(5)"
   ]
  },
  {
   "cell_type": "code",
   "execution_count": 107,
   "metadata": {},
   "outputs": [],
   "source": [
    "table3['variable']= table3['variable'].astype(int)\n",
    "a_indx1 = pd.merge(table3,var_name)\n",
    "path_in = 'C:/Users/varunn/Desktop/PAF Std - August 2019 Delivery Docs/New folder/index/mca_indx_a34_np.csv'\n",
    "a_indx1.to_csv(path_in)"
   ]
  },
  {
   "cell_type": "code",
   "execution_count": null,
   "metadata": {},
   "outputs": [],
   "source": []
  },
  {
   "cell_type": "code",
   "execution_count": null,
   "metadata": {},
   "outputs": [],
   "source": []
  },
  {
   "cell_type": "code",
   "execution_count": null,
   "metadata": {},
   "outputs": [],
   "source": []
  }
 ],
 "metadata": {
  "kernelspec": {
   "display_name": "Python 3",
   "language": "python",
   "name": "python3"
  },
  "language_info": {
   "codemirror_mode": {
    "name": "ipython",
    "version": 3
   },
   "file_extension": ".py",
   "mimetype": "text/x-python",
   "name": "python",
   "nbconvert_exporter": "python",
   "pygments_lexer": "ipython3",
   "version": "3.7.1"
  }
 },
 "nbformat": 4,
 "nbformat_minor": 4
}
