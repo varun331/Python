{
 "cells": [
  {
   "cell_type": "code",
   "execution_count": 253,
   "metadata": {},
   "outputs": [],
   "source": [
    "#Intellisense\n",
    "\n",
    "%config IPCompleter.greedy=True"
   ]
  },
  {
   "cell_type": "code",
   "execution_count": 32,
   "metadata": {},
   "outputs": [],
   "source": [
    "#git reset --soft <commit> #Go back in time but without loosing your changes\n",
    "#git stash                 #Stash your changes\n",
    "#git pull                  #Refresh your branch with origin\n",
    "#git stash pop             #Re-apply your changes on the refreshed branch \n",
    "\n",
    "from selenium import webdriver\n",
    "\n",
    "username = \"\"\n",
    "password = \"\"\n",
    "\n",
    "driver = webdriver.Chrome(r\"C:\\Users\\varunn\\Downloads\\chromedriver_win32_v1\\chromedriver.exe\")\n",
    "driver.get(\"https://abc.com/users/sign_in\")\n",
    "username_field = driver.find_element_by_id(\"user_login\")\n",
    "password_field = driver.find_element_by_id(\"user_password\")\n",
    "login_button = driver.find_element_by_name(\"button\")\n",
    "\n",
    "username_field.send_keys(username)\n",
    "password_field.send_keys(password)\n",
    "login_button.click()\n",
    "\n",
    "driver.get(\"https://abc.com/administrative_areas/3969/\")\n",
    "html = driver.page_source"
   ]
  },
  {
   "cell_type": "code",
   "execution_count": 289,
   "metadata": {},
   "outputs": [
    {
     "name": "stdout",
     "output_type": "stream",
     "text": [
      "['https://www.instagram.com/p/B-pUOEeAscj/', 'https://www.instagram.com/p/B-kKRvOgAXn/', 'https://www.instagram.com/p/B-hmJqsgdop/', 'https://www.instagram.com/p/B-fGFzRAzZY/', 'https://www.instagram.com/p/B-dVChWgjTi/', 'https://www.instagram.com/p/B-cn0d_gUuG/', 'https://www.instagram.com/p/B-Z_eDtgblm/', 'https://www.instagram.com/p/B-Z2jxvAdT1/', 'https://www.instagram.com/p/B-XSTOyAr0t/', 'https://www.instagram.com/p/B-SJnsaAJ94/', 'https://www.instagram.com/p/B-PodQJA1cE/', 'https://www.instagram.com/p/B-NAj1JAfIU/']\n"
     ]
    }
   ],
   "source": [
    "# pull url for each post\n",
    "\n",
    "from selenium import webdriver\n",
    "\n",
    "import time \n",
    "\n",
    "driver = webdriver.Chrome()\n",
    "\n",
    "#https://www.instagram.com/oprahsbookclub/?hl=en\n",
    "driver.get(\"https://www.instagram.com/reesewitherspoon/?hl=en\")\n",
    "\n",
    "#button = driver.find_element_by_css_selector(\"button.sqdOP:first-child\")\n",
    "#button.click()\n",
    "lenOfPage = 3\n",
    "#scroll\n",
    "#lenOfPage = driver.execute_script(\"window.scrollTo(0,document.body.scrollHeight);var lenOfPage=document.body.scrollHeight; return lenOfPage;\")\n",
    " \n",
    "match = False\n",
    "while(match==False):\n",
    "    lastCount = lenOfPage\n",
    "    time.sleep(3)\n",
    "    lenOfPage = driver.execute_script(\"window.scrollTo(0,document.body.scrollHeight);var lenOfPage=3; return lenOfPage;\")\n",
    "    #lenOfPage = driver.execute_script(\"window.scrollTo(0,document.body.scrollHeight);var lenOfPage=document.body.scrollHeight; return lenOfPage;\")\n",
    "    if lastCount == lenOfPage:\n",
    "        match=True\n",
    "        \n",
    "posts = []\n",
    "links = driver.find_elements_by_tag_name('a')\n",
    "for link in links:\n",
    "    post = link.get_attribute('href')\n",
    "    if '/p/' in post:\n",
    "        posts.append(post)\n",
    "\n",
    "print (posts)\n"
   ]
  },
  {
   "cell_type": "code",
   "execution_count": 24,
   "metadata": {},
   "outputs": [],
   "source": [
    "data = \"\"\"\n",
    "{\"config\":{\"csrf_token\":\"EPOxI9G1lt2Mb9Rp7Mx8wmwjWGWMGEfH\",\"viewer\":null,\"viewerId\":null},\"country_code\":\"US\",\"language_code\":\"en\",\"locale\":\"en_US\",\"entry_data\":{\"PostPage\":[{\"graphql\":{\"shortcode_media\":{\"__typename\":\"GraphImage\",\"id\":\"1257201087390551174\",\"shortcode\":\"BFyebphJgyG\",\"dimensions\":{\"height\":600,\"width\":480},\"gating_info\":null,\"fact_check_overall_rating\":null,\"fact_check_information\":null,\"sensitivity_friction_info\":null,\"media_preview\":\"ACEqtZFHvVZARyAep6+lLvIz146cUEk4YGlzUAJ9wP500FsAc/lQBZoqpuf0P5UUAXKKTIpu8ZxQA4kDk8UtMDq3HWnZz0oAWio9/wDnIooAjEbD6+uacVPYVNRQBXWNhntzxRtbnj6c1YooArbZP8mirNFAH//Z\",\"display_url\":\"https://scontent-lga3-1.cdninstagram.com/v/t51.2885-15/e35/13256631_1738006419749605_1375947468_n.jpg?_nc_ht=scontent-lga3-1.cdninstagram.com\\u0026_nc_cat=101\\u0026_nc_ohc=_6PddA2OlL4AX9od3Aw\\u0026oh=8c2fdb22e40e12e3cc8d0633e26d79a1\\u0026oe=5EA5FCF0\",\"display_resources\":[{\"src\":\"https://scontent-lga3-1.cdninstagram.com/v/t51.2885-15/e35/13256631_1738006419749605_1375947468_n.jpg?_nc_ht=scontent-lga3-1.cdninstagram.com\\u0026_nc_cat=101\\u0026_nc_ohc=_6PddA2OlL4AX9od3Aw\\u0026oh=8c2fdb22e40e12e3cc8d0633e26d79a1\\u0026oe=5EA5FCF0\",\"config_width\":640,\"config_height\":800},{\"src\":\"https://scontent-lga3-1.cdninstagram.com/v/t51.2885-15/e35/13256631_1738006419749605_1375947468_n.jpg?_nc_ht=scontent-lga3-1.cdninstagram.com\\u0026_nc_cat=101\\u0026_nc_ohc=_6PddA2OlL4AX9od3Aw\\u0026oh=8c2fdb22e40e12e3cc8d0633e26d79a1\\u0026oe=5EA5FCF0\",\"config_width\":750,\"config_height\":938},{\"src\":\"https://scontent-lga3-1.cdninstagram.com/v/t51.2885-15/e35/13256631_1738006419749605_1375947468_n.jpg?_nc_ht=scontent-lga3-1.cdninstagram.com\\u0026_nc_cat=101\\u0026_nc_ohc=_6PddA2OlL4AX9od3Aw\\u0026oh=8c2fdb22e40e12e3cc8d0633e26d79a1\\u0026oe=5EA5FCF0\",\"config_width\":1080,\"config_height\":1351}],\"accessibility_caption\":\"Photo by P E O N Y \\u0026 S A G E on May 24, 2016.\",\"is_video\":false,\"tracking_token\":\"eyJ2ZXJzaW9uIjo1LCJwYXlsb2FkIjp7ImlzX2FuYWx5dGljc190cmFja2VkIjp0cnVlLCJ1dWlkIjoiY2Q2MTBiZjc0OWQwNGY3ZGIzMjk5MTExNjlhZjg5ZTIxMjU3MjAxMDg3MzkwNTUxMTc0In0sInNpZ25hdHVyZSI6IiJ9\",\"edge_media_to_tagged_user\":{\"edges\":[]},\"edge_media_to_caption\":{\"edges\":[{\"node\":{\"text\":\"You can't call yourself a designer without trying a few different colours and ideas. This is Hip Hop in Book Green x from my butterflies Observer Book. I thought quite cool in a boot room, downstairs loo with skinny stripe seamist blinds x wellies and bikes x fun love or hate?\"}}]},\"caption_is_edited\":true,\"has_ranked_comments\":false,\"edge_media_to_parent_comment\":{\"count\":36,\"page_info\":{\"has_next_page\":true,\"end_cursor\":\"QVFDUE1LNUN3ZGRUWjdXLWx1a016VFQ5SzY3eWR0Mm1QMUE4QWNRaHJJNEIyNWxQRDBIMFQwTlNvQmMySlprWE1TbTExRkhLVDhtaHNhWFBaQWNBV1BuSA==\"},\"edges\":[{\"node\":{\"id\":\"17856946567012064\",\"text\":\"I love this colour way it's sophisticated yet quirky \\ud83d\\udc4c\\ud83c\\udffc xx\",\"created_at\":1464092224,\"did_report_as_spam\":false,\"owner\":{\"id\":\"185717204\",\"is_verified\":false,\"profile_pic_url\":\"https://scontent-lga3-1.cdninstagram.com/v/t51.2885-19/s150x150/90055244_2469341309982775_5127703223527800832_n.jpg?_nc_ht=scontent-lga3-1.cdninstagram.com\\u0026_nc_ohc=yam4ltHmykEAX-nnaHT\\u0026oh=dfb00599b3efd51eb7f44bbacf65a378\\u0026oe=5EA47CB3\",\"username\":\"countrygrandeur\"},\"viewer_has_liked\":false,\"edge_liked_by\":{\"count\":0},\"is_restricted_pending\":false,\"edge_threaded_comments\":{\"count\":0,\"page_info\":{\"has_next_page\":false,\"end_cursor\":null},\"edges\":[]}}},{\"node\":{\"id\":\"17856947311012064\",\"text\":\"@pollyrichard88\",\"created_at\":1464094566,\"did_report_as_spam\":false,\"owner\":{\"id\":\"183054638\",\"is_verified\":false,\"profile_pic_url\":\"https://scontent-lga3-1.cdninstagram.com/v/t51.2885-19/s150x150/18162106_260875491043464_5697877204566802432_a.jpg?_nc_ht=scontent-lga3-1.cdninstagram.com\\u0026_nc_ohc=UV5FhWSqjawAX8iLPpn\\u0026oh=13b228d4e5a63973b77eb7ecb06c4173\\u0026oe=5EA4BE9B\",\"username\":\"liannechandran22\"},\"viewer_has_liked\":false,\"edge_liked_by\":{\"count\":0},\"is_restricted_pending\":false,\"edge_threaded_comments\":{\"count\":0,\"page_info\":{\"has_next_page\":false,\"end_cursor\":null},\"edges\":[]}}},{\"node\":{\"id\":\"17856947362012064\",\"text\":\"Love it xx\\ud83d\\udc4d\\ud83c\\udffb\",\"created_at\":1464094736,\"did_report_as_spam\":false,\"owner\":{\"id\":\"1652006848\",\"is_verified\":false,\"profile_pic_url\":\"https://scontent-lga3-1.cdninstagram.com/v/t51.2885-19/s150x150/66428088_1102825599928034_3165114992747872256_n.jpg?_nc_ht=scontent-lga3-1.cdninstagram.com\\u0026_nc_ohc=dIZeWSGH6DQAX8SGZJa\\u0026oh=b3f180066f1d19131bade954354e20fc\\u0026oe=5EA5D047\",\"username\":\"velisa70\"},\"viewer_has_liked\":false,\"edge_liked_by\":{\"count\":0},\"is_restricted_pending\":false,\"edge_threaded_comments\":{\"count\":0,\"page_info\":{\"has_next_page\":false,\"end_cursor\":null},\"edges\":[]}}},{\"node\":{\"id\":\"17856947434012064\",\"text\":\"Absolutely love it! \\u2764\\ufe0f\",\"created_at\":1464095004,\"did_report_as_spam\":false,\"owner\":{\"id\":\"2342070417\",\"is_verified\":false,\"profile_pic_url\":\"https://scontent-lga3-1.cdninstagram.com/v/t51.2885-19/s150x150/17266272_1324454617624931_3445436594645893120_a.jpg?_nc_ht=scontent-lga3-1.cdninstagram.com\\u0026_nc_ohc=OUcCY0NAGt0AX_oUXo9\\u0026oh=dd6c966b9ba2a2b0697a5eed0ce43419\\u0026oe=5EA6EDCD\",\"username\":\"teapots_and_roses\"},\"viewer_has_liked\":false,\"edge_liked_by\":{\"count\":0},\"is_restricted_pending\":false,\"edge_threaded_comments\":{\"count\":0,\"page_info\":{\"has_next_page\":false,\"end_cursor\":null},\"edges\":[]}}},{\"node\":{\"id\":\"17856947572012064\",\"text\":\"Love the bunnies \\ud83d\\udc97\",\"created_at\":1464095453,\"did_report_as_spam\":false,\"owner\":{\"id\":\"300727743\",\"is_verified\":false,\"profile_pic_url\":\"https://scontent-lga3-1.cdninstagram.com/v/t51.2885-19/s150x150/79590856_2158963474410757_5415591655858241536_n.jpg?_nc_ht=scontent-lga3-1.cdninstagram.com\\u0026_nc_ohc=Yff_UlmnS4UAX_lwLr9\\u0026oh=184561e2cb48b949fda67ee5c62deab7\\u0026oe=5EA55D80\",\"username\":\"angharad_calonogi\"},\"viewer_has_liked\":false,\"edge_liked_by\":{\"count\":0},\"is_restricted_pending\":false,\"edge_threaded_comments\":{\"count\":0,\"page_info\":{\"has_next_page\":false,\"end_cursor\":null},\"edges\":[]}}},{\"node\":{\"id\":\"17856947761012064\",\"text\":\"How could you not love this! \\ud83d\\udc9b\\ud83d\\udc9b\\ud83d\\udc9b\",\"created_at\":1464096032,\"did_report_as_spam\":false,\"owner\":{\"id\":\"203686976\",\"is_verified\":false,\"profile_pic_url\":\"https://scontent-lga3-1.cdninstagram.com/v/t51.2885-19/s150x150/84981112_615091995992812_4621102257482498048_n.jpg?_nc_ht=scontent-lga3-1.cdninstagram.com\\u0026_nc_ohc=4Ojre3niodIAX9A2gxH\\u0026oh=dd4a267e63b5e00903e7c8ce53a072b7\\u0026oe=5EA43305\",\"username\":\"elleng79\"},\"viewer_has_liked\":false,\"edge_liked_by\":{\"count\":0},\"is_restricted_pending\":false,\"edge_threaded_comments\":{\"count\":0,\"page_info\":{\"has_next_page\":false,\"end_cursor\":null},\"edges\":[]}}},{\"node\":{\"id\":\"17856948061012064\",\"text\":\"I love this! \\ud83c\\udf3f\",\"created_at\":1464096834,\"did_report_as_spam\":false,\"owner\":{\"id\":\"3107610119\",\"is_verified\":false,\"profile_pic_url\":\"https://scontent-lga3-1.cdninstagram.com/v/t51.2885-19/s150x150/14269070_134061450384736_863110120_a.jpg?_nc_ht=scontent-lga3-1.cdninstagram.com\\u0026_nc_ohc=Q6tDuE4P4w4AX_3F4MR\\u0026oh=53795c6a0e0b10ebfba5194fffde6b29\\u0026oe=5EA3AD9A\",\"username\":\"feather.and.field\"},\"viewer_has_liked\":false,\"edge_liked_by\":{\"count\":0},\"is_restricted_pending\":false,\"edge_threaded_comments\":{\"count\":0,\"page_info\":{\"has_next_page\":false,\"end_cursor\":null},\"edges\":[]}}},{\"node\":{\"id\":\"17856948847012064\",\"text\":\"Love this \\ud83d\\udc95\\ud83d\\ude0d\",\"created_at\":1464099511,\"did_report_as_spam\":false,\"owner\":{\"id\":\"3049218249\",\"is_verified\":false,\"profile_pic_url\":\"https://scontent-lga3-1.cdninstagram.com/v/t51.2885-19/s150x150/14723499_1802403676644742_2299357114675494912_a.jpg?_nc_ht=scontent-lga3-1.cdninstagram.com\\u0026_nc_ohc=IfRvgE6vf20AX-N4sh5\\u0026oh=521b0b3ccfe2e70f1e7c001ef4f9bbac\\u0026oe=5EA60D06\",\"username\":\"cabarkids\"},\"viewer_has_liked\":false,\"edge_liked_by\":{\"count\":0},\"is_restricted_pending\":false,\"edge_threaded_comments\":{\"count\":0,\"page_info\":{\"has_next_page\":false,\"end_cursor\":null},\"edges\":[]}}},{\"node\":{\"id\":\"17856948880012064\",\"text\":\"L\\ud83d\\udc96VE\\ud83d\\udc30\",\"created_at\":1464099584,\"did_report_as_spam\":false,\"owner\":{\"id\":\"298806110\",\"is_verified\":false,\"profile_pic_url\":\"https://scontent-lga3-1.cdninstagram.com/v/t51.2885-19/10724274_1618862535013257_1120658916_a.jpg?_nc_ht=scontent-lga3-1.cdninstagram.com\\u0026_nc_ohc=J_M3oEgKu9IAX_1gh04\\u0026oh=549266f4bccca1ac377dcfb3f9fd1364\\u0026oe=5EA65F1E\",\"username\":\"rosieanneashley\"},\"viewer_has_liked\":false,\"edge_liked_by\":{\"count\":0},\"is_restricted_pending\":false,\"edge_threaded_comments\":{\"count\":0,\"page_info\":{\"has_next_page\":false,\"end_cursor\":null},\"edges\":[]}}},{\"node\":{\"id\":\"17856949207012064\",\"text\":\"Love and will look amazing with seamist pinstripes @peonyandsage X\",\"created_at\":1464100592,\"did_report_as_spam\":false,\"owner\":{\"id\":\"1731461398\",\"is_verified\":false,\"profile_pic_url\":\"https://scontent-lga3-1.cdninstagram.com/v/t51.2885-19/s150x150/12338990_925201834233121_1929590158_a.jpg?_nc_ht=scontent-lga3-1.cdninstagram.com\\u0026_nc_ohc=eavTivHxXEoAX-Y2Iq3\\u0026oh=1d2b67bd419ef5cfa19fbb6e3d3d7de1\\u0026oe=5EA42D29\",\"username\":\"catkinandolive\"},\"viewer_has_liked\":false,\"edge_liked_by\":{\"count\":0},\"is_restricted_pending\":false,\"edge_threaded_comments\":{\"count\":0,\"page_info\":{\"has_next_page\":false,\"end_cursor\":null},\"edges\":[]}}},{\"node\":{\"id\":\"17856949786012064\",\"text\":\"Yipee x thanks guys\",\"created_at\":1464102233,\"did_report_as_spam\":false,\"owner\":{\"id\":\"1008887434\",\"is_verified\":false,\"profile_pic_url\":\"https://scontent-lga3-1.cdninstagram.com/v/t51.2885-19/s150x150/89272568_533652407271334_4801245727181242368_n.jpg?_nc_ht=scontent-lga3-1.cdninstagram.com\\u0026_nc_ohc=ISlM8yiTXtkAX8QjynS\\u0026oh=ca91a1626d22a26129b337e1a5d1399a\\u0026oe=5EA675D5\",\"username\":\"peonyandsage\"},\"viewer_has_liked\":false,\"edge_liked_by\":{\"count\":0},\"is_restricted_pending\":false,\"edge_threaded_comments\":{\"count\":0,\"page_info\":{\"has_next_page\":false,\"end_cursor\":null},\"edges\":[]}}},{\"node\":{\"id\":\"17856951055012064\",\"text\":\"Love it! \\ud83d\\udc9a\",\"created_at\":1464105810,\"did_report_as_spam\":false,\"owner\":{\"id\":\"2441187407\",\"is_verified\":false,\"profile_pic_url\":\"https://scontent-lga3-1.cdninstagram.com/v/t51.2885-19/s150x150/40251875_269801083742788_6714549422987935744_n.jpg?_nc_ht=scontent-lga3-1.cdninstagram.com\\u0026_nc_ohc=Xp-V1ekAMEQAX9DurEj\\u0026oh=40fe1ffbea945a87d9715fc79abddceb\\u0026oe=5EA44D3F\",\"username\":\"linda_okane_\"},\"viewer_has_liked\":false,\"edge_liked_by\":{\"count\":0},\"is_restricted_pending\":false,\"edge_threaded_comments\":{\"count\":0,\"page_info\":{\"has_next_page\":false,\"end_cursor\":null},\"edges\":[]}}},{\"node\":{\"id\":\"17856953227012064\",\"text\":\"You never fail @peonyandsage absolutely fabulous \\ud83d\\udc4d\\ud83d\\udc4d\\ud83d\\udc4d\",\"created_at\":1464111376,\"did_report_as_spam\":false,\"owner\":{\"id\":\"327486922\",\"is_verified\":false,\"profile_pic_url\":\"https://scontent-lga3-1.cdninstagram.com/v/t51.2885-19/s150x150/23161521_499514713747861_2202752811878318080_n.jpg?_nc_ht=scontent-lga3-1.cdninstagram.com\\u0026_nc_ohc=yCZB9TOFuKwAX9Tn-0J\\u0026oh=7a588126b5720311a22c0e651d2c5bfd\\u0026oe=5EA3B4C2\",\"username\":\"eleanorsbyre\"},\"viewer_has_liked\":false,\"edge_liked_by\":{\"count\":0},\"is_restricted_pending\":false,\"edge_threaded_comments\":{\"count\":0,\"page_info\":{\"has_next_page\":false,\"end_cursor\":null},\"edges\":[]}}},{\"node\":{\"id\":\"17856953236012064\",\"text\":\"Beautiful x\",\"created_at\":1464111452,\"did_report_as_spam\":false,\"owner\":{\"id\":\"1974046996\",\"is_verified\":false,\"profile_pic_url\":\"https://scontent-lga3-1.cdninstagram.com/v/t51.2885-19/s150x150/36148029_256257235183075_5396262640873897984_n.jpg?_nc_ht=scontent-lga3-1.cdninstagram.com\\u0026_nc_ohc=ViOc4c5dL-MAX9oUHBb\\u0026oh=4969b6a620eefcad7e5f7f59127b0615\\u0026oe=5EA4C739\",\"username\":\"joy_interiors\"},\"viewer_has_liked\":false,\"edge_liked_by\":{\"count\":0},\"is_restricted_pending\":false,\"edge_threaded_comments\":{\"count\":0,\"page_info\":{\"has_next_page\":false,\"end_cursor\":null},\"edges\":[]}}},{\"node\":{\"id\":\"17856954019012064\",\"text\":\"Love!\",\"created_at\":1464113395,\"did_report_as_spam\":false,\"owner\":{\"id\":\"1298975728\",\"is_verified\":false,\"profile_pic_url\":\"https://scontent-lga3-1.cdninstagram.com/v/t51.2885-19/s150x150/18443268_1902500643340760_8571344556203704320_a.jpg?_nc_ht=scontent-lga3-1.cdninstagram.com\\u0026_nc_ohc=7gB4UAJRgl8AX9la0tj\\u0026oh=a9c9d7f6f0fa7c050a8fd2c690ff59db\\u0026oe=5EA66CA4\",\"username\":\"ceciliainthestable\"},\"viewer_has_liked\":false,\"edge_liked_by\":{\"count\":0},\"is_restricted_pending\":false,\"edge_threaded_comments\":{\"count\":0,\"page_info\":{\"has_next_page\":false,\"end_cursor\":null},\"edges\":[]}}},{\"node\":{\"id\":\"17856956968012064\",\"text\":\"Tr\\u00e9s sophisticated @peonyandsage love \\ud83d\\udc95\",\"created_at\":1464120452,\"did_report_as_spam\":false,\"owner\":{\"id\":\"1528664452\",\"is_verified\":false,\"profile_pic_url\":\"https://scontent-lga3-1.cdninstagram.com/v/t51.2885-19/s150x150/20479017_294537177687424_8852803435376934912_a.jpg?_nc_ht=scontent-lga3-1.cdninstagram.com\\u0026_nc_ohc=uBXY3eTIMOIAX8cJTe-\\u0026oh=ef0da75b429185b462223c10bf471fd8\\u0026oe=5EA68EDF\",\"username\":\"ted_and_lily\"},\"viewer_has_liked\":false,\"edge_liked_by\":{\"count\":0},\"is_restricted_pending\":false,\"edge_threaded_comments\":{\"count\":0,\"page_info\":{\"has_next_page\":false,\"end_cursor\":null},\"edges\":[]}}},{\"node\":{\"id\":\"17856959875012064\",\"text\":\"Lovely! x\",\"created_at\":1464126786,\"did_report_as_spam\":false,\"owner\":{\"id\":\"1521479507\",\"is_verified\":false,\"profile_pic_url\":\"https://scontent-lga3-1.cdninstagram.com/v/t51.2885-19/s150x150/12301253_1541953146096526_767083473_a.jpg?_nc_ht=scontent-lga3-1.cdninstagram.com\\u0026_nc_ohc=rf_dNr_-OGYAX8p7AwE\\u0026oh=1877e788c153b5887de136dad058b4fc\\u0026oe=5EA4EAF6\",\"username\":\"clarabelleinteriors\"},\"viewer_has_liked\":false,\"edge_liked_by\":{\"count\":0},\"is_restricted_pending\":false,\"edge_threaded_comments\":{\"count\":0,\"page_info\":{\"has_next_page\":false,\"end_cursor\":null},\"edges\":[]}}},{\"node\":{\"id\":\"17856960757012064\",\"text\":\"Lovely colour x\",\"created_at\":1464129710,\"did_report_as_spam\":false,\"owner\":{\"id\":\"2088660355\",\"is_verified\":false,\"profile_pic_url\":\"https://scontent-lga3-1.cdninstagram.com/v/t51.2885-19/s150x150/11242485_462554073912577_1496544723_a.jpg?_nc_ht=scontent-lga3-1.cdninstagram.com\\u0026_nc_ohc=JAfcTiNvSIoAX_edSqX\\u0026oh=eee552f01c2a5290fffec8aa241d2a64\\u0026oe=5EA61CC6\",\"username\":\"shutterblueinteriors\"},\"viewer_has_liked\":false,\"edge_liked_by\":{\"count\":0},\"is_restricted_pending\":false,\"edge_threaded_comments\":{\"count\":0,\"page_info\":{\"has_next_page\":false,\"end_cursor\":null},\"edges\":[]}}},{\"node\":{\"id\":\"17856974119012064\",\"text\":\"It's subtle and different, which I really like! X\",\"created_at\":1464166340,\"did_report_as_spam\":false,\"owner\":{\"id\":\"2707256233\",\"is_verified\":false,\"profile_pic_url\":\"https://scontent-lga3-1.cdninstagram.com/v/t51.2885-19/s150x150/37350137_701998206809633_2891476029249945600_n.jpg?_nc_ht=scontent-lga3-1.cdninstagram.com\\u0026_nc_ohc=kjWuKeMI_-IAX9TxVcK\\u0026oh=af1e84c58631f4ba4689846d57fcbaba\\u0026oe=5EA60251\",\"username\":\"nicola_shelton_art\"},\"viewer_has_liked\":false,\"edge_liked_by\":{\"count\":0},\"is_restricted_pending\":false,\"edge_threaded_comments\":{\"count\":0,\"page_info\":{\"has_next_page\":false,\"end_cursor\":null},\"edges\":[]}}},{\"node\":{\"id\":\"17856989479012064\",\"text\":\"Love!\",\"created_at\":1464210300,\"did_report_as_spam\":false,\"owner\":{\"id\":\"1084383434\",\"is_verified\":false,\"profile_pic_url\":\"https://scontent-lga3-1.cdninstagram.com/v/t51.2885-19/s150x150/75545963_2656136364442859_7209610421794242560_n.jpg?_nc_ht=scontent-lga3-1.cdninstagram.com\\u0026_nc_ohc=qNnYoq0_niwAX_iw8nP\\u0026oh=838322e88fde7bbe3bebbc877a953997\\u0026oe=5EA6FBD9\",\"username\":\"serendipity_loves\"},\"viewer_has_liked\":false,\"edge_liked_by\":{\"count\":0},\"is_restricted_pending\":false,\"edge_threaded_comments\":{\"count\":0,\"page_info\":{\"has_next_page\":false,\"end_cursor\":null},\"edges\":[]}}},{\"node\":{\"id\":\"17857039747012064\",\"text\":\"Love\",\"created_at\":1464355709,\"did_report_as_spam\":false,\"owner\":{\"id\":\"242068393\",\"is_verified\":false,\"profile_pic_url\":\"https://scontent-lga3-1.cdninstagram.com/v/t51.2885-19/s150x150/90414908_1054584651565430_7400270526939136000_n.jpg?_nc_ht=scontent-lga3-1.cdninstagram.com\\u0026_nc_ohc=YDn9W8DAqmcAX9IMoYj\\u0026oh=1fb803b7ff1ee466edb0f812abbf8318\\u0026oe=5EA63836\",\"username\":\"theenchanteddoor\"},\"viewer_has_liked\":false,\"edge_liked_by\":{\"count\":0},\"is_restricted_pending\":false,\"edge_threaded_comments\":{\"count\":0,\"page_info\":{\"has_next_page\":false,\"end_cursor\":null},\"edges\":[]}}},{\"node\":{\"id\":\"17857044847012064\",\"text\":\"Fun....LOVE. A downstairs loo is where it's good to play with crazy wallpaper ideas!!\",\"created_at\":1464368274,\"did_report_as_spam\":false,\"owner\":{\"id\":\"1582341104\",\"is_verified\":false,\"profile_pic_url\":\"https://scontent-lga3-1.cdninstagram.com/v/t51.2885-19/s150x150/15534963_152483161895298_4586186986569596928_a.jpg?_nc_ht=scontent-lga3-1.cdninstagram.com\\u0026_nc_ohc=bCwXvqhlcdMAX_trE3X\\u0026oh=b77bf84d4daa689576096e0c6d50c174\\u0026oe=5EA3CCA9\",\"username\":\"victoriaclarkinteriors\"},\"viewer_has_liked\":false,\"edge_liked_by\":{\"count\":0},\"is_restricted_pending\":false,\"edge_threaded_comments\":{\"count\":0,\"page_info\":{\"has_next_page\":false,\"end_cursor\":null},\"edges\":[]}}},{\"node\":{\"id\":\"17857052407012064\",\"text\":\"Yep im not brave enough to go crazy anywhere else #whimp @victoria_clark_interiors\",\"created_at\":1464385788,\"did_report_as_spam\":false,\"owner\":{\"id\":\"1008887434\",\"is_verified\":false,\"profile_pic_url\":\"https://scontent-lga3-1.cdninstagram.com/v/t51.2885-19/s150x150/89272568_533652407271334_4801245727181242368_n.jpg?_nc_ht=scontent-lga3-1.cdninstagram.com\\u0026_nc_ohc=ISlM8yiTXtkAX8QjynS\\u0026oh=ca91a1626d22a26129b337e1a5d1399a\\u0026oe=5EA675D5\",\"username\":\"peonyandsage\"},\"viewer_has_liked\":false,\"edge_liked_by\":{\"count\":0},\"is_restricted_pending\":false,\"edge_threaded_comments\":{\"count\":0,\"page_info\":{\"has_next_page\":false,\"end_cursor\":null},\"edges\":[]}}},{\"node\":{\"id\":\"17857079830012064\",\"text\":\"\\ud83d\\udc95\\ud83d\\udc95\\ud83d\\udc95\",\"created_at\":1464460806,\"did_report_as_spam\":false,\"owner\":{\"id\":\"3095608694\",\"is_verified\":false,\"profile_pic_url\":\"https://scontent-lga3-1.cdninstagram.com/v/t51.2885-19/s150x150/35001035_399155463895118_8528956669260988416_n.jpg?_nc_ht=scontent-lga3-1.cdninstagram.com\\u0026_nc_ohc=OyVxVLZP7w8AX8EUpC2\\u0026oh=d732354fd5fa4fb5f4e66d385e0d256c\\u0026oe=5EA569B9\",\"username\":\"helenmackey_\"},\"viewer_has_liked\":false,\"edge_liked_by\":{\"count\":0},\"is_restricted_pending\":false,\"edge_threaded_comments\":{\"count\":0,\"page_info\":{\"has_next_page\":false,\"end_cursor\":null},\"edges\":[]}}}]},\"edge_media_to_hoisted_comment\":{\"edges\":[]},\"edge_media_preview_comment\":{\"count\":36,\"edges\":[{\"node\":{\"id\":\"17857052407012064\",\"text\":\"Yep im not brave enough to go crazy anywhere else #whimp @victoria_clark_interiors\",\"created_at\":1464385788,\"did_report_as_spam\":false,\"owner\":{\"id\":\"1008887434\",\"is_verified\":false,\"profile_pic_url\":\"https://scontent-lga3-1.cdninstagram.com/v/t51.2885-19/s150x150/89272568_533652407271334_4801245727181242368_n.jpg?_nc_ht=scontent-lga3-1.cdninstagram.com\\u0026_nc_ohc=ISlM8yiTXtkAX8QjynS\\u0026oh=ca91a1626d22a26129b337e1a5d1399a\\u0026oe=5EA675D5\",\"username\":\"peonyandsage\"},\"viewer_has_liked\":false,\"edge_liked_by\":{\"count\":0},\"is_restricted_pending\":false}},{\"node\":{\"id\":\"17857079830012064\",\"text\":\"\\ud83d\\udc95\\ud83d\\udc95\\ud83d\\udc95\",\"created_at\":1464460806,\"did_report_as_spam\":false,\"owner\":{\"id\":\"3095608694\",\"is_verified\":false,\"profile_pic_url\":\"https://scontent-lga3-1.cdninstagram.com/v/t51.2885-19/s150x150/35001035_399155463895118_8528956669260988416_n.jpg?_nc_ht=scontent-lga3-1.cdninstagram.com\\u0026_nc_ohc=OyVxVLZP7w8AX8EUpC2\\u0026oh=d732354fd5fa4fb5f4e66d385e0d256c\\u0026oe=5EA569B9\",\"username\":\"helenmackey_\"},\"viewer_has_liked\":false,\"edge_liked_by\":{\"count\":0},\"is_restricted_pending\":false}}]},\"comments_disabled\":false,\"commenting_disabled_for_viewer\":false,\"taken_at_timestamp\":1464090070,\"edge_media_preview_like\":{\"count\":313,\"edges\":[]},\"edge_media_to_sponsor_user\":{\"edges\":[]},\"location\":null,\"viewer_has_liked\":false,\"viewer_has_saved\":false,\"viewer_has_saved_to_collection\":false,\"viewer_in_photo_of_you\":false,\"viewer_can_reshare\":true,\"owner\":{\"id\":\"1008887434\",\"is_verified\":false,\"profile_pic_url\":\"https://scontent-lga3-1.cdninstagram.com/v/t51.2885-19/s150x150/89272568_533652407271334_4801245727181242368_n.jpg?_nc_ht=scontent-lga3-1.cdninstagram.com\\u0026_nc_ohc=ISlM8yiTXtkAX8QjynS\\u0026oh=ca91a1626d22a26129b337e1a5d1399a\\u0026oe=5EA675D5\",\"username\":\"peonyandsage\",\"blocked_by_viewer\":false,\"restricted_by_viewer\":null,\"followed_by_viewer\":false,\"full_name\":\"P E O N Y \\u0026 S A G E\",\"has_blocked_viewer\":false,\"is_private\":false,\"is_unpublished\":false,\"requested_by_viewer\":false,\"edge_owner_to_timeline_media\":{\"count\":3502}},\"is_ad\":false,\"edge_web_media_to_related_media\":{\"edges\":[]}}}}]},\"hostname\":\"www.instagram.com\",\"is_whitelisted_crawl_bot\":false,\"deployment_stage\":\"c2\",\"platform\":\"windows_nt_10\",\"nonce\":\"zCegSU+TM8h+hF2WQGBBRQ==\",\"mid_pct\":88.46217,\"zero_data\":{},\"cache_schema_version\":3,\"server_checks\":{},\"knobx\":{\"4\":false,\"17\":false,\"20\":true,\"22\":true,\"23\":true,\"24\":true,\"25\":true},\"to_cache\":{\"gatekeepers\":{\"4\":true,\"5\":false,\"6\":false,\"7\":false,\"8\":false,\"9\":false,\"10\":false,\"11\":false,\"12\":false,\"13\":true,\"14\":true,\"15\":true,\"16\":true,\"18\":true,\"19\":false,\"23\":false,\"24\":false,\"26\":true,\"27\":false,\"28\":false,\"29\":true,\"31\":false,\"32\":true,\"34\":false,\"35\":false,\"38\":true,\"40\":true,\"41\":false,\"43\":true,\"59\":true,\"61\":false,\"62\":false,\"63\":false,\"64\":false,\"65\":false,\"67\":true,\"68\":false,\"69\":true,\"71\":false,\"72\":true,\"73\":false,\"74\":false,\"75\":true,\"77\":false,\"78\":true,\"79\":false,\"81\":false,\"82\":true,\"84\":false,\"86\":false,\"88\":true,\"91\":false,\"95\":true,\"97\":false,\"99\":false,\"100\":false,\"101\":false,\"102\":true,\"103\":false,\"104\":false,\"105\":true,\"107\":false},\"qe\":{\"app_upsell\":{\"g\":\"\",\"p\":{}},\"igl_app_upsell\":{\"g\":\"\",\"p\":{}},\"notif\":{\"g\":\"\",\"p\":{}},\"onetaplogin\":{\"g\":\"\",\"p\":{}},\"multireg_iter\":{\"g\":\"\",\"p\":{}},\"felix_clear_fb_cookie\":{\"g\":\"\",\"p\":{}},\"felix_creation_duration_limits\":{\"g\":\"\",\"p\":{}},\"felix_creation_fb_crossposting\":{\"g\":\"\",\"p\":{}},\"felix_creation_fb_crossposting_v2\":{\"g\":\"\",\"p\":{}},\"felix_creation_validation\":{\"g\":\"\",\"p\":{}},\"mweb_topical_explore\":{\"g\":\"\",\"p\":{}},\"post_options\":{\"g\":\"\",\"p\":{}},\"iglscioi\":{\"g\":\"\",\"p\":{}},\"sticker_tray\":{\"g\":\"\",\"p\":{}},\"web_sentry\":{\"g\":\"\",\"p\":{}},\"0\":{\"p\":{\"4\":true,\"7\":true,\"8\":true,\"9\":false},\"qex\":true},\"2\":{\"p\":{\"0\":true},\"qex\":true},\"4\":{\"p\":{\"0\":true},\"qex\":true},\"5\":{\"p\":{\"1\":false},\"qex\":true},\"6\":{\"p\":{\"1\":true,\"5\":false,\"6\":false,\"7\":false,\"9\":false,\"10\":false},\"qex\":true},\"10\":{\"p\":{\"2\":false},\"qex\":true},\"12\":{\"p\":{\"0\":5},\"qex\":true},\"13\":{\"p\":{\"0\":true},\"qex\":true},\"16\":{\"p\":{\"0\":false},\"qex\":true},\"17\":{\"p\":{\"1\":true},\"qex\":true},\"19\":{\"p\":{\"0\":true},\"qex\":true},\"21\":{\"p\":{\"2\":false},\"qex\":true},\"22\":{\"p\":{\"1\":false,\"2\":8.0,\"3\":0.85,\"4\":0.95,\"10\":0.0,\"11\":15,\"12\":3,\"13\":false},\"qex\":true},\"23\":{\"p\":{\"0\":false,\"1\":false},\"qex\":true},\"25\":{\"p\":{},\"qex\":true},\"26\":{\"p\":{\"0\":\"\"},\"qex\":true},\"28\":{\"p\":{\"0\":false},\"qex\":true},\"29\":{\"p\":{},\"qex\":true},\"30\":{\"p\":{\"0\":true},\"qex\":true},\"31\":{\"p\":{},\"qex\":true},\"33\":{\"p\":{},\"qex\":true},\"34\":{\"p\":{\"0\":false},\"qex\":true},\"35\":{\"p\":{\"0\":false},\"qex\":true},\"36\":{\"p\":{\"0\":true,\"1\":true,\"2\":false,\"3\":false,\"4\":false},\"qex\":true},\"37\":{\"p\":{\"0\":false},\"qex\":true},\"39\":{\"p\":{\"0\":false,\"6\":false,\"7\":false,\"8\":false,\"14\":false},\"qex\":true},\"41\":{\"p\":{\"3\":true},\"qex\":true},\"42\":{\"p\":{\"0\":true},\"qex\":true},\"43\":{\"p\":{\"0\":false,\"1\":false,\"2\":false},\"qex\":true},\"44\":{\"p\":{\"1\":\"inside_media\",\"2\":0.2},\"qex\":true},\"45\":{\"p\":{\"12\":false,\"13\":false,\"17\":0,\"18\":false,\"19\":2,\"22\":false,\"23\":\"control\",\"24\":false,\"25\":\"control\",\"26\":\"control\",\"32\":false},\"qex\":true},\"46\":{\"p\":{\"0\":false},\"qex\":true},\"47\":{\"p\":{\"0\":true,\"1\":true,\"2\":false,\"3\":false,\"4\":false,\"6\":false,\"8\":false,\"9\":false,\"10\":false,\"11\":false},\"qex\":true},\"49\":{\"p\":{\"0\":false},\"qex\":true},\"50\":{\"p\":{\"0\":false},\"qex\":true},\"53\":{\"p\":{\"0\":5},\"qex\":true},\"54\":{\"p\":{\"0\":false},\"qex\":true},\"55\":{\"p\":{\"0\":false},\"qex\":true},\"56\":{\"p\":{\"1\":true,\"2\":true},\"qex\":true},\"58\":{\"p\":{\"0\":0.0,\"1\":false},\"qex\":true},\"59\":{\"p\":{\"0\":true},\"qex\":true},\"62\":{\"p\":{\"0\":false},\"qex\":true},\"64\":{\"p\":{\"0\":false},\"qex\":true},\"65\":{\"p\":{},\"qex\":true},\"66\":{\"p\":{\"0\":false},\"qex\":true},\"67\":{\"p\":{\"0\":true,\"1\":true,\"2\":true,\"3\":true,\"4\":false,\"5\":false},\"qex\":true},\"68\":{\"p\":{\"0\":false},\"qex\":true},\"69\":{\"p\":{\"0\":true},\"qex\":true},\"70\":{\"p\":{\"1\":\"Instagram\\u306f\\u30a2\\u30d7\\u30ea\\u3067\\u3088\\u308a\\u5feb\\u9069\\u306b\\u3054\\u5229\\u7528\\u306b\\u306a\\u308c\\u307e\\u3059\",\"2\":\"\\u30a2\\u30d7\\u30ea\\u306b\\u306f\\u3088\\u308a\\u591a\\u304f\\u306e\\u30ab\\u30e1\\u30e9\\u30a8\\u30d5\\u30a7\\u30af\\u30c8\\u3084\\u30b9\\u30bf\\u30f3\\u30d7\\u304c\\u3042\\u308a\\u307e\\u3059\\u3002\\u30e1\\u30c3\\u30bb\\u30fc\\u30b8\\u3092\\u9001\\u4fe1\\u3059\\u308b\\u65b9\\u6cd5\\u3082\\u3088\\u308a\\u591a\\u304f\\u3042\\u308a\\u307e\\u3059\\u3002\",\"3\":\"\\u30a2\\u30d7\\u30ea\\u3092\\u5229\\u7528\"},\"qex\":true},\"71\":{\"p\":{\"1\":\"^/explore/.*|^/accounts/activity/$\"},\"qex\":true},\"72\":{\"p\":{\"0\":false,\"1\":true,\"2\":true,\"3\":false,\"4\":false},\"qex\":true},\"73\":{\"p\":{\"0\":false},\"qex\":true},\"74\":{\"p\":{\"1\":false,\"2\":false,\"3\":false,\"4\":false,\"5\":false,\"6\":false,\"7\":false,\"8\":false,\"9\":false,\"10\":false},\"qex\":true},\"75\":{\"p\":{\"0\":true},\"qex\":true},\"76\":{\"p\":{\"0\":true,\"1\":false},\"qex\":true},\"77\":{\"p\":{\"0\":true,\"1\":false},\"qex\":true},\"78\":{\"p\":{\"0\":true,\"1\":false},\"qex\":true},\"80\":{\"p\":{\"3\":false},\"qex\":true},\"81\":{\"p\":{\"0\":false},\"qex\":true},\"82\":{\"p\":{\"0\":false,\"1\":false},\"qex\":true},\"84\":{\"p\":{\"0\":true,\"1\":true,\"2\":true,\"3\":false,\"4\":true,\"5\":true,\"6\":false},\"qex\":true},\"85\":{\"p\":{\"0\":false,\"1\":\"Pictures and Videos\"},\"qex\":true},\"87\":{\"p\":{\"0\":true},\"qex\":true},\"89\":{\"p\":{\"0\":false},\"qex\":true},\"91\":{\"p\":{\"0\":false},\"qex\":true},\"92\":{\"p\":{\"0\":36},\"qex\":true},\"93\":{\"p\":{\"0\":true},\"qex\":true},\"95\":{\"p\":{\"0\":false},\"qex\":true},\"96\":{\"p\":{\"0\":true},\"qex\":true},\"97\":{\"p\":{},\"qex\":true},\"98\":{\"p\":{\"0\":false,\"1\":false},\"qex\":true},\"99\":{\"p\":{\"0\":false},\"qex\":true},\"100\":{\"p\":{},\"qex\":true},\"101\":{\"p\":{\"0\":false,\"1\":false},\"qex\":true},\"102\":{\"p\":{\"0\":true},\"qex\":true},\"103\":{\"p\":{\"0\":false,\"1\":false},\"qex\":true},\"104\":{\"p\":{\"0\":true},\"qex\":true},\"105\":{\"p\":{\"0\":\"control\"},\"qex\":true}},\"probably_has_app\":false,\"cb\":false},\"device_id\":\"7F607A5D-0341-4CBC-B2CB-E7DDB573B52E\",\"encryption\":{\"key_id\":\"116\",\"public_key\":\"4559d4f66f0ac504b295508bca2a1a8605de42f1a64126c1ad2845022f6e553f\"},\"rollout_hash\":\"0737da2dc667\",\"bundle_variant\":\"es6\",\"is_canary\":false}\n",
    "\n",
    "\"\"\""
   ]
  },
  {
   "cell_type": "code",
   "execution_count": 26,
   "metadata": {},
   "outputs": [],
   "source": [
    "import json\n",
    "import pprint as pp\n",
    "\n",
    "data = json.loads(data.strip(),strict=False)\n"
   ]
  },
  {
   "cell_type": "code",
   "execution_count": null,
   "metadata": {},
   "outputs": [],
   "source": [
    "pp.pprint(data)"
   ]
  },
  {
   "cell_type": "code",
   "execution_count": 39,
   "metadata": {},
   "outputs": [],
   "source": [
    "data1= data['entry_data']['PostPage']"
   ]
  },
  {
   "cell_type": "code",
   "execution_count": 54,
   "metadata": {},
   "outputs": [],
   "source": [
    "\n",
    "data2 = data1[0]['graphql']"
   ]
  },
  {
   "cell_type": "code",
   "execution_count": 67,
   "metadata": {},
   "outputs": [
    {
     "data": {
      "text/plain": [
       "dict_keys(['__typename', 'id', 'shortcode', 'dimensions', 'gating_info', 'fact_check_overall_rating', 'fact_check_information', 'sensitivity_friction_info', 'media_preview', 'display_url', 'display_resources', 'accessibility_caption', 'is_video', 'tracking_token', 'edge_media_to_tagged_user', 'edge_media_to_caption', 'caption_is_edited', 'has_ranked_comments', 'edge_media_to_parent_comment', 'edge_media_to_hoisted_comment', 'edge_media_preview_comment', 'comments_disabled', 'commenting_disabled_for_viewer', 'taken_at_timestamp', 'edge_media_preview_like', 'edge_media_to_sponsor_user', 'location', 'viewer_has_liked', 'viewer_has_saved', 'viewer_has_saved_to_collection', 'viewer_in_photo_of_you', 'viewer_can_reshare', 'owner', 'is_ad', 'edge_web_media_to_related_media'])"
      ]
     },
     "execution_count": 67,
     "metadata": {},
     "output_type": "execute_result"
    }
   ],
   "source": [
    "data2['shortcode_media'].keys()"
   ]
  },
  {
   "cell_type": "code",
   "execution_count": 72,
   "metadata": {},
   "outputs": [
    {
     "data": {
      "text/plain": [
       "\"You can't call yourself a designer without trying a few different colours and ideas. This is Hip Hop in Book Green x from my butterflies Observer Book. I thought quite cool in a boot room, downstairs loo with skinny stripe seamist blinds x wellies and bikes x fun love or hate?\""
      ]
     },
     "execution_count": 72,
     "metadata": {},
     "output_type": "execute_result"
    }
   ],
   "source": [
    "data2['shortcode_media']['edge_media_to_caption']['edges'][0]['node']['text']"
   ]
  },
  {
   "cell_type": "code",
   "execution_count": 90,
   "metadata": {},
   "outputs": [
    {
     "data": {
      "text/plain": [
       "'Love it! \\ud83d\\udc9a'"
      ]
     },
     "execution_count": 90,
     "metadata": {},
     "output_type": "execute_result"
    }
   ],
   "source": [
    "data2['shortcode_media']['edge_media_to_parent_comment']['edges'][11]['node']['text']"
   ]
  },
  {
   "cell_type": "code",
   "execution_count": null,
   "metadata": {},
   "outputs": [],
   "source": [
    "import requests\n",
    "from bs4 import BeautifulSoup\n",
    "import json\n",
    "\n",
    "session = requests.Session()    \n",
    "url = (\"https://www.instagram.com/p/B-Zo17OJz92/\") \n",
    "r = requests.get(url)\n",
    "html = r.text\n",
    "bs_html = BeautifulSoup(html)\n",
    "scripts = bs_html.select('script[type=\"text/javascript\"]')\n",
    "scripts_content = json.loads(scripts[3].text.strip('window._sharedData=  ').strip(';'),strict=False)\n",
    "print(json.dumps(scripts_content,indent=4))\n"
   ]
  },
  {
   "cell_type": "code",
   "execution_count": 262,
   "metadata": {},
   "outputs": [],
   "source": [
    "scriptsv1 = bs_html.select('time[class=\"FH9sR Nzb55\"]')"
   ]
  },
  {
   "cell_type": "code",
   "execution_count": 263,
   "metadata": {},
   "outputs": [
    {
     "data": {
      "text/plain": [
       "[]"
      ]
     },
     "execution_count": 263,
     "metadata": {},
     "output_type": "execute_result"
    }
   ],
   "source": [
    "scriptsv1"
   ]
  },
  {
   "cell_type": "code",
   "execution_count": 286,
   "metadata": {},
   "outputs": [],
   "source": [
    "\n"
   ]
  },
  {
   "cell_type": "code",
   "execution_count": 288,
   "metadata": {},
   "outputs": [
    {
     "data": {
      "text/plain": [
       "'2020-03-31T14:00:35.000Z'"
      ]
     },
     "execution_count": 288,
     "metadata": {},
     "output_type": "execute_result"
    }
   ],
   "source": []
  },
  {
   "cell_type": "code",
   "execution_count": 231,
   "metadata": {},
   "outputs": [],
   "source": [
    "data1= scripts_content['entry_data']['PostPage']"
   ]
  },
  {
   "cell_type": "code",
   "execution_count": 232,
   "metadata": {},
   "outputs": [],
   "source": [
    "data2 = data1[0]['graphql']"
   ]
  },
  {
   "cell_type": "code",
   "execution_count": 233,
   "metadata": {},
   "outputs": [
    {
     "data": {
      "text/plain": [
       "'Dive into these uplifting non-fiction picks that remind us to look inward, outward, and out for one another. Link in bio for our complete @applebooks reading list for staying home. #ReadWIthUs\\u2063\\u2063\\n\\u2063\\nP.S. Our new pick is coming on April 7th and we can’t wait to share and discuss it with you.'"
      ]
     },
     "execution_count": 233,
     "metadata": {},
     "output_type": "execute_result"
    }
   ],
   "source": [
    "data2['shortcode_media']['edge_media_to_caption']['edges'][0]['node']['text']"
   ]
  },
  {
   "cell_type": "code",
   "execution_count": 234,
   "metadata": {},
   "outputs": [
    {
     "data": {
      "text/plain": [
       "24"
      ]
     },
     "execution_count": 234,
     "metadata": {},
     "output_type": "execute_result"
    }
   ],
   "source": [
    "len(data2['shortcode_media']['edge_media_to_parent_comment']['edges'])"
   ]
  },
  {
   "cell_type": "code",
   "execution_count": 235,
   "metadata": {
    "scrolled": true
   },
   "outputs": [
    {
     "data": {
      "text/plain": [
       "[\"Quiet: The Power of Introverts in a World That Can't Stop Talking\\nBook by Susan Cain 🙌🏽.\",\n",
       " 'Best book ever for me to understand my introverted kids!!!❤️',\n",
       " \"I'm reading the sun does shine right now. Am so excited to see that Bryan has his own book. Can't wait to read it\",\n",
       " \"I bought and read Just Mercy when it first came out. I have told so many people about this book. It is eye opening, it is unbelievably sad, and if it doesn't make you furious about the justice system in certain places and under certain circumstances in this country, maybe there's no hope for you\",\n",
       " 'I have the book Quiet. 😻',\n",
       " '❤️📖✨',\n",
       " '@kejiss trade you BDW (when I finish) for Quiet?',\n",
       " 'Just Mercy was excellent! Bryan Stevenson is a hero.',\n",
       " 'This was a good read!',\n",
       " \"Today is 01 April, 2020. I am Anna Zgambo, Creative Writing Artist of the Republic of Zambia.\\n.\\n1.\\n.\\nNikuvwara chakubisira kumaso.\\n.\\nI am wearing a facemask.\\n.\\n2.\\nAnna Zgambo walenga chakubisira kumaso.\\n.\\nAnna Zgambo has created a facemask.\\n.\\n3.\\nNikuvwara chakubisira kumaso kujitetezya ku Matenda gha Coronavirus 2019.\\n.\\nI am wearing a facemask to protect myself against the Coronavirus Disease 2019.\\n.\\n4.\\nAnna Zgambo ngwa kujisamara.\\n.\\nAnna Zgambo is hygienic. .\\n5.\\nNikujisamara kuvwara chakubisira kumaso.\\n.\\nIt is hygienic to wear a face mask.\\n.\\n6.\\nAnna Zgambo wakuvwara chakubisira kumaso.\\n.\\nAnna Zgambo is wearing a facemask.\\n.\\n7.\\nAnna Zgambo is washing her facemask with soap.\\n.\\nAnna Zgambo wakuchapa chakubisara kumaso na vyakujisamarila.\\n.\\n8.\\nArtist: Anna Zgambo\\n.\\nRepublic of Zambia.\\n.\\nAnna Zgambo's Phone number: +260 955 06 54 55.\",\n",
       " 'Please read mine! EVERYTHING IS HARAM by SLOANE ABRAMS. Haram means forbidden in Arabic. About my years teaching college women in the Kingdom of Saudi Arabia 🇸🇦 https://www.amazon.com/EVERYTHING-HARAM-Memoir-American-Feminist-ebook/dp/B085XSZ5VZ/ref=cm_cr_arp_d_product_top?ie=UTF8. ❤️',\n",
       " 'Just mercy is one of the best books I’ve ever read!  Thought provoking and perspective altering.  Everyone should read this book.',\n",
       " 'Quiet by Susan Cain is a treasure to me! Many of our public schools and programs are geared for the extroverted personality type and kids are shamed for being introverted. Even saying your child is an introvert is thought to be a problem to be solved rather than a valuable disposition and nature of the child.',\n",
       " '@judiramos',\n",
       " '“Quiet” is a game changer. So educational! 🙌🏻',\n",
       " 'Oprah is the most dangerous person in this world. Since he eat  alive babys with many more peoples in secret caves!! Tom Hanks. Justin Bieber. And many more!',\n",
       " 'Put Oprah in prison.',\n",
       " 'The Son Will Rise In December👏❤️',\n",
       " 'Your money hungry why y’all black ball sis like that',\n",
       " 'Why have you limited posts on your personal page @Oprah? Are you avoiding question about your implication with #humantrafficking and #pedophelia ? Why were you friends with John of God?  What did you and Harvey do to those women?  What are you hiding?',\n",
       " '🗣FORGIVE STUDENT LOANS FOR FRONTLINE HEALTHCARE WORKERS!!!',\n",
       " '“Oprah eats baby’s for the fuck of it and  could be a spawn of satan”',\n",
       " 'Sounds like a best seller',\n",
       " 'just expose urself u fake hollywood people are actually a big agenda book']"
      ]
     },
     "execution_count": 235,
     "metadata": {},
     "output_type": "execute_result"
    }
   ],
   "source": [
    "comment = []\n",
    "for c in range(0,loc):\n",
    "    comment.append (''.join(data2['shortcode_media']['edge_media_to_parent_comment']['edges'][c]['node']['text']))\n",
    "    \n",
    "comment\n",
    "\n",
    "#data2['shortcode_media']['edge_media_to_parent_comment']['edges'][2]['node']['text']"
   ]
  },
  {
   "cell_type": "code",
   "execution_count": 216,
   "metadata": {},
   "outputs": [
    {
     "data": {
      "text/plain": [
       "['🙌',\n",
       " \"I'm ready\",\n",
       " 'A Tale for the Time Being by Ruth Ozeki',\n",
       " '@brookelovarini x',\n",
       " '@lailapal',\n",
       " 'Fuck this bitch',\n",
       " '@juandafranco81 mira todo lo que ha recomendado! Creo q ya te los leíste todos pero ❤️',\n",
       " '@arielcwu',\n",
       " 'I suggest Toni Morrison in these times. See my web/blog, “Voice Upon Voice:The Readers of Toni Morrison” for some reader-oriented activities. voiceuponvoice.com',\n",
       " 'With the world in a state of panic, many people are finding themselves stuck at home and missing work. Missing work =no income. I work in the online trading company, it helped me to continue making money and be home with my child. All from your cell phone! Right now it is FREE TO JOIN!! Would you like more info? In box me now',\n",
       " '@stephelsea',\n",
       " 'Yellow Bird by Sierra Crane Murdoch is worthy.',\n",
       " 'Books for Staying Home “Broken Graduate “😉',\n",
       " '👏👏👏👏👏',\n",
       " \"Then came the world\\nAnd it's hot breath\\nIt's ways\\nOur war lost\\nOur people fled into the mountains\\nWhile I\\nOf two children\\nAnd fourteen years\\nUnder a high moon\\nSet off\\nCrossed the bridge\\nTo see\\nTo know\\nThe God whom calls me\\nTo revisit memory in my future\\nTo find forever in a minute\\n\\nThree days walk\\nScant provisions gone\\nHunger joined my walk\\nBecame my companion\\nA day later, I entered a great city\\nBewildered\\nI wandered, unnoticed\\nLike a ghost\\nSlowly\\nMy thoughts became hazed\\nConfused\\nGreat noises took my senses\\nI coward\\nHid within my soul\\nMad!\\nMadness overtook\\nLed me\\nDown a dark path\\nI shivered\\nStaggered over rodents\\nSmelt feces\\nAnd the rotting of feeling\\nVoices surrounded me\\nHarsh, loud - laughing\\nWithout felicitation\\nStruck!\\nStruck by heartless lust\\nI collapsed\\nUnable to escape evils want\\nPain\\nFull and endless\\nWithin my soul\\nFound me hidden\\nHand of claws\\nReached out \\nTore away a chunk of my flesh\\n\\nGouged from my chest\\nThen swiftly, dug deep into my guts\\nProbed upward for my heart\\nMy hand went up, palm forward\\nI called out\\nThen sudden silence\\nPainlessness\\nI floated amongst stars\\nFaintly hearing the attack continued\\nOn my helpless body\",\n",
       " '@judiramos',\n",
       " 'I am a writer, I am a poet, I am a musician, I am who I am. @oprah even though I am only 19 years old, I have dreams of a company that will change how cultures identify my generation. To have a pristine view of how valuable our time is for kids and young adults. I’m writing a book that comes out in 2022 that speaks of inspiration. Check me out @itszestyg hear my dream']"
      ]
     },
     "execution_count": 216,
     "metadata": {},
     "output_type": "execute_result"
    }
   ],
   "source": [
    "comment = []\n",
    "for c in range(0,loc):\n",
    "    comment.append (''.join(data2['shortcode_media']['edge_media_to_parent_comment']['edges'][c]['node']['text']))\n",
    "    \n",
    "comment"
   ]
  },
  {
   "cell_type": "code",
   "execution_count": 130,
   "metadata": {},
   "outputs": [],
   "source": [
    "df = pd.DataFrame(columns=['comments'])\n",
    "loc = len(data2['shortcode_media']['edge_media_to_parent_comment']['edges'])\n",
    "comment = []\n",
    "for c in range(0,loc):\n",
    "       comment.append (''.join(data2['shortcode_media']['edge_media_to_parent_comment']['edges'][c]['node']['text']))                 \n",
    "\n",
    "        \n",
    "#type(data2['shortcode_media']['edge_media_to_parent_comment']['edges'][0]['node']['text'])\n",
    "#comments['str'] = 'hello'\n",
    "#comments"
   ]
  },
  {
   "cell_type": "code",
   "execution_count": 156,
   "metadata": {},
   "outputs": [],
   "source": [
    "df = pd.DataFrame(columns=['url','sno','commentcnt','comments'])"
   ]
  },
  {
   "cell_type": "code",
   "execution_count": 158,
   "metadata": {},
   "outputs": [
    {
     "data": {
      "text/html": [
       "<div>\n",
       "<style scoped>\n",
       "    .dataframe tbody tr th:only-of-type {\n",
       "        vertical-align: middle;\n",
       "    }\n",
       "\n",
       "    .dataframe tbody tr th {\n",
       "        vertical-align: top;\n",
       "    }\n",
       "\n",
       "    .dataframe thead th {\n",
       "        text-align: right;\n",
       "    }\n",
       "</style>\n",
       "<table border=\"1\" class=\"dataframe\">\n",
       "  <thead>\n",
       "    <tr style=\"text-align: right;\">\n",
       "      <th></th>\n",
       "      <th>url</th>\n",
       "      <th>sno</th>\n",
       "      <th>commentcnt</th>\n",
       "      <th>comments</th>\n",
       "    </tr>\n",
       "  </thead>\n",
       "  <tbody>\n",
       "    <tr>\n",
       "      <th>0</th>\n",
       "      <td>https</td>\n",
       "      <td>NaN</td>\n",
       "      <td>NaN</td>\n",
       "      <td>NaN</td>\n",
       "    </tr>\n",
       "    <tr>\n",
       "      <th>1</th>\n",
       "      <td>NaN</td>\n",
       "      <td>1</td>\n",
       "      <td>NaN</td>\n",
       "      <td>NaN</td>\n",
       "    </tr>\n",
       "    <tr>\n",
       "      <th>2</th>\n",
       "      <td>NaN</td>\n",
       "      <td>NaN</td>\n",
       "      <td>85</td>\n",
       "      <td>NaN</td>\n",
       "    </tr>\n",
       "  </tbody>\n",
       "</table>\n",
       "</div>"
      ],
      "text/plain": [
       "     url  sno commentcnt comments\n",
       "0  https  NaN        NaN      NaN\n",
       "1    NaN    1        NaN      NaN\n",
       "2    NaN  NaN         85      NaN"
      ]
     },
     "execution_count": 158,
     "metadata": {},
     "output_type": "execute_result"
    }
   ],
   "source": [
    "df = df.append({'url': 'https'}, ignore_index=True)\n",
    "df= df.append({'sno':1},ignore_index=True)\n",
    "df= df.append({'commentcnt':85},ignore_index=True)\n",
    "df"
   ]
  },
  {
   "cell_type": "code",
   "execution_count": 160,
   "metadata": {},
   "outputs": [
    {
     "data": {
      "text/html": [
       "<div>\n",
       "<style scoped>\n",
       "    .dataframe tbody tr th:only-of-type {\n",
       "        vertical-align: middle;\n",
       "    }\n",
       "\n",
       "    .dataframe tbody tr th {\n",
       "        vertical-align: top;\n",
       "    }\n",
       "\n",
       "    .dataframe thead th {\n",
       "        text-align: right;\n",
       "    }\n",
       "</style>\n",
       "<table border=\"1\" class=\"dataframe\">\n",
       "  <thead>\n",
       "    <tr style=\"text-align: right;\">\n",
       "      <th></th>\n",
       "      <th>url</th>\n",
       "      <th>sno</th>\n",
       "      <th>commentcnt</th>\n",
       "      <th>comments</th>\n",
       "    </tr>\n",
       "  </thead>\n",
       "  <tbody>\n",
       "    <tr>\n",
       "      <th>0</th>\n",
       "      <td>https</td>\n",
       "      <td>NaN</td>\n",
       "      <td>NaN</td>\n",
       "      <td>[💖, This was so wonderful to watch. 🙏🏾, @child...</td>\n",
       "    </tr>\n",
       "    <tr>\n",
       "      <th>1</th>\n",
       "      <td>NaN</td>\n",
       "      <td>1</td>\n",
       "      <td>NaN</td>\n",
       "      <td>NaN</td>\n",
       "    </tr>\n",
       "    <tr>\n",
       "      <th>2</th>\n",
       "      <td>NaN</td>\n",
       "      <td>NaN</td>\n",
       "      <td>85</td>\n",
       "      <td>NaN</td>\n",
       "    </tr>\n",
       "  </tbody>\n",
       "</table>\n",
       "</div>"
      ],
      "text/plain": [
       "     url  sno commentcnt                                           comments\n",
       "0  https  NaN        NaN  [💖, This was so wonderful to watch. 🙏🏾, @child...\n",
       "1    NaN    1        NaN                                                NaN\n",
       "2    NaN  NaN         85                                                NaN"
      ]
     },
     "execution_count": 160,
     "metadata": {},
     "output_type": "execute_result"
    }
   ],
   "source": [
    "df"
   ]
  },
  {
   "cell_type": "code",
   "execution_count": 159,
   "metadata": {},
   "outputs": [],
   "source": [
    "df['comments'].iloc[0] =  comment"
   ]
  },
  {
   "cell_type": "code",
   "execution_count": 128,
   "metadata": {},
   "outputs": [],
   "source": [
    "df.to_csv('df.csv')"
   ]
  },
  {
   "cell_type": "code",
   "execution_count": 64,
   "metadata": {},
   "outputs": [
    {
     "data": {
      "text/plain": [
       "71"
      ]
     },
     "execution_count": 64,
     "metadata": {},
     "output_type": "execute_result"
    }
   ],
   "source": [
    "#'edge_media_to_parent_comment': \n",
    "#string = (' '.join(data[data['q21']==71]['q22']))\n",
    "data2['shortcode_media']['edge_media_to_parent_comment']['count']"
   ]
  },
  {
   "cell_type": "code",
   "execution_count": 180,
   "metadata": {},
   "outputs": [
    {
     "name": "stdout",
     "output_type": "stream",
     "text": [
      "https://www.instagram.com/p/B-Zo17OJz92/\n",
      "https://www.instagram.com/p/B-Xkw2ZAgap/\n",
      "https://www.instagram.com/p/B-Us-uqHW45/\n",
      "https://www.instagram.com/p/B-QWtcHnszo/\n",
      "https://www.instagram.com/p/B-F22XzANdV/\n",
      "https://www.instagram.com/p/B9mccDsg0uV/\n",
      "https://www.instagram.com/p/B9fRiI-hByv/\n",
      "https://www.instagram.com/p/B9b8rI4FBdO/\n",
      "https://www.instagram.com/p/B9ZXvsrg3w4/\n",
      "https://www.instagram.com/p/B9WzCe3nqOF/\n",
      "https://www.instagram.com/p/B9U4YQMg5O4/\n",
      "https://www.instagram.com/p/B89sAKpA7OB/\n"
     ]
    }
   ],
   "source": [
    "for url in posts:\n",
    "    print(url)"
   ]
  },
  {
   "cell_type": "code",
   "execution_count": 298,
   "metadata": {},
   "outputs": [
    {
     "name": "stdout",
     "output_type": "stream",
     "text": [
      "['https://www.instagram.com/p/B-pX8vNgfV9/', 'https://www.instagram.com/p/B-Zo17OJz92/', 'https://www.instagram.com/p/B-Xkw2ZAgap/', 'https://www.instagram.com/p/B-Us-uqHW45/', 'https://www.instagram.com/p/B-QWtcHnszo/', 'https://www.instagram.com/p/B-F22XzANdV/', 'https://www.instagram.com/p/B9mccDsg0uV/', 'https://www.instagram.com/p/B9fRiI-hByv/', 'https://www.instagram.com/p/B9b8rI4FBdO/', 'https://www.instagram.com/p/B9ZXvsrg3w4/', 'https://www.instagram.com/p/B9WzCe3nqOF/', 'https://www.instagram.com/p/B9U4YQMg5O4/']\n"
     ]
    }
   ],
   "source": []
  },
  {
   "cell_type": "code",
   "execution_count": 204,
   "metadata": {},
   "outputs": [
    {
     "data": {
      "text/html": [
       "<div>\n",
       "<style scoped>\n",
       "    .dataframe tbody tr th:only-of-type {\n",
       "        vertical-align: middle;\n",
       "    }\n",
       "\n",
       "    .dataframe tbody tr th {\n",
       "        vertical-align: top;\n",
       "    }\n",
       "\n",
       "    .dataframe thead th {\n",
       "        text-align: right;\n",
       "    }\n",
       "</style>\n",
       "<table border=\"1\" class=\"dataframe\">\n",
       "  <thead>\n",
       "    <tr style=\"text-align: right;\">\n",
       "      <th></th>\n",
       "      <th>postid</th>\n",
       "      <th>url</th>\n",
       "      <th>post</th>\n",
       "      <th>commentcnt</th>\n",
       "      <th>comments</th>\n",
       "    </tr>\n",
       "  </thead>\n",
       "  <tbody>\n",
       "    <tr>\n",
       "      <th>0</th>\n",
       "      <td>0.0</td>\n",
       "      <td>https://www.instagram.com/p/B-Zo17OJz92/</td>\n",
       "      <td>This Friday, we face “American Dirt” head-on. ...</td>\n",
       "      <td>267.0</td>\n",
       "      <td>[💖, This was so wonderful to watch. 🙏🏾, @child...</td>\n",
       "    </tr>\n",
       "  </tbody>\n",
       "</table>\n",
       "</div>"
      ],
      "text/plain": [
       "   postid                                       url  \\\n",
       "0     0.0  https://www.instagram.com/p/B-Zo17OJz92/   \n",
       "\n",
       "                                                post  commentcnt  \\\n",
       "0  This Friday, we face “American Dirt” head-on. ...       267.0   \n",
       "\n",
       "                                            comments  \n",
       "0  [💖, This was so wonderful to watch. 🙏🏾, @child...  "
      ]
     },
     "execution_count": 204,
     "metadata": {},
     "output_type": "execute_result"
    }
   ],
   "source": [
    "bookclub = pd.DataFrame(columns=['postid','url','post','commentcnt','comments'])\n",
    "bookclub = bookclub.append({'postid':0},ignore_index=True)\n",
    "bookclub['url'].iloc[0] = posts[0]\n",
    "session = requests.Session()    \n",
    "url = posts[10]\n",
    "r = requests.get(url)\n",
    "html = r.text\n",
    "bs_html = BeautifulSoup(html)\n",
    "scripts = bs_html.select('script[type=\"text/javascript\"]')\n",
    "scripts_content = json.loads(scripts[3].text.strip('window._sharedData=  ').strip(';'),strict=False)\n",
    "data1= scripts_content['entry_data']['PostPage'][0]['graphql']\n",
    "post = data1['shortcode_media']['edge_media_to_caption']['edges'][0]['node']['text']\n",
    "bookclub['post'].iloc[0] = post\n",
    "commentcnt = data1['shortcode_media']['edge_media_to_parent_comment']['count']\n",
    "bookclub['commentcnt'].iloc[0] =  commentcnt\n",
    "loc = len(data1['shortcode_media']['edge_media_to_parent_comment']['edges'])\n",
    "comment = []\n",
    "for c in range(0,loc):\n",
    "    comment.append (''.join(data2['shortcode_media']['edge_media_to_parent_comment']['edges'][c]['node']['text']))\n",
    "    \n",
    "bookclub['comments'].iloc[0] = comment\n",
    "bookclub"
   ]
  },
  {
   "cell_type": "code",
   "execution_count": 196,
   "metadata": {},
   "outputs": [],
   "source": [
    "bookclub = pd.DataFrame(columns=['postid','url','post','commentcnt','comments'],index = range(0,15))"
   ]
  },
  {
   "cell_type": "code",
   "execution_count": 197,
   "metadata": {},
   "outputs": [
    {
     "data": {
      "text/html": [
       "<div>\n",
       "<style scoped>\n",
       "    .dataframe tbody tr th:only-of-type {\n",
       "        vertical-align: middle;\n",
       "    }\n",
       "\n",
       "    .dataframe tbody tr th {\n",
       "        vertical-align: top;\n",
       "    }\n",
       "\n",
       "    .dataframe thead th {\n",
       "        text-align: right;\n",
       "    }\n",
       "</style>\n",
       "<table border=\"1\" class=\"dataframe\">\n",
       "  <thead>\n",
       "    <tr style=\"text-align: right;\">\n",
       "      <th></th>\n",
       "      <th>postid</th>\n",
       "      <th>url</th>\n",
       "      <th>post</th>\n",
       "      <th>commentcnt</th>\n",
       "      <th>comments</th>\n",
       "    </tr>\n",
       "  </thead>\n",
       "  <tbody>\n",
       "    <tr>\n",
       "      <th>0</th>\n",
       "      <td>NaN</td>\n",
       "      <td>NaN</td>\n",
       "      <td>NaN</td>\n",
       "      <td>NaN</td>\n",
       "      <td>NaN</td>\n",
       "    </tr>\n",
       "    <tr>\n",
       "      <th>1</th>\n",
       "      <td>NaN</td>\n",
       "      <td>NaN</td>\n",
       "      <td>NaN</td>\n",
       "      <td>NaN</td>\n",
       "      <td>NaN</td>\n",
       "    </tr>\n",
       "    <tr>\n",
       "      <th>2</th>\n",
       "      <td>NaN</td>\n",
       "      <td>NaN</td>\n",
       "      <td>NaN</td>\n",
       "      <td>NaN</td>\n",
       "      <td>NaN</td>\n",
       "    </tr>\n",
       "    <tr>\n",
       "      <th>3</th>\n",
       "      <td>NaN</td>\n",
       "      <td>NaN</td>\n",
       "      <td>NaN</td>\n",
       "      <td>NaN</td>\n",
       "      <td>NaN</td>\n",
       "    </tr>\n",
       "    <tr>\n",
       "      <th>4</th>\n",
       "      <td>NaN</td>\n",
       "      <td>NaN</td>\n",
       "      <td>NaN</td>\n",
       "      <td>NaN</td>\n",
       "      <td>NaN</td>\n",
       "    </tr>\n",
       "    <tr>\n",
       "      <th>5</th>\n",
       "      <td>NaN</td>\n",
       "      <td>NaN</td>\n",
       "      <td>NaN</td>\n",
       "      <td>NaN</td>\n",
       "      <td>NaN</td>\n",
       "    </tr>\n",
       "    <tr>\n",
       "      <th>6</th>\n",
       "      <td>NaN</td>\n",
       "      <td>NaN</td>\n",
       "      <td>NaN</td>\n",
       "      <td>NaN</td>\n",
       "      <td>NaN</td>\n",
       "    </tr>\n",
       "    <tr>\n",
       "      <th>7</th>\n",
       "      <td>NaN</td>\n",
       "      <td>NaN</td>\n",
       "      <td>NaN</td>\n",
       "      <td>NaN</td>\n",
       "      <td>NaN</td>\n",
       "    </tr>\n",
       "    <tr>\n",
       "      <th>8</th>\n",
       "      <td>NaN</td>\n",
       "      <td>NaN</td>\n",
       "      <td>NaN</td>\n",
       "      <td>NaN</td>\n",
       "      <td>NaN</td>\n",
       "    </tr>\n",
       "    <tr>\n",
       "      <th>9</th>\n",
       "      <td>NaN</td>\n",
       "      <td>NaN</td>\n",
       "      <td>NaN</td>\n",
       "      <td>NaN</td>\n",
       "      <td>NaN</td>\n",
       "    </tr>\n",
       "    <tr>\n",
       "      <th>10</th>\n",
       "      <td>NaN</td>\n",
       "      <td>NaN</td>\n",
       "      <td>NaN</td>\n",
       "      <td>NaN</td>\n",
       "      <td>NaN</td>\n",
       "    </tr>\n",
       "    <tr>\n",
       "      <th>11</th>\n",
       "      <td>NaN</td>\n",
       "      <td>NaN</td>\n",
       "      <td>NaN</td>\n",
       "      <td>NaN</td>\n",
       "      <td>NaN</td>\n",
       "    </tr>\n",
       "    <tr>\n",
       "      <th>12</th>\n",
       "      <td>NaN</td>\n",
       "      <td>NaN</td>\n",
       "      <td>NaN</td>\n",
       "      <td>NaN</td>\n",
       "      <td>NaN</td>\n",
       "    </tr>\n",
       "    <tr>\n",
       "      <th>13</th>\n",
       "      <td>NaN</td>\n",
       "      <td>NaN</td>\n",
       "      <td>NaN</td>\n",
       "      <td>NaN</td>\n",
       "      <td>NaN</td>\n",
       "    </tr>\n",
       "    <tr>\n",
       "      <th>14</th>\n",
       "      <td>NaN</td>\n",
       "      <td>NaN</td>\n",
       "      <td>NaN</td>\n",
       "      <td>NaN</td>\n",
       "      <td>NaN</td>\n",
       "    </tr>\n",
       "  </tbody>\n",
       "</table>\n",
       "</div>"
      ],
      "text/plain": [
       "   postid  url post commentcnt comments\n",
       "0     NaN  NaN  NaN        NaN      NaN\n",
       "1     NaN  NaN  NaN        NaN      NaN\n",
       "2     NaN  NaN  NaN        NaN      NaN\n",
       "3     NaN  NaN  NaN        NaN      NaN\n",
       "4     NaN  NaN  NaN        NaN      NaN\n",
       "5     NaN  NaN  NaN        NaN      NaN\n",
       "6     NaN  NaN  NaN        NaN      NaN\n",
       "7     NaN  NaN  NaN        NaN      NaN\n",
       "8     NaN  NaN  NaN        NaN      NaN\n",
       "9     NaN  NaN  NaN        NaN      NaN\n",
       "10    NaN  NaN  NaN        NaN      NaN\n",
       "11    NaN  NaN  NaN        NaN      NaN\n",
       "12    NaN  NaN  NaN        NaN      NaN\n",
       "13    NaN  NaN  NaN        NaN      NaN\n",
       "14    NaN  NaN  NaN        NaN      NaN"
      ]
     },
     "execution_count": 197,
     "metadata": {},
     "output_type": "execute_result"
    }
   ],
   "source": [
    "bookclub"
   ]
  },
  {
   "cell_type": "code",
   "execution_count": 225,
   "metadata": {},
   "outputs": [],
   "source": [
    "bookclub = pd.DataFrame(columns=['postid','url','post','commentcnt','comments'])\n"
   ]
  },
  {
   "cell_type": "code",
   "execution_count": 304,
   "metadata": {},
   "outputs": [
    {
     "name": "stdout",
     "output_type": "stream",
     "text": [
      "['https://www.instagram.com/p/B-pUOEeAscj/', 'https://www.instagram.com/p/B-kKRvOgAXn/', 'https://www.instagram.com/p/B-hmJqsgdop/', 'https://www.instagram.com/p/B-fGFzRAzZY/', 'https://www.instagram.com/p/B-dVChWgjTi/', 'https://www.instagram.com/p/B-cn0d_gUuG/', 'https://www.instagram.com/p/B-Z_eDtgblm/', 'https://www.instagram.com/p/B-Z2jxvAdT1/', 'https://www.instagram.com/p/B-XSTOyAr0t/', 'https://www.instagram.com/p/B-SJnsaAJ94/', 'https://www.instagram.com/p/B-PodQJA1cE/', 'https://www.instagram.com/p/B-NAj1JAfIU/']\n"
     ]
    }
   ],
   "source": [
    "# pull url for each post\n",
    "\n",
    "from selenium import webdriver\n",
    "\n",
    "import time \n",
    "\n",
    "driver = webdriver.Chrome()\n",
    "\n",
    "#https://www.instagram.com/oprahsbookclub/?hl=en\n",
    "#\"https://www.instagram.com/reesewitherspoon/?hl=en\"\n",
    "driver.get(\"https://www.instagram.com/reesewitherspoon/?hl=en\")\n",
    "\n",
    "lenOfPage = 10\n",
    "#scroll\n",
    "#lenOfPage = driver.execute_script(\"window.scrollTo(0,document.body.scrollHeight);var lenOfPage=document.body.scrollHeight; return lenOfPage;\")\n",
    " \n",
    "match = False\n",
    "while(match==False):\n",
    "    lastCount = lenOfPage\n",
    "    time.sleep(3)\n",
    "    lenOfPage = driver.execute_script(\"window.scrollTo(0,document.body.scrollHeight);var lenOfPage=5; return lenOfPage;\")\n",
    "    #lenOfPage = driver.execute_script(\"window.scrollTo(0,document.body.scrollHeight);var lenOfPage=document.body.scrollHeight; return lenOfPage;\")\n",
    "    if lastCount == lenOfPage:\n",
    "        match=True\n",
    "        \n",
    "posts = []\n",
    "links = driver.find_elements_by_tag_name('a')\n",
    "for link in links:\n",
    "    post = link.get_attribute('href')\n",
    "    if '/p/' in post:\n",
    "        posts.append(post)\n",
    "\n",
    "print (posts)"
   ]
  },
  {
   "cell_type": "code",
   "execution_count": 305,
   "metadata": {},
   "outputs": [
    {
     "data": {
      "text/html": [
       "<div>\n",
       "<style scoped>\n",
       "    .dataframe tbody tr th:only-of-type {\n",
       "        vertical-align: middle;\n",
       "    }\n",
       "\n",
       "    .dataframe tbody tr th {\n",
       "        vertical-align: top;\n",
       "    }\n",
       "\n",
       "    .dataframe thead th {\n",
       "        text-align: right;\n",
       "    }\n",
       "</style>\n",
       "<table border=\"1\" class=\"dataframe\">\n",
       "  <thead>\n",
       "    <tr style=\"text-align: right;\">\n",
       "      <th></th>\n",
       "      <th>postid</th>\n",
       "      <th>url</th>\n",
       "      <th>posttitle</th>\n",
       "      <th>commentcnt</th>\n",
       "      <th>comments</th>\n",
       "      <th>date</th>\n",
       "    </tr>\n",
       "  </thead>\n",
       "  <tbody>\n",
       "    <tr>\n",
       "      <th>0</th>\n",
       "      <td>0.0</td>\n",
       "      <td>https://www.instagram.com/p/B-pUOEeAscj/</td>\n",
       "      <td>Calling all my fierce queens... let me hear yo...</td>\n",
       "      <td>321.0</td>\n",
       "      <td>[👏, ❤️, What's up, Great boobs, Hi how are you...</td>\n",
       "      <td>NaN</td>\n",
       "    </tr>\n",
       "    <tr>\n",
       "      <th>1</th>\n",
       "      <td>1.0</td>\n",
       "      <td>https://www.instagram.com/p/B-kKRvOgAXn/</td>\n",
       "      <td>Because when life gives you lemons... add some...</td>\n",
       "      <td>4361.0</td>\n",
       "      <td>[Great look and excellent southern afternoon c...</td>\n",
       "      <td>NaN</td>\n",
       "    </tr>\n",
       "    <tr>\n",
       "      <th>2</th>\n",
       "      <td>2.0</td>\n",
       "      <td>https://www.instagram.com/p/B-hmJqsgdop/</td>\n",
       "      <td>How I've been starting my day... Love these da...</td>\n",
       "      <td>2161.0</td>\n",
       "      <td>[💛💛💛💛, for all those who are struggling with i...</td>\n",
       "      <td>NaN</td>\n",
       "    </tr>\n",
       "    <tr>\n",
       "      <th>3</th>\n",
       "      <td>3.0</td>\n",
       "      <td>https://www.instagram.com/p/B-fGFzRAzZY/</td>\n",
       "      <td>What an eye-opening conversation! I spoke with...</td>\n",
       "      <td>1088.0</td>\n",
       "      <td>[Thank you for this!!! Please do more!!, 💕Love...</td>\n",
       "      <td>NaN</td>\n",
       "    </tr>\n",
       "    <tr>\n",
       "      <th>4</th>\n",
       "      <td>4.0</td>\n",
       "      <td>https://www.instagram.com/p/B-dVChWgjTi/</td>\n",
       "      <td>Who is staying in with The Richardson’s? The m...</td>\n",
       "      <td>4499.0</td>\n",
       "      <td>[Ff, I literally made meatloaf with ritz crack...</td>\n",
       "      <td>NaN</td>\n",
       "    </tr>\n",
       "    <tr>\n",
       "      <th>5</th>\n",
       "      <td>5.0</td>\n",
       "      <td>https://www.instagram.com/p/B-cn0d_gUuG/</td>\n",
       "      <td>Earlier this morning, I got to share some news...</td>\n",
       "      <td>1465.0</td>\n",
       "      <td>[👏🏼👏🏼👏🏼 Brilliant work of heART. ✨✨✨, Just fin...</td>\n",
       "      <td>NaN</td>\n",
       "    </tr>\n",
       "    <tr>\n",
       "      <th>6</th>\n",
       "      <td>6.0</td>\n",
       "      <td>https://www.instagram.com/p/B-Z_eDtgblm/</td>\n",
       "      <td>In my first #ShineOnatHome conversation, I spo...</td>\n",
       "      <td>889.0</td>\n",
       "      <td>[@vtmomma1  @lizzyalbertini, @breearich ❤️, @l...</td>\n",
       "      <td>NaN</td>\n",
       "    </tr>\n",
       "    <tr>\n",
       "      <th>7</th>\n",
       "      <td>7.0</td>\n",
       "      <td>https://www.instagram.com/p/B-Z2jxvAdT1/</td>\n",
       "      <td>Trying to make sense of how to work from home,...</td>\n",
       "      <td>5100.0</td>\n",
       "      <td>[Very valuable information. Thanks. 🌹, 🦋🦋🦋🦋, 😂...</td>\n",
       "      <td>NaN</td>\n",
       "    </tr>\n",
       "    <tr>\n",
       "      <th>8</th>\n",
       "      <td>8.0</td>\n",
       "      <td>https://www.instagram.com/p/B-XSTOyAr0t/</td>\n",
       "      <td>In case of #LittleFiresEverywhere🔥A new episod...</td>\n",
       "      <td>1949.0</td>\n",
       "      <td>[Your show is a new favorite for so many reaso...</td>\n",
       "      <td>NaN</td>\n",
       "    </tr>\n",
       "    <tr>\n",
       "      <th>9</th>\n",
       "      <td>9.0</td>\n",
       "      <td>https://www.instagram.com/p/B-SJnsaAJ94/</td>\n",
       "      <td>I think he's already sick of my cooking... 🍽 T...</td>\n",
       "      <td>5065.0</td>\n",
       "      <td>[@connieachurra, There's tons of recipes I kno...</td>\n",
       "      <td>NaN</td>\n",
       "    </tr>\n",
       "    <tr>\n",
       "      <th>10</th>\n",
       "      <td>10.0</td>\n",
       "      <td>https://www.instagram.com/p/B-PodQJA1cE/</td>\n",
       "      <td>Love these photos from our cover of #EmmyMagaz...</td>\n",
       "      <td>2698.0</td>\n",
       "      <td>[When you walked in that restaurant 😩, Where c...</td>\n",
       "      <td>NaN</td>\n",
       "    </tr>\n",
       "    <tr>\n",
       "      <th>11</th>\n",
       "      <td>11.0</td>\n",
       "      <td>https://www.instagram.com/p/B-NAj1JAfIU/</td>\n",
       "      <td>The Richardson's are reporting for duty! So fu...</td>\n",
       "      <td>1966.0</td>\n",
       "      <td>[would it hurt you to wear a decent pair of bo...</td>\n",
       "      <td>NaN</td>\n",
       "    </tr>\n",
       "  </tbody>\n",
       "</table>\n",
       "</div>"
      ],
      "text/plain": [
       "    postid                                       url  \\\n",
       "0      0.0  https://www.instagram.com/p/B-pUOEeAscj/   \n",
       "1      1.0  https://www.instagram.com/p/B-kKRvOgAXn/   \n",
       "2      2.0  https://www.instagram.com/p/B-hmJqsgdop/   \n",
       "3      3.0  https://www.instagram.com/p/B-fGFzRAzZY/   \n",
       "4      4.0  https://www.instagram.com/p/B-dVChWgjTi/   \n",
       "5      5.0  https://www.instagram.com/p/B-cn0d_gUuG/   \n",
       "6      6.0  https://www.instagram.com/p/B-Z_eDtgblm/   \n",
       "7      7.0  https://www.instagram.com/p/B-Z2jxvAdT1/   \n",
       "8      8.0  https://www.instagram.com/p/B-XSTOyAr0t/   \n",
       "9      9.0  https://www.instagram.com/p/B-SJnsaAJ94/   \n",
       "10    10.0  https://www.instagram.com/p/B-PodQJA1cE/   \n",
       "11    11.0  https://www.instagram.com/p/B-NAj1JAfIU/   \n",
       "\n",
       "                                            posttitle  commentcnt  \\\n",
       "0   Calling all my fierce queens... let me hear yo...       321.0   \n",
       "1   Because when life gives you lemons... add some...      4361.0   \n",
       "2   How I've been starting my day... Love these da...      2161.0   \n",
       "3   What an eye-opening conversation! I spoke with...      1088.0   \n",
       "4   Who is staying in with The Richardson’s? The m...      4499.0   \n",
       "5   Earlier this morning, I got to share some news...      1465.0   \n",
       "6   In my first #ShineOnatHome conversation, I spo...       889.0   \n",
       "7   Trying to make sense of how to work from home,...      5100.0   \n",
       "8   In case of #LittleFiresEverywhere🔥A new episod...      1949.0   \n",
       "9   I think he's already sick of my cooking... 🍽 T...      5065.0   \n",
       "10  Love these photos from our cover of #EmmyMagaz...      2698.0   \n",
       "11  The Richardson's are reporting for duty! So fu...      1966.0   \n",
       "\n",
       "                                             comments  date  \n",
       "0   [👏, ❤️, What's up, Great boobs, Hi how are you...   NaN  \n",
       "1   [Great look and excellent southern afternoon c...   NaN  \n",
       "2   [💛💛💛💛, for all those who are struggling with i...   NaN  \n",
       "3   [Thank you for this!!! Please do more!!, 💕Love...   NaN  \n",
       "4   [Ff, I literally made meatloaf with ritz crack...   NaN  \n",
       "5   [👏🏼👏🏼👏🏼 Brilliant work of heART. ✨✨✨, Just fin...   NaN  \n",
       "6   [@vtmomma1  @lizzyalbertini, @breearich ❤️, @l...   NaN  \n",
       "7   [Very valuable information. Thanks. 🌹, 🦋🦋🦋🦋, 😂...   NaN  \n",
       "8   [Your show is a new favorite for so many reaso...   NaN  \n",
       "9   [@connieachurra, There's tons of recipes I kno...   NaN  \n",
       "10  [When you walked in that restaurant 😩, Where c...   NaN  \n",
       "11  [would it hurt you to wear a decent pair of bo...   NaN  "
      ]
     },
     "execution_count": 305,
     "metadata": {},
     "output_type": "execute_result"
    }
   ],
   "source": [
    "import pandas as pd\n",
    "bookclub = pd.DataFrame(columns=['postid','url','posttitle','commentcnt','comments','date'])\n",
    "\n",
    "for r in range(0,len(posts)):\n",
    "    bookclub = bookclub.append({'postid':r},ignore_index=True)\n",
    "    bookclub['url'].iloc[r] = posts[r]\n",
    "    session = requests.Session()    \n",
    "    url = posts[r]\n",
    "    urlreq = requests.get(url)\n",
    "    html = urlreq.text\n",
    "    bs_html = BeautifulSoup(html)\n",
    "    scripts = bs_html.select('script[type=\"text/javascript\"]')\n",
    "    scripts_content = json.loads(scripts[3].text.strip('window._sharedData=  ').strip(';'),strict=False)\n",
    "    data= scripts_content['entry_data']['PostPage'][0]['graphql']\n",
    "    post = data['shortcode_media']['edge_media_to_caption']['edges'][0]['node']['text']\n",
    "    bookclub['posttitle'].iloc[r] = post\n",
    "    commentcnt = data['shortcode_media']['edge_media_to_parent_comment']['count']\n",
    "    bookclub['commentcnt'].iloc[r] =  commentcnt \n",
    "    loc = len(data['shortcode_media']['edge_media_to_parent_comment']['edges'])\n",
    "    cmt = []\n",
    "    for c in range(0,loc):\n",
    "        cmt.append(''.join(data['shortcode_media']['edge_media_to_parent_comment']['edges'][c]['node']['text']))\n",
    "    bookclub['comments'].iloc[r] = cmt\n",
    "\n",
    "bookclub\n",
    "\n",
    "    \n",
    "\n",
    "    \n",
    "        \n",
    "       \n",
    "    \n",
    "    \n"
   ]
  },
  {
   "cell_type": "code",
   "execution_count": 306,
   "metadata": {},
   "outputs": [],
   "source": [
    "from selenium import webdriver\n",
    "import time \n",
    "\n",
    "\n",
    "driver = webdriver.Chrome()\n",
    "for r in range(0,len(posts)):\n",
    "    driver.get(posts[r])\n",
    "    date = driver.find_element_by_xpath('//time[@class=\"FH9sR Nzb55\"]')\n",
    "    bookclub['date'].iloc[r] = date.get_attribute(\"datetime\")\n",
    "    \n",
    "    \n",
    "\n",
    "#date = driver.find_elements_by_tag_name('time')\n",
    "#date = driver.find_element_by_xpath('//time[@class=\"FH9sR Nzb55\"]')\n",
    "#date.get_attribute(\"datetime\")\n"
   ]
  },
  {
   "cell_type": "code",
   "execution_count": null,
   "metadata": {},
   "outputs": [],
   "source": [
    "https://www.instagram.com/p/B-Zo17OJz92/"
   ]
  },
  {
   "cell_type": "code",
   "execution_count": 308,
   "metadata": {},
   "outputs": [],
   "source": [
    "bookclub.to_csv('reesewitherspoon.csv')"
   ]
  },
  {
   "cell_type": "code",
   "execution_count": 307,
   "metadata": {},
   "outputs": [
    {
     "data": {
      "text/html": [
       "<div>\n",
       "<style scoped>\n",
       "    .dataframe tbody tr th:only-of-type {\n",
       "        vertical-align: middle;\n",
       "    }\n",
       "\n",
       "    .dataframe tbody tr th {\n",
       "        vertical-align: top;\n",
       "    }\n",
       "\n",
       "    .dataframe thead th {\n",
       "        text-align: right;\n",
       "    }\n",
       "</style>\n",
       "<table border=\"1\" class=\"dataframe\">\n",
       "  <thead>\n",
       "    <tr style=\"text-align: right;\">\n",
       "      <th></th>\n",
       "      <th>postid</th>\n",
       "      <th>url</th>\n",
       "      <th>posttitle</th>\n",
       "      <th>commentcnt</th>\n",
       "      <th>comments</th>\n",
       "      <th>date</th>\n",
       "    </tr>\n",
       "  </thead>\n",
       "  <tbody>\n",
       "    <tr>\n",
       "      <th>0</th>\n",
       "      <td>0.0</td>\n",
       "      <td>https://www.instagram.com/p/B-pUOEeAscj/</td>\n",
       "      <td>Calling all my fierce queens... let me hear yo...</td>\n",
       "      <td>321.0</td>\n",
       "      <td>[👏, ❤️, What's up, Great boobs, Hi how are you...</td>\n",
       "      <td>2020-04-06T16:09:13.000Z</td>\n",
       "    </tr>\n",
       "    <tr>\n",
       "      <th>1</th>\n",
       "      <td>1.0</td>\n",
       "      <td>https://www.instagram.com/p/B-kKRvOgAXn/</td>\n",
       "      <td>Because when life gives you lemons... add some...</td>\n",
       "      <td>4361.0</td>\n",
       "      <td>[Great look and excellent southern afternoon c...</td>\n",
       "      <td>2020-04-04T16:05:09.000Z</td>\n",
       "    </tr>\n",
       "    <tr>\n",
       "      <th>2</th>\n",
       "      <td>2.0</td>\n",
       "      <td>https://www.instagram.com/p/B-hmJqsgdop/</td>\n",
       "      <td>How I've been starting my day... Love these da...</td>\n",
       "      <td>2161.0</td>\n",
       "      <td>[💛💛💛💛, for all those who are struggling with i...</td>\n",
       "      <td>2020-04-03T16:10:59.000Z</td>\n",
       "    </tr>\n",
       "    <tr>\n",
       "      <th>3</th>\n",
       "      <td>3.0</td>\n",
       "      <td>https://www.instagram.com/p/B-fGFzRAzZY/</td>\n",
       "      <td>What an eye-opening conversation! I spoke with...</td>\n",
       "      <td>1088.0</td>\n",
       "      <td>[Thank you for this!!! Please do more!!, 💕Love...</td>\n",
       "      <td>2020-04-02T16:57:55.000Z</td>\n",
       "    </tr>\n",
       "    <tr>\n",
       "      <th>4</th>\n",
       "      <td>4.0</td>\n",
       "      <td>https://www.instagram.com/p/B-dVChWgjTi/</td>\n",
       "      <td>Who is staying in with The Richardson’s? The m...</td>\n",
       "      <td>4499.0</td>\n",
       "      <td>[Ff, I literally made meatloaf with ritz crack...</td>\n",
       "      <td>2020-04-02T00:24:30.000Z</td>\n",
       "    </tr>\n",
       "    <tr>\n",
       "      <th>5</th>\n",
       "      <td>5.0</td>\n",
       "      <td>https://www.instagram.com/p/B-cn0d_gUuG/</td>\n",
       "      <td>Earlier this morning, I got to share some news...</td>\n",
       "      <td>1465.0</td>\n",
       "      <td>[👏🏼👏🏼👏🏼 Brilliant work of heART. ✨✨✨, Just fin...</td>\n",
       "      <td>2020-04-01T17:49:22.000Z</td>\n",
       "    </tr>\n",
       "    <tr>\n",
       "      <th>6</th>\n",
       "      <td>6.0</td>\n",
       "      <td>https://www.instagram.com/p/B-Z_eDtgblm/</td>\n",
       "      <td>In my first #ShineOnatHome conversation, I spo...</td>\n",
       "      <td>889.0</td>\n",
       "      <td>[@vtmomma1  @lizzyalbertini, @breearich ❤️, @l...</td>\n",
       "      <td>2020-03-31T17:26:57.000Z</td>\n",
       "    </tr>\n",
       "    <tr>\n",
       "      <th>7</th>\n",
       "      <td>7.0</td>\n",
       "      <td>https://www.instagram.com/p/B-Z2jxvAdT1/</td>\n",
       "      <td>Trying to make sense of how to work from home,...</td>\n",
       "      <td>5100.0</td>\n",
       "      <td>[Very valuable information. Thanks. 🌹, 🦋🦋🦋🦋, 😂...</td>\n",
       "      <td>2020-03-31T16:02:52.000Z</td>\n",
       "    </tr>\n",
       "    <tr>\n",
       "      <th>8</th>\n",
       "      <td>8.0</td>\n",
       "      <td>https://www.instagram.com/p/B-XSTOyAr0t/</td>\n",
       "      <td>In case of #LittleFiresEverywhere🔥A new episod...</td>\n",
       "      <td>1949.0</td>\n",
       "      <td>[Your show is a new favorite for so many reaso...</td>\n",
       "      <td>2020-03-30T16:05:08.000Z</td>\n",
       "    </tr>\n",
       "    <tr>\n",
       "      <th>9</th>\n",
       "      <td>9.0</td>\n",
       "      <td>https://www.instagram.com/p/B-SJnsaAJ94/</td>\n",
       "      <td>I think he's already sick of my cooking... 🍽 T...</td>\n",
       "      <td>5065.0</td>\n",
       "      <td>[@connieachurra, There's tons of recipes I kno...</td>\n",
       "      <td>2020-03-28T16:13:04.000Z</td>\n",
       "    </tr>\n",
       "    <tr>\n",
       "      <th>10</th>\n",
       "      <td>10.0</td>\n",
       "      <td>https://www.instagram.com/p/B-PodQJA1cE/</td>\n",
       "      <td>Love these photos from our cover of #EmmyMagaz...</td>\n",
       "      <td>2698.0</td>\n",
       "      <td>[When you walked in that restaurant 😩, Where c...</td>\n",
       "      <td>2020-03-27T16:44:49.000Z</td>\n",
       "    </tr>\n",
       "    <tr>\n",
       "      <th>11</th>\n",
       "      <td>11.0</td>\n",
       "      <td>https://www.instagram.com/p/B-NAj1JAfIU/</td>\n",
       "      <td>The Richardson's are reporting for duty! So fu...</td>\n",
       "      <td>1966.0</td>\n",
       "      <td>[would it hurt you to wear a decent pair of bo...</td>\n",
       "      <td>2020-03-26T16:17:42.000Z</td>\n",
       "    </tr>\n",
       "  </tbody>\n",
       "</table>\n",
       "</div>"
      ],
      "text/plain": [
       "    postid                                       url  \\\n",
       "0      0.0  https://www.instagram.com/p/B-pUOEeAscj/   \n",
       "1      1.0  https://www.instagram.com/p/B-kKRvOgAXn/   \n",
       "2      2.0  https://www.instagram.com/p/B-hmJqsgdop/   \n",
       "3      3.0  https://www.instagram.com/p/B-fGFzRAzZY/   \n",
       "4      4.0  https://www.instagram.com/p/B-dVChWgjTi/   \n",
       "5      5.0  https://www.instagram.com/p/B-cn0d_gUuG/   \n",
       "6      6.0  https://www.instagram.com/p/B-Z_eDtgblm/   \n",
       "7      7.0  https://www.instagram.com/p/B-Z2jxvAdT1/   \n",
       "8      8.0  https://www.instagram.com/p/B-XSTOyAr0t/   \n",
       "9      9.0  https://www.instagram.com/p/B-SJnsaAJ94/   \n",
       "10    10.0  https://www.instagram.com/p/B-PodQJA1cE/   \n",
       "11    11.0  https://www.instagram.com/p/B-NAj1JAfIU/   \n",
       "\n",
       "                                            posttitle  commentcnt  \\\n",
       "0   Calling all my fierce queens... let me hear yo...       321.0   \n",
       "1   Because when life gives you lemons... add some...      4361.0   \n",
       "2   How I've been starting my day... Love these da...      2161.0   \n",
       "3   What an eye-opening conversation! I spoke with...      1088.0   \n",
       "4   Who is staying in with The Richardson’s? The m...      4499.0   \n",
       "5   Earlier this morning, I got to share some news...      1465.0   \n",
       "6   In my first #ShineOnatHome conversation, I spo...       889.0   \n",
       "7   Trying to make sense of how to work from home,...      5100.0   \n",
       "8   In case of #LittleFiresEverywhere🔥A new episod...      1949.0   \n",
       "9   I think he's already sick of my cooking... 🍽 T...      5065.0   \n",
       "10  Love these photos from our cover of #EmmyMagaz...      2698.0   \n",
       "11  The Richardson's are reporting for duty! So fu...      1966.0   \n",
       "\n",
       "                                             comments  \\\n",
       "0   [👏, ❤️, What's up, Great boobs, Hi how are you...   \n",
       "1   [Great look and excellent southern afternoon c...   \n",
       "2   [💛💛💛💛, for all those who are struggling with i...   \n",
       "3   [Thank you for this!!! Please do more!!, 💕Love...   \n",
       "4   [Ff, I literally made meatloaf with ritz crack...   \n",
       "5   [👏🏼👏🏼👏🏼 Brilliant work of heART. ✨✨✨, Just fin...   \n",
       "6   [@vtmomma1  @lizzyalbertini, @breearich ❤️, @l...   \n",
       "7   [Very valuable information. Thanks. 🌹, 🦋🦋🦋🦋, 😂...   \n",
       "8   [Your show is a new favorite for so many reaso...   \n",
       "9   [@connieachurra, There's tons of recipes I kno...   \n",
       "10  [When you walked in that restaurant 😩, Where c...   \n",
       "11  [would it hurt you to wear a decent pair of bo...   \n",
       "\n",
       "                        date  \n",
       "0   2020-04-06T16:09:13.000Z  \n",
       "1   2020-04-04T16:05:09.000Z  \n",
       "2   2020-04-03T16:10:59.000Z  \n",
       "3   2020-04-02T16:57:55.000Z  \n",
       "4   2020-04-02T00:24:30.000Z  \n",
       "5   2020-04-01T17:49:22.000Z  \n",
       "6   2020-03-31T17:26:57.000Z  \n",
       "7   2020-03-31T16:02:52.000Z  \n",
       "8   2020-03-30T16:05:08.000Z  \n",
       "9   2020-03-28T16:13:04.000Z  \n",
       "10  2020-03-27T16:44:49.000Z  \n",
       "11  2020-03-26T16:17:42.000Z  "
      ]
     },
     "execution_count": 307,
     "metadata": {},
     "output_type": "execute_result"
    }
   ],
   "source": [
    "bookclub"
   ]
  },
  {
   "cell_type": "code",
   "execution_count": null,
   "metadata": {},
   "outputs": [],
   "source": [
    "\n",
    "#import requests\n",
    "#import json\n",
    " \n",
    "\n",
    "\n",
    "#session = requests.Session()\n",
    "\n",
    "#url = \"https://www.instagram.com/explore/tags/whimp/\"\n",
    "#def jprint(data_dict):\n",
    "#    print(json.dumps(data_dict,indent=4))\n",
    "    \n",
    "#def get_ig_page(url,session=None):\n",
    "#    print(url)\n",
    "#    session = session or requests.Session()\n",
    "#    r = session.get(url)\n",
    "#    r_code = r.status_code\n",
    "#    print(r_code)\n",
    "    \n",
    "#    if r_code == requests.codes.ok:\n",
    "#        return r\n",
    "#    else:\n",
    "#        return None\n",
    "#ig_data_dict = get_ig_page(url)\n",
    "#if ig_data_dict is not None:\n",
    "#    ig_data_dict = ig_data_dict.json()\n",
    "#    jprint(ig_data_dict)\n",
    "#else:\n",
    "#    print('Opps something went wrong')\n",
    "\n"
   ]
  }
 ],
 "metadata": {
  "kernelspec": {
   "display_name": "Python 3",
   "language": "python",
   "name": "python3"
  },
  "language_info": {
   "codemirror_mode": {
    "name": "ipython",
    "version": 3
   },
   "file_extension": ".py",
   "mimetype": "text/x-python",
   "name": "python",
   "nbconvert_exporter": "python",
   "pygments_lexer": "ipython3",
   "version": "3.7.1"
  }
 },
 "nbformat": 4,
 "nbformat_minor": 2
}
