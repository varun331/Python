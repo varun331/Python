{
 "cells": [
  {
   "cell_type": "code",
   "execution_count": 4,
   "metadata": {},
   "outputs": [],
   "source": [
    " good_data = pd.read_sql_query(\"\"\"\n",
    " select top 500000 * from \n",
    " InfobaseUSdemo \n",
    " \"\"\",con) "
   ]
  },
  {
   "cell_type": "code",
   "execution_count": 5,
   "metadata": {},
   "outputs": [
    {
     "data": {
      "text/html": [
       "<div>\n",
       "<style scoped>\n",
       "    .dataframe tbody tr th:only-of-type {\n",
       "        vertical-align: middle;\n",
       "    }\n",
       "\n",
       "    .dataframe tbody tr th {\n",
       "        vertical-align: top;\n",
       "    }\n",
       "\n",
       "    .dataframe thead th {\n",
       "        text-align: right;\n",
       "    }\n",
       "</style>\n",
       "<table border=\"1\" class=\"dataframe\">\n",
       "  <thead>\n",
       "    <tr style=\"text-align: right;\">\n",
       "      <th></th>\n",
       "      <th>seq_num</th>\n",
       "      <th>zip</th>\n",
       "      <th>one_percent_sample</th>\n",
       "      <th>adults with children - age range0-2</th>\n",
       "      <th>adults with children - age range3-5</th>\n",
       "      <th>adults with children - age range6-10</th>\n",
       "      <th>adults with children - age range11-15</th>\n",
       "      <th>adults with children - age range16-17</th>\n",
       "      <th>coo arabia</th>\n",
       "      <th>coo china</th>\n",
       "      <th>...</th>\n",
       "      <th>802360080</th>\n",
       "      <th>802360105</th>\n",
       "      <th>802360119</th>\n",
       "      <th>802360123</th>\n",
       "      <th>802360162</th>\n",
       "      <th>802360195</th>\n",
       "      <th>802360254</th>\n",
       "      <th>802360264</th>\n",
       "      <th>802360267</th>\n",
       "      <th>802360285</th>\n",
       "    </tr>\n",
       "  </thead>\n",
       "  <tbody>\n",
       "    <tr>\n",
       "      <th>0</th>\n",
       "      <td>1207588</td>\n",
       "      <td>15644</td>\n",
       "      <td>1</td>\n",
       "      <td></td>\n",
       "      <td></td>\n",
       "      <td></td>\n",
       "      <td></td>\n",
       "      <td></td>\n",
       "      <td></td>\n",
       "      <td></td>\n",
       "      <td>...</td>\n",
       "      <td></td>\n",
       "      <td></td>\n",
       "      <td></td>\n",
       "      <td></td>\n",
       "      <td></td>\n",
       "      <td></td>\n",
       "      <td></td>\n",
       "      <td></td>\n",
       "      <td></td>\n",
       "      <td></td>\n",
       "    </tr>\n",
       "    <tr>\n",
       "      <th>1</th>\n",
       "      <td>1089915</td>\n",
       "      <td>28625</td>\n",
       "      <td>1</td>\n",
       "      <td></td>\n",
       "      <td></td>\n",
       "      <td></td>\n",
       "      <td></td>\n",
       "      <td></td>\n",
       "      <td></td>\n",
       "      <td></td>\n",
       "      <td>...</td>\n",
       "      <td></td>\n",
       "      <td></td>\n",
       "      <td></td>\n",
       "      <td></td>\n",
       "      <td></td>\n",
       "      <td></td>\n",
       "      <td></td>\n",
       "      <td></td>\n",
       "      <td></td>\n",
       "      <td></td>\n",
       "    </tr>\n",
       "    <tr>\n",
       "      <th>2</th>\n",
       "      <td>1805033</td>\n",
       "      <td>73055</td>\n",
       "      <td>1</td>\n",
       "      <td></td>\n",
       "      <td>1</td>\n",
       "      <td></td>\n",
       "      <td></td>\n",
       "      <td></td>\n",
       "      <td></td>\n",
       "      <td></td>\n",
       "      <td>...</td>\n",
       "      <td></td>\n",
       "      <td></td>\n",
       "      <td></td>\n",
       "      <td></td>\n",
       "      <td></td>\n",
       "      <td></td>\n",
       "      <td></td>\n",
       "      <td></td>\n",
       "      <td></td>\n",
       "      <td></td>\n",
       "    </tr>\n",
       "    <tr>\n",
       "      <th>3</th>\n",
       "      <td>484658</td>\n",
       "      <td>44137</td>\n",
       "      <td>1</td>\n",
       "      <td></td>\n",
       "      <td></td>\n",
       "      <td></td>\n",
       "      <td></td>\n",
       "      <td></td>\n",
       "      <td></td>\n",
       "      <td></td>\n",
       "      <td>...</td>\n",
       "      <td></td>\n",
       "      <td></td>\n",
       "      <td></td>\n",
       "      <td></td>\n",
       "      <td></td>\n",
       "      <td></td>\n",
       "      <td></td>\n",
       "      <td></td>\n",
       "      <td></td>\n",
       "      <td></td>\n",
       "    </tr>\n",
       "    <tr>\n",
       "      <th>4</th>\n",
       "      <td>1207589</td>\n",
       "      <td>15644</td>\n",
       "      <td>1</td>\n",
       "      <td></td>\n",
       "      <td></td>\n",
       "      <td></td>\n",
       "      <td></td>\n",
       "      <td></td>\n",
       "      <td></td>\n",
       "      <td></td>\n",
       "      <td>...</td>\n",
       "      <td></td>\n",
       "      <td></td>\n",
       "      <td></td>\n",
       "      <td></td>\n",
       "      <td></td>\n",
       "      <td></td>\n",
       "      <td></td>\n",
       "      <td></td>\n",
       "      <td></td>\n",
       "      <td></td>\n",
       "    </tr>\n",
       "  </tbody>\n",
       "</table>\n",
       "<p>5 rows × 359 columns</p>\n",
       "</div>"
      ],
      "text/plain": [
       "   seq_num    zip one_percent_sample adults with children - age range0-2  \\\n",
       "0  1207588  15644                  1                                       \n",
       "1  1089915  28625                  1                                       \n",
       "2  1805033  73055                  1                                       \n",
       "3   484658  44137                  1                                       \n",
       "4  1207589  15644                  1                                       \n",
       "\n",
       "  adults with children - age range3-5 adults with children - age range6-10  \\\n",
       "0                                                                            \n",
       "1                                                                            \n",
       "2                                   1                                        \n",
       "3                                                                            \n",
       "4                                                                            \n",
       "\n",
       "  adults with children - age range11-15 adults with children - age range16-17  \\\n",
       "0                                                                               \n",
       "1                                                                               \n",
       "2                                                                               \n",
       "3                                                                               \n",
       "4                                                                               \n",
       "\n",
       "  coo arabia coo china  ... 802360080 802360105 802360119 802360123 802360162  \\\n",
       "0                       ...                                                     \n",
       "1                       ...                                                     \n",
       "2                       ...                                                     \n",
       "3                       ...                                                     \n",
       "4                       ...                                                     \n",
       "\n",
       "  802360195 802360254 802360264 802360267 802360285  \n",
       "0                                                    \n",
       "1                                                    \n",
       "2                                                    \n",
       "3                                                    \n",
       "4                                                    \n",
       "\n",
       "[5 rows x 359 columns]"
      ]
     },
     "execution_count": 5,
     "metadata": {},
     "output_type": "execute_result"
    }
   ],
   "source": [
    "good_data.head()"
   ]
  },
  {
   "cell_type": "code",
   "execution_count": 6,
   "metadata": {},
   "outputs": [],
   "source": [
    "good_data1= good_data.apply(pd.to_numeric,errors='coerce')"
   ]
  },
  {
   "cell_type": "code",
   "execution_count": 7,
   "metadata": {},
   "outputs": [],
   "source": [
    "good_data1 = good_data1.fillna(0)"
   ]
  },
  {
   "cell_type": "code",
   "execution_count": 8,
   "metadata": {},
   "outputs": [
    {
     "data": {
      "text/plain": [
       "[]"
      ]
     },
     "execution_count": 8,
     "metadata": {},
     "output_type": "execute_result"
    }
   ],
   "source": [
    " [ col  for col, dt in good_data1.dtypes.items() if dt == object]"
   ]
  },
  {
   "cell_type": "code",
   "execution_count": 9,
   "metadata": {},
   "outputs": [],
   "source": [
    "good_data1 = good_data1.drop(['seq_num','zip'],axis=1)"
   ]
  },
  {
   "cell_type": "code",
   "execution_count": null,
   "metadata": {},
   "outputs": [],
   "source": [
    "from sklearn.decomposition import PCA\n",
    "import prince\n",
    "import visuals as vs\n",
    "\n",
    "#pca = PCA(n_components=6).fit(good_data1)\n",
    "mca = prince.MCA().fit(good_data1)\n",
    "mca = mca.transform(good_data1)\n",
    "\n",
    "# Generate PCA results plot\n",
    "#pca_results = vs.pca_results(good_data1, mca)\n",
    "#print pca_results['Explained Variance'].cumsum()\n"
   ]
  },
  {
   "cell_type": "code",
   "execution_count": 14,
   "metadata": {},
   "outputs": [
    {
     "name": "stdout",
     "output_type": "stream",
     "text": [
      "               0         1\n",
      "0      -0.068107 -0.294508\n",
      "1       0.011150 -0.077371\n",
      "2      -0.157636 -0.115423\n",
      "3      -0.197633  0.129405\n",
      "4       0.073252 -0.136110\n",
      "...          ...       ...\n",
      "499995 -0.208833  0.097232\n",
      "499996  0.114934 -0.175555\n",
      "499997  0.086323 -0.043534\n",
      "499998 -0.253789 -0.136080\n",
      "499999 -0.177773  0.072653\n",
      "\n",
      "[500000 rows x 2 columns]\n"
     ]
    }
   ],
   "source": [
    "print(mca)"
   ]
  },
  {
   "cell_type": "code",
   "execution_count": 109,
   "metadata": {},
   "outputs": [],
   "source": [
    "sqlcolumns = pd.read_csv('SQLcolumns.csv')"
   ]
  },
  {
   "cell_type": "code",
   "execution_count": 110,
   "metadata": {},
   "outputs": [],
   "source": [
    "sqlcolumns.head()\n",
    "test = sqlcolumns[sqlcolumns['SourceID'] == 'PAF Std - AP Score 1']"
   ]
  },
  {
   "cell_type": "code",
   "execution_count": 125,
   "metadata": {},
   "outputs": [],
   "source": [
    "#k = {'name1':test.apply(lambda x:x)} \n",
    "    \n",
    "#k = pd.DataFrame(test.iloc[:,1],index=None)\n",
    "    \n",
    "#test['SQL columns'].apply(lambda x:x,axis=1)"
   ]
  },
  {
   "cell_type": "code",
   "execution_count": null,
   "metadata": {},
   "outputs": [],
   "source": [
    "[300449299],\t[300622299],\t[300451299],\t[300454299],\t[300036299],\t[300576299],\t[300121299],\t[300038299],\t[300456299],\t[300633299],\t[300567299],\t[300432201],\t[300206299],\t[300149299],\t[300636299],\t[300050299],\t[300561299],\t[300572299],\t[300484299],\t[300531299],\t[300598299],\t[300139299],\t[300032299],\t[300656299],\t[300620299],\t[300035299],\t[300495299],\t[300457299],\t[300499299],\t[300254299],\t[300520299],\t[300047299],\t[300041299],\t[300072299],\t[300597299],\t[300452299],\t[300609299],\t[300306299],\t[300543201],\t[300538299],\t[300440299],\t[300129207],\t[300623299],\t[300228299],\t[300565299],\t[300469299],\t[300401299],\t[300529299],\t[300297299],\t[300190299],\t[300494299]\n",
    "\n"
   ]
  },
  {
   "cell_type": "code",
   "execution_count": 102,
   "metadata": {},
   "outputs": [],
   "source": []
  },
  {
   "cell_type": "code",
   "execution_count": 60,
   "metadata": {},
   "outputs": [],
   "source": [
    " sql_dynamic_parms = dict(\n",
    "   \n",
    "  name1= '[300635099],[300452099],[300531099],[300228099],[300622099]',\n",
    "  table = 'APScore0' \n",
    " )\n",
    "sql= '''\n",
    "\n",
    "\n",
    "SELECT {name1} \n",
    "\n",
    "FROM \n",
    "    {table}\n",
    "    \n",
    "\n",
    "\n",
    "'''.format(**sql_dynamic_parms)\n",
    "\n",
    "params = dict(\n",
    "  #date_from=pd.to_datetime('2017-01-01'),\n",
    "  #date_to=pd.to_datetime('2017-12-01'),\n",
    "  #report_suite=111\n",
    "   \n",
    ")\n",
    "\n",
    "df = pd.read_sql(sql, con)\n",
    "\n",
    "\n",
    "\n"
   ]
  },
  {
   "cell_type": "code",
   "execution_count": null,
   "metadata": {},
   "outputs": [],
   "source": [
    "\n",
    "#train_data = pd.read_sql_query(\"\"\"\n",
    "# Select x\n",
    "# From APScore1 \n",
    " \n",
    "# \"\"\",con) "
   ]
  },
  {
   "cell_type": "code",
   "execution_count": 54,
   "metadata": {},
   "outputs": [
    {
     "data": {
      "text/plain": [
       "2487249"
      ]
     },
     "execution_count": 54,
     "metadata": {},
     "output_type": "execute_result"
    }
   ],
   "source": [
    "len(df)"
   ]
  },
  {
   "cell_type": "code",
   "execution_count": 4,
   "metadata": {},
   "outputs": [],
   "source": [
    "#train_data1 =train_data.drop(['seq_num','zip','one_percent_sample'],axis=1)"
   ]
  },
  {
   "cell_type": "code",
   "execution_count": 34,
   "metadata": {},
   "outputs": [],
   "source": [
    "#len(train_data1)"
   ]
  },
  {
   "cell_type": "code",
   "execution_count": 61,
   "metadata": {},
   "outputs": [
    {
     "name": "stderr",
     "output_type": "stream",
     "text": [
      "  0%|                                                                           | 5/1087064 [00:00<26:41:04, 11.32it/s]\n"
     ]
    }
   ],
   "source": [
    "import tqdm\n",
    "test_ap = {}\n",
    "\n",
    "for column in  tqdm.tqdm (df):\n",
    "    #seriesObj1=train_data1.apply(lambda x: True if x[column]==1 else False, axis=1)\n",
    "    #rownum = len(seriesObj1[seriesObj1 == True].index)\n",
    "    rownum = len(df[df[column] == '1'])\n",
    "    #if rownum >=85000:\n",
    "    test_ap[column] = rownum\n",
    "\n"
   ]
  },
  {
   "cell_type": "code",
   "execution_count": 63,
   "metadata": {},
   "outputs": [
    {
     "data": {
      "text/html": [
       "<div>\n",
       "<style scoped>\n",
       "    .dataframe tbody tr th:only-of-type {\n",
       "        vertical-align: middle;\n",
       "    }\n",
       "\n",
       "    .dataframe tbody tr th {\n",
       "        vertical-align: top;\n",
       "    }\n",
       "\n",
       "    .dataframe thead th {\n",
       "        text-align: right;\n",
       "    }\n",
       "</style>\n",
       "<table border=\"1\" class=\"dataframe\">\n",
       "  <thead>\n",
       "    <tr style=\"text-align: right;\">\n",
       "      <th></th>\n",
       "      <th>0</th>\n",
       "    </tr>\n",
       "  </thead>\n",
       "  <tbody>\n",
       "    <tr>\n",
       "      <th>300635099</th>\n",
       "      <td>589752</td>\n",
       "    </tr>\n",
       "    <tr>\n",
       "      <th>300452099</th>\n",
       "      <td>475479</td>\n",
       "    </tr>\n",
       "    <tr>\n",
       "      <th>300531099</th>\n",
       "      <td>475880</td>\n",
       "    </tr>\n",
       "    <tr>\n",
       "      <th>300228099</th>\n",
       "      <td>515213</td>\n",
       "    </tr>\n",
       "    <tr>\n",
       "      <th>300622099</th>\n",
       "      <td>340615</td>\n",
       "    </tr>\n",
       "  </tbody>\n",
       "</table>\n",
       "</div>"
      ],
      "text/plain": [
       "                0\n",
       "300635099  589752\n",
       "300452099  475479\n",
       "300531099  475880\n",
       "300228099  515213\n",
       "300622099  340615"
      ]
     },
     "execution_count": 63,
     "metadata": {},
     "output_type": "execute_result"
    }
   ],
   "source": [
    "test_ap"
   ]
  },
  {
   "cell_type": "code",
   "execution_count": 62,
   "metadata": {},
   "outputs": [],
   "source": [
    "test_ap =  pd.DataFrame.from_dict(test_ap,orient='index')"
   ]
  },
  {
   "cell_type": "code",
   "execution_count": 30,
   "metadata": {},
   "outputs": [
    {
     "data": {
      "text/plain": [
       "88619"
      ]
     },
     "execution_count": 30,
     "metadata": {},
     "output_type": "execute_result"
    }
   ],
   "source": [
    "#seriesObj1=train_data1.apply(lambda x: True if x['300026699']=='1' else False, axis=1)\n",
    "#len(seriesObj1[seriesObj1 == True].index)"
   ]
  },
  {
   "cell_type": "code",
   "execution_count": 57,
   "metadata": {},
   "outputs": [],
   "source": [
    "final = final.append(test_ap)"
   ]
  },
  {
   "cell_type": "code",
   "execution_count": null,
   "metadata": {},
   "outputs": [],
   "source": [
    "test_ap0.append(test_ap1)"
   ]
  },
  {
   "cell_type": "code",
   "execution_count": 59,
   "metadata": {},
   "outputs": [],
   "source": [
    "final.to_csv('final.csv')"
   ]
  }
 ],
 "metadata": {
  "kernelspec": {
   "display_name": "Python 2",
   "language": "python",
   "name": "python2"
  },
  "language_info": {
   "codemirror_mode": {
    "name": "ipython",
    "version": 2
   },
   "file_extension": ".py",
   "mimetype": "text/x-python",
   "name": "python",
   "nbconvert_exporter": "python",
   "pygments_lexer": "ipython2",
   "version": "2.7.15"
  }
 },
 "nbformat": 4,
 "nbformat_minor": 2
}
