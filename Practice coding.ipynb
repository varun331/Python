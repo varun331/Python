{
 "cells": [
  {
   "cell_type": "code",
   "execution_count": 8,
   "metadata": {},
   "outputs": [
    {
     "name": "stdout",
     "output_type": "stream",
     "text": [
      "1\n"
     ]
    }
   ],
   "source": [
    "import math\n",
    "import os\n",
    "import random\n",
    "import re\n",
    "import sys\n",
    "\n",
    "#cs = [int(i) for i in input().strip().split(',')]  # coin denominations\n",
    "#n = int(input())  # value for which we shall make change\n",
    "cs = [1,6]\n",
    "n = int(4)\n",
    "ways = [0 for i in range(n + 1)]\n",
    "ways[0] = 1\n",
    "\n",
    "for i in range(len(cs)):\n",
    "    for j in range(cs[i], n + 1):\n",
    "        ways[j] += ways[j - cs[i]]\n",
    "\n",
    "print(ways[n])\n",
    "   "
   ]
  },
  {
   "cell_type": "code",
   "execution_count": 53,
   "metadata": {},
   "outputs": [],
   "source": [
    "def simpleArraySum(ar):\n",
    "    v1=[0]\n",
    "    for i in range(len(ar)):\n",
    "        v1[0]+=ar[i]\n",
    "        \n",
    "    return v1[0]"
   ]
  },
  {
   "cell_type": "code",
   "execution_count": 54,
   "metadata": {},
   "outputs": [
    {
     "data": {
      "text/plain": [
       "163"
      ]
     },
     "execution_count": 54,
     "metadata": {},
     "output_type": "execute_result"
    }
   ],
   "source": [
    "simpleArraySum([1,32,30,100])\n"
   ]
  },
  {
   "cell_type": "code",
   "execution_count": 52,
   "metadata": {},
   "outputs": [],
   "source": [
    "\n",
    "def sockMerchant(n, ar):\n",
    "    "
   ]
  },
  {
   "cell_type": "code",
   "execution_count": 226,
   "metadata": {},
   "outputs": [],
   "source": [
    "\n",
    "check = []\n",
    "n = len(arr)\n"
   ]
  },
  {
   "cell_type": "code",
   "execution_count": 248,
   "metadata": {},
   "outputs": [],
   "source": [
    "def sockMerchant(n, ar):\n",
    "    check=0\n",
    "    arr=ar\n",
    "    k=len(ar)\n",
    "    for i in range (k):\n",
    "        for j in range(i+1,len(arr)):\n",
    "            if j<len(arr) and arr[i] == arr[j]:\n",
    "                check+=1\n",
    "                arr.pop(j)\n",
    "                arr.pop(i)\n",
    "    for i in range (k):\n",
    "        for j in range(i+1,len(arr)):\n",
    "            if j<len(arr) and arr[i] == arr[j]:\n",
    "                check+=1\n",
    "                arr.pop(j)\n",
    "                arr.pop(i)\n",
    "    print check\n",
    "    \n",
    "\n",
    "\n",
    "    "
   ]
  },
  {
   "cell_type": "code",
   "execution_count": 257,
   "metadata": {},
   "outputs": [],
   "source": [
    "ar = [1,1,3,1,2,1,3,3,3,3]"
   ]
  },
  {
   "cell_type": "code",
   "execution_count": 293,
   "metadata": {},
   "outputs": [],
   "source": [
    "ar = [1,2,1,2,1,3,2]"
   ]
  },
  {
   "cell_type": "code",
   "execution_count": 234,
   "metadata": {},
   "outputs": [
    {
     "name": "stdout",
     "output_type": "stream",
     "text": [
      "3\n"
     ]
    }
   ],
   "source": [
    "#prev = None\n",
    "#count = 0\n",
    "#for x in ar:\n",
    "#    if prev is None:\n",
    "#        prev = x\n",
    "#    else:\n",
    "#        if prev == x:\n",
    "#            count += 1\n",
    "#            prev = None\n",
    "#        else:\n",
    "#            prev = x\n",
    "#print count"
   ]
  },
  {
   "cell_type": "code",
   "execution_count": 258,
   "metadata": {},
   "outputs": [
    {
     "name": "stdout",
     "output_type": "stream",
     "text": [
      "4\n"
     ]
    }
   ],
   "source": [
    " sockMerchant(100, ar)"
   ]
  },
  {
   "cell_type": "code",
   "execution_count": 289,
   "metadata": {},
   "outputs": [
    {
     "name": "stdout",
     "output_type": "stream",
     "text": [
      "[1, 1, 3, 1, 2, 1, 3, 3, 3, 3]\n"
     ]
    }
   ],
   "source": [
    "from collections import Counter\n",
    "ar = [1,1,3,1,2,1,3,3,3,3]\n",
    "c = Counter(ar)\n",
    "print ar"
   ]
  },
  {
   "cell_type": "code",
   "execution_count": 294,
   "metadata": {},
   "outputs": [
    {
     "name": "stdout",
     "output_type": "stream",
     "text": [
      "2\n"
     ]
    }
   ],
   "source": [
    "b = {}\n",
    "for x in ar:\n",
    "    if b.has_key(x):\n",
    "        b[x] += 1;\n",
    "    else:\n",
    "        b[x] = 1\n",
    "        \n",
    "ans = 0\n",
    "for x in b:\n",
    "    ans += b[x] / 2\n",
    "print ans"
   ]
  },
  {
   "cell_type": "code",
   "execution_count": 343,
   "metadata": {},
   "outputs": [
    {
     "name": "stdout",
     "output_type": "stream",
     "text": [
      "1\n"
     ]
    }
   ],
   "source": [
    "s=['U','U','U','U','D','D','D','D','D','D']\n",
    "l=0\n",
    "v=0\n",
    "\n",
    "\n",
    "for i in range(len(s)):\n",
    "    if l==0 and s[i]=='D':\n",
    "        v+=1\n",
    "    if s[i]=='U':\n",
    "        l+=1\n",
    "    else:\n",
    "        l-=1\n",
    "print v\n",
    "        "
   ]
  },
  {
   "cell_type": "code",
   "execution_count": 344,
   "metadata": {},
   "outputs": [
    {
     "data": {
      "text/plain": [
       "-2"
      ]
     },
     "execution_count": 344,
     "metadata": {},
     "output_type": "execute_result"
    }
   ],
   "source": [
    "l"
   ]
  },
  {
   "cell_type": "code",
   "execution_count": 332,
   "metadata": {},
   "outputs": [
    {
     "data": {
      "text/plain": [
       "[1, -1, 1, 1, -1, -1, -1, -1, 1, 1]"
      ]
     },
     "execution_count": 332,
     "metadata": {},
     "output_type": "execute_result"
    }
   ],
   "source": [
    "s"
   ]
  },
  {
   "cell_type": "code",
   "execution_count": 334,
   "metadata": {},
   "outputs": [
    {
     "data": {
      "text/plain": [
       "1"
      ]
     },
     "execution_count": 334,
     "metadata": {},
     "output_type": "execute_result"
    }
   ],
   "source": [
    "x"
   ]
  },
  {
   "cell_type": "code",
   "execution_count": null,
   "metadata": {},
   "outputs": [],
   "source": []
  },
  {
   "cell_type": "code",
   "execution_count": null,
   "metadata": {},
   "outputs": [],
   "source": []
  }
 ],
 "metadata": {
  "kernelspec": {
   "display_name": "Python 2",
   "language": "python",
   "name": "python2"
  },
  "language_info": {
   "codemirror_mode": {
    "name": "ipython",
    "version": 2
   },
   "file_extension": ".py",
   "mimetype": "text/x-python",
   "name": "python",
   "nbconvert_exporter": "python",
   "pygments_lexer": "ipython2",
   "version": "2.7.15"
  }
 },
 "nbformat": 4,
 "nbformat_minor": 2
}
