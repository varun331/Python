{
 "cells": [
  {
   "cell_type": "code",
   "execution_count": 414,
   "metadata": {},
   "outputs": [
    {
     "name": "stdout",
     "output_type": "stream",
     "text": [
      "[{'Date': '01/01/2019',\n",
      "  'Dish': 'Pav bhaji',\n",
      "  'Is it a rice only dish': 1,\n",
      "  'Paneer availble or not': '',\n",
      "  'Row': 2,\n",
      "  'Score': 3.0},\n",
      " {'Date': '01/01/2019',\n",
      "  'Dish': 'dabeli',\n",
      "  'Is it a rice only dish': 0,\n",
      "  'Paneer availble or not': '',\n",
      "  'Row': 3,\n",
      "  'Score': 4.0},\n",
      " {'Date': '01/01/2019',\n",
      "  'Dish': 'laksa',\n",
      "  'Is it a rice only dish': 1,\n",
      "  'Paneer availble or not': '',\n",
      "  'Row': 4,\n",
      "  'Score': 5.0},\n",
      " {'Date': '01/01/2019',\n",
      "  'Dish': 'Gujarati dal',\n",
      "  'Is it a rice only dish': 1,\n",
      "  'Paneer availble or not': '',\n",
      "  'Row': 5,\n",
      "  'Score': 3.0},\n",
      " {'Date': '01/01/2019',\n",
      "  'Dish': '4 daal mix',\n",
      "  'Is it a rice only dish': 1,\n",
      "  'Paneer availble or not': '',\n",
      "  'Row': 6,\n",
      "  'Score': 3.0},\n",
      " {'Date': '01/01/2019',\n",
      "  'Dish': 'lasooni palak dal',\n",
      "  'Is it a rice only dish': 0,\n",
      "  'Paneer availble or not': '',\n",
      "  'Row': 7,\n",
      "  'Score': 3.0},\n",
      " {'Date': '01/01/2019',\n",
      "  'Dish': 'amti ',\n",
      "  'Is it a rice only dish': 1,\n",
      "  'Paneer availble or not': '',\n",
      "  'Row': 8,\n",
      "  'Score': 4.0},\n",
      " {'Date': '01/01/2019',\n",
      "  'Dish': 'sindhi kadi',\n",
      "  'Is it a rice only dish': 1,\n",
      "  'Paneer availble or not': '',\n",
      "  'Row': 10,\n",
      "  'Score': 4.0},\n",
      " {'Date': '01/01/2019',\n",
      "  'Dish': 'dahi kadi with pakoda',\n",
      "  'Is it a rice only dish': 1,\n",
      "  'Paneer availble or not': '',\n",
      "  'Row': 11,\n",
      "  'Score': 3.5},\n",
      " {'Date': '01/01/2019',\n",
      "  'Dish': 'veg biryani',\n",
      "  'Is it a rice only dish': 1,\n",
      "  'Paneer availble or not': '',\n",
      "  'Row': 18,\n",
      "  'Score': 3.0},\n",
      " {'Date': '01/01/2019',\n",
      "  'Dish': 'veg Korma',\n",
      "  'Is it a rice only dish': 1,\n",
      "  'Paneer availble or not': '',\n",
      "  'Row': 19,\n",
      "  'Score': 3.0},\n",
      " {'Date': '01/01/2019',\n",
      "  'Dish': 'gobi Manchurian',\n",
      "  'Is it a rice only dish': 1,\n",
      "  'Paneer availble or not': '',\n",
      "  'Row': 22,\n",
      "  'Score': 3.0},\n",
      " {'Date': '01/01/2019',\n",
      "  'Dish': 'saag ',\n",
      "  'Is it a rice only dish': 1,\n",
      "  'Paneer availble or not': '',\n",
      "  'Row': 23,\n",
      "  'Score': 3.0},\n",
      " {'Date': '01/01/2019',\n",
      "  'Dish': 'batata nu shaak ',\n",
      "  'Is it a rice only dish': 0,\n",
      "  'Paneer availble or not': '',\n",
      "  'Row': 25,\n",
      "  'Score': 3.5},\n",
      " {'Date': '01/01/2019',\n",
      "  'Dish': 'lobia ',\n",
      "  'Is it a rice only dish': 1,\n",
      "  'Paneer availble or not': '',\n",
      "  'Row': 26,\n",
      "  'Score': 3.0},\n",
      " {'Date': '01/01/2019',\n",
      "  'Dish': 'rajma ',\n",
      "  'Is it a rice only dish': 1,\n",
      "  'Paneer availble or not': '',\n",
      "  'Row': 27,\n",
      "  'Score': 4.0},\n",
      " {'Date': '01/01/2019',\n",
      "  'Dish': 'jalapeno bean corn cheese',\n",
      "  'Is it a rice only dish': 1,\n",
      "  'Paneer availble or not': '',\n",
      "  'Row': 28,\n",
      "  'Score': 5.0},\n",
      " {'Date': '01/01/2019',\n",
      "  'Dish': 'kala channa ',\n",
      "  'Is it a rice only dish': 1,\n",
      "  'Paneer availble or not': '',\n",
      "  'Row': 29,\n",
      "  'Score': 3.5},\n",
      " {'Date': '01/01/2019',\n",
      "  'Dish': 'aloo beans coconut oil',\n",
      "  'Is it a rice only dish': 1,\n",
      "  'Paneer availble or not': '',\n",
      "  'Row': 31,\n",
      "  'Score': 3.0},\n",
      " {'Date': '01/01/2019',\n",
      "  'Dish': 'aloo capsicum',\n",
      "  'Is it a rice only dish': 1,\n",
      "  'Paneer availble or not': '',\n",
      "  'Row': 32,\n",
      "  'Score': 3.0},\n",
      " {'Date': '01/01/2019',\n",
      "  'Dish': 'brinjal bharta',\n",
      "  'Is it a rice only dish': 1,\n",
      "  'Paneer availble or not': '',\n",
      "  'Row': 33,\n",
      "  'Score': 3.0},\n",
      " {'Date': '01/01/2019',\n",
      "  'Dish': 'mirchi ka salan ',\n",
      "  'Is it a rice only dish': 0,\n",
      "  'Paneer availble or not': '',\n",
      "  'Row': 34,\n",
      "  'Score': 3.5},\n",
      " {'Date': '01/01/2019',\n",
      "  'Dish': 'corn bharta',\n",
      "  'Is it a rice only dish': 1,\n",
      "  'Paneer availble or not': '',\n",
      "  'Row': 36,\n",
      "  'Score': 2.0},\n",
      " {'Date': '01/01/2019',\n",
      "  'Dish': 'spicy Bombay potato',\n",
      "  'Is it a rice only dish': 1,\n",
      "  'Paneer availble or not': '',\n",
      "  'Row': 37,\n",
      "  'Score': 3.5},\n",
      " {'Date': '01/01/2019',\n",
      "  'Dish': 'broccoli red pepper sauce',\n",
      "  'Is it a rice only dish': 1,\n",
      "  'Paneer availble or not': '',\n",
      "  'Row': 38,\n",
      "  'Score': 2.0}]\n"
     ]
    }
   ],
   "source": [
    "#pip install gspread oauth2client\n",
    "\n",
    "import gspread\n",
    "from oauth2client.service_account import ServiceAccountCredentials\n",
    "from pprint import pprint\n",
    "import json, ast\n",
    "\n",
    "\n",
    "\n",
    "scope = [\"https://spreadsheets.google.com/feeds\",'https://www.googleapis.com/auth/spreadsheets',\"https://www.googleapis.com/auth/drive.file\",\"https://www.googleapis.com/auth/drive\"]\n",
    "\n",
    "creds = ServiceAccountCredentials.from_json_keyfile_name(\"creds.json\", scope)\n",
    "client = gspread.authorize(creds)\n",
    "sheet = client.open(\"recipeselector\").sheet1  # Open the spreadhseet\n",
    "raw = sheet.get_all_records()\n",
    "data = ast.literal_eval(json.dumps(raw))\n",
    "pprint (data)\n",
    "\n",
    "#row = sheet.row_values(3)  # Get a specific row, rows in google sheet start with 1 as the index value\n",
    "#col = sheet.col_values(3)  # Get a specific column\n",
    "#cell = sheet.cell(1,2).value  # Get the value of a specific cell\n",
    "\n",
    "#insertRow = [\"hello\", 5, \"red\", \"blue\"]\n",
    "#sheet.add_rows(insertRow, 4)  # Insert the list as a row at index 4\n",
    "\n",
    "#sheet.update_cell(2,2, \"CHANGED\")  # Update one cell\n",
    "\n",
    "#numRows = sheet.row_count  # Get the number of rows in the sheet"
   ]
  },
  {
   "cell_type": "code",
   "execution_count": 431,
   "metadata": {},
   "outputs": [
    {
     "name": "stdout",
     "output_type": "stream",
     "text": [
      "{'jalapeno bean corn cheese': 5.0, 'mirchi ka salan ': 3.5, 'Gujarati dal': 3.0, 'rajma ': 4.0}\n"
     ]
    }
   ],
   "source": [
    "import numpy as ny\n",
    "import pandas as pd \n",
    "\n",
    "test = pd.DataFrame.from_dict(data)\n",
    "a =  test.copy()\n",
    "\n",
    "b = {}\n",
    "list = a.index.values.tolist()\n",
    "\n",
    "\n",
    "for i in range(len(a)):\n",
    "    r = random.choice(list)\n",
    "    number = (a.loc[[r]].Score)+sum(b.values())\n",
    "    if (len(b)<2): \n",
    "        b.update(dict(zip(a.loc[[r]].Dish, a.loc[[r]].Score)))\n",
    "    elif (number>=12).bool() & (number<=18).bool() :\n",
    "        b.update(dict(zip(a.loc[[r]].Dish, a.loc[[r]].Score)))\n",
    "    list.remove(r)\n",
    "print b"
   ]
  },
  {
   "cell_type": "code",
   "execution_count": 422,
   "metadata": {},
   "outputs": [
    {
     "data": {
      "text/plain": [
       "'veg biryani'"
      ]
     },
     "execution_count": 422,
     "metadata": {},
     "output_type": "execute_result"
    }
   ],
   "source": [
    "b.keys()[0]"
   ]
  },
  {
   "cell_type": "code",
   "execution_count": 427,
   "metadata": {},
   "outputs": [
    {
     "data": {
      "text/plain": [
       "[]"
      ]
     },
     "execution_count": 427,
     "metadata": {},
     "output_type": "execute_result"
    }
   ],
   "source": [
    "list"
   ]
  },
  {
   "cell_type": "code",
   "execution_count": 380,
   "metadata": {},
   "outputs": [
    {
     "data": {
      "text/plain": [
       "{3L: 4.0, 4L: 5.0, 5L: 5.0, 7L: 3.0}"
      ]
     },
     "execution_count": 380,
     "metadata": {},
     "output_type": "execute_result"
    }
   ],
   "source": [
    "#pick radom variable, check for condition if date is within 2 week, if yes then if the item + sum of all items in an array is between 15 to 20, if yes then append.  If not then pop from original array\n",
    "b"
   ]
  },
  {
   "cell_type": "code",
   "execution_count": 138,
   "metadata": {},
   "outputs": [],
   "source": [
    "#from datetime import datetime\n",
    "#import random\n",
    "\n",
    "#datetime_object = datetime.strptime(data[0]['Date'], '%m/%d/%Y')\n",
    "#datetime_object.date()\n",
    "\n",
    "#list = test.index.values\n",
    "#test.iloc[[random.choice(list)]]\n",
    "#test.iloc[[4]]\n",
    "#test1 = test.copy()\n",
    "#test1.drop(0,axis=0,inplace=True)\n"
   ]
  },
  {
   "cell_type": "code",
   "execution_count": 228,
   "metadata": {},
   "outputs": [],
   "source": []
  },
  {
   "cell_type": "code",
   "execution_count": null,
   "metadata": {},
   "outputs": [],
   "source": []
  }
 ],
 "metadata": {
  "kernelspec": {
   "display_name": "Python 2",
   "language": "python",
   "name": "python2"
  },
  "language_info": {
   "codemirror_mode": {
    "name": "ipython",
    "version": 2
   },
   "file_extension": ".py",
   "mimetype": "text/x-python",
   "name": "python",
   "nbconvert_exporter": "python",
   "pygments_lexer": "ipython2",
   "version": "2.7.15"
  }
 },
 "nbformat": 4,
 "nbformat_minor": 2
}
