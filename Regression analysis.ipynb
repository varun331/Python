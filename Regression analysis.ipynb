{
 "cells": [
  {
   "cell_type": "code",
   "execution_count": 1,
   "metadata": {},
   "outputs": [],
   "source": [
    "import pandas as pd\n",
    "import numpy as nm"
   ]
  },
  {
   "cell_type": "code",
   "execution_count": 50,
   "metadata": {},
   "outputs": [],
   "source": [
    "\n",
    "\n",
    "fd = (r\"C:\\Users\\varunn\\Documents\\Confluence attachments\\MarketingSci Regression analysis\\Regressionanaly.xlsx\")\n",
    "\n",
    "data = pd.read_excel(fd,sheet_name='Raw')"
   ]
  },
  {
   "cell_type": "code",
   "execution_count": null,
   "metadata": {},
   "outputs": [],
   "source": [
    "data"
   ]
  },
  {
   "cell_type": "code",
   "execution_count": null,
   "metadata": {},
   "outputs": [],
   "source": [
    "#data = data.rename(columns={'Unnamed: 0': 'month','Unnamed: 1':'year','Unnamed: 2':'unemprate','Unnamed: 3': 's&p500','Unnamed: 4':'pmi','Unnamed: 5':'pmi1'})\n",
    "data = data.drop([23,24])\n",
    "data"
   ]
  },
  {
   "cell_type": "code",
   "execution_count": 56,
   "metadata": {},
   "outputs": [
    {
     "data": {
      "text/html": [
       "<table class=\"simpletable\">\n",
       "<caption>OLS Regression Results</caption>\n",
       "<tr>\n",
       "  <th>Dep. Variable:</th>       <td>PMI1change</td>    <th>  R-squared (uncentered):</th>      <td>   0.202</td>\n",
       "</tr>\n",
       "<tr>\n",
       "  <th>Model:</th>                   <td>OLS</td>       <th>  Adj. R-squared (uncentered):</th> <td>   0.118</td>\n",
       "</tr>\n",
       "<tr>\n",
       "  <th>Method:</th>             <td>Least Squares</td>  <th>  F-statistic:       </th>          <td>   2.406</td>\n",
       "</tr>\n",
       "<tr>\n",
       "  <th>Date:</th>             <td>Wed, 01 Apr 2020</td> <th>  Prob (F-statistic):</th>           <td> 0.117</td> \n",
       "</tr>\n",
       "<tr>\n",
       "  <th>Time:</th>                 <td>01:48:56</td>     <th>  Log-Likelihood:    </th>          <td> -48.935</td>\n",
       "</tr>\n",
       "<tr>\n",
       "  <th>No. Observations:</th>      <td>    21</td>      <th>  AIC:               </th>          <td>   101.9</td>\n",
       "</tr>\n",
       "<tr>\n",
       "  <th>Df Residuals:</th>          <td>    19</td>      <th>  BIC:               </th>          <td>   104.0</td>\n",
       "</tr>\n",
       "<tr>\n",
       "  <th>Df Model:</th>              <td>     2</td>      <th>                     </th>              <td> </td>   \n",
       "</tr>\n",
       "<tr>\n",
       "  <th>Covariance Type:</th>      <td>nonrobust</td>    <th>                     </th>              <td> </td>   \n",
       "</tr>\n",
       "</table>\n",
       "<table class=\"simpletable\">\n",
       "<tr>\n",
       "              <td></td>                <th>coef</th>     <th>std err</th>      <th>t</th>      <th>P>|t|</th>  <th>[0.025</th>    <th>0.975]</th>  \n",
       "</tr>\n",
       "<tr>\n",
       "  <th>Unemployment rate change</th> <td>    0.0883</td> <td>    0.172</td> <td>    0.512</td> <td> 0.614</td> <td>   -0.273</td> <td>    0.449</td>\n",
       "</tr>\n",
       "<tr>\n",
       "  <th>S&P500change</th>             <td>   -0.2836</td> <td>    0.135</td> <td>   -2.096</td> <td> 0.050</td> <td>   -0.567</td> <td>   -0.000</td>\n",
       "</tr>\n",
       "</table>\n",
       "<table class=\"simpletable\">\n",
       "<tr>\n",
       "  <th>Omnibus:</th>       <td> 1.405</td> <th>  Durbin-Watson:     </th> <td>   1.771</td>\n",
       "</tr>\n",
       "<tr>\n",
       "  <th>Prob(Omnibus):</th> <td> 0.495</td> <th>  Jarque-Bera (JB):  </th> <td>   0.978</td>\n",
       "</tr>\n",
       "<tr>\n",
       "  <th>Skew:</th>          <td>-0.516</td> <th>  Prob(JB):          </th> <td>   0.613</td>\n",
       "</tr>\n",
       "<tr>\n",
       "  <th>Kurtosis:</th>      <td> 2.767</td> <th>  Cond. No.          </th> <td>    1.28</td>\n",
       "</tr>\n",
       "</table><br/><br/>Warnings:<br/>[1] Standard Errors assume that the covariance matrix of the errors is correctly specified."
      ],
      "text/plain": [
       "<class 'statsmodels.iolib.summary.Summary'>\n",
       "\"\"\"\n",
       "                                 OLS Regression Results                                \n",
       "=======================================================================================\n",
       "Dep. Variable:             PMI1change   R-squared (uncentered):                   0.202\n",
       "Model:                            OLS   Adj. R-squared (uncentered):              0.118\n",
       "Method:                 Least Squares   F-statistic:                              2.406\n",
       "Date:                Wed, 01 Apr 2020   Prob (F-statistic):                       0.117\n",
       "Time:                        01:48:56   Log-Likelihood:                         -48.935\n",
       "No. Observations:                  21   AIC:                                      101.9\n",
       "Df Residuals:                      19   BIC:                                      104.0\n",
       "Df Model:                           2                                                  \n",
       "Covariance Type:            nonrobust                                                  \n",
       "============================================================================================\n",
       "                               coef    std err          t      P>|t|      [0.025      0.975]\n",
       "--------------------------------------------------------------------------------------------\n",
       "Unemployment rate change     0.0883      0.172      0.512      0.614      -0.273       0.449\n",
       "S&P500change                -0.2836      0.135     -2.096      0.050      -0.567      -0.000\n",
       "==============================================================================\n",
       "Omnibus:                        1.405   Durbin-Watson:                   1.771\n",
       "Prob(Omnibus):                  0.495   Jarque-Bera (JB):                0.978\n",
       "Skew:                          -0.516   Prob(JB):                        0.613\n",
       "Kurtosis:                       2.767   Cond. No.                         1.28\n",
       "==============================================================================\n",
       "\n",
       "Warnings:\n",
       "[1] Standard Errors assume that the covariance matrix of the errors is correctly specified.\n",
       "\"\"\""
      ]
     },
     "execution_count": 56,
     "metadata": {},
     "output_type": "execute_result"
    }
   ],
   "source": [
    "from sklearn.linear_model import LinearRegression\n",
    "import statsmodels.api as sm\n",
    "model = LinearRegression()\n",
    "x = data[['Unemployment rate change','S&P500change']]\n",
    "y = data['PMI1change']\n",
    "model = sm.OLS(y.astype(float),x.astype(float)).fit()\n",
    "predictions = model.predict(x)\n",
    "model.summary()\n",
    "#model.fit(x,y)\n",
    "#model.score(x, y)\n",
    "#coeff_df = pd.DataFrame(model.coef_, x.columns, columns=['Coefficient'])\n",
    "#print(coeff_df)\n"
   ]
  },
  {
   "cell_type": "code",
   "execution_count": 45,
   "metadata": {},
   "outputs": [
    {
     "data": {
      "text/html": [
       "<div>\n",
       "<style scoped>\n",
       "    .dataframe tbody tr th:only-of-type {\n",
       "        vertical-align: middle;\n",
       "    }\n",
       "\n",
       "    .dataframe tbody tr th {\n",
       "        vertical-align: top;\n",
       "    }\n",
       "\n",
       "    .dataframe thead th {\n",
       "        text-align: right;\n",
       "    }\n",
       "</style>\n",
       "<table border=\"1\" class=\"dataframe\">\n",
       "  <thead>\n",
       "    <tr style=\"text-align: right;\">\n",
       "      <th></th>\n",
       "      <th>n</th>\n",
       "      <th>r</th>\n",
       "      <th>CI95%</th>\n",
       "      <th>r2</th>\n",
       "      <th>adj_r2</th>\n",
       "      <th>p-val</th>\n",
       "      <th>BF10</th>\n",
       "      <th>power</th>\n",
       "    </tr>\n",
       "  </thead>\n",
       "  <tbody>\n",
       "    <tr>\n",
       "      <th>pearson</th>\n",
       "      <td>21</td>\n",
       "      <td>0.079</td>\n",
       "      <td>[-0.37, 0.49]</td>\n",
       "      <td>0.006</td>\n",
       "      <td>-0.104</td>\n",
       "      <td>0.735021</td>\n",
       "      <td>0.285</td>\n",
       "      <td>0.063</td>\n",
       "    </tr>\n",
       "  </tbody>\n",
       "</table>\n",
       "</div>"
      ],
      "text/plain": [
       "          n      r          CI95%     r2  adj_r2     p-val   BF10  power\n",
       "pearson  21  0.079  [-0.37, 0.49]  0.006  -0.104  0.735021  0.285  0.063"
      ]
     },
     "execution_count": 45,
     "metadata": {},
     "output_type": "execute_result"
    }
   ],
   "source": [
    "import pingouin as pg\n",
    "pg.corr(x=data['unemprate'].astype(float), y=data['pmi1'].astype(float))"
   ]
  },
  {
   "cell_type": "code",
   "execution_count": 2,
   "metadata": {},
   "outputs": [],
   "source": [
    "fd = (r\"C:\\Users\\varunn\\Documents\\Confluence attachments\\MarketingSci Regression analysis\\finaladspend.xlsx\")\n",
    "\n",
    "adspend = pd.read_excel(fd,sheet_name=0)"
   ]
  },
  {
   "cell_type": "code",
   "execution_count": 13,
   "metadata": {},
   "outputs": [],
   "source": [
    "adspend.columns = adspend.iloc[2,:]\n",
    "adspend = adspend.drop([0,1,2,26,27,28,29,30,31])\n",
    "adspend = adspend.T\n",
    "adspend.columns = adspend.iloc[0,:]\n",
    "adspend['date'] = adspend.index\n",
    "#adspend = adspend.rename(columns={'data':'date'})\n",
    "s = pd.Series (range(0,124))\n",
    "adspend = adspend.set_index(s)\n",
    "adspend = adspend.drop([0,1,123])"
   ]
  },
  {
   "cell_type": "code",
   "execution_count": 101,
   "metadata": {},
   "outputs": [
    {
     "data": {
      "text/html": [
       "<div>\n",
       "<style scoped>\n",
       "    .dataframe tbody tr th:only-of-type {\n",
       "        vertical-align: middle;\n",
       "    }\n",
       "\n",
       "    .dataframe tbody tr th {\n",
       "        vertical-align: top;\n",
       "    }\n",
       "\n",
       "    .dataframe thead th {\n",
       "        text-align: right;\n",
       "    }\n",
       "</style>\n",
       "<table border=\"1\" class=\"dataframe\">\n",
       "  <thead>\n",
       "    <tr style=\"text-align: right;\">\n",
       "      <th>MEDIA</th>\n",
       "      <th>Network TV</th>\n",
       "      <th>Spot TV</th>\n",
       "      <th>SLN TV</th>\n",
       "      <th>Cable TV</th>\n",
       "      <th>Syndication</th>\n",
       "      <th>Magazines</th>\n",
       "      <th>Sunday Mags</th>\n",
       "      <th>Local Mags</th>\n",
       "      <th>Hispanic Mags</th>\n",
       "      <th>B-to-B</th>\n",
       "      <th>...</th>\n",
       "      <th>Natl Spot Radio</th>\n",
       "      <th>Cinema</th>\n",
       "      <th>Int Display</th>\n",
       "      <th>Mobile Web (from Apr 2015)</th>\n",
       "      <th>Mobile App</th>\n",
       "      <th>Online Video</th>\n",
       "      <th>Int Search</th>\n",
       "      <th>Outdoor</th>\n",
       "      <th>GRAND TOTAL</th>\n",
       "      <th>date</th>\n",
       "    </tr>\n",
       "  </thead>\n",
       "  <tbody>\n",
       "    <tr>\n",
       "      <th>2</th>\n",
       "      <td>2.28347e+06</td>\n",
       "      <td>1.24577e+06</td>\n",
       "      <td>269588</td>\n",
       "      <td>1.37921e+06</td>\n",
       "      <td>322826</td>\n",
       "      <td>983026</td>\n",
       "      <td>144734</td>\n",
       "      <td>25333</td>\n",
       "      <td>2716.6</td>\n",
       "      <td>219550</td>\n",
       "      <td>...</td>\n",
       "      <td>128090</td>\n",
       "      <td>NaN</td>\n",
       "      <td>845339</td>\n",
       "      <td>NaN</td>\n",
       "      <td>NaN</td>\n",
       "      <td>NaN</td>\n",
       "      <td>799087</td>\n",
       "      <td>235192</td>\n",
       "      <td>1.03813e+07</td>\n",
       "      <td>JAN 2010  DOLS (000)</td>\n",
       "    </tr>\n",
       "    <tr>\n",
       "      <th>3</th>\n",
       "      <td>2.36469e+06</td>\n",
       "      <td>1383482</td>\n",
       "      <td>257865</td>\n",
       "      <td>1.42221e+06</td>\n",
       "      <td>297896</td>\n",
       "      <td>1268429</td>\n",
       "      <td>149801</td>\n",
       "      <td>22538.3</td>\n",
       "      <td>4000.1</td>\n",
       "      <td>212876</td>\n",
       "      <td>...</td>\n",
       "      <td>125561</td>\n",
       "      <td>NaN</td>\n",
       "      <td>776373</td>\n",
       "      <td>NaN</td>\n",
       "      <td>NaN</td>\n",
       "      <td>NaN</td>\n",
       "      <td>986038</td>\n",
       "      <td>245273</td>\n",
       "      <td>1.08833e+07</td>\n",
       "      <td>FEB 2010  DOLS (000)</td>\n",
       "    </tr>\n",
       "    <tr>\n",
       "      <th>4</th>\n",
       "      <td>2.21044e+06</td>\n",
       "      <td>1.279e+06</td>\n",
       "      <td>271739</td>\n",
       "      <td>1.74982e+06</td>\n",
       "      <td>333494</td>\n",
       "      <td>1795624</td>\n",
       "      <td>158630</td>\n",
       "      <td>29534.6</td>\n",
       "      <td>5001.4</td>\n",
       "      <td>252365</td>\n",
       "      <td>...</td>\n",
       "      <td>143108</td>\n",
       "      <td>NaN</td>\n",
       "      <td>842919</td>\n",
       "      <td>NaN</td>\n",
       "      <td>NaN</td>\n",
       "      <td>NaN</td>\n",
       "      <td>1.07688e+06</td>\n",
       "      <td>303951</td>\n",
       "      <td>1.2046e+07</td>\n",
       "      <td>MAR 2010  DOLS (000)</td>\n",
       "    </tr>\n",
       "    <tr>\n",
       "      <th>5</th>\n",
       "      <td>2.05252e+06</td>\n",
       "      <td>1.24023e+06</td>\n",
       "      <td>296231</td>\n",
       "      <td>1.65587e+06</td>\n",
       "      <td>321717</td>\n",
       "      <td>1.67493e+06</td>\n",
       "      <td>143872</td>\n",
       "      <td>25856.7</td>\n",
       "      <td>7324.4</td>\n",
       "      <td>238711</td>\n",
       "      <td>...</td>\n",
       "      <td>136540</td>\n",
       "      <td>NaN</td>\n",
       "      <td>860618</td>\n",
       "      <td>NaN</td>\n",
       "      <td>NaN</td>\n",
       "      <td>NaN</td>\n",
       "      <td>1.10341e+06</td>\n",
       "      <td>288086</td>\n",
       "      <td>1.15211e+07</td>\n",
       "      <td>APR 2010  DOLS (000)</td>\n",
       "    </tr>\n",
       "    <tr>\n",
       "      <th>6</th>\n",
       "      <td>2.12256e+06</td>\n",
       "      <td>1.26149e+06</td>\n",
       "      <td>318923</td>\n",
       "      <td>1.82016e+06</td>\n",
       "      <td>331236</td>\n",
       "      <td>1.86156e+06</td>\n",
       "      <td>191584</td>\n",
       "      <td>27941.4</td>\n",
       "      <td>5583.6</td>\n",
       "      <td>247840</td>\n",
       "      <td>...</td>\n",
       "      <td>198137</td>\n",
       "      <td>NaN</td>\n",
       "      <td>778196</td>\n",
       "      <td>NaN</td>\n",
       "      <td>NaN</td>\n",
       "      <td>NaN</td>\n",
       "      <td>1.14979e+06</td>\n",
       "      <td>329487</td>\n",
       "      <td>1.22633e+07</td>\n",
       "      <td>MAY 2010  DOLS (000)</td>\n",
       "    </tr>\n",
       "    <tr>\n",
       "      <th>...</th>\n",
       "      <td>...</td>\n",
       "      <td>...</td>\n",
       "      <td>...</td>\n",
       "      <td>...</td>\n",
       "      <td>...</td>\n",
       "      <td>...</td>\n",
       "      <td>...</td>\n",
       "      <td>...</td>\n",
       "      <td>...</td>\n",
       "      <td>...</td>\n",
       "      <td>...</td>\n",
       "      <td>...</td>\n",
       "      <td>...</td>\n",
       "      <td>...</td>\n",
       "      <td>...</td>\n",
       "      <td>...</td>\n",
       "      <td>...</td>\n",
       "      <td>...</td>\n",
       "      <td>...</td>\n",
       "      <td>...</td>\n",
       "      <td>...</td>\n",
       "    </tr>\n",
       "    <tr>\n",
       "      <th>118</th>\n",
       "      <td>1.64061e+06</td>\n",
       "      <td>1369233</td>\n",
       "      <td>167899</td>\n",
       "      <td>2.83438e+06</td>\n",
       "      <td>294630</td>\n",
       "      <td>1.15233e+06</td>\n",
       "      <td>70712.6</td>\n",
       "      <td>18126.4</td>\n",
       "      <td>458.4</td>\n",
       "      <td>121825</td>\n",
       "      <td>...</td>\n",
       "      <td>237395</td>\n",
       "      <td>29496.2</td>\n",
       "      <td>974335</td>\n",
       "      <td>710343</td>\n",
       "      <td>NaN</td>\n",
       "      <td>331341</td>\n",
       "      <td>2.06881e+06</td>\n",
       "      <td>529822</td>\n",
       "      <td>1.32907e+07</td>\n",
       "      <td>SEP 2019  DOLS (000)</td>\n",
       "    </tr>\n",
       "    <tr>\n",
       "      <th>119</th>\n",
       "      <td>2.08456e+06</td>\n",
       "      <td>1.5511e+06</td>\n",
       "      <td>171790</td>\n",
       "      <td>3.15122e+06</td>\n",
       "      <td>370949</td>\n",
       "      <td>910749</td>\n",
       "      <td>58041.2</td>\n",
       "      <td>18266.6</td>\n",
       "      <td>292.1</td>\n",
       "      <td>113616</td>\n",
       "      <td>...</td>\n",
       "      <td>174997</td>\n",
       "      <td>29930.3</td>\n",
       "      <td>966515</td>\n",
       "      <td>723114</td>\n",
       "      <td>NaN</td>\n",
       "      <td>340922</td>\n",
       "      <td>2.16827e+06</td>\n",
       "      <td>523692</td>\n",
       "      <td>1.40881e+07</td>\n",
       "      <td>OCT 2019  DOLS (000)</td>\n",
       "    </tr>\n",
       "    <tr>\n",
       "      <th>120</th>\n",
       "      <td>2.20438e+06</td>\n",
       "      <td>1.46474e+06</td>\n",
       "      <td>184814</td>\n",
       "      <td>3.05113e+06</td>\n",
       "      <td>367684</td>\n",
       "      <td>966158</td>\n",
       "      <td>62535.4</td>\n",
       "      <td>21224.7</td>\n",
       "      <td>735.4</td>\n",
       "      <td>117978</td>\n",
       "      <td>...</td>\n",
       "      <td>184052</td>\n",
       "      <td>81909</td>\n",
       "      <td>971260</td>\n",
       "      <td>724522</td>\n",
       "      <td>NaN</td>\n",
       "      <td>340848</td>\n",
       "      <td>2.23644e+06</td>\n",
       "      <td>508356</td>\n",
       "      <td>1.42375e+07</td>\n",
       "      <td>NOV 2019  DOLS (000)</td>\n",
       "    </tr>\n",
       "    <tr>\n",
       "      <th>121</th>\n",
       "      <td>1.89559e+06</td>\n",
       "      <td>1.49623e+06</td>\n",
       "      <td>187795</td>\n",
       "      <td>3.40002e+06</td>\n",
       "      <td>368815</td>\n",
       "      <td>952280</td>\n",
       "      <td>67712.7</td>\n",
       "      <td>18165.5</td>\n",
       "      <td>281.5</td>\n",
       "      <td>98050.3</td>\n",
       "      <td>...</td>\n",
       "      <td>222677</td>\n",
       "      <td>107270</td>\n",
       "      <td>1.03014e+06</td>\n",
       "      <td>721013</td>\n",
       "      <td>NaN</td>\n",
       "      <td>354485</td>\n",
       "      <td>2087907</td>\n",
       "      <td>477853</td>\n",
       "      <td>1.42068e+07</td>\n",
       "      <td>DEC 2019  DOLS (000)</td>\n",
       "    </tr>\n",
       "    <tr>\n",
       "      <th>122</th>\n",
       "      <td>1.83883e+06</td>\n",
       "      <td>1.28906e+06</td>\n",
       "      <td>152072</td>\n",
       "      <td>2.53302e+06</td>\n",
       "      <td>409632</td>\n",
       "      <td>539796</td>\n",
       "      <td>46762.3</td>\n",
       "      <td>16360.3</td>\n",
       "      <td>9</td>\n",
       "      <td>95698.9</td>\n",
       "      <td>...</td>\n",
       "      <td>111445</td>\n",
       "      <td>31555.1</td>\n",
       "      <td>1.07017e+06</td>\n",
       "      <td>774900</td>\n",
       "      <td>NaN</td>\n",
       "      <td>343590</td>\n",
       "      <td>1.62954e+06</td>\n",
       "      <td>395067</td>\n",
       "      <td>1.18495e+07</td>\n",
       "      <td>JAN 2020  DOLS (000)</td>\n",
       "    </tr>\n",
       "  </tbody>\n",
       "</table>\n",
       "<p>121 rows × 24 columns</p>\n",
       "</div>"
      ],
      "text/plain": [
       "MEDIA   Network TV      Spot TV  SLN TV     Cable TV Syndication    Magazines  \\\n",
       "2      2.28347e+06  1.24577e+06  269588  1.37921e+06      322826       983026   \n",
       "3      2.36469e+06      1383482  257865  1.42221e+06      297896      1268429   \n",
       "4      2.21044e+06    1.279e+06  271739  1.74982e+06      333494      1795624   \n",
       "5      2.05252e+06  1.24023e+06  296231  1.65587e+06      321717  1.67493e+06   \n",
       "6      2.12256e+06  1.26149e+06  318923  1.82016e+06      331236  1.86156e+06   \n",
       "..             ...          ...     ...          ...         ...          ...   \n",
       "118    1.64061e+06      1369233  167899  2.83438e+06      294630  1.15233e+06   \n",
       "119    2.08456e+06   1.5511e+06  171790  3.15122e+06      370949       910749   \n",
       "120    2.20438e+06  1.46474e+06  184814  3.05113e+06      367684       966158   \n",
       "121    1.89559e+06  1.49623e+06  187795  3.40002e+06      368815       952280   \n",
       "122    1.83883e+06  1.28906e+06  152072  2.53302e+06      409632       539796   \n",
       "\n",
       "MEDIA Sunday Mags Local Mags Hispanic Mags   B-to-B  ... Natl Spot Radio  \\\n",
       "2          144734      25333        2716.6   219550  ...          128090   \n",
       "3          149801    22538.3        4000.1   212876  ...          125561   \n",
       "4          158630    29534.6        5001.4   252365  ...          143108   \n",
       "5          143872    25856.7        7324.4   238711  ...          136540   \n",
       "6          191584    27941.4        5583.6   247840  ...          198137   \n",
       "..            ...        ...           ...      ...  ...             ...   \n",
       "118       70712.6    18126.4         458.4   121825  ...          237395   \n",
       "119       58041.2    18266.6         292.1   113616  ...          174997   \n",
       "120       62535.4    21224.7         735.4   117978  ...          184052   \n",
       "121       67712.7    18165.5         281.5  98050.3  ...          222677   \n",
       "122       46762.3    16360.3             9  95698.9  ...          111445   \n",
       "\n",
       "MEDIA   Cinema  Int Display Mobile Web (from Apr 2015) Mobile App  \\\n",
       "2          NaN       845339                        NaN        NaN   \n",
       "3          NaN       776373                        NaN        NaN   \n",
       "4          NaN       842919                        NaN        NaN   \n",
       "5          NaN       860618                        NaN        NaN   \n",
       "6          NaN       778196                        NaN        NaN   \n",
       "..         ...          ...                        ...        ...   \n",
       "118    29496.2       974335                     710343        NaN   \n",
       "119    29930.3       966515                     723114        NaN   \n",
       "120      81909       971260                     724522        NaN   \n",
       "121     107270  1.03014e+06                     721013        NaN   \n",
       "122    31555.1  1.07017e+06                     774900        NaN   \n",
       "\n",
       "MEDIA Online Video   Int Search Outdoor  GRAND TOTAL                  date  \n",
       "2              NaN       799087  235192  1.03813e+07  JAN 2010  DOLS (000)  \n",
       "3              NaN       986038  245273  1.08833e+07  FEB 2010  DOLS (000)  \n",
       "4              NaN  1.07688e+06  303951   1.2046e+07  MAR 2010  DOLS (000)  \n",
       "5              NaN  1.10341e+06  288086  1.15211e+07  APR 2010  DOLS (000)  \n",
       "6              NaN  1.14979e+06  329487  1.22633e+07  MAY 2010  DOLS (000)  \n",
       "..             ...          ...     ...          ...                   ...  \n",
       "118         331341  2.06881e+06  529822  1.32907e+07  SEP 2019  DOLS (000)  \n",
       "119         340922  2.16827e+06  523692  1.40881e+07  OCT 2019  DOLS (000)  \n",
       "120         340848  2.23644e+06  508356  1.42375e+07  NOV 2019  DOLS (000)  \n",
       "121         354485      2087907  477853  1.42068e+07  DEC 2019  DOLS (000)  \n",
       "122         343590  1.62954e+06  395067  1.18495e+07  JAN 2020  DOLS (000)  \n",
       "\n",
       "[121 rows x 24 columns]"
      ]
     },
     "execution_count": 101,
     "metadata": {},
     "output_type": "execute_result"
    }
   ],
   "source": []
  },
  {
   "cell_type": "code",
   "execution_count": 52,
   "metadata": {},
   "outputs": [],
   "source": [
    "columns = adspend.columns"
   ]
  },
  {
   "cell_type": "code",
   "execution_count": 88,
   "metadata": {},
   "outputs": [],
   "source": [
    "adspendchange = pd.DataFrame()\n",
    "\n",
    "for columns in adspend.columns:\n",
    "    if columns != 'date':\n",
    "        adspendchange[columns] =adspend[columns].pct_change()\n",
    "        adspendchange = adspendchange.fillna(0)\n",
    "    elif columns == 'date':\n",
    "        adspendchange['date'] = adspend['date']\n",
    "        \n",
    "s = pd.Series(range(0,121))\n",
    "adspendchange = adspendchange.set_index(s)  "
   ]
  },
  {
   "cell_type": "code",
   "execution_count": 90,
   "metadata": {},
   "outputs": [],
   "source": [
    "adspendchange['mmyy']  = pd.date_range('2010-1-1','2020-1-31', freq='MS').strftime(\"%Y-%b\").tolist()"
   ]
  },
  {
   "cell_type": "code",
   "execution_count": 96,
   "metadata": {},
   "outputs": [],
   "source": [
    "adspendchange = adspendchange.set_index('mmyy')"
   ]
  },
  {
   "cell_type": "code",
   "execution_count": 103,
   "metadata": {},
   "outputs": [
    {
     "data": {
      "text/plain": [
       "Text(0, 0.5, 'GRAND TOTAL')"
      ]
     },
     "execution_count": 103,
     "metadata": {},
     "output_type": "execute_result"
    },
    {
     "data": {
      "image/png": "[encoded data removed]",
      "text/plain": [
       "<Figure size 792x288 with 1 Axes>"
      ]
     },
     "metadata": {},
     "output_type": "display_data"
    }
   ],
   "source": [
    "import numpy as np\n",
    "import matplotlib.pyplot as plt\n",
    "import matplotlib.dates as mdates\n",
    "import seaborn as sns\n",
    "\n",
    "sns.set(rc={'figure.figsize':(11, 4)})\n",
    "adspendchange['GRAND TOTAL'].plot(linewidth=.5).set_ylabel('GRAND TOTAL')"
   ]
  },
  {
   "cell_type": "code",
   "execution_count": 104,
   "metadata": {},
   "outputs": [],
   "source": [
    "fd = (r\"C:\\Users\\varunn\\Documents\\Confluence attachments\\MarketingSci Regression analysis\\Regressionanaly.xlsx\")\n",
    "\n",
    "unemp = pd.read_excel(fd,sheet_name=1)"
   ]
  },
  {
   "cell_type": "code",
   "execution_count": 107,
   "metadata": {},
   "outputs": [],
   "source": [
    "unemp = unemp.drop(['Unnamed: 3',\n",
    "       'https://data.bls.gov/timeseries/LNS14000000', 'Unnamed: 5',\n",
    "       'Unnamed: 6', 'Unnamed: 7', 'Unnamed: 8', 'Unnamed: 9', 'Unnamed: 10',\n",
    "       'Unnamed: 11', 'Unnamed: 12'],axis=1)"
   ]
  },
  {
   "cell_type": "code",
   "execution_count": 111,
   "metadata": {},
   "outputs": [],
   "source": [
    "unempchange = pd.DataFrame()\n",
    "unempchange['ratechange'] = unemp['value'].pct_change()\n",
    "unempchange = unempchange.fillna(0)\n",
    "unempchange['mmyy']  = pd.date_range('2010-1-1','2020-2-29', freq='MS').strftime(\"%Y-%b\").tolist()\n",
    "unempchange = unempchange.set_index('mmyy')"
   ]
  },
  {
   "cell_type": "code",
   "execution_count": 120,
   "metadata": {},
   "outputs": [
    {
     "data": {
      "text/plain": [
       "Text(0, 0.5, 'ratechange')"
      ]
     },
     "execution_count": 120,
     "metadata": {},
     "output_type": "execute_result"
    },
    {
     "data": {
      "image/png": "[encoded data removed]",
      "text/plain": [
       "<Figure size 792x288 with 1 Axes>"
      ]
     },
     "metadata": {},
     "output_type": "display_data"
    }
   ],
   "source": [
    "sns.set(rc={'figure.figsize':(11, 4)})\n",
    "unempchange['ratechange'].plot(linewidth=.5).set_ylabel('ratechange')"
   ]
  },
  {
   "cell_type": "code",
   "execution_count": 126,
   "metadata": {},
   "outputs": [
    {
     "data": {
      "text/html": [
       "<div>\n",
       "<style scoped>\n",
       "    .dataframe tbody tr th:only-of-type {\n",
       "        vertical-align: middle;\n",
       "    }\n",
       "\n",
       "    .dataframe tbody tr th {\n",
       "        vertical-align: top;\n",
       "    }\n",
       "\n",
       "    .dataframe thead th {\n",
       "        text-align: right;\n",
       "    }\n",
       "</style>\n",
       "<table border=\"1\" class=\"dataframe\">\n",
       "  <thead>\n",
       "    <tr style=\"text-align: right;\">\n",
       "      <th></th>\n",
       "      <th>n</th>\n",
       "      <th>r</th>\n",
       "      <th>CI95%</th>\n",
       "      <th>r2</th>\n",
       "      <th>adj_r2</th>\n",
       "      <th>p-val</th>\n",
       "      <th>BF10</th>\n",
       "      <th>power</th>\n",
       "    </tr>\n",
       "  </thead>\n",
       "  <tbody>\n",
       "    <tr>\n",
       "      <th>pearson</th>\n",
       "      <td>121</td>\n",
       "      <td>-0.097</td>\n",
       "      <td>[-0.27, 0.08]</td>\n",
       "      <td>0.01</td>\n",
       "      <td>-0.007</td>\n",
       "      <td>0.287499</td>\n",
       "      <td>0.199</td>\n",
       "      <td>0.187</td>\n",
       "    </tr>\n",
       "  </tbody>\n",
       "</table>\n",
       "</div>"
      ],
      "text/plain": [
       "           n      r          CI95%    r2  adj_r2     p-val   BF10  power\n",
       "pearson  121 -0.097  [-0.27, 0.08]  0.01  -0.007  0.287499  0.199  0.187"
      ]
     },
     "execution_count": 126,
     "metadata": {},
     "output_type": "execute_result"
    }
   ],
   "source": [
    "import pingouin as pg\n",
    "pg.corr(x=unempchange['ratechange'].iloc[0:121], y=adspendchange['GRAND TOTAL'])"
   ]
  },
  {
   "cell_type": "code",
   "execution_count": 127,
   "metadata": {},
   "outputs": [],
   "source": [
    "fd = (r\"C:\\Users\\varunn\\Documents\\Confluence attachments\\MarketingSci Regression analysis\\Regressionanaly.xlsx\")\n",
    "\n",
    "snp = pd.read_excel(fd,sheet_name=0)"
   ]
  },
  {
   "cell_type": "code",
   "execution_count": 130,
   "metadata": {},
   "outputs": [],
   "source": [
    "snp = snp.drop(['Unnamed: 4',\n",
    "       'https://finance.yahoo.com/quote/%5EGSPC/history/'],axis=1)"
   ]
  },
  {
   "cell_type": "code",
   "execution_count": null,
   "metadata": {},
   "outputs": [],
   "source": [
    "snpchange = pd.DataFrame()\n",
    "snpchange['indexchange'] = snp['Close'].pct_change()\n",
    "snpchange = snpchange.fillna(0)\n",
    "snpchange['date'] = snp['Date']\n",
    "snpchange = snpchange.set_index('date')\n",
    "snpchange"
   ]
  },
  {
   "cell_type": "code",
   "execution_count": 140,
   "metadata": {},
   "outputs": [
    {
     "data": {
      "text/plain": [
       "Text(0, 0.5, 'indexratechange')"
      ]
     },
     "execution_count": 140,
     "metadata": {},
     "output_type": "execute_result"
    },
    {
     "data": {
      "image/png": "[encoded data removed]",
      "text/plain": [
       "<Figure size 792x288 with 1 Axes>"
      ]
     },
     "metadata": {},
     "output_type": "display_data"
    }
   ],
   "source": [
    "sns.set(rc={'figure.figsize':(11, 4)})\n",
    "snpchange['indexchange'].plot(linewidth=.5).set_ylabel('indexratechange')"
   ]
  },
  {
   "cell_type": "code",
   "execution_count": 142,
   "metadata": {},
   "outputs": [
    {
     "data": {
      "text/html": [
       "<div>\n",
       "<style scoped>\n",
       "    .dataframe tbody tr th:only-of-type {\n",
       "        vertical-align: middle;\n",
       "    }\n",
       "\n",
       "    .dataframe tbody tr th {\n",
       "        vertical-align: top;\n",
       "    }\n",
       "\n",
       "    .dataframe thead th {\n",
       "        text-align: right;\n",
       "    }\n",
       "</style>\n",
       "<table border=\"1\" class=\"dataframe\">\n",
       "  <thead>\n",
       "    <tr style=\"text-align: right;\">\n",
       "      <th></th>\n",
       "      <th>n</th>\n",
       "      <th>r</th>\n",
       "      <th>CI95%</th>\n",
       "      <th>r2</th>\n",
       "      <th>adj_r2</th>\n",
       "      <th>p-val</th>\n",
       "      <th>BF10</th>\n",
       "      <th>power</th>\n",
       "    </tr>\n",
       "  </thead>\n",
       "  <tbody>\n",
       "    <tr>\n",
       "      <th>pearson</th>\n",
       "      <td>121</td>\n",
       "      <td>-0.045</td>\n",
       "      <td>[-0.22, 0.13]</td>\n",
       "      <td>0.002</td>\n",
       "      <td>-0.015</td>\n",
       "      <td>0.626385</td>\n",
       "      <td>0.128</td>\n",
       "      <td>0.078</td>\n",
       "    </tr>\n",
       "  </tbody>\n",
       "</table>\n",
       "</div>"
      ],
      "text/plain": [
       "           n      r          CI95%     r2  adj_r2     p-val   BF10  power\n",
       "pearson  121 -0.045  [-0.22, 0.13]  0.002  -0.015  0.626385  0.128  0.078"
      ]
     },
     "execution_count": 142,
     "metadata": {},
     "output_type": "execute_result"
    }
   ],
   "source": [
    "import pingouin as pg\n",
    "pg.corr(x=snpchange['indexchange'].iloc[0:121], y=adspendchange['GRAND TOTAL'])"
   ]
  },
  {
   "cell_type": "code",
   "execution_count": 169,
   "metadata": {},
   "outputs": [],
   "source": [
    "fd = (r\"C:\\Users\\varunn\\Documents\\Confluence attachments\\MarketingSci Regression analysis\\phsi.xlsx\")\n",
    "\n",
    "phsi = pd.read_excel(fd,sheet_name=1)"
   ]
  },
  {
   "cell_type": "code",
   "execution_count": 170,
   "metadata": {},
   "outputs": [
    {
     "data": {
      "text/plain": [
       "Index(['Date', 'Index', 'Month', 'Year', 'Item', 'Unnamed: 5'], dtype='object')"
      ]
     },
     "execution_count": 170,
     "metadata": {},
     "output_type": "execute_result"
    }
   ],
   "source": [
    "phsi.columns"
   ]
  },
  {
   "cell_type": "code",
   "execution_count": 171,
   "metadata": {},
   "outputs": [],
   "source": [
    "phsi = phsi.drop(['Item', 'Unnamed: 5'],axis=1)\n",
    "phsi = phsi.drop([116,117])"
   ]
  },
  {
   "cell_type": "code",
   "execution_count": 172,
   "metadata": {},
   "outputs": [
    {
     "data": {
      "text/html": [
       "<div>\n",
       "<style scoped>\n",
       "    .dataframe tbody tr th:only-of-type {\n",
       "        vertical-align: middle;\n",
       "    }\n",
       "\n",
       "    .dataframe tbody tr th {\n",
       "        vertical-align: top;\n",
       "    }\n",
       "\n",
       "    .dataframe thead th {\n",
       "        text-align: right;\n",
       "    }\n",
       "</style>\n",
       "<table border=\"1\" class=\"dataframe\">\n",
       "  <thead>\n",
       "    <tr style=\"text-align: right;\">\n",
       "      <th></th>\n",
       "      <th>indexchange</th>\n",
       "    </tr>\n",
       "    <tr>\n",
       "      <th>date</th>\n",
       "      <th></th>\n",
       "    </tr>\n",
       "  </thead>\n",
       "  <tbody>\n",
       "    <tr>\n",
       "      <th>7/2010</th>\n",
       "      <td>0.000000</td>\n",
       "    </tr>\n",
       "    <tr>\n",
       "      <th>8/2010</th>\n",
       "      <td>0.049350</td>\n",
       "    </tr>\n",
       "    <tr>\n",
       "      <th>9/2010</th>\n",
       "      <td>-0.034877</td>\n",
       "    </tr>\n",
       "    <tr>\n",
       "      <th>10/2010</th>\n",
       "      <td>0.076303</td>\n",
       "    </tr>\n",
       "    <tr>\n",
       "      <th>11/2010</th>\n",
       "      <td>0.105639</td>\n",
       "    </tr>\n",
       "    <tr>\n",
       "      <th>...</th>\n",
       "      <td>...</td>\n",
       "    </tr>\n",
       "    <tr>\n",
       "      <th>10/2019</th>\n",
       "      <td>-0.012891</td>\n",
       "    </tr>\n",
       "    <tr>\n",
       "      <th>11/2019</th>\n",
       "      <td>0.012127</td>\n",
       "    </tr>\n",
       "    <tr>\n",
       "      <th>12/2019</th>\n",
       "      <td>-0.047005</td>\n",
       "    </tr>\n",
       "    <tr>\n",
       "      <th>1/2020</th>\n",
       "      <td>0.053191</td>\n",
       "    </tr>\n",
       "    <tr>\n",
       "      <th>2/2020</th>\n",
       "      <td>0.023875</td>\n",
       "    </tr>\n",
       "  </tbody>\n",
       "</table>\n",
       "<p>116 rows × 1 columns</p>\n",
       "</div>"
      ],
      "text/plain": [
       "         indexchange\n",
       "date                \n",
       "7/2010      0.000000\n",
       "8/2010      0.049350\n",
       "9/2010     -0.034877\n",
       "10/2010     0.076303\n",
       "11/2010     0.105639\n",
       "...              ...\n",
       "10/2019    -0.012891\n",
       "11/2019     0.012127\n",
       "12/2019    -0.047005\n",
       "1/2020      0.053191\n",
       "2/2020      0.023875\n",
       "\n",
       "[116 rows x 1 columns]"
      ]
     },
     "execution_count": 172,
     "metadata": {},
     "output_type": "execute_result"
    }
   ],
   "source": [
    "phsichange = pd.DataFrame()\n",
    "phsichange['indexchange'] = phsi['Index'].pct_change()\n",
    "phsichange = phsichange.fillna(0)\n",
    "phsichange['date'] = phsi['Date']\n",
    "phsichange = phsichange.set_index('date')\n",
    "phsichange"
   ]
  },
  {
   "cell_type": "code",
   "execution_count": 173,
   "metadata": {},
   "outputs": [
    {
     "data": {
      "text/plain": [
       "Text(0, 0.5, 'indexratechange')"
      ]
     },
     "execution_count": 173,
     "metadata": {},
     "output_type": "execute_result"
    },
    {
     "data": {
      "image/png": "[encoded data removed]",
      "text/plain": [
       "<Figure size 792x288 with 1 Axes>"
      ]
     },
     "metadata": {},
     "output_type": "display_data"
    }
   ],
   "source": [
    "sns.set(rc={'figure.figsize':(11, 4)})\n",
    "phsichange['indexchange'].plot(linewidth=.5).set_ylabel('indexratechange')"
   ]
  },
  {
   "cell_type": "code",
   "execution_count": 174,
   "metadata": {},
   "outputs": [
    {
     "data": {
      "text/html": [
       "<div>\n",
       "<style scoped>\n",
       "    .dataframe tbody tr th:only-of-type {\n",
       "        vertical-align: middle;\n",
       "    }\n",
       "\n",
       "    .dataframe tbody tr th {\n",
       "        vertical-align: top;\n",
       "    }\n",
       "\n",
       "    .dataframe thead th {\n",
       "        text-align: right;\n",
       "    }\n",
       "</style>\n",
       "<table border=\"1\" class=\"dataframe\">\n",
       "  <thead>\n",
       "    <tr style=\"text-align: right;\">\n",
       "      <th></th>\n",
       "      <th>n</th>\n",
       "      <th>r</th>\n",
       "      <th>CI95%</th>\n",
       "      <th>r2</th>\n",
       "      <th>adj_r2</th>\n",
       "      <th>p-val</th>\n",
       "      <th>BF10</th>\n",
       "      <th>power</th>\n",
       "    </tr>\n",
       "  </thead>\n",
       "  <tbody>\n",
       "    <tr>\n",
       "      <th>pearson</th>\n",
       "      <td>115</td>\n",
       "      <td>-0.002</td>\n",
       "      <td>[-0.18, 0.18]</td>\n",
       "      <td>0.0</td>\n",
       "      <td>-0.018</td>\n",
       "      <td>0.983731</td>\n",
       "      <td>0.117</td>\n",
       "      <td>0.05</td>\n",
       "    </tr>\n",
       "  </tbody>\n",
       "</table>\n",
       "</div>"
      ],
      "text/plain": [
       "           n      r          CI95%   r2  adj_r2     p-val   BF10  power\n",
       "pearson  115 -0.002  [-0.18, 0.18]  0.0  -0.018  0.983731  0.117   0.05"
      ]
     },
     "execution_count": 174,
     "metadata": {},
     "output_type": "execute_result"
    }
   ],
   "source": [
    "pg.corr(x=phsichange['indexchange'].iloc[0:115], y=adspendchange['GRAND TOTAL'].iloc[6:])"
   ]
  },
  {
   "cell_type": "code",
   "execution_count": 177,
   "metadata": {},
   "outputs": [],
   "source": [
    "fd = (r\"C:\\Users\\varunn\\Documents\\Confluence attachments\\MarketingSci Regression analysis\\manufaturing index.xlsx\")\n",
    "\n",
    "manu = pd.read_excel(fd,sheet_name=0)"
   ]
  },
  {
   "cell_type": "code",
   "execution_count": 181,
   "metadata": {},
   "outputs": [
    {
     "data": {
      "text/html": [
       "<div>\n",
       "<style scoped>\n",
       "    .dataframe tbody tr th:only-of-type {\n",
       "        vertical-align: middle;\n",
       "    }\n",
       "\n",
       "    .dataframe tbody tr th {\n",
       "        vertical-align: top;\n",
       "    }\n",
       "\n",
       "    .dataframe thead th {\n",
       "        text-align: right;\n",
       "    }\n",
       "</style>\n",
       "<table border=\"1\" class=\"dataframe\">\n",
       "  <thead>\n",
       "    <tr style=\"text-align: right;\">\n",
       "      <th></th>\n",
       "      <th>Date</th>\n",
       "      <th>Index</th>\n",
       "      <th>Month</th>\n",
       "      <th>Year</th>\n",
       "    </tr>\n",
       "  </thead>\n",
       "  <tbody>\n",
       "    <tr>\n",
       "      <th>0</th>\n",
       "      <td>1/2010</td>\n",
       "      <td>56.7</td>\n",
       "      <td>1.0</td>\n",
       "      <td>2010.0</td>\n",
       "    </tr>\n",
       "    <tr>\n",
       "      <th>1</th>\n",
       "      <td>2/2010</td>\n",
       "      <td>55.8</td>\n",
       "      <td>2.0</td>\n",
       "      <td>2010.0</td>\n",
       "    </tr>\n",
       "    <tr>\n",
       "      <th>2</th>\n",
       "      <td>3/2010</td>\n",
       "      <td>59.3</td>\n",
       "      <td>3.0</td>\n",
       "      <td>2010.0</td>\n",
       "    </tr>\n",
       "    <tr>\n",
       "      <th>3</th>\n",
       "      <td>4/2010</td>\n",
       "      <td>59.0</td>\n",
       "      <td>4.0</td>\n",
       "      <td>2010.0</td>\n",
       "    </tr>\n",
       "    <tr>\n",
       "      <th>4</th>\n",
       "      <td>5/2010</td>\n",
       "      <td>58.8</td>\n",
       "      <td>5.0</td>\n",
       "      <td>2010.0</td>\n",
       "    </tr>\n",
       "    <tr>\n",
       "      <th>...</th>\n",
       "      <td>...</td>\n",
       "      <td>...</td>\n",
       "      <td>...</td>\n",
       "      <td>...</td>\n",
       "    </tr>\n",
       "    <tr>\n",
       "      <th>118</th>\n",
       "      <td>11/2019</td>\n",
       "      <td>48.1</td>\n",
       "      <td>11.0</td>\n",
       "      <td>2019.0</td>\n",
       "    </tr>\n",
       "    <tr>\n",
       "      <th>119</th>\n",
       "      <td>12/2019</td>\n",
       "      <td>47.8</td>\n",
       "      <td>12.0</td>\n",
       "      <td>2019.0</td>\n",
       "    </tr>\n",
       "    <tr>\n",
       "      <th>120</th>\n",
       "      <td>1/2020</td>\n",
       "      <td>50.9</td>\n",
       "      <td>1.0</td>\n",
       "      <td>2020.0</td>\n",
       "    </tr>\n",
       "    <tr>\n",
       "      <th>121</th>\n",
       "      <td>2/2020</td>\n",
       "      <td>50.1</td>\n",
       "      <td>2.0</td>\n",
       "      <td>2020.0</td>\n",
       "    </tr>\n",
       "    <tr>\n",
       "      <th>122</th>\n",
       "      <td>3/2020</td>\n",
       "      <td>49.1</td>\n",
       "      <td>3.0</td>\n",
       "      <td>2020.0</td>\n",
       "    </tr>\n",
       "  </tbody>\n",
       "</table>\n",
       "<p>123 rows × 4 columns</p>\n",
       "</div>"
      ],
      "text/plain": [
       "        Date  Index  Month    Year\n",
       "0     1/2010   56.7    1.0  2010.0\n",
       "1     2/2010   55.8    2.0  2010.0\n",
       "2     3/2010   59.3    3.0  2010.0\n",
       "3     4/2010   59.0    4.0  2010.0\n",
       "4     5/2010   58.8    5.0  2010.0\n",
       "..       ...    ...    ...     ...\n",
       "118  11/2019   48.1   11.0  2019.0\n",
       "119  12/2019   47.8   12.0  2019.0\n",
       "120   1/2020   50.9    1.0  2020.0\n",
       "121   2/2020   50.1    2.0  2020.0\n",
       "122   3/2020   49.1    3.0  2020.0\n",
       "\n",
       "[123 rows x 4 columns]"
      ]
     },
     "execution_count": 181,
     "metadata": {},
     "output_type": "execute_result"
    }
   ],
   "source": [
    "manu = manu.drop(['Item'],axis=1)\n",
    "manu = manu.drop(123)\n",
    "manu"
   ]
  },
  {
   "cell_type": "code",
   "execution_count": 182,
   "metadata": {},
   "outputs": [
    {
     "data": {
      "text/html": [
       "<div>\n",
       "<style scoped>\n",
       "    .dataframe tbody tr th:only-of-type {\n",
       "        vertical-align: middle;\n",
       "    }\n",
       "\n",
       "    .dataframe tbody tr th {\n",
       "        vertical-align: top;\n",
       "    }\n",
       "\n",
       "    .dataframe thead th {\n",
       "        text-align: right;\n",
       "    }\n",
       "</style>\n",
       "<table border=\"1\" class=\"dataframe\">\n",
       "  <thead>\n",
       "    <tr style=\"text-align: right;\">\n",
       "      <th></th>\n",
       "      <th>indexchange</th>\n",
       "    </tr>\n",
       "    <tr>\n",
       "      <th>Date</th>\n",
       "      <th></th>\n",
       "    </tr>\n",
       "  </thead>\n",
       "  <tbody>\n",
       "    <tr>\n",
       "      <th>1/2010</th>\n",
       "      <td>0.000000</td>\n",
       "    </tr>\n",
       "    <tr>\n",
       "      <th>2/2010</th>\n",
       "      <td>-0.015873</td>\n",
       "    </tr>\n",
       "    <tr>\n",
       "      <th>3/2010</th>\n",
       "      <td>0.062724</td>\n",
       "    </tr>\n",
       "    <tr>\n",
       "      <th>4/2010</th>\n",
       "      <td>-0.005059</td>\n",
       "    </tr>\n",
       "    <tr>\n",
       "      <th>5/2010</th>\n",
       "      <td>-0.003390</td>\n",
       "    </tr>\n",
       "    <tr>\n",
       "      <th>...</th>\n",
       "      <td>...</td>\n",
       "    </tr>\n",
       "    <tr>\n",
       "      <th>11/2019</th>\n",
       "      <td>-0.004141</td>\n",
       "    </tr>\n",
       "    <tr>\n",
       "      <th>12/2019</th>\n",
       "      <td>-0.006237</td>\n",
       "    </tr>\n",
       "    <tr>\n",
       "      <th>1/2020</th>\n",
       "      <td>0.064854</td>\n",
       "    </tr>\n",
       "    <tr>\n",
       "      <th>2/2020</th>\n",
       "      <td>-0.015717</td>\n",
       "    </tr>\n",
       "    <tr>\n",
       "      <th>3/2020</th>\n",
       "      <td>-0.019960</td>\n",
       "    </tr>\n",
       "  </tbody>\n",
       "</table>\n",
       "<p>123 rows × 1 columns</p>\n",
       "</div>"
      ],
      "text/plain": [
       "         indexchange\n",
       "Date                \n",
       "1/2010      0.000000\n",
       "2/2010     -0.015873\n",
       "3/2010      0.062724\n",
       "4/2010     -0.005059\n",
       "5/2010     -0.003390\n",
       "...              ...\n",
       "11/2019    -0.004141\n",
       "12/2019    -0.006237\n",
       "1/2020      0.064854\n",
       "2/2020     -0.015717\n",
       "3/2020     -0.019960\n",
       "\n",
       "[123 rows x 1 columns]"
      ]
     },
     "execution_count": 182,
     "metadata": {},
     "output_type": "execute_result"
    }
   ],
   "source": [
    "manuchange = pd.DataFrame()\n",
    "manuchange['indexchange'] = manu['Index'].pct_change()\n",
    "manuchange = manuchange.set_index(manu['Date'])\n",
    "manuchange = manuchange.fillna(0)\n",
    "manuchange"
   ]
  },
  {
   "cell_type": "code",
   "execution_count": 183,
   "metadata": {},
   "outputs": [
    {
     "data": {
      "text/plain": [
       "Text(0, 0.5, 'indexratechange')"
      ]
     },
     "execution_count": 183,
     "metadata": {},
     "output_type": "execute_result"
    },
    {
     "data": {
      "image/png": "[encoded data removed]",
      "text/plain": [
       "<Figure size 792x288 with 1 Axes>"
      ]
     },
     "metadata": {},
     "output_type": "display_data"
    }
   ],
   "source": [
    "sns.set(rc={'figure.figsize':(11, 4)})\n",
    "manuchange['indexchange'].plot(linewidth=.5).set_ylabel('indexratechange')"
   ]
  },
  {
   "cell_type": "code",
   "execution_count": 185,
   "metadata": {},
   "outputs": [
    {
     "data": {
      "text/html": [
       "<div>\n",
       "<style scoped>\n",
       "    .dataframe tbody tr th:only-of-type {\n",
       "        vertical-align: middle;\n",
       "    }\n",
       "\n",
       "    .dataframe tbody tr th {\n",
       "        vertical-align: top;\n",
       "    }\n",
       "\n",
       "    .dataframe thead th {\n",
       "        text-align: right;\n",
       "    }\n",
       "</style>\n",
       "<table border=\"1\" class=\"dataframe\">\n",
       "  <thead>\n",
       "    <tr style=\"text-align: right;\">\n",
       "      <th></th>\n",
       "      <th>n</th>\n",
       "      <th>r</th>\n",
       "      <th>CI95%</th>\n",
       "      <th>r2</th>\n",
       "      <th>adj_r2</th>\n",
       "      <th>p-val</th>\n",
       "      <th>BF10</th>\n",
       "      <th>power</th>\n",
       "    </tr>\n",
       "  </thead>\n",
       "  <tbody>\n",
       "    <tr>\n",
       "      <th>pearson</th>\n",
       "      <td>121</td>\n",
       "      <td>-0.097</td>\n",
       "      <td>[-0.27, 0.08]</td>\n",
       "      <td>0.009</td>\n",
       "      <td>-0.007</td>\n",
       "      <td>0.291557</td>\n",
       "      <td>0.197</td>\n",
       "      <td>0.184</td>\n",
       "    </tr>\n",
       "  </tbody>\n",
       "</table>\n",
       "</div>"
      ],
      "text/plain": [
       "           n      r          CI95%     r2  adj_r2     p-val   BF10  power\n",
       "pearson  121 -0.097  [-0.27, 0.08]  0.009  -0.007  0.291557  0.197  0.184"
      ]
     },
     "execution_count": 185,
     "metadata": {},
     "output_type": "execute_result"
    }
   ],
   "source": [
    "import pingouin as pg\n",
    "pg.corr(x=manuchange['indexchange'].iloc[0:121], y=adspendchange['GRAND TOTAL'])"
   ]
  }
 ],
 "metadata": {
  "kernelspec": {
   "display_name": "Python 3",
   "language": "python",
   "name": "python3"
  },
  "language_info": {
   "codemirror_mode": {
    "name": "ipython",
    "version": 3
   },
   "file_extension": ".py",
   "mimetype": "text/x-python",
   "name": "python",
   "nbconvert_exporter": "python",
   "pygments_lexer": "ipython3",
   "version": "3.7.1"
  }
 },
 "nbformat": 4,
 "nbformat_minor": 4
}
