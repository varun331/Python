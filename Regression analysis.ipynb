{
 "cells": [
  {
   "cell_type": "code",
   "execution_count": 296,
   "metadata": {},
   "outputs": [],
   "source": [
    "import pandas as pd\n",
    "import numpy as nm\n",
    "from sklearn.preprocessing import MinMaxScaler\n",
    "from sklearn.preprocessing import StandardScaler \n",
    "pd.options.display.max_rows = 4000\n",
    "import pingouin as pg\n",
    "from sklearn.linear_model import LinearRegression\n",
    "import statsmodels.api as sm\n",
    "import seaborn as sns\n",
    "import matplotlib  \n",
    "import scipy as sp\n",
    "import statsmodels.stats.api  \n",
    "import matplotlib.pyplot as plt\n",
    "import statsmodels.formula.api as smf\n",
    "from statsmodels.graphics.gofplots import ProbPlot\n",
    "import sklearn\n",
    "import math\n",
    "\n"
   ]
  },
  {
   "cell_type": "code",
   "execution_count": 7,
   "metadata": {},
   "outputs": [],
   "source": [
    "#prelimanary load of test data\n",
    "\n",
    "#fd = (r\"C:\\Users\\varunn\\Documents\\Confluence attachments\\MarketingSci Regression analysis\\Regressionanaly.xlsx\")\n",
    "\n",
    "#data = pd.read_excel(fd,sheet_name='Raw')"
   ]
  },
  {
   "cell_type": "code",
   "execution_count": null,
   "metadata": {},
   "outputs": [],
   "source": [
    "#data = data.rename(columns={'Unnamed: 0': 'month','Unnamed: 1':'year','Unnamed: 2':'unemprate','Unnamed: 3': 's&p500','Unnamed: 4':'pmi','Unnamed: 5':'pmi1'})\n",
    "#data = data.drop([23,24,22])\n",
    "\n",
    "\n",
    "#model = LinearRegression()\n",
    "#x = data[['Unemployment rate change','S&P500change']]\n",
    "#y = data['PMI1change']\n",
    "#model = sm.OLS(y.astype(float),x.astype(float)).fit()\n",
    "#predictions = model.predict(x)\n",
    "#model.summary()\n",
    "#model.fit(x,y)\n",
    "#model.score(x, y)\n",
    "#coeff_df = pd.DataFrame(model.coef_, x.columns, columns=['Coefficient'])\n",
    "#print(coeff_df)"
   ]
  },
  {
   "cell_type": "code",
   "execution_count": 45,
   "metadata": {},
   "outputs": [
    {
     "data": {
      "text/html": [
       "<div>\n",
       "<style scoped>\n",
       "    .dataframe tbody tr th:only-of-type {\n",
       "        vertical-align: middle;\n",
       "    }\n",
       "\n",
       "    .dataframe tbody tr th {\n",
       "        vertical-align: top;\n",
       "    }\n",
       "\n",
       "    .dataframe thead th {\n",
       "        text-align: right;\n",
       "    }\n",
       "</style>\n",
       "<table border=\"1\" class=\"dataframe\">\n",
       "  <thead>\n",
       "    <tr style=\"text-align: right;\">\n",
       "      <th></th>\n",
       "      <th>n</th>\n",
       "      <th>r</th>\n",
       "      <th>CI95%</th>\n",
       "      <th>r2</th>\n",
       "      <th>adj_r2</th>\n",
       "      <th>p-val</th>\n",
       "      <th>BF10</th>\n",
       "      <th>power</th>\n",
       "    </tr>\n",
       "  </thead>\n",
       "  <tbody>\n",
       "    <tr>\n",
       "      <th>pearson</th>\n",
       "      <td>21</td>\n",
       "      <td>0.079</td>\n",
       "      <td>[-0.37, 0.49]</td>\n",
       "      <td>0.006</td>\n",
       "      <td>-0.104</td>\n",
       "      <td>0.735021</td>\n",
       "      <td>0.285</td>\n",
       "      <td>0.063</td>\n",
       "    </tr>\n",
       "  </tbody>\n",
       "</table>\n",
       "</div>"
      ],
      "text/plain": [
       "          n      r          CI95%     r2  adj_r2     p-val   BF10  power\n",
       "pearson  21  0.079  [-0.37, 0.49]  0.006  -0.104  0.735021  0.285  0.063"
      ]
     },
     "execution_count": 45,
     "metadata": {},
     "output_type": "execute_result"
    }
   ],
   "source": [
    "\n",
    "#pg.corr(x=data['unemprate'].astype(float), y=data['pmi1'].astype(float))"
   ]
  },
  {
   "cell_type": "markdown",
   "metadata": {},
   "source": [
    "# Data loading and cleaning"
   ]
  },
  {
   "cell_type": "code",
   "execution_count": 654,
   "metadata": {},
   "outputs": [],
   "source": [
    "fd = (r\"C:\\Users\\varunn\\Documents\\Confluence attachments\\MarketingSci Regression analysis\\finaladspend.xlsx\")\n",
    "\n",
    "adspend = pd.read_excel(fd,sheet_name='sheet2')"
   ]
  },
  {
   "cell_type": "code",
   "execution_count": 655,
   "metadata": {},
   "outputs": [],
   "source": [
    "#adspend\n",
    "\n",
    "adspend.columns = adspend.iloc[2,:]\n",
    "adspend = adspend.drop([0,1,17,18,19,20,21])\n",
    "adspend = adspend.T\n",
    "adspend.columns = adspend.iloc[0,:]\n",
    "adspend = adspend.drop(['MEDIA','TOTAL DOLS (000)'])\n",
    "adspend = adspend.fillna(0)\n",
    "adspend['mmyy']  = pd.date_range('2010-1-1','2020-1-31', freq='MS').strftime(\"%Y-%b\").tolist()\n",
    "adspend['date'] = adspend['mmyy']\n",
    "adspend = adspend.set_index('date')\n",
    "\n",
    "#adding variable exponential moving average\n",
    "adspend['val_EMA'] = adspend.iloc[:,14].ewm(span=40,adjust=False).mean()\n"
   ]
  },
  {
   "cell_type": "code",
   "execution_count": null,
   "metadata": {},
   "outputs": [],
   "source": [
    "#adding variable simple moving average adspend\n",
    "#adspendscale['pandas_SMA_3'] = adspendscale.iloc[:,22].rolling(window=3).mean()\n",
    "#adspendscale.iloc[1,24] = adspendscale.iloc[1,22]\n",
    "#adspendscale['pandas_EMA'] = adspendscale.iloc[:,22].ewm(span=40,adjust=False).mean()"
   ]
  },
  {
   "cell_type": "code",
   "execution_count": 125,
   "metadata": {},
   "outputs": [],
   "source": [
    "# Unemployment\n",
    "fd = (r\"C:\\Users\\varunn\\Documents\\Confluence attachments\\MarketingSci Regression analysis\\Regressionanaly.xlsx\")\n",
    "\n",
    "unemp = pd.read_excel(fd,sheet_name=2)"
   ]
  },
  {
   "cell_type": "code",
   "execution_count": 127,
   "metadata": {},
   "outputs": [],
   "source": [
    "unemp = unemp.drop(['Unnamed: 3',\n",
    "       'https://data.bls.gov/timeseries/LNS14000000'],axis=1)\n",
    "unemp = unemp.iloc[24:145,:]\n",
    "unemp['mmyy']  = pd.date_range('2010-1-1','2020-1-31', freq='MS').strftime(\"%Y-%b\").tolist()\n",
    "unemp = unemp.drop(['Month','year'],axis=1)"
   ]
  },
  {
   "cell_type": "code",
   "execution_count": 133,
   "metadata": {},
   "outputs": [],
   "source": [
    "#SNP 500 data\n",
    "fd = (r\"C:\\Users\\varunn\\Documents\\Confluence attachments\\MarketingSci Regression analysis\\Regressionanaly.xlsx\")\n",
    "\n",
    "snp = pd.read_excel(fd,sheet_name=0)"
   ]
  },
  {
   "cell_type": "code",
   "execution_count": 134,
   "metadata": {},
   "outputs": [],
   "source": [
    "snp = snp.drop(['Unnamed: 4',\n",
    "       'https://finance.yahoo.com/quote/%5EGSPC/history/','Date','Month','year'],axis=1)\n",
    "snp = snp.iloc[24:145,:]\n",
    "snp['mmyy']  = pd.date_range('2010-1-1','2020-1-31', freq='MS').strftime(\"%Y-%b\").tolist()\n"
   ]
  },
  {
   "cell_type": "code",
   "execution_count": 136,
   "metadata": {},
   "outputs": [],
   "source": [
    "# Pending home sales index\n",
    "\n",
    "fd = (r\"C:\\Users\\varunn\\Documents\\Confluence attachments\\MarketingSci Regression analysis\\phsi.xlsx\")\n",
    "\n",
    "phsi = pd.read_excel(fd,sheet_name=1)\n"
   ]
  },
  {
   "cell_type": "code",
   "execution_count": 138,
   "metadata": {},
   "outputs": [],
   "source": [
    "phsi = phsi.drop(['Item', 'Unnamed: 5','Year','Month','Date'],axis=1)\n",
    "phsi = phsi.drop([115,116,117])\n",
    "phsi['mmyy']  = pd.date_range('2010-7-1','2020-1-30', freq='MS').strftime(\"%Y-%b\").tolist()"
   ]
  },
  {
   "cell_type": "code",
   "execution_count": 148,
   "metadata": {},
   "outputs": [],
   "source": [
    "#Manufacturing index\n",
    "\n",
    "fd = (r\"C:\\Users\\varunn\\Documents\\Confluence attachments\\MarketingSci Regression analysis\\manufaturing index.xlsx\")\n",
    "\n",
    "manu = pd.read_excel(fd,sheet_name=0)"
   ]
  },
  {
   "cell_type": "code",
   "execution_count": 150,
   "metadata": {},
   "outputs": [],
   "source": [
    "manu = manu.drop(['Item','Date','Month','Year'],axis=1)\n",
    "manu = manu.drop([146,147])\n",
    "manu = manu.iloc[24:145,:]\n",
    "manu['mmyy']  = pd.date_range('2010-1-1','2020-1-31', freq='MS').strftime(\"%Y-%b\").tolist()\n"
   ]
  },
  {
   "cell_type": "code",
   "execution_count": null,
   "metadata": {},
   "outputs": [],
   "source": [
    "#list of database for regression 1. adspendscale 2. unempscale 3. snpscale 4. phsiscale"
   ]
  },
  {
   "cell_type": "code",
   "execution_count": 153,
   "metadata": {},
   "outputs": [],
   "source": [
    "a_row = pd.DataFrame([[0,'2010-Jan'],[0,'2010-Feb'],[0,'2010-Mar'],[0,'2010-Apr'],[0,'2010-May'],[0,'2010-Jun']],columns=['Index','mmyy'])\n",
    "phsi = pd.concat([a_row, phsi],ignore_index=True)\n",
    "phsi = phsi.rename(columns={\"Index\":\"phsival\"})"
   ]
  },
  {
   "cell_type": "code",
   "execution_count": 657,
   "metadata": {},
   "outputs": [],
   "source": [
    "#training set data with adspend,unemp, snp and phsi data\n",
    "\n",
    "train = pd.merge(adspend,unemp)\n",
    "#train\n",
    "train = train.rename(columns={'value':'unempvalue'})\n",
    "train = train.merge(phsi)\n",
    "train = train.merge(snp)\n",
    "train = train.rename(columns={'Close':'snpval'})\n",
    "train = train.merge(manu)\n",
    "#train['const'] = 1\n",
    "train['seasonind'] = train['GRAND TOTAL'] / train['val_EMA']\n",
    "train['month'] = pd.date_range('2010-1-1','2020-1-30', freq='MS').strftime(\"%b\").tolist()\n",
    "train['sessonsq'] =  train['seasonind'].apply(lambda x: math.pow (x, 2))\n",
    "train['sessoncub'] =  train['seasonind'].apply(lambda x: math.pow (x, 3))"
   ]
  },
  {
   "cell_type": "code",
   "execution_count": 778,
   "metadata": {},
   "outputs": [],
   "source": [
    "senti1 = senti.loc[34:154,:]\n",
    "train = train.merge(senti1)"
   ]
  },
  {
   "cell_type": "code",
   "execution_count": null,
   "metadata": {},
   "outputs": [],
   "source": [
    "#scaler = StandardScaler()\n",
    "\n",
    "#train['snpval1'] = scaler.fit_transform(train['snpval'].values.reshape(-1,1))"
   ]
  },
  {
   "cell_type": "code",
   "execution_count": null,
   "metadata": {},
   "outputs": [],
   "source": [
    "#train['unempvalue1'] = scaler.fit_transform(train['unempvalue'].values.reshape(-1,1))\n",
    "#train['phsival1'] = scaler.fit_transform(train['phsival'].values.reshape(-1,1))"
   ]
  },
  {
   "cell_type": "code",
   "execution_count": 487,
   "metadata": {},
   "outputs": [],
   "source": [
    "#Consumer confidence index\n",
    "fd = (r\"C:\\Users\\varunn\\Documents\\Confluence attachments\\MarketingSci Regression analysis\\cci.xlsx\")\n",
    "\n",
    "cci = pd.read_excel(fd,sheet_name=0)"
   ]
  },
  {
   "cell_type": "code",
   "execution_count": 488,
   "metadata": {},
   "outputs": [],
   "source": [
    "cci = cci.drop([ 'Unnamed: 2', 'Unnamed: 3', 'Unnamed: 4'],axis=1)\n",
    "cci = cci.drop('Date',axis=1)\n",
    "scaler = MinMaxScaler ()\n",
    "columns = cci.columns\n",
    "cci['cciscale'] = scaler.fit_transform(cci[columns])\n",
    "cci['mmyy']  = pd.date_range('2008-1-1','2020-4-30', freq='MS').strftime(\"%Y-%b\").tolist()\n",
    "#cci = cci.set_index('mmyy')\n",
    "cci = cci.iloc[24:145,:]\n"
   ]
  },
  {
   "cell_type": "code",
   "execution_count": 659,
   "metadata": {},
   "outputs": [],
   "source": [
    "# adding CCI into train set to model againts adspend\n",
    "\n",
    "train = train.merge(cci)"
   ]
  },
  {
   "cell_type": "code",
   "execution_count": 490,
   "metadata": {},
   "outputs": [],
   "source": [
    "# retail sale data\n",
    "fd = (r\"C:\\Users\\varunn\\Documents\\Confluence attachments\\MarketingSci Regression analysis\\retailsales\\retailfood.xlsx\")\n",
    "\n",
    "retail = pd.read_excel(fd,sheet_name=1)\n"
   ]
  },
  {
   "cell_type": "code",
   "execution_count": 491,
   "metadata": {},
   "outputs": [],
   "source": [
    "retail = retail.drop([ 'Unnamed: 2', 'Unnamed: 3','Period'],axis=1)\n",
    "scaler = MinMaxScaler ()\n",
    "columns = retail.columns\n",
    "retail['retailscale'] = scaler.fit_transform(retail[columns])\n",
    "retail['mmyy']  = pd.date_range('2008-1-1','2020-2-29', freq='MS').strftime(\"%Y-%b\").tolist()\n",
    "#retail = retail.set_index('mmyy')\n",
    "retail = retail.iloc[24:145,:]"
   ]
  },
  {
   "cell_type": "code",
   "execution_count": 660,
   "metadata": {},
   "outputs": [],
   "source": [
    "# adding CCI into train set to model againts adspend\n",
    "\n",
    "train = train.merge(retail)\n"
   ]
  },
  {
   "cell_type": "code",
   "execution_count": null,
   "metadata": {},
   "outputs": [],
   "source": [
    "#non retail sale data\n",
    "fd = (r\"C:\\Users\\varunn\\Documents\\Confluence attachments\\MarketingSci Regression analysis\\retailsales\\nonretail.xlsx\")\n",
    "\n",
    "nretail = pd.read_excel(fd,sheet_name=1)\n",
    " "
   ]
  },
  {
   "cell_type": "code",
   "execution_count": null,
   "metadata": {},
   "outputs": [],
   "source": [
    "nretail['mmyy']  = pd.date_range('2008-1-1','2020-2-29', freq='MS').strftime(\"%Y-%b\").tolist()\n",
    "scaler = MinMaxScaler ()\n",
    "columns = nretail.columns\n",
    "columns = columns.drop(['Period','mmyy'])\n",
    "nretail['retailscale'] = scaler.fit_transform(nretail[columns])\n",
    "nretail = nretail.set_index('mmyy')\n",
    "nretail = nretail.drop('Period',axis=1)"
   ]
  },
  {
   "cell_type": "code",
   "execution_count": null,
   "metadata": {},
   "outputs": [],
   "source": [
    "# health sale data\n",
    "fd = (r\"C:\\Users\\varunn\\Documents\\Confluence attachments\\MarketingSci Regression analysis\\retailsales\\health.xlsx\")\n",
    "\n",
    "health = pd.read_excel(fd,sheet_name=1)"
   ]
  },
  {
   "cell_type": "code",
   "execution_count": null,
   "metadata": {},
   "outputs": [],
   "source": [
    "health['mmyy']  = pd.date_range('2008-1-1','2020-2-29', freq='MS').strftime(\"%Y-%b\").tolist()\n",
    "scaler = MinMaxScaler ()\n",
    "columns = health.columns\n",
    "columns = columns.drop(['Period','mmyy'])\n",
    "health['healthscale'] = scaler.fit_transform(health[columns])\n",
    "health = health.set_index('mmyy')\n",
    "health = health.drop('Period',axis=1)"
   ]
  },
  {
   "cell_type": "code",
   "execution_count": null,
   "metadata": {},
   "outputs": [],
   "source": [
    "#electronics sale data\n",
    "fd = (r\"C:\\Users\\varunn\\Documents\\Confluence attachments\\MarketingSci Regression analysis\\retailsales\\electronics.xlsx\")\n",
    "\n",
    "electronics = pd.read_excel(fd,sheet_name=1)"
   ]
  },
  {
   "cell_type": "code",
   "execution_count": null,
   "metadata": {},
   "outputs": [],
   "source": [
    "electronics['mmyy']  = pd.date_range('2008-1-1','2020-2-29', freq='MS').strftime(\"%Y-%b\").tolist()\n",
    "scaler = MinMaxScaler ()\n",
    "columns = electronics.columns\n",
    "columns = columns.drop(['Period','mmyy'])\n",
    "electronics['elecscale'] = scaler.fit_transform(electronics[columns])\n",
    "electronics = electronics.set_index('mmyy')\n",
    "electronics = electronics.drop('Period',axis=1)"
   ]
  },
  {
   "cell_type": "code",
   "execution_count": null,
   "metadata": {},
   "outputs": [],
   "source": [
    "#Clothing sale data\n",
    "fd = (r\"C:\\Users\\varunn\\Documents\\Confluence attachments\\MarketingSci Regression analysis\\retailsales\\clothing.xlsx\")\n",
    "\n",
    "clothing = pd.read_excel(fd,sheet_name=1)"
   ]
  },
  {
   "cell_type": "code",
   "execution_count": null,
   "metadata": {},
   "outputs": [],
   "source": [
    "clothing['mmyy']  = pd.date_range('2008-1-1','2020-2-29', freq='MS').strftime(\"%Y-%b\").tolist()\n",
    "scaler = MinMaxScaler ()\n",
    "columns = clothing.columns\n",
    "columns = columns.drop(['Period','mmyy'])\n",
    "clothing['clothscale'] = scaler.fit_transform(clothing[columns])\n",
    "clothing = clothing.set_index('mmyy')\n",
    "clothing = clothing.drop('Period',axis=1)"
   ]
  },
  {
   "cell_type": "code",
   "execution_count": null,
   "metadata": {},
   "outputs": [],
   "source": [
    "#unemployment\n",
    "fd = (r\"C:\\Users\\varunn\\Documents\\Confluence attachments\\MarketingSci Regression analysis\\Regressionanaly.xlsx\")\n",
    "\n",
    "unemp1 = pd.read_excel(fd,sheet_name='Unemployment')"
   ]
  },
  {
   "cell_type": "code",
   "execution_count": null,
   "metadata": {},
   "outputs": [],
   "source": [
    "\n",
    "unemp1 = unemp1.drop(['Unnamed: 3',\n",
    "       'https://data.bls.gov/timeseries/LNS14000000'],axis=1)\n",
    "scaler = MinMaxScaler ()\n",
    "columns = unemp1.columns\n",
    "columns = columns.drop(['Month','year'])\n",
    "unemp1['unempscale'] = scaler.fit_transform(unemp1[columns])\n",
    "unemp1['mmyy']  = pd.date_range('2008-1-1','2020-2-29', freq='MS').strftime(\"%Y-%b\").tolist()\n",
    "unemp1 = unemp1.set_index('mmyy')\n",
    "unemp1 = unemp1.drop(['Month','year'],axis=1)        \n"
   ]
  },
  {
   "cell_type": "code",
   "execution_count": null,
   "metadata": {},
   "outputs": [],
   "source": [
    "#SNP 500\n",
    "fd = (r\"C:\\Users\\varunn\\Documents\\Confluence attachments\\MarketingSci Regression analysis\\Regressionanaly.xlsx\")\n",
    "\n",
    "snp = pd.read_excel(fd,sheet_name=0)"
   ]
  },
  {
   "cell_type": "code",
   "execution_count": null,
   "metadata": {},
   "outputs": [],
   "source": [
    "snp = snp.drop(['Unnamed: 4',\n",
    "       'https://finance.yahoo.com/quote/%5EGSPC/history/'],axis=1)\n",
    "scaler = MinMaxScaler ()\n",
    "columns = snp.columns\n",
    "columns = columns.drop(['Date','Month','year'])\n",
    "snp['snpscale'] = scaler.fit_transform(snp[columns])\n",
    "snp['mmyy']  = pd.date_range('2008-1-1','2020-3-30', freq='MS').strftime(\"%Y-%b\").tolist()\n",
    "snp = snp.set_index('mmyy')\n",
    "snp = snp.drop(['Date','Month','year'],axis=1)\n",
    "snp = snp.iloc[0:146,:]"
   ]
  },
  {
   "cell_type": "code",
   "execution_count": null,
   "metadata": {},
   "outputs": [],
   "source": [
    "#train set with cci,retail,nretail,health,electronics,clothing,unemp1,snp,manu\n",
    "cci['mmyy1'] = cci.index\n",
    "retail['mmyy1'] = retail.index\n",
    "nretail['mmyy1'] = nretail.index\n",
    "health['mmyy1'] = health.index\n",
    "electronics['mmyy1'] = electronics.index\n",
    "clothing['mmyy1'] = clothing.index\n",
    "unemp1['mmyy1'] = unemp1.index\n",
    "snp['mmyy1'] = snp.index\n",
    "\n",
    "\n"
   ]
  },
  {
   "cell_type": "code",
   "execution_count": null,
   "metadata": {},
   "outputs": [],
   "source": [
    "train1= pd.merge(cci,retail)\n",
    "train1 = train1.merge(nretail)\n",
    "train1 = train1.merge(nretail)\n",
    "train1 = train1.merge(health)\n",
    "train1 = train1.merge(electronics)\n",
    "train1 = train1.merge(clothing)\n",
    "train1 = train1.merge(unemp1)\n",
    "train1 = train1.merge(snp)\n",
    "#train1 = train1.merge(manu)\n",
    "train1['cnst'] = 1\n",
    "train1['snpchange'] = train1['Close']/1000"
   ]
  },
  {
   "cell_type": "markdown",
   "metadata": {},
   "source": [
    "### Dataset for predicting adpsend model"
   ]
  },
  {
   "cell_type": "code",
   "execution_count": 789,
   "metadata": {},
   "outputs": [],
   "source": [
    "train['consentival'] = train['consentival'].apply(pd.to_numeric,errors='coerce')"
   ]
  },
  {
   "cell_type": "code",
   "execution_count": 780,
   "metadata": {},
   "outputs": [
    {
     "data": {
      "text/plain": [
       "Index(['MEDIA', 'Network TV', 'Cable TV', 'Syndication', 'Magazines',\n",
       "       'Natl Newsp', 'Newspapers', 'Hispanic Newsp', 'Network Radio', 'Cinema',\n",
       "       'Int Display', 'Mobile Web (from Apr 2015)', 'Online Video',\n",
       "       'Int Search', 'GRAND TOTAL', 'mmyy', 'val_EMA', 'unempvalue', 'phsival',\n",
       "       'snpval', 'Index', 'seasonind', 'month', 'sessonsq', 'sessoncub',\n",
       "       'CCI value', 'cciscale', 'retailfoodservValue', 'retailscale',\n",
       "       'consentival'],\n",
       "      dtype='object')"
      ]
     },
     "execution_count": 780,
     "metadata": {},
     "output_type": "execute_result"
    }
   ],
   "source": [
    "train.columns"
   ]
  },
  {
   "cell_type": "code",
   "execution_count": 790,
   "metadata": {},
   "outputs": [],
   "source": [
    "#train set for model build \n",
    "df = train[['GRAND TOTAL','unempvalue','val_EMA','seasonind','sessonsq','sessoncub','CCI value','retailfoodservValue','month','mmyy','snpval','consentival']]\n",
    "df = pd.get_dummies(df,prefix=['month'],columns=['month'],drop_first=True)"
   ]
  },
  {
   "cell_type": "code",
   "execution_count": 791,
   "metadata": {},
   "outputs": [],
   "source": [
    "train1 = df.loc[0:112,:]\n",
    " "
   ]
  },
  {
   "cell_type": "code",
   "execution_count": 792,
   "metadata": {},
   "outputs": [],
   "source": [
    "#validation set\n",
    "val = df.loc[113:117,:]"
   ]
  },
  {
   "cell_type": "code",
   "execution_count": 793,
   "metadata": {},
   "outputs": [],
   "source": [
    "trainplusval = df.loc[0:117,:]"
   ]
  },
  {
   "cell_type": "code",
   "execution_count": 794,
   "metadata": {},
   "outputs": [],
   "source": [
    "#test set\n",
    "test = df.loc[118:121,:]\n"
   ]
  },
  {
   "cell_type": "markdown",
   "metadata": {},
   "source": [
    "### Dataset for predicting consumer confidence "
   ]
  },
  {
   "cell_type": "code",
   "execution_count": 681,
   "metadata": {},
   "outputs": [],
   "source": [
    "# jobless claim data to predict unemployment and CCI\n",
    "\n",
    "fd = (r\"C:\\Users\\varunn\\Documents\\Confluence attachments\\MarketingSci Regression analysis\\jobless.xlsx\")\n",
    "\n",
    "jobless = pd.read_excel(fd,sheet_name='Sheet2')"
   ]
  },
  {
   "cell_type": "code",
   "execution_count": 687,
   "metadata": {},
   "outputs": [],
   "source": [
    "jobless['mmyy']  = pd.date_range('2008-1-1','2020-4-30', freq='MS').strftime(\"%Y-%b\").tolist()\n",
    "jobless = jobless.drop(['Date','Month','Day','Year'],axis=1)\n"
   ]
  },
  {
   "cell_type": "code",
   "execution_count": 688,
   "metadata": {},
   "outputs": [],
   "source": [
    "#Consumer confidence index\n",
    "fd = (r\"C:\\Users\\varunn\\Documents\\Confluence attachments\\MarketingSci Regression analysis\\cci.xlsx\")\n",
    "\n",
    "cci1 = pd.read_excel(fd,sheet_name=0)"
   ]
  },
  {
   "cell_type": "code",
   "execution_count": 691,
   "metadata": {},
   "outputs": [],
   "source": [
    "cci1 = cci1.drop([ 'Unnamed: 2', 'Unnamed: 3', 'Unnamed: 4'],axis=1)\n",
    "cci1 = cci1.drop('Date',axis=1)\n",
    "cci1['mmyy']  = pd.date_range('2008-1-1','2020-4-30', freq='MS').strftime(\"%Y-%b\").tolist()\n"
   ]
  },
  {
   "cell_type": "code",
   "execution_count": 707,
   "metadata": {},
   "outputs": [],
   "source": [
    "#SNP 500 data\n",
    "fd = (r\"C:\\Users\\varunn\\Documents\\Confluence attachments\\MarketingSci Regression analysis\\Regressionanaly.xlsx\")\n",
    "\n",
    "snp1 = pd.read_excel(fd,sheet_name=0)"
   ]
  },
  {
   "cell_type": "code",
   "execution_count": 710,
   "metadata": {},
   "outputs": [],
   "source": [
    "snp1 = snp1.drop(['Unnamed: 4',\n",
    "       'https://finance.yahoo.com/quote/%5EGSPC/history/','Date','Month','year'],axis=1)\n",
    " \n",
    "snp1['mmyy']  = pd.date_range('2008-1-1','2020-4-30', freq='MS').strftime(\"%Y-%b\").tolist()"
   ]
  },
  {
   "cell_type": "code",
   "execution_count": 723,
   "metadata": {},
   "outputs": [],
   "source": [
    "#consumer sentiment\n",
    "fd = (r\"C:\\Users\\varunn\\Documents\\Confluence attachments\\MarketingSci Regression analysis\\consumersentiments.xlsx\")\n",
    "\n",
    "senti = pd.read_excel(fd,sheet_name=0)\n"
   ]
  },
  {
   "cell_type": "code",
   "execution_count": 724,
   "metadata": {},
   "outputs": [],
   "source": [
    "senti = senti.drop([0,1,2,3,4,5,6,7,8,9])\n",
    "senti = senti.drop(['Unnamed: 2','FRED Graph Observations'],axis=1)\n",
    "senti = senti.rename(columns={'Unnamed: 1':'consentival'})\n",
    "senti['mmyy']  = pd.date_range('2008-1-1','2020-4-30', freq='MS').strftime(\"%Y-%b\").tolist()"
   ]
  },
  {
   "cell_type": "code",
   "execution_count": 695,
   "metadata": {},
   "outputs": [],
   "source": [
    "df = pd.merge(jobless,cci1)"
   ]
  },
  {
   "cell_type": "code",
   "execution_count": 712,
   "metadata": {},
   "outputs": [],
   "source": [
    "df = df.merge(snp1)"
   ]
  },
  {
   "cell_type": "code",
   "execution_count": 728,
   "metadata": {},
   "outputs": [],
   "source": [
    "df = df.merge(senti)"
   ]
  },
  {
   "cell_type": "code",
   "execution_count": 738,
   "metadata": {},
   "outputs": [],
   "source": [
    "df['consentival'] = df['consentival'].apply(pd.to_numeric,errors='coerce')"
   ]
  },
  {
   "cell_type": "code",
   "execution_count": 742,
   "metadata": {},
   "outputs": [],
   "source": [
    "#trainset\n",
    "\n",
    "train1 = df.loc[0:135,:]\n",
    "\n",
    "#valset\n",
    "val1 = df.loc[136:143,:]\n",
    "\n",
    "#trainplusval\n",
    "valt = df.loc[0:143,:]\n",
    "\n",
    "#testset\n",
    "test = df.loc[144:148,:]\n"
   ]
  },
  {
   "cell_type": "markdown",
   "metadata": {},
   "source": [
    "# Exploratory analysis"
   ]
  },
  {
   "cell_type": "code",
   "execution_count": 702,
   "metadata": {},
   "outputs": [
    {
     "data": {
      "text/plain": [
       "Text(0, 0.5, 'GRAND TOTAL')"
      ]
     },
     "execution_count": 702,
     "metadata": {},
     "output_type": "execute_result"
    },
    {
     "data": {
      "image/png": "[encoded data removed]",
      "text/plain": [
       "<Figure size 792x288 with 1 Axes>"
      ]
     },
     "metadata": {},
     "output_type": "display_data"
    }
   ],
   "source": [
    "#time series plot adspend \n",
    "\n",
    "sns.set(rc={'figure.figsize':(11, 4)})\n",
    "df['4-week average initial claims'].plot(linewidth=.5).set_ylabel('GRAND TOTAL')\n"
   ]
  },
  {
   "cell_type": "code",
   "execution_count": 387,
   "metadata": {},
   "outputs": [
    {
     "data": {
      "text/plain": [
       "Text(0, 0.5, 'pandas_EMA')"
      ]
     },
     "execution_count": 387,
     "metadata": {},
     "output_type": "execute_result"
    },
    {
     "data": {
      "image/png": "[encoded data removed]",
      "text/plain": [
       "<Figure size 792x288 with 1 Axes>"
      ]
     },
     "metadata": {},
     "output_type": "display_data"
    }
   ],
   "source": [
    "sns.set(rc={'figure.figsize':(11, 4)})\n",
    "adspendscale['GRAND TOTAL'].plot(linewidth=.5).set_ylabel('GRAND TOTAL')\n",
    "adspendscale['pandas_EMA'].plot(linewidth=.5).set_ylabel('pandas_EMA')"
   ]
  },
  {
   "cell_type": "code",
   "execution_count": 120,
   "metadata": {
    "scrolled": true
   },
   "outputs": [
    {
     "data": {
      "text/plain": [
       "Text(0, 0.5, 'ratechange')"
      ]
     },
     "execution_count": 120,
     "metadata": {},
     "output_type": "execute_result"
    },
    {
     "data": {
      "image/png": "[encoded data removed]",
      "text/plain": [
       "<Figure size 792x288 with 1 Axes>"
      ]
     },
     "metadata": {},
     "output_type": "display_data"
    }
   ],
   "source": [
    "sns.set(rc={'figure.figsize':(11, 4)})\n",
    "unempchange['ratechange'].plot(linewidth=.5).set_ylabel('ratechange')"
   ]
  },
  {
   "cell_type": "code",
   "execution_count": 321,
   "metadata": {},
   "outputs": [
    {
     "data": {
      "text/plain": [
       "Text(0, 0.5, 'value')"
      ]
     },
     "execution_count": 321,
     "metadata": {},
     "output_type": "execute_result"
    },
    {
     "data": {
      "image/png": "[encoded data removed]",
      "text/plain": [
       "<Figure size 792x288 with 1 Axes>"
      ]
     },
     "metadata": {},
     "output_type": "display_data"
    }
   ],
   "source": [
    "sns.set(rc={'figure.figsize':(11, 4)})\n",
    "unempscale['value'].plot(linewidth=.5).set_ylabel('value')"
   ]
  },
  {
   "cell_type": "code",
   "execution_count": 740,
   "metadata": {
    "scrolled": true
   },
   "outputs": [
    {
     "data": {
      "text/html": [
       "<div>\n",
       "<style scoped>\n",
       "    .dataframe tbody tr th:only-of-type {\n",
       "        vertical-align: middle;\n",
       "    }\n",
       "\n",
       "    .dataframe tbody tr th {\n",
       "        vertical-align: top;\n",
       "    }\n",
       "\n",
       "    .dataframe thead th {\n",
       "        text-align: right;\n",
       "    }\n",
       "</style>\n",
       "<table border=\"1\" class=\"dataframe\">\n",
       "  <thead>\n",
       "    <tr style=\"text-align: right;\">\n",
       "      <th></th>\n",
       "      <th>n</th>\n",
       "      <th>r</th>\n",
       "      <th>CI95%</th>\n",
       "      <th>r2</th>\n",
       "      <th>adj_r2</th>\n",
       "      <th>p-val</th>\n",
       "      <th>BF10</th>\n",
       "      <th>power</th>\n",
       "    </tr>\n",
       "  </thead>\n",
       "  <tbody>\n",
       "    <tr>\n",
       "      <th>pearson</th>\n",
       "      <td>148</td>\n",
       "      <td>0.902</td>\n",
       "      <td>[0.87, 0.93]</td>\n",
       "      <td>0.814</td>\n",
       "      <td>0.812</td>\n",
       "      <td>3.227641e-55</td>\n",
       "      <td>4.429e+51</td>\n",
       "      <td>1.0</td>\n",
       "    </tr>\n",
       "  </tbody>\n",
       "</table>\n",
       "</div>"
      ],
      "text/plain": [
       "           n      r         CI95%     r2  adj_r2         p-val       BF10  \\\n",
       "pearson  148  0.902  [0.87, 0.93]  0.814   0.812  3.227641e-55  4.429e+51   \n",
       "\n",
       "         power  \n",
       "pearson    1.0  "
      ]
     },
     "execution_count": 740,
     "metadata": {},
     "output_type": "execute_result"
    }
   ],
   "source": [
    "import pingouin as pg\n",
    "pg.corr(x=df['CCI value'], y=df['consentival'])"
   ]
  },
  {
   "cell_type": "code",
   "execution_count": 276,
   "metadata": {},
   "outputs": [
    {
     "data": {
      "text/html": [
       "<div>\n",
       "<style scoped>\n",
       "    .dataframe tbody tr th:only-of-type {\n",
       "        vertical-align: middle;\n",
       "    }\n",
       "\n",
       "    .dataframe tbody tr th {\n",
       "        vertical-align: top;\n",
       "    }\n",
       "\n",
       "    .dataframe thead th {\n",
       "        text-align: right;\n",
       "    }\n",
       "</style>\n",
       "<table border=\"1\" class=\"dataframe\">\n",
       "  <thead>\n",
       "    <tr style=\"text-align: right;\">\n",
       "      <th></th>\n",
       "      <th>n</th>\n",
       "      <th>r</th>\n",
       "      <th>CI95%</th>\n",
       "      <th>r2</th>\n",
       "      <th>adj_r2</th>\n",
       "      <th>p-val</th>\n",
       "      <th>BF10</th>\n",
       "      <th>power</th>\n",
       "    </tr>\n",
       "  </thead>\n",
       "  <tbody>\n",
       "    <tr>\n",
       "      <th>pearson</th>\n",
       "      <td>121</td>\n",
       "      <td>-0.097</td>\n",
       "      <td>[-0.27, 0.08]</td>\n",
       "      <td>0.01</td>\n",
       "      <td>-0.007</td>\n",
       "      <td>0.287499</td>\n",
       "      <td>0.199</td>\n",
       "      <td>0.187</td>\n",
       "    </tr>\n",
       "  </tbody>\n",
       "</table>\n",
       "</div>"
      ],
      "text/plain": [
       "           n      r          CI95%    r2  adj_r2     p-val   BF10  power\n",
       "pearson  121 -0.097  [-0.27, 0.08]  0.01  -0.007  0.287499  0.199  0.187"
      ]
     },
     "execution_count": 276,
     "metadata": {},
     "output_type": "execute_result"
    }
   ],
   "source": [
    "import pingouin as pg\n",
    "pg.corr(x=unempchange['ratechange'].iloc[0:121], y=adspendchange['GRAND TOTAL'])"
   ]
  },
  {
   "cell_type": "code",
   "execution_count": 379,
   "metadata": {
    "scrolled": true
   },
   "outputs": [
    {
     "data": {
      "text/html": [
       "<div>\n",
       "<style scoped>\n",
       "    .dataframe tbody tr th:only-of-type {\n",
       "        vertical-align: middle;\n",
       "    }\n",
       "\n",
       "    .dataframe tbody tr th {\n",
       "        vertical-align: top;\n",
       "    }\n",
       "\n",
       "    .dataframe thead th {\n",
       "        text-align: right;\n",
       "    }\n",
       "</style>\n",
       "<table border=\"1\" class=\"dataframe\">\n",
       "  <thead>\n",
       "    <tr style=\"text-align: right;\">\n",
       "      <th></th>\n",
       "      <th>n</th>\n",
       "      <th>r</th>\n",
       "      <th>CI95%</th>\n",
       "      <th>r2</th>\n",
       "      <th>adj_r2</th>\n",
       "      <th>p-val</th>\n",
       "      <th>BF10</th>\n",
       "      <th>power</th>\n",
       "    </tr>\n",
       "  </thead>\n",
       "  <tbody>\n",
       "    <tr>\n",
       "      <th>pearson</th>\n",
       "      <td>121</td>\n",
       "      <td>-0.324</td>\n",
       "      <td>[-0.48, -0.15]</td>\n",
       "      <td>0.105</td>\n",
       "      <td>0.09</td>\n",
       "      <td>0.000283</td>\n",
       "      <td>76.464</td>\n",
       "      <td>0.956</td>\n",
       "    </tr>\n",
       "  </tbody>\n",
       "</table>\n",
       "</div>"
      ],
      "text/plain": [
       "           n      r           CI95%     r2  adj_r2     p-val    BF10  power\n",
       "pearson  121 -0.324  [-0.48, -0.15]  0.105    0.09  0.000283  76.464  0.956"
      ]
     },
     "execution_count": 379,
     "metadata": {},
     "output_type": "execute_result"
    }
   ],
   "source": [
    " pg.corr(x=unempscale['value'].iloc[0:121], y=adspendscale['pandas_SMA_3'])"
   ]
  },
  {
   "cell_type": "code",
   "execution_count": 164,
   "metadata": {},
   "outputs": [
    {
     "data": {
      "text/plain": [
       "Index(['MEDIA', 'Network TV', 'SLN TV', 'Cable TV', 'Syndication', 'Magazines',\n",
       "       'Sunday Mags', 'Local Mags', 'Hispanic Mags', 'B-to-B', 'Natl Newsp',\n",
       "       'Newspapers', 'Hispanic Newsp', 'Network Radio', 'Cinema',\n",
       "       'Int Display', 'Mobile Web (from Apr 2015)', 'Mobile App',\n",
       "       'Online Video', 'Int Search', 'GRAND TOTAL', 'mmyy', 'val_EMA',\n",
       "       'unempvalue', 'phsival', 'snpval', 'Index', 'const'],\n",
       "      dtype='object')"
      ]
     },
     "execution_count": 164,
     "metadata": {},
     "output_type": "execute_result"
    }
   ],
   "source": [
    "train.columns"
   ]
  },
  {
   "cell_type": "code",
   "execution_count": 165,
   "metadata": {
    "scrolled": false
   },
   "outputs": [
    {
     "data": {
      "text/html": [
       "<div>\n",
       "<style scoped>\n",
       "    .dataframe tbody tr th:only-of-type {\n",
       "        vertical-align: middle;\n",
       "    }\n",
       "\n",
       "    .dataframe tbody tr th {\n",
       "        vertical-align: top;\n",
       "    }\n",
       "\n",
       "    .dataframe thead th {\n",
       "        text-align: right;\n",
       "    }\n",
       "</style>\n",
       "<table border=\"1\" class=\"dataframe\">\n",
       "  <thead>\n",
       "    <tr style=\"text-align: right;\">\n",
       "      <th></th>\n",
       "      <th>n</th>\n",
       "      <th>r</th>\n",
       "      <th>CI95%</th>\n",
       "      <th>r2</th>\n",
       "      <th>adj_r2</th>\n",
       "      <th>p-val</th>\n",
       "      <th>BF10</th>\n",
       "      <th>power</th>\n",
       "    </tr>\n",
       "  </thead>\n",
       "  <tbody>\n",
       "    <tr>\n",
       "      <th>pearson</th>\n",
       "      <td>121</td>\n",
       "      <td>-0.92</td>\n",
       "      <td>[-0.94, -0.89]</td>\n",
       "      <td>0.846</td>\n",
       "      <td>0.843</td>\n",
       "      <td>3.924802e-50</td>\n",
       "      <td>3.655e+46</td>\n",
       "      <td>1.0</td>\n",
       "    </tr>\n",
       "  </tbody>\n",
       "</table>\n",
       "</div>"
      ],
      "text/plain": [
       "           n     r           CI95%     r2  adj_r2         p-val       BF10  \\\n",
       "pearson  121 -0.92  [-0.94, -0.89]  0.846   0.843  3.924802e-50  3.655e+46   \n",
       "\n",
       "         power  \n",
       "pearson    1.0  "
      ]
     },
     "execution_count": 165,
     "metadata": {},
     "output_type": "execute_result"
    }
   ],
   "source": [
    " pg.corr(x=train['unempvalue'], y=train['val_EMA'])"
   ]
  },
  {
   "cell_type": "code",
   "execution_count": 140,
   "metadata": {
    "scrolled": true
   },
   "outputs": [
    {
     "data": {
      "text/plain": [
       "Text(0, 0.5, 'indexratechange')"
      ]
     },
     "execution_count": 140,
     "metadata": {},
     "output_type": "execute_result"
    },
    {
     "data": {
      "image/png": "[encoded data removed]",
      "text/plain": [
       "<Figure size 792x288 with 1 Axes>"
      ]
     },
     "metadata": {},
     "output_type": "display_data"
    }
   ],
   "source": [
    "sns.set(rc={'figure.figsize':(11, 4)})\n",
    "snpchange['indexchange'].plot(linewidth=.5).set_ylabel('indexratechange')"
   ]
  },
  {
   "cell_type": "code",
   "execution_count": 286,
   "metadata": {},
   "outputs": [
    {
     "data": {
      "text/plain": [
       "Text(0, 0.5, 'SNPIndexClose')"
      ]
     },
     "execution_count": 286,
     "metadata": {},
     "output_type": "execute_result"
    },
    {
     "data": {
      "image/png": "[encoded data removed]",
      "text/plain": [
       "<Figure size 792x288 with 1 Axes>"
      ]
     },
     "metadata": {},
     "output_type": "display_data"
    }
   ],
   "source": [
    "sns.set(rc={'figure.figsize':(11, 4)})\n",
    "snpscale['Close'].plot(linewidth=.5).set_ylabel('SNPIndexClose')"
   ]
  },
  {
   "cell_type": "code",
   "execution_count": 142,
   "metadata": {
    "scrolled": true
   },
   "outputs": [
    {
     "data": {
      "text/html": [
       "<div>\n",
       "<style scoped>\n",
       "    .dataframe tbody tr th:only-of-type {\n",
       "        vertical-align: middle;\n",
       "    }\n",
       "\n",
       "    .dataframe tbody tr th {\n",
       "        vertical-align: top;\n",
       "    }\n",
       "\n",
       "    .dataframe thead th {\n",
       "        text-align: right;\n",
       "    }\n",
       "</style>\n",
       "<table border=\"1\" class=\"dataframe\">\n",
       "  <thead>\n",
       "    <tr style=\"text-align: right;\">\n",
       "      <th></th>\n",
       "      <th>n</th>\n",
       "      <th>r</th>\n",
       "      <th>CI95%</th>\n",
       "      <th>r2</th>\n",
       "      <th>adj_r2</th>\n",
       "      <th>p-val</th>\n",
       "      <th>BF10</th>\n",
       "      <th>power</th>\n",
       "    </tr>\n",
       "  </thead>\n",
       "  <tbody>\n",
       "    <tr>\n",
       "      <th>pearson</th>\n",
       "      <td>121</td>\n",
       "      <td>-0.045</td>\n",
       "      <td>[-0.22, 0.13]</td>\n",
       "      <td>0.002</td>\n",
       "      <td>-0.015</td>\n",
       "      <td>0.626385</td>\n",
       "      <td>0.128</td>\n",
       "      <td>0.078</td>\n",
       "    </tr>\n",
       "  </tbody>\n",
       "</table>\n",
       "</div>"
      ],
      "text/plain": [
       "           n      r          CI95%     r2  adj_r2     p-val   BF10  power\n",
       "pearson  121 -0.045  [-0.22, 0.13]  0.002  -0.015  0.626385  0.128  0.078"
      ]
     },
     "execution_count": 142,
     "metadata": {},
     "output_type": "execute_result"
    }
   ],
   "source": [
    "\n",
    "pg.corr(x=snpchange['indexchange'].iloc[0:121], y=adspendchange['GRAND TOTAL'])"
   ]
  },
  {
   "cell_type": "code",
   "execution_count": 287,
   "metadata": {
    "scrolled": false
   },
   "outputs": [
    {
     "data": {
      "text/html": [
       "<div>\n",
       "<style scoped>\n",
       "    .dataframe tbody tr th:only-of-type {\n",
       "        vertical-align: middle;\n",
       "    }\n",
       "\n",
       "    .dataframe tbody tr th {\n",
       "        vertical-align: top;\n",
       "    }\n",
       "\n",
       "    .dataframe thead th {\n",
       "        text-align: right;\n",
       "    }\n",
       "</style>\n",
       "<table border=\"1\" class=\"dataframe\">\n",
       "  <thead>\n",
       "    <tr style=\"text-align: right;\">\n",
       "      <th></th>\n",
       "      <th>n</th>\n",
       "      <th>r</th>\n",
       "      <th>CI95%</th>\n",
       "      <th>r2</th>\n",
       "      <th>adj_r2</th>\n",
       "      <th>p-val</th>\n",
       "      <th>BF10</th>\n",
       "      <th>power</th>\n",
       "    </tr>\n",
       "  </thead>\n",
       "  <tbody>\n",
       "    <tr>\n",
       "      <th>pearson</th>\n",
       "      <td>121</td>\n",
       "      <td>0.206</td>\n",
       "      <td>[0.03, 0.37]</td>\n",
       "      <td>0.043</td>\n",
       "      <td>0.026</td>\n",
       "      <td>0.023244</td>\n",
       "      <td>1.447</td>\n",
       "      <td>0.626</td>\n",
       "    </tr>\n",
       "  </tbody>\n",
       "</table>\n",
       "</div>"
      ],
      "text/plain": [
       "           n      r         CI95%     r2  adj_r2     p-val   BF10  power\n",
       "pearson  121  0.206  [0.03, 0.37]  0.043   0.026  0.023244  1.447  0.626"
      ]
     },
     "execution_count": 287,
     "metadata": {},
     "output_type": "execute_result"
    }
   ],
   "source": [
    "\n",
    "pg.corr(x=snpscale['Close'].iloc[0:121], y=adspendscale['GRAND TOTAL'])"
   ]
  },
  {
   "cell_type": "code",
   "execution_count": 380,
   "metadata": {},
   "outputs": [
    {
     "data": {
      "text/html": [
       "<div>\n",
       "<style scoped>\n",
       "    .dataframe tbody tr th:only-of-type {\n",
       "        vertical-align: middle;\n",
       "    }\n",
       "\n",
       "    .dataframe tbody tr th {\n",
       "        vertical-align: top;\n",
       "    }\n",
       "\n",
       "    .dataframe thead th {\n",
       "        text-align: right;\n",
       "    }\n",
       "</style>\n",
       "<table border=\"1\" class=\"dataframe\">\n",
       "  <thead>\n",
       "    <tr style=\"text-align: right;\">\n",
       "      <th></th>\n",
       "      <th>n</th>\n",
       "      <th>r</th>\n",
       "      <th>CI95%</th>\n",
       "      <th>r2</th>\n",
       "      <th>adj_r2</th>\n",
       "      <th>p-val</th>\n",
       "      <th>BF10</th>\n",
       "      <th>power</th>\n",
       "    </tr>\n",
       "  </thead>\n",
       "  <tbody>\n",
       "    <tr>\n",
       "      <th>pearson</th>\n",
       "      <td>121</td>\n",
       "      <td>0.299</td>\n",
       "      <td>[0.13, 0.45]</td>\n",
       "      <td>0.09</td>\n",
       "      <td>0.074</td>\n",
       "      <td>0.000848</td>\n",
       "      <td>27.789</td>\n",
       "      <td>0.92</td>\n",
       "    </tr>\n",
       "  </tbody>\n",
       "</table>\n",
       "</div>"
      ],
      "text/plain": [
       "           n      r         CI95%    r2  adj_r2     p-val    BF10  power\n",
       "pearson  121  0.299  [0.13, 0.45]  0.09   0.074  0.000848  27.789   0.92"
      ]
     },
     "execution_count": 380,
     "metadata": {},
     "output_type": "execute_result"
    }
   ],
   "source": [
    "\n",
    "pg.corr(x=snpscale['Close'].iloc[0:121], y=adspendscale['pandas_SMA_3'])"
   ]
  },
  {
   "cell_type": "code",
   "execution_count": 389,
   "metadata": {},
   "outputs": [
    {
     "data": {
      "text/html": [
       "<div>\n",
       "<style scoped>\n",
       "    .dataframe tbody tr th:only-of-type {\n",
       "        vertical-align: middle;\n",
       "    }\n",
       "\n",
       "    .dataframe tbody tr th {\n",
       "        vertical-align: top;\n",
       "    }\n",
       "\n",
       "    .dataframe thead th {\n",
       "        text-align: right;\n",
       "    }\n",
       "</style>\n",
       "<table border=\"1\" class=\"dataframe\">\n",
       "  <thead>\n",
       "    <tr style=\"text-align: right;\">\n",
       "      <th></th>\n",
       "      <th>n</th>\n",
       "      <th>r</th>\n",
       "      <th>CI95%</th>\n",
       "      <th>r2</th>\n",
       "      <th>adj_r2</th>\n",
       "      <th>p-val</th>\n",
       "      <th>BF10</th>\n",
       "      <th>power</th>\n",
       "    </tr>\n",
       "  </thead>\n",
       "  <tbody>\n",
       "    <tr>\n",
       "      <th>pearson</th>\n",
       "      <td>121</td>\n",
       "      <td>0.828</td>\n",
       "      <td>[0.76, 0.88]</td>\n",
       "      <td>0.685</td>\n",
       "      <td>0.68</td>\n",
       "      <td>1.215464e-31</td>\n",
       "      <td>2.655e+28</td>\n",
       "      <td>1.0</td>\n",
       "    </tr>\n",
       "  </tbody>\n",
       "</table>\n",
       "</div>"
      ],
      "text/plain": [
       "           n      r         CI95%     r2  adj_r2         p-val       BF10  \\\n",
       "pearson  121  0.828  [0.76, 0.88]  0.685    0.68  1.215464e-31  2.655e+28   \n",
       "\n",
       "         power  \n",
       "pearson    1.0  "
      ]
     },
     "execution_count": 389,
     "metadata": {},
     "output_type": "execute_result"
    }
   ],
   "source": [
    "pg.corr(x=snpscale['Close'].iloc[0:121], y=adspendscale['pandas_EMA'])"
   ]
  },
  {
   "cell_type": "code",
   "execution_count": 173,
   "metadata": {},
   "outputs": [
    {
     "data": {
      "text/plain": [
       "Text(0, 0.5, 'indexratechange')"
      ]
     },
     "execution_count": 173,
     "metadata": {},
     "output_type": "execute_result"
    },
    {
     "data": {
      "image/png": "[encoded data removed]",
      "text/plain": [
       "<Figure size 792x288 with 1 Axes>"
      ]
     },
     "metadata": {},
     "output_type": "display_data"
    }
   ],
   "source": [
    "sns.set(rc={'figure.figsize':(11, 4)})\n",
    "phsichange['indexchange'].plot(linewidth=.5).set_ylabel('indexratechange')"
   ]
  },
  {
   "cell_type": "code",
   "execution_count": 294,
   "metadata": {},
   "outputs": [
    {
     "data": {
      "text/plain": [
       "Text(0, 0.5, 'PhsiIndex')"
      ]
     },
     "execution_count": 294,
     "metadata": {},
     "output_type": "execute_result"
    },
    {
     "data": {
      "image/png": "[encoded data removed]",
      "text/plain": [
       "<Figure size 792x288 with 1 Axes>"
      ]
     },
     "metadata": {},
     "output_type": "display_data"
    }
   ],
   "source": [
    "sns.set(rc={'figure.figsize':(11, 4)})\n",
    "phsiscale['Index'].plot(linewidth=.5).set_ylabel('PhsiIndex')"
   ]
  },
  {
   "cell_type": "code",
   "execution_count": 174,
   "metadata": {
    "scrolled": true
   },
   "outputs": [
    {
     "data": {
      "text/html": [
       "<div>\n",
       "<style scoped>\n",
       "    .dataframe tbody tr th:only-of-type {\n",
       "        vertical-align: middle;\n",
       "    }\n",
       "\n",
       "    .dataframe tbody tr th {\n",
       "        vertical-align: top;\n",
       "    }\n",
       "\n",
       "    .dataframe thead th {\n",
       "        text-align: right;\n",
       "    }\n",
       "</style>\n",
       "<table border=\"1\" class=\"dataframe\">\n",
       "  <thead>\n",
       "    <tr style=\"text-align: right;\">\n",
       "      <th></th>\n",
       "      <th>n</th>\n",
       "      <th>r</th>\n",
       "      <th>CI95%</th>\n",
       "      <th>r2</th>\n",
       "      <th>adj_r2</th>\n",
       "      <th>p-val</th>\n",
       "      <th>BF10</th>\n",
       "      <th>power</th>\n",
       "    </tr>\n",
       "  </thead>\n",
       "  <tbody>\n",
       "    <tr>\n",
       "      <th>pearson</th>\n",
       "      <td>115</td>\n",
       "      <td>-0.002</td>\n",
       "      <td>[-0.18, 0.18]</td>\n",
       "      <td>0.0</td>\n",
       "      <td>-0.018</td>\n",
       "      <td>0.983731</td>\n",
       "      <td>0.117</td>\n",
       "      <td>0.05</td>\n",
       "    </tr>\n",
       "  </tbody>\n",
       "</table>\n",
       "</div>"
      ],
      "text/plain": [
       "           n      r          CI95%   r2  adj_r2     p-val   BF10  power\n",
       "pearson  115 -0.002  [-0.18, 0.18]  0.0  -0.018  0.983731  0.117   0.05"
      ]
     },
     "execution_count": 174,
     "metadata": {},
     "output_type": "execute_result"
    }
   ],
   "source": [
    "pg.corr(x=phsichange['indexchange'].iloc[0:115], y=adspendchange['GRAND TOTAL'].iloc[6:])"
   ]
  },
  {
   "cell_type": "code",
   "execution_count": 295,
   "metadata": {
    "scrolled": true
   },
   "outputs": [
    {
     "data": {
      "text/html": [
       "<div>\n",
       "<style scoped>\n",
       "    .dataframe tbody tr th:only-of-type {\n",
       "        vertical-align: middle;\n",
       "    }\n",
       "\n",
       "    .dataframe tbody tr th {\n",
       "        vertical-align: top;\n",
       "    }\n",
       "\n",
       "    .dataframe thead th {\n",
       "        text-align: right;\n",
       "    }\n",
       "</style>\n",
       "<table border=\"1\" class=\"dataframe\">\n",
       "  <thead>\n",
       "    <tr style=\"text-align: right;\">\n",
       "      <th></th>\n",
       "      <th>n</th>\n",
       "      <th>r</th>\n",
       "      <th>CI95%</th>\n",
       "      <th>r2</th>\n",
       "      <th>adj_r2</th>\n",
       "      <th>p-val</th>\n",
       "      <th>BF10</th>\n",
       "      <th>power</th>\n",
       "    </tr>\n",
       "  </thead>\n",
       "  <tbody>\n",
       "    <tr>\n",
       "      <th>pearson</th>\n",
       "      <td>115</td>\n",
       "      <td>0.108</td>\n",
       "      <td>[-0.08, 0.29]</td>\n",
       "      <td>0.012</td>\n",
       "      <td>-0.006</td>\n",
       "      <td>0.252469</td>\n",
       "      <td>0.223</td>\n",
       "      <td>0.209</td>\n",
       "    </tr>\n",
       "  </tbody>\n",
       "</table>\n",
       "</div>"
      ],
      "text/plain": [
       "           n      r          CI95%     r2  adj_r2     p-val   BF10  power\n",
       "pearson  115  0.108  [-0.08, 0.29]  0.012  -0.006  0.252469  0.223  0.209"
      ]
     },
     "execution_count": 295,
     "metadata": {},
     "output_type": "execute_result"
    }
   ],
   "source": [
    "pg.corr(x=phsiscale['Index'].iloc[0:115], y=adspendscale['GRAND TOTAL'].iloc[6:])"
   ]
  },
  {
   "cell_type": "code",
   "execution_count": 381,
   "metadata": {},
   "outputs": [
    {
     "data": {
      "text/html": [
       "<div>\n",
       "<style scoped>\n",
       "    .dataframe tbody tr th:only-of-type {\n",
       "        vertical-align: middle;\n",
       "    }\n",
       "\n",
       "    .dataframe tbody tr th {\n",
       "        vertical-align: top;\n",
       "    }\n",
       "\n",
       "    .dataframe thead th {\n",
       "        text-align: right;\n",
       "    }\n",
       "</style>\n",
       "<table border=\"1\" class=\"dataframe\">\n",
       "  <thead>\n",
       "    <tr style=\"text-align: right;\">\n",
       "      <th></th>\n",
       "      <th>n</th>\n",
       "      <th>r</th>\n",
       "      <th>CI95%</th>\n",
       "      <th>r2</th>\n",
       "      <th>adj_r2</th>\n",
       "      <th>p-val</th>\n",
       "      <th>BF10</th>\n",
       "      <th>power</th>\n",
       "    </tr>\n",
       "  </thead>\n",
       "  <tbody>\n",
       "    <tr>\n",
       "      <th>pearson</th>\n",
       "      <td>115</td>\n",
       "      <td>0.163</td>\n",
       "      <td>[-0.02, 0.34]</td>\n",
       "      <td>0.027</td>\n",
       "      <td>0.009</td>\n",
       "      <td>0.081164</td>\n",
       "      <td>0.523</td>\n",
       "      <td>0.417</td>\n",
       "    </tr>\n",
       "  </tbody>\n",
       "</table>\n",
       "</div>"
      ],
      "text/plain": [
       "           n      r          CI95%     r2  adj_r2     p-val   BF10  power\n",
       "pearson  115  0.163  [-0.02, 0.34]  0.027   0.009  0.081164  0.523  0.417"
      ]
     },
     "execution_count": 381,
     "metadata": {},
     "output_type": "execute_result"
    }
   ],
   "source": [
    "pg.corr(x=phsiscale['Index'].iloc[0:115], y=adspendscale['pandas_SMA_3'].iloc[6:])"
   ]
  },
  {
   "cell_type": "code",
   "execution_count": 390,
   "metadata": {},
   "outputs": [
    {
     "data": {
      "text/html": [
       "<div>\n",
       "<style scoped>\n",
       "    .dataframe tbody tr th:only-of-type {\n",
       "        vertical-align: middle;\n",
       "    }\n",
       "\n",
       "    .dataframe tbody tr th {\n",
       "        vertical-align: top;\n",
       "    }\n",
       "\n",
       "    .dataframe thead th {\n",
       "        text-align: right;\n",
       "    }\n",
       "</style>\n",
       "<table border=\"1\" class=\"dataframe\">\n",
       "  <thead>\n",
       "    <tr style=\"text-align: right;\">\n",
       "      <th></th>\n",
       "      <th>n</th>\n",
       "      <th>r</th>\n",
       "      <th>CI95%</th>\n",
       "      <th>r2</th>\n",
       "      <th>adj_r2</th>\n",
       "      <th>p-val</th>\n",
       "      <th>BF10</th>\n",
       "      <th>power</th>\n",
       "    </tr>\n",
       "  </thead>\n",
       "  <tbody>\n",
       "    <tr>\n",
       "      <th>pearson</th>\n",
       "      <td>115</td>\n",
       "      <td>0.849</td>\n",
       "      <td>[0.79, 0.89]</td>\n",
       "      <td>0.72</td>\n",
       "      <td>0.715</td>\n",
       "      <td>4.862277e-33</td>\n",
       "      <td>6.071e+29</td>\n",
       "      <td>1.0</td>\n",
       "    </tr>\n",
       "  </tbody>\n",
       "</table>\n",
       "</div>"
      ],
      "text/plain": [
       "           n      r         CI95%    r2  adj_r2         p-val       BF10  \\\n",
       "pearson  115  0.849  [0.79, 0.89]  0.72   0.715  4.862277e-33  6.071e+29   \n",
       "\n",
       "         power  \n",
       "pearson    1.0  "
      ]
     },
     "execution_count": 390,
     "metadata": {},
     "output_type": "execute_result"
    }
   ],
   "source": [
    "\n",
    "pg.corr(x=phsiscale['Index'].iloc[0:115], y=adspendscale['pandas_EMA'].iloc[6:])"
   ]
  },
  {
   "cell_type": "code",
   "execution_count": 183,
   "metadata": {
    "scrolled": true
   },
   "outputs": [
    {
     "data": {
      "text/plain": [
       "Text(0, 0.5, 'indexratechange')"
      ]
     },
     "execution_count": 183,
     "metadata": {},
     "output_type": "execute_result"
    },
    {
     "data": {
      "image/png": "[encoded data removed]",
      "text/plain": [
       "<Figure size 792x288 with 1 Axes>"
      ]
     },
     "metadata": {},
     "output_type": "display_data"
    }
   ],
   "source": [
    "sns.set(rc={'figure.figsize':(11, 4)})\n",
    "manuchange['indexchange'].plot(linewidth=.5).set_ylabel('indexratechange')"
   ]
  },
  {
   "cell_type": "code",
   "execution_count": 305,
   "metadata": {},
   "outputs": [
    {
     "data": {
      "text/plain": [
       "Text(0, 0.5, 'ManuIndex')"
      ]
     },
     "execution_count": 305,
     "metadata": {},
     "output_type": "execute_result"
    },
    {
     "data": {
      "image/png": "[encoded data removed]",
      "text/plain": [
       "<Figure size 792x288 with 1 Axes>"
      ]
     },
     "metadata": {},
     "output_type": "display_data"
    }
   ],
   "source": [
    "sns.set(rc={'figure.figsize':(11, 4)})\n",
    "manuscale['Index'].plot(linewidth=.5).set_ylabel('ManuIndex')"
   ]
  },
  {
   "cell_type": "code",
   "execution_count": 185,
   "metadata": {},
   "outputs": [
    {
     "data": {
      "text/html": [
       "<div>\n",
       "<style scoped>\n",
       "    .dataframe tbody tr th:only-of-type {\n",
       "        vertical-align: middle;\n",
       "    }\n",
       "\n",
       "    .dataframe tbody tr th {\n",
       "        vertical-align: top;\n",
       "    }\n",
       "\n",
       "    .dataframe thead th {\n",
       "        text-align: right;\n",
       "    }\n",
       "</style>\n",
       "<table border=\"1\" class=\"dataframe\">\n",
       "  <thead>\n",
       "    <tr style=\"text-align: right;\">\n",
       "      <th></th>\n",
       "      <th>n</th>\n",
       "      <th>r</th>\n",
       "      <th>CI95%</th>\n",
       "      <th>r2</th>\n",
       "      <th>adj_r2</th>\n",
       "      <th>p-val</th>\n",
       "      <th>BF10</th>\n",
       "      <th>power</th>\n",
       "    </tr>\n",
       "  </thead>\n",
       "  <tbody>\n",
       "    <tr>\n",
       "      <th>pearson</th>\n",
       "      <td>121</td>\n",
       "      <td>-0.097</td>\n",
       "      <td>[-0.27, 0.08]</td>\n",
       "      <td>0.009</td>\n",
       "      <td>-0.007</td>\n",
       "      <td>0.291557</td>\n",
       "      <td>0.197</td>\n",
       "      <td>0.184</td>\n",
       "    </tr>\n",
       "  </tbody>\n",
       "</table>\n",
       "</div>"
      ],
      "text/plain": [
       "           n      r          CI95%     r2  adj_r2     p-val   BF10  power\n",
       "pearson  121 -0.097  [-0.27, 0.08]  0.009  -0.007  0.291557  0.197  0.184"
      ]
     },
     "execution_count": 185,
     "metadata": {},
     "output_type": "execute_result"
    }
   ],
   "source": [
    "\n",
    "pg.corr(x=manuchange['indexchange'].iloc[0:121], y=adspendchange['GRAND TOTAL'])"
   ]
  },
  {
   "cell_type": "code",
   "execution_count": 306,
   "metadata": {},
   "outputs": [
    {
     "data": {
      "text/html": [
       "<div>\n",
       "<style scoped>\n",
       "    .dataframe tbody tr th:only-of-type {\n",
       "        vertical-align: middle;\n",
       "    }\n",
       "\n",
       "    .dataframe tbody tr th {\n",
       "        vertical-align: top;\n",
       "    }\n",
       "\n",
       "    .dataframe thead th {\n",
       "        text-align: right;\n",
       "    }\n",
       "</style>\n",
       "<table border=\"1\" class=\"dataframe\">\n",
       "  <thead>\n",
       "    <tr style=\"text-align: right;\">\n",
       "      <th></th>\n",
       "      <th>n</th>\n",
       "      <th>r</th>\n",
       "      <th>CI95%</th>\n",
       "      <th>r2</th>\n",
       "      <th>adj_r2</th>\n",
       "      <th>p-val</th>\n",
       "      <th>BF10</th>\n",
       "      <th>power</th>\n",
       "    </tr>\n",
       "  </thead>\n",
       "  <tbody>\n",
       "    <tr>\n",
       "      <th>pearson</th>\n",
       "      <td>121</td>\n",
       "      <td>-0.11</td>\n",
       "      <td>[-0.28, 0.07]</td>\n",
       "      <td>0.012</td>\n",
       "      <td>-0.005</td>\n",
       "      <td>0.227802</td>\n",
       "      <td>0.233</td>\n",
       "      <td>0.227</td>\n",
       "    </tr>\n",
       "  </tbody>\n",
       "</table>\n",
       "</div>"
      ],
      "text/plain": [
       "           n     r          CI95%     r2  adj_r2     p-val   BF10  power\n",
       "pearson  121 -0.11  [-0.28, 0.07]  0.012  -0.005  0.227802  0.233  0.227"
      ]
     },
     "execution_count": 306,
     "metadata": {},
     "output_type": "execute_result"
    }
   ],
   "source": [
    "\n",
    "pg.corr(x=manuscale['Index'].iloc[0:121], y=adspendscale['GRAND TOTAL'])\n"
   ]
  },
  {
   "cell_type": "code",
   "execution_count": 382,
   "metadata": {
    "scrolled": true
   },
   "outputs": [
    {
     "data": {
      "text/html": [
       "<div>\n",
       "<style scoped>\n",
       "    .dataframe tbody tr th:only-of-type {\n",
       "        vertical-align: middle;\n",
       "    }\n",
       "\n",
       "    .dataframe tbody tr th {\n",
       "        vertical-align: top;\n",
       "    }\n",
       "\n",
       "    .dataframe thead th {\n",
       "        text-align: right;\n",
       "    }\n",
       "</style>\n",
       "<table border=\"1\" class=\"dataframe\">\n",
       "  <thead>\n",
       "    <tr style=\"text-align: right;\">\n",
       "      <th></th>\n",
       "      <th>n</th>\n",
       "      <th>r</th>\n",
       "      <th>CI95%</th>\n",
       "      <th>r2</th>\n",
       "      <th>adj_r2</th>\n",
       "      <th>p-val</th>\n",
       "      <th>BF10</th>\n",
       "      <th>power</th>\n",
       "    </tr>\n",
       "  </thead>\n",
       "  <tbody>\n",
       "    <tr>\n",
       "      <th>pearson</th>\n",
       "      <td>121</td>\n",
       "      <td>-0.169</td>\n",
       "      <td>[-0.34, 0.01]</td>\n",
       "      <td>0.028</td>\n",
       "      <td>0.012</td>\n",
       "      <td>0.064181</td>\n",
       "      <td>0.618</td>\n",
       "      <td>0.459</td>\n",
       "    </tr>\n",
       "  </tbody>\n",
       "</table>\n",
       "</div>"
      ],
      "text/plain": [
       "           n      r          CI95%     r2  adj_r2     p-val   BF10  power\n",
       "pearson  121 -0.169  [-0.34, 0.01]  0.028   0.012  0.064181  0.618  0.459"
      ]
     },
     "execution_count": 382,
     "metadata": {},
     "output_type": "execute_result"
    }
   ],
   "source": [
    "\n",
    "pg.corr(x=manuscale['Index'].iloc[0:121], y=adspendscale['pandas_SMA_3'])"
   ]
  },
  {
   "cell_type": "code",
   "execution_count": 392,
   "metadata": {},
   "outputs": [
    {
     "data": {
      "text/html": [
       "<div>\n",
       "<style scoped>\n",
       "    .dataframe tbody tr th:only-of-type {\n",
       "        vertical-align: middle;\n",
       "    }\n",
       "\n",
       "    .dataframe tbody tr th {\n",
       "        vertical-align: top;\n",
       "    }\n",
       "\n",
       "    .dataframe thead th {\n",
       "        text-align: right;\n",
       "    }\n",
       "</style>\n",
       "<table border=\"1\" class=\"dataframe\">\n",
       "  <thead>\n",
       "    <tr style=\"text-align: right;\">\n",
       "      <th></th>\n",
       "      <th>n</th>\n",
       "      <th>r</th>\n",
       "      <th>CI95%</th>\n",
       "      <th>r2</th>\n",
       "      <th>adj_r2</th>\n",
       "      <th>p-val</th>\n",
       "      <th>BF10</th>\n",
       "      <th>power</th>\n",
       "    </tr>\n",
       "  </thead>\n",
       "  <tbody>\n",
       "    <tr>\n",
       "      <th>pearson</th>\n",
       "      <td>121</td>\n",
       "      <td>-0.231</td>\n",
       "      <td>[-0.39, -0.06]</td>\n",
       "      <td>0.053</td>\n",
       "      <td>0.037</td>\n",
       "      <td>0.010692</td>\n",
       "      <td>2.842</td>\n",
       "      <td>0.728</td>\n",
       "    </tr>\n",
       "  </tbody>\n",
       "</table>\n",
       "</div>"
      ],
      "text/plain": [
       "           n      r           CI95%     r2  adj_r2     p-val   BF10  power\n",
       "pearson  121 -0.231  [-0.39, -0.06]  0.053   0.037  0.010692  2.842  0.728"
      ]
     },
     "execution_count": 392,
     "metadata": {},
     "output_type": "execute_result"
    }
   ],
   "source": [
    "pg.corr(x=manuscale['Index'].iloc[0:121], y=adspendscale['pandas_EMA'])"
   ]
  },
  {
   "cell_type": "code",
   "execution_count": 964,
   "metadata": {
    "scrolled": true
   },
   "outputs": [
    {
     "data": {
      "text/html": [
       "<div>\n",
       "<style scoped>\n",
       "    .dataframe tbody tr th:only-of-type {\n",
       "        vertical-align: middle;\n",
       "    }\n",
       "\n",
       "    .dataframe tbody tr th {\n",
       "        vertical-align: top;\n",
       "    }\n",
       "\n",
       "    .dataframe thead th {\n",
       "        text-align: right;\n",
       "    }\n",
       "</style>\n",
       "<table border=\"1\" class=\"dataframe\">\n",
       "  <thead>\n",
       "    <tr style=\"text-align: right;\">\n",
       "      <th></th>\n",
       "      <th>n</th>\n",
       "      <th>r</th>\n",
       "      <th>CI95%</th>\n",
       "      <th>r2</th>\n",
       "      <th>adj_r2</th>\n",
       "      <th>p-val</th>\n",
       "      <th>BF10</th>\n",
       "      <th>power</th>\n",
       "    </tr>\n",
       "  </thead>\n",
       "  <tbody>\n",
       "    <tr>\n",
       "      <th>pearson</th>\n",
       "      <td>121</td>\n",
       "      <td>-0.918</td>\n",
       "      <td>[-0.94, -0.88]</td>\n",
       "      <td>0.843</td>\n",
       "      <td>0.84</td>\n",
       "      <td>1.154486e-49</td>\n",
       "      <td>1.267e+46</td>\n",
       "      <td>1.0</td>\n",
       "    </tr>\n",
       "  </tbody>\n",
       "</table>\n",
       "</div>"
      ],
      "text/plain": [
       "           n      r           CI95%     r2  adj_r2         p-val       BF10  \\\n",
       "pearson  121 -0.918  [-0.94, -0.88]  0.843    0.84  1.154486e-49  1.267e+46   \n",
       "\n",
       "         power  \n",
       "pearson    1.0  "
      ]
     },
     "execution_count": 964,
     "metadata": {},
     "output_type": "execute_result"
    }
   ],
   "source": [
    "pg.corr(x=train['unempvalue'], y=train['val_EMA'])"
   ]
  },
  {
   "cell_type": "code",
   "execution_count": null,
   "metadata": {},
   "outputs": [],
   "source": [
    "pg.corr(x=train['unempvalue1'], y=train['snpval1'])"
   ]
  },
  {
   "cell_type": "code",
   "execution_count": null,
   "metadata": {},
   "outputs": [],
   "source": [
    "matplotlib.pyplot.scatter(train['val_EMA'],train['value'])"
   ]
  },
  {
   "cell_type": "code",
   "execution_count": 200,
   "metadata": {},
   "outputs": [
    {
     "data": {
      "text/plain": [
       "Text(0, 0.5, 'SeasonIndex')"
      ]
     },
     "execution_count": 200,
     "metadata": {},
     "output_type": "execute_result"
    },
    {
     "data": {
      "image/png": "[encoded data removed]",
      "text/plain": [
       "<Figure size 792x288 with 1 Axes>"
      ]
     },
     "metadata": {},
     "output_type": "display_data"
    }
   ],
   "source": [
    "sns.set(rc={'figure.figsize':(11, 4)})\n",
    "train['seasonind'].plot(linewidth=.5).set_ylabel('SeasonIndex')"
   ]
  },
  {
   "cell_type": "markdown",
   "metadata": {},
   "source": [
    "# Building regression model"
   ]
  },
  {
   "cell_type": "markdown",
   "metadata": {},
   "source": [
    "### Model to predict adspend"
   ]
  },
  {
   "cell_type": "code",
   "execution_count": 830,
   "metadata": {},
   "outputs": [
    {
     "data": {
      "text/plain": [
       "Index(['GRAND TOTAL', 'unempvalue', 'val_EMA', 'seasonind', 'sessonsq',\n",
       "       'sessoncub', 'CCI value', 'retailfoodservValue', 'mmyy', 'snpval',\n",
       "       'consentival', 'month_Aug', 'month_Dec', 'month_Feb', 'month_Jan',\n",
       "       'month_Jul', 'month_Jun', 'month_Mar', 'month_May', 'month_Nov',\n",
       "       'month_Oct', 'month_Sep'],\n",
       "      dtype='object')"
      ]
     },
     "execution_count": 830,
     "metadata": {},
     "output_type": "execute_result"
    }
   ],
   "source": [
    "train1.columns"
   ]
  },
  {
   "cell_type": "code",
   "execution_count": 838,
   "metadata": {},
   "outputs": [],
   "source": [
    "#train data for model\n",
    "x_train = train1.drop(['GRAND TOTAL','mmyy','val_EMA','seasonind','sessonsq','retailfoodservValue'],axis=1)\n",
    "\n",
    "y_train = train1['GRAND TOTAL']\n",
    "\n",
    "#validation data for model\n",
    "x_val = val.drop(['GRAND TOTAL','mmyy','val_EMA','seasonind','sessonsq','retailfoodservValue'],axis=1)\n",
    "\n",
    "y_val = val['GRAND TOTAL']\n",
    "\n",
    "#train plus validation data for model\n",
    "x_tval = trainplusval.drop(['GRAND TOTAL','mmyy','val_EMA','seasonind','sessonsq','retailfoodservValue'],axis=1)\n",
    "y_tval = trainplusval['GRAND TOTAL']\n",
    "\n",
    "#test data for model\n",
    "x_test = test.drop(['GRAND TOTAL','mmyy','val_EMA','seasonind','sessonsq','retailfoodservValue'],axis=1)\n",
    "y_test = test['GRAND TOTAL']\n"
   ]
  },
  {
   "cell_type": "code",
   "execution_count": 839,
   "metadata": {
    "scrolled": true
   },
   "outputs": [
    {
     "name": "stderr",
     "output_type": "stream",
     "text": [
      "c:\\users\\varunn\\appdata\\local\\continuum\\anaconda3\\envs\\py37\\lib\\site-packages\\numpy\\core\\fromnumeric.py:2389: FutureWarning: Method .ptp is deprecated and will be removed in a future version. Use numpy.ptp instead.\n",
      "  return ptp(axis=axis, out=out, **kwargs)\n"
     ]
    },
    {
     "data": {
      "text/html": [
       "<table class=\"simpletable\">\n",
       "<caption>OLS Regression Results</caption>\n",
       "<tr>\n",
       "  <th>Dep. Variable:</th>       <td>GRAND TOTAL</td>   <th>  R-squared:         </th> <td>   0.966</td>\n",
       "</tr>\n",
       "<tr>\n",
       "  <th>Model:</th>                   <td>OLS</td>       <th>  Adj. R-squared:    </th> <td>   0.961</td>\n",
       "</tr>\n",
       "<tr>\n",
       "  <th>Method:</th>             <td>Least Squares</td>  <th>  F-statistic:       </th> <td>   179.7</td>\n",
       "</tr>\n",
       "<tr>\n",
       "  <th>Date:</th>             <td>Sun, 19 Apr 2020</td> <th>  Prob (F-statistic):</th> <td>1.39e-66</td>\n",
       "</tr>\n",
       "<tr>\n",
       "  <th>Time:</th>                 <td>20:08:13</td>     <th>  Log-Likelihood:    </th> <td> -1596.2</td>\n",
       "</tr>\n",
       "<tr>\n",
       "  <th>No. Observations:</th>      <td>   118</td>      <th>  AIC:               </th> <td>   3226.</td>\n",
       "</tr>\n",
       "<tr>\n",
       "  <th>Df Residuals:</th>          <td>   101</td>      <th>  BIC:               </th> <td>   3273.</td>\n",
       "</tr>\n",
       "<tr>\n",
       "  <th>Df Model:</th>              <td>    16</td>      <th>                     </th>     <td> </td>   \n",
       "</tr>\n",
       "<tr>\n",
       "  <th>Covariance Type:</th>      <td>nonrobust</td>    <th>                     </th>     <td> </td>   \n",
       "</tr>\n",
       "</table>\n",
       "<table class=\"simpletable\">\n",
       "<tr>\n",
       "       <td></td>          <th>coef</th>     <th>std err</th>      <th>t</th>      <th>P>|t|</th>  <th>[0.025</th>    <th>0.975]</th>  \n",
       "</tr>\n",
       "<tr>\n",
       "  <th>const</th>       <td> 1.172e+07</td> <td> 7.28e+05</td> <td>   16.099</td> <td> 0.000</td> <td> 1.03e+07</td> <td> 1.32e+07</td>\n",
       "</tr>\n",
       "<tr>\n",
       "  <th>unempvalue</th>  <td>-4.389e+05</td> <td> 4.55e+04</td> <td>   -9.637</td> <td> 0.000</td> <td>-5.29e+05</td> <td>-3.49e+05</td>\n",
       "</tr>\n",
       "<tr>\n",
       "  <th>sessoncub</th>   <td> 2.493e+06</td> <td> 1.56e+05</td> <td>   15.977</td> <td> 0.000</td> <td> 2.18e+06</td> <td>  2.8e+06</td>\n",
       "</tr>\n",
       "<tr>\n",
       "  <th>CCI value</th>   <td>-6390.4288</td> <td> 3207.500</td> <td>   -1.992</td> <td> 0.049</td> <td>-1.28e+04</td> <td>  -27.612</td>\n",
       "</tr>\n",
       "<tr>\n",
       "  <th>snpval</th>      <td> -130.9059</td> <td>  170.747</td> <td>   -0.767</td> <td> 0.445</td> <td> -469.623</td> <td>  207.811</td>\n",
       "</tr>\n",
       "<tr>\n",
       "  <th>consentival</th> <td>-1.255e+04</td> <td> 5050.675</td> <td>   -2.484</td> <td> 0.015</td> <td>-2.26e+04</td> <td>-2526.795</td>\n",
       "</tr>\n",
       "<tr>\n",
       "  <th>month_Aug</th>   <td>-4.315e+05</td> <td> 1.03e+05</td> <td>   -4.201</td> <td> 0.000</td> <td>-6.35e+05</td> <td>-2.28e+05</td>\n",
       "</tr>\n",
       "<tr>\n",
       "  <th>month_Dec</th>   <td> 1.169e+05</td> <td> 9.75e+04</td> <td>    1.199</td> <td> 0.233</td> <td>-7.65e+04</td> <td>  3.1e+05</td>\n",
       "</tr>\n",
       "<tr>\n",
       "  <th>month_Feb</th>   <td>-2.389e+05</td> <td> 9.67e+04</td> <td>   -2.469</td> <td> 0.015</td> <td>-4.31e+05</td> <td> -4.7e+04</td>\n",
       "</tr>\n",
       "<tr>\n",
       "  <th>month_Jan</th>   <td>-1.259e+05</td> <td> 9.32e+04</td> <td>   -1.351</td> <td> 0.180</td> <td>-3.11e+05</td> <td>  5.9e+04</td>\n",
       "</tr>\n",
       "<tr>\n",
       "  <th>month_Jul</th>   <td>-4.697e+05</td> <td>  1.1e+05</td> <td>   -4.274</td> <td> 0.000</td> <td>-6.88e+05</td> <td>-2.52e+05</td>\n",
       "</tr>\n",
       "<tr>\n",
       "  <th>month_Jun</th>   <td>-9.546e+04</td> <td> 9.13e+04</td> <td>   -1.046</td> <td> 0.298</td> <td>-2.76e+05</td> <td> 8.56e+04</td>\n",
       "</tr>\n",
       "<tr>\n",
       "  <th>month_Mar</th>   <td> 4.516e+04</td> <td> 9.77e+04</td> <td>    0.462</td> <td> 0.645</td> <td>-1.49e+05</td> <td> 2.39e+05</td>\n",
       "</tr>\n",
       "<tr>\n",
       "  <th>month_May</th>   <td> 6.831e+04</td> <td> 9.15e+04</td> <td>    0.747</td> <td> 0.457</td> <td>-1.13e+05</td> <td>  2.5e+05</td>\n",
       "</tr>\n",
       "<tr>\n",
       "  <th>month_Nov</th>   <td> 6.717e+04</td> <td> 1.12e+05</td> <td>    0.600</td> <td> 0.550</td> <td>-1.55e+05</td> <td> 2.89e+05</td>\n",
       "</tr>\n",
       "<tr>\n",
       "  <th>month_Oct</th>   <td> -2.98e+04</td> <td> 1.11e+05</td> <td>   -0.269</td> <td> 0.788</td> <td>-2.49e+05</td> <td>  1.9e+05</td>\n",
       "</tr>\n",
       "<tr>\n",
       "  <th>month_Sep</th>   <td>-9.736e+04</td> <td> 9.76e+04</td> <td>   -0.997</td> <td> 0.321</td> <td>-2.91e+05</td> <td> 9.63e+04</td>\n",
       "</tr>\n",
       "</table>\n",
       "<table class=\"simpletable\">\n",
       "<tr>\n",
       "  <th>Omnibus:</th>       <td>15.764</td> <th>  Durbin-Watson:     </th> <td>   0.628</td>\n",
       "</tr>\n",
       "<tr>\n",
       "  <th>Prob(Omnibus):</th> <td> 0.000</td> <th>  Jarque-Bera (JB):  </th> <td>  17.578</td>\n",
       "</tr>\n",
       "<tr>\n",
       "  <th>Skew:</th>          <td>-0.880</td> <th>  Prob(JB):          </th> <td>0.000152</td>\n",
       "</tr>\n",
       "<tr>\n",
       "  <th>Kurtosis:</th>      <td> 3.693</td> <th>  Cond. No.          </th> <td>8.24e+04</td>\n",
       "</tr>\n",
       "</table><br/><br/>Warnings:<br/>[1] Standard Errors assume that the covariance matrix of the errors is correctly specified.<br/>[2] The condition number is large, 8.24e+04. This might indicate that there are<br/>strong multicollinearity or other numerical problems."
      ],
      "text/plain": [
       "<class 'statsmodels.iolib.summary.Summary'>\n",
       "\"\"\"\n",
       "                            OLS Regression Results                            \n",
       "==============================================================================\n",
       "Dep. Variable:            GRAND TOTAL   R-squared:                       0.966\n",
       "Model:                            OLS   Adj. R-squared:                  0.961\n",
       "Method:                 Least Squares   F-statistic:                     179.7\n",
       "Date:                Sun, 19 Apr 2020   Prob (F-statistic):           1.39e-66\n",
       "Time:                        20:08:13   Log-Likelihood:                -1596.2\n",
       "No. Observations:                 118   AIC:                             3226.\n",
       "Df Residuals:                     101   BIC:                             3273.\n",
       "Df Model:                          16                                         \n",
       "Covariance Type:            nonrobust                                         \n",
       "===============================================================================\n",
       "                  coef    std err          t      P>|t|      [0.025      0.975]\n",
       "-------------------------------------------------------------------------------\n",
       "const        1.172e+07   7.28e+05     16.099      0.000    1.03e+07    1.32e+07\n",
       "unempvalue  -4.389e+05   4.55e+04     -9.637      0.000   -5.29e+05   -3.49e+05\n",
       "sessoncub    2.493e+06   1.56e+05     15.977      0.000    2.18e+06     2.8e+06\n",
       "CCI value   -6390.4288   3207.500     -1.992      0.049   -1.28e+04     -27.612\n",
       "snpval       -130.9059    170.747     -0.767      0.445    -469.623     207.811\n",
       "consentival -1.255e+04   5050.675     -2.484      0.015   -2.26e+04   -2526.795\n",
       "month_Aug   -4.315e+05   1.03e+05     -4.201      0.000   -6.35e+05   -2.28e+05\n",
       "month_Dec    1.169e+05   9.75e+04      1.199      0.233   -7.65e+04     3.1e+05\n",
       "month_Feb   -2.389e+05   9.67e+04     -2.469      0.015   -4.31e+05    -4.7e+04\n",
       "month_Jan   -1.259e+05   9.32e+04     -1.351      0.180   -3.11e+05     5.9e+04\n",
       "month_Jul   -4.697e+05    1.1e+05     -4.274      0.000   -6.88e+05   -2.52e+05\n",
       "month_Jun   -9.546e+04   9.13e+04     -1.046      0.298   -2.76e+05    8.56e+04\n",
       "month_Mar    4.516e+04   9.77e+04      0.462      0.645   -1.49e+05    2.39e+05\n",
       "month_May    6.831e+04   9.15e+04      0.747      0.457   -1.13e+05     2.5e+05\n",
       "month_Nov    6.717e+04   1.12e+05      0.600      0.550   -1.55e+05    2.89e+05\n",
       "month_Oct    -2.98e+04   1.11e+05     -0.269      0.788   -2.49e+05     1.9e+05\n",
       "month_Sep   -9.736e+04   9.76e+04     -0.997      0.321   -2.91e+05    9.63e+04\n",
       "==============================================================================\n",
       "Omnibus:                       15.764   Durbin-Watson:                   0.628\n",
       "Prob(Omnibus):                  0.000   Jarque-Bera (JB):               17.578\n",
       "Skew:                          -0.880   Prob(JB):                     0.000152\n",
       "Kurtosis:                       3.693   Cond. No.                     8.24e+04\n",
       "==============================================================================\n",
       "\n",
       "Warnings:\n",
       "[1] Standard Errors assume that the covariance matrix of the errors is correctly specified.\n",
       "[2] The condition number is large, 8.24e+04. This might indicate that there are\n",
       "strong multicollinearity or other numerical problems.\n",
       "\"\"\""
      ]
     },
     "execution_count": 839,
     "metadata": {},
     "output_type": "execute_result"
    }
   ],
   "source": [
    "from sklearn.linear_model import LinearRegression\n",
    "import statsmodels.api as sm\n",
    "#model = LinearRegression()\n",
    "\n",
    "X2 = sm.add_constant(x_tval)\n",
    "model = sm.OLS(y_tval,X2).fit()\n",
    "#predictions = model.predict(x)\n",
    "model.summary()\n",
    "#model.fit(x,y)\n",
    "#model.score(x, y)\n",
    "#coeff_df = pd.DataFrame(model.coef_, x.columns, columns=['Coefficient'])\n",
    "#print(coeff_df)\n"
   ]
  },
  {
   "cell_type": "code",
   "execution_count": 840,
   "metadata": {
    "scrolled": true
   },
   "outputs": [
    {
     "name": "stdout",
     "output_type": "stream",
     "text": [
      "118    1.156223e+07\n",
      "119    1.143733e+07\n",
      "120    9.657761e+06\n",
      "dtype: float64\n"
     ]
    }
   ],
   "source": [
    "x_test = sm.add_constant(x_test)\n",
    "ypred = model.predict(x_test)\n",
    "print(ypred)"
   ]
  },
  {
   "cell_type": "code",
   "execution_count": 841,
   "metadata": {},
   "outputs": [
    {
     "data": {
      "text/html": [
       "<div>\n",
       "<style scoped>\n",
       "    .dataframe tbody tr th:only-of-type {\n",
       "        vertical-align: middle;\n",
       "    }\n",
       "\n",
       "    .dataframe tbody tr th {\n",
       "        vertical-align: top;\n",
       "    }\n",
       "\n",
       "    .dataframe thead th {\n",
       "        text-align: right;\n",
       "    }\n",
       "</style>\n",
       "<table border=\"1\" class=\"dataframe\">\n",
       "  <thead>\n",
       "    <tr style=\"text-align: right;\">\n",
       "      <th></th>\n",
       "      <th>Actual</th>\n",
       "      <th>Predicted</th>\n",
       "    </tr>\n",
       "  </thead>\n",
       "  <tbody>\n",
       "    <tr>\n",
       "      <th>118</th>\n",
       "      <td>11693046.8</td>\n",
       "      <td>1.156223e+07</td>\n",
       "    </tr>\n",
       "    <tr>\n",
       "      <th>119</th>\n",
       "      <td>11638003.8</td>\n",
       "      <td>1.143733e+07</td>\n",
       "    </tr>\n",
       "    <tr>\n",
       "      <th>120</th>\n",
       "      <td>9743035.5</td>\n",
       "      <td>9.657761e+06</td>\n",
       "    </tr>\n",
       "  </tbody>\n",
       "</table>\n",
       "</div>"
      ],
      "text/plain": [
       "         Actual     Predicted\n",
       "118  11693046.8  1.156223e+07\n",
       "119  11638003.8  1.143733e+07\n",
       "120   9743035.5  9.657761e+06"
      ]
     },
     "execution_count": 841,
     "metadata": {},
     "output_type": "execute_result"
    }
   ],
   "source": [
    "df = pd.DataFrame({'Actual':y_test,'Predicted':ypred})\n",
    "df"
   ]
  },
  {
   "cell_type": "code",
   "execution_count": 842,
   "metadata": {},
   "outputs": [
    {
     "name": "stdout",
     "output_type": "stream",
     "text": [
      "R2: 0.974\n",
      "MAE: 138921.4\n",
      "RMSE: 146804.0\n"
     ]
    }
   ],
   "source": [
    "#MAE - Mean absolute error and RMSE - Root mean squared error\n",
    "\n",
    "R2 = sklearn.metrics.r2_score(y_test,ypred)\n",
    "MAE = sklearn.metrics.mean_absolute_error(y_test,ypred)\n",
    "RMSE = nm.sqrt(sklearn.metrics.mean_squared_error(y_test,ypred))\n",
    "\n",
    "print(\"R2: {0:.3f}\".format(R2))\n",
    "print(\"MAE: {0:.1f}\".format(MAE))\n",
    "print(\"RMSE: {0:.1f}\".format(RMSE))"
   ]
  },
  {
   "cell_type": "code",
   "execution_count": 844,
   "metadata": {},
   "outputs": [
    {
     "data": {
      "text/html": [
       "<div>\n",
       "<style scoped>\n",
       "    .dataframe tbody tr th:only-of-type {\n",
       "        vertical-align: middle;\n",
       "    }\n",
       "\n",
       "    .dataframe tbody tr th {\n",
       "        vertical-align: top;\n",
       "    }\n",
       "\n",
       "    .dataframe thead th {\n",
       "        text-align: right;\n",
       "    }\n",
       "</style>\n",
       "<table border=\"1\" class=\"dataframe\">\n",
       "  <thead>\n",
       "    <tr style=\"text-align: right;\">\n",
       "      <th></th>\n",
       "      <th>const</th>\n",
       "      <th>unempvalue</th>\n",
       "      <th>sessoncub</th>\n",
       "      <th>CCI value</th>\n",
       "      <th>snpval</th>\n",
       "      <th>consentival</th>\n",
       "      <th>month_Aug</th>\n",
       "      <th>month_Dec</th>\n",
       "      <th>month_Feb</th>\n",
       "      <th>month_Jan</th>\n",
       "      <th>month_Jul</th>\n",
       "      <th>month_Jun</th>\n",
       "      <th>month_Mar</th>\n",
       "      <th>month_May</th>\n",
       "      <th>month_Nov</th>\n",
       "      <th>month_Oct</th>\n",
       "      <th>month_Sep</th>\n",
       "    </tr>\n",
       "  </thead>\n",
       "  <tbody>\n",
       "    <tr>\n",
       "      <th>118</th>\n",
       "      <td>1.0</td>\n",
       "      <td>3.5</td>\n",
       "      <td>1.501660</td>\n",
       "      <td>126.1</td>\n",
       "      <td>3140.979980</td>\n",
       "      <td>96.8</td>\n",
       "      <td>0</td>\n",
       "      <td>0</td>\n",
       "      <td>0</td>\n",
       "      <td>0</td>\n",
       "      <td>0</td>\n",
       "      <td>0</td>\n",
       "      <td>0</td>\n",
       "      <td>0</td>\n",
       "      <td>1</td>\n",
       "      <td>0</td>\n",
       "      <td>0</td>\n",
       "    </tr>\n",
       "    <tr>\n",
       "      <th>119</th>\n",
       "      <td>1.0</td>\n",
       "      <td>3.5</td>\n",
       "      <td>1.450683</td>\n",
       "      <td>126.8</td>\n",
       "      <td>3230.780029</td>\n",
       "      <td>99.3</td>\n",
       "      <td>0</td>\n",
       "      <td>1</td>\n",
       "      <td>0</td>\n",
       "      <td>0</td>\n",
       "      <td>0</td>\n",
       "      <td>0</td>\n",
       "      <td>0</td>\n",
       "      <td>0</td>\n",
       "      <td>0</td>\n",
       "      <td>0</td>\n",
       "      <td>0</td>\n",
       "    </tr>\n",
       "    <tr>\n",
       "      <th>120</th>\n",
       "      <td>1.0</td>\n",
       "      <td>3.6</td>\n",
       "      <td>0.857724</td>\n",
       "      <td>128.2</td>\n",
       "      <td>3225.520020</td>\n",
       "      <td>99.8</td>\n",
       "      <td>0</td>\n",
       "      <td>0</td>\n",
       "      <td>0</td>\n",
       "      <td>1</td>\n",
       "      <td>0</td>\n",
       "      <td>0</td>\n",
       "      <td>0</td>\n",
       "      <td>0</td>\n",
       "      <td>0</td>\n",
       "      <td>0</td>\n",
       "      <td>0</td>\n",
       "    </tr>\n",
       "  </tbody>\n",
       "</table>\n",
       "</div>"
      ],
      "text/plain": [
       "     const  unempvalue  sessoncub  CCI value       snpval  consentival  \\\n",
       "118    1.0         3.5   1.501660      126.1  3140.979980         96.8   \n",
       "119    1.0         3.5   1.450683      126.8  3230.780029         99.3   \n",
       "120    1.0         3.6   0.857724      128.2  3225.520020         99.8   \n",
       "\n",
       "     month_Aug  month_Dec  month_Feb  month_Jan  month_Jul  month_Jun  \\\n",
       "118          0          0          0          0          0          0   \n",
       "119          0          1          0          0          0          0   \n",
       "120          0          0          0          1          0          0   \n",
       "\n",
       "     month_Mar  month_May  month_Nov  month_Oct  month_Sep  \n",
       "118          0          0          1          0          0  \n",
       "119          0          0          0          0          0  \n",
       "120          0          0          0          0          0  "
      ]
     },
     "execution_count": 844,
     "metadata": {},
     "output_type": "execute_result"
    }
   ],
   "source": [
    "x_test"
   ]
  },
  {
   "cell_type": "code",
   "execution_count": 845,
   "metadata": {},
   "outputs": [
    {
     "name": "stdout",
     "output_type": "stream",
     "text": [
      "[8596897.40442286]\n"
     ]
    }
   ],
   "source": [
    "#sessoncub for feb 2019 = .746109\n",
    "ypred = model.predict([1,8.5,1.059849,120,2874.56,71.0,0,0,0,0,0,0,0,0,0,0,0])\n",
    "print(ypred)"
   ]
  },
  {
   "cell_type": "markdown",
   "metadata": {},
   "source": [
    "### Model to predict consumer index"
   ]
  },
  {
   "cell_type": "code",
   "execution_count": 766,
   "metadata": {},
   "outputs": [
    {
     "data": {
      "text/plain": [
       "Index(['S.A.', '4-week average initial claims', 'mmyy', 'CCI value', 'Close',\n",
       "       'consentival'],\n",
       "      dtype='object')"
      ]
     },
     "execution_count": 766,
     "metadata": {},
     "output_type": "execute_result"
    }
   ],
   "source": [
    "\n",
    "df.columns"
   ]
  },
  {
   "cell_type": "code",
   "execution_count": 760,
   "metadata": {},
   "outputs": [],
   "source": [
    "#train data for model\n",
    "x_train = train1.drop(['CCI value','mmyy','S.A.'],axis=1)\n",
    "\n",
    "y_train = train1['CCI value']\n",
    "\n",
    "#validation data for model\n",
    "x_val = val1.drop(['CCI value','mmyy','S.A.'],axis=1)\n",
    "\n",
    "y_val = val1['CCI value']\n",
    "\n",
    "#train plus validation data for model\n",
    "x_tval =  valt.drop(['CCI value','mmyy','S.A.'],axis=1)\n",
    "y_tval = valt['CCI value']\n",
    "\n",
    "#test data for model\n",
    "x_test = test.drop(['CCI value','mmyy','S.A.'],axis=1)\n",
    "y_test = test['CCI value']"
   ]
  },
  {
   "cell_type": "code",
   "execution_count": 761,
   "metadata": {},
   "outputs": [
    {
     "data": {
      "text/html": [
       "<table class=\"simpletable\">\n",
       "<caption>OLS Regression Results</caption>\n",
       "<tr>\n",
       "  <th>Dep. Variable:</th>        <td>CCI value</td>    <th>  R-squared:         </th> <td>   0.945</td>\n",
       "</tr>\n",
       "<tr>\n",
       "  <th>Model:</th>                   <td>OLS</td>       <th>  Adj. R-squared:    </th> <td>   0.943</td>\n",
       "</tr>\n",
       "<tr>\n",
       "  <th>Method:</th>             <td>Least Squares</td>  <th>  F-statistic:       </th> <td>   749.7</td>\n",
       "</tr>\n",
       "<tr>\n",
       "  <th>Date:</th>             <td>Sat, 18 Apr 2020</td> <th>  Prob (F-statistic):</th> <td>1.11e-82</td>\n",
       "</tr>\n",
       "<tr>\n",
       "  <th>Time:</th>                 <td>22:17:23</td>     <th>  Log-Likelihood:    </th> <td> -451.26</td>\n",
       "</tr>\n",
       "<tr>\n",
       "  <th>No. Observations:</th>      <td>   136</td>      <th>  AIC:               </th> <td>   910.5</td>\n",
       "</tr>\n",
       "<tr>\n",
       "  <th>Df Residuals:</th>          <td>   132</td>      <th>  BIC:               </th> <td>   922.2</td>\n",
       "</tr>\n",
       "<tr>\n",
       "  <th>Df Model:</th>              <td>     3</td>      <th>                     </th>     <td> </td>   \n",
       "</tr>\n",
       "<tr>\n",
       "  <th>Covariance Type:</th>      <td>nonrobust</td>    <th>                     </th>     <td> </td>   \n",
       "</tr>\n",
       "</table>\n",
       "<table class=\"simpletable\">\n",
       "<tr>\n",
       "                <td></td>                   <th>coef</th>     <th>std err</th>      <th>t</th>      <th>P>|t|</th>  <th>[0.025</th>    <th>0.975]</th>  \n",
       "</tr>\n",
       "<tr>\n",
       "  <th>const</th>                         <td>   -7.0190</td> <td>   10.853</td> <td>   -0.647</td> <td> 0.519</td> <td>  -28.487</td> <td>   14.449</td>\n",
       "</tr>\n",
       "<tr>\n",
       "  <th>4-week average initial claims</th> <td> -1.94e-05</td> <td> 1.39e-05</td> <td>   -1.398</td> <td> 0.164</td> <td>-4.68e-05</td> <td> 8.04e-06</td>\n",
       "</tr>\n",
       "<tr>\n",
       "  <th>Close</th>                         <td>    0.0351</td> <td>    0.003</td> <td>   10.948</td> <td> 0.000</td> <td>    0.029</td> <td>    0.041</td>\n",
       "</tr>\n",
       "<tr>\n",
       "  <th>consentival</th>                   <td>    0.4207</td> <td>    0.111</td> <td>    3.806</td> <td> 0.000</td> <td>    0.202</td> <td>    0.639</td>\n",
       "</tr>\n",
       "</table>\n",
       "<table class=\"simpletable\">\n",
       "<tr>\n",
       "  <th>Omnibus:</th>       <td>15.304</td> <th>  Durbin-Watson:     </th> <td>   0.893</td>\n",
       "</tr>\n",
       "<tr>\n",
       "  <th>Prob(Omnibus):</th> <td> 0.000</td> <th>  Jarque-Bera (JB):  </th> <td>  20.077</td>\n",
       "</tr>\n",
       "<tr>\n",
       "  <th>Skew:</th>          <td> 0.646</td> <th>  Prob(JB):          </th> <td>4.37e-05</td>\n",
       "</tr>\n",
       "<tr>\n",
       "  <th>Kurtosis:</th>      <td> 4.369</td> <th>  Cond. No.          </th> <td>6.83e+06</td>\n",
       "</tr>\n",
       "</table><br/><br/>Warnings:<br/>[1] Standard Errors assume that the covariance matrix of the errors is correctly specified.<br/>[2] The condition number is large, 6.83e+06. This might indicate that there are<br/>strong multicollinearity or other numerical problems."
      ],
      "text/plain": [
       "<class 'statsmodels.iolib.summary.Summary'>\n",
       "\"\"\"\n",
       "                            OLS Regression Results                            \n",
       "==============================================================================\n",
       "Dep. Variable:              CCI value   R-squared:                       0.945\n",
       "Model:                            OLS   Adj. R-squared:                  0.943\n",
       "Method:                 Least Squares   F-statistic:                     749.7\n",
       "Date:                Sat, 18 Apr 2020   Prob (F-statistic):           1.11e-82\n",
       "Time:                        22:17:23   Log-Likelihood:                -451.26\n",
       "No. Observations:                 136   AIC:                             910.5\n",
       "Df Residuals:                     132   BIC:                             922.2\n",
       "Df Model:                           3                                         \n",
       "Covariance Type:            nonrobust                                         \n",
       "=================================================================================================\n",
       "                                    coef    std err          t      P>|t|      [0.025      0.975]\n",
       "-------------------------------------------------------------------------------------------------\n",
       "const                            -7.0190     10.853     -0.647      0.519     -28.487      14.449\n",
       "4-week average initial claims  -1.94e-05   1.39e-05     -1.398      0.164   -4.68e-05    8.04e-06\n",
       "Close                             0.0351      0.003     10.948      0.000       0.029       0.041\n",
       "consentival                       0.4207      0.111      3.806      0.000       0.202       0.639\n",
       "==============================================================================\n",
       "Omnibus:                       15.304   Durbin-Watson:                   0.893\n",
       "Prob(Omnibus):                  0.000   Jarque-Bera (JB):               20.077\n",
       "Skew:                           0.646   Prob(JB):                     4.37e-05\n",
       "Kurtosis:                       4.369   Cond. No.                     6.83e+06\n",
       "==============================================================================\n",
       "\n",
       "Warnings:\n",
       "[1] Standard Errors assume that the covariance matrix of the errors is correctly specified.\n",
       "[2] The condition number is large, 6.83e+06. This might indicate that there are\n",
       "strong multicollinearity or other numerical problems.\n",
       "\"\"\""
      ]
     },
     "execution_count": 761,
     "metadata": {},
     "output_type": "execute_result"
    }
   ],
   "source": [
    "from sklearn.linear_model import LinearRegression\n",
    "import statsmodels.api as sm\n",
    "\n",
    "X2 = sm.add_constant(x_train)\n",
    "model1 = sm.OLS(y_train,X2).fit()\n",
    "model1.summary()\n",
    " "
   ]
  },
  {
   "cell_type": "code",
   "execution_count": 758,
   "metadata": {},
   "outputs": [
    {
     "data": {
      "text/html": [
       "<div>\n",
       "<style scoped>\n",
       "    .dataframe tbody tr th:only-of-type {\n",
       "        vertical-align: middle;\n",
       "    }\n",
       "\n",
       "    .dataframe tbody tr th {\n",
       "        vertical-align: top;\n",
       "    }\n",
       "\n",
       "    .dataframe thead th {\n",
       "        text-align: right;\n",
       "    }\n",
       "</style>\n",
       "<table border=\"1\" class=\"dataframe\">\n",
       "  <thead>\n",
       "    <tr style=\"text-align: right;\">\n",
       "      <th></th>\n",
       "      <th>const</th>\n",
       "      <th>4-week average initial claims</th>\n",
       "      <th>Close</th>\n",
       "      <th>consentival</th>\n",
       "    </tr>\n",
       "  </thead>\n",
       "  <tbody>\n",
       "    <tr>\n",
       "      <th>136</th>\n",
       "      <td>1.0</td>\n",
       "      <td>218250</td>\n",
       "      <td>2752.060059</td>\n",
       "      <td>100.0</td>\n",
       "    </tr>\n",
       "    <tr>\n",
       "      <th>137</th>\n",
       "      <td>1.0</td>\n",
       "      <td>221250</td>\n",
       "      <td>2941.760010</td>\n",
       "      <td>98.2</td>\n",
       "    </tr>\n",
       "    <tr>\n",
       "      <th>138</th>\n",
       "      <td>1.0</td>\n",
       "      <td>213750</td>\n",
       "      <td>2980.379883</td>\n",
       "      <td>98.4</td>\n",
       "    </tr>\n",
       "    <tr>\n",
       "      <th>139</th>\n",
       "      <td>1.0</td>\n",
       "      <td>216750</td>\n",
       "      <td>2926.459961</td>\n",
       "      <td>89.8</td>\n",
       "    </tr>\n",
       "    <tr>\n",
       "      <th>140</th>\n",
       "      <td>1.0</td>\n",
       "      <td>213000</td>\n",
       "      <td>2976.739990</td>\n",
       "      <td>93.2</td>\n",
       "    </tr>\n",
       "    <tr>\n",
       "      <th>141</th>\n",
       "      <td>1.0</td>\n",
       "      <td>215000</td>\n",
       "      <td>3037.560059</td>\n",
       "      <td>95.5</td>\n",
       "    </tr>\n",
       "    <tr>\n",
       "      <th>142</th>\n",
       "      <td>1.0</td>\n",
       "      <td>215500</td>\n",
       "      <td>3140.979980</td>\n",
       "      <td>96.8</td>\n",
       "    </tr>\n",
       "    <tr>\n",
       "      <th>143</th>\n",
       "      <td>1.0</td>\n",
       "      <td>226000</td>\n",
       "      <td>3230.780029</td>\n",
       "      <td>99.3</td>\n",
       "    </tr>\n",
       "  </tbody>\n",
       "</table>\n",
       "</div>"
      ],
      "text/plain": [
       "     const  4-week average initial claims        Close  consentival\n",
       "136    1.0                         218250  2752.060059        100.0\n",
       "137    1.0                         221250  2941.760010         98.2\n",
       "138    1.0                         213750  2980.379883         98.4\n",
       "139    1.0                         216750  2926.459961         89.8\n",
       "140    1.0                         213000  2976.739990         93.2\n",
       "141    1.0                         215000  3037.560059         95.5\n",
       "142    1.0                         215500  3140.979980         96.8\n",
       "143    1.0                         226000  3230.780029         99.3"
      ]
     },
     "execution_count": 758,
     "metadata": {},
     "output_type": "execute_result"
    }
   ],
   "source": [
    "x_val"
   ]
  },
  {
   "cell_type": "code",
   "execution_count": 763,
   "metadata": {},
   "outputs": [
    {
     "name": "stdout",
     "output_type": "stream",
     "text": [
      "136    127.496680\n",
      "137    133.345543\n",
      "138    134.931916\n",
      "139    129.361636\n",
      "140    132.631063\n",
      "141    135.696475\n",
      "142    139.866868\n",
      "143    143.869606\n",
      "dtype: float64\n"
     ]
    }
   ],
   "source": [
    "x_val = sm.add_constant(x_val)\n",
    "ypred = model1.predict(x_val)\n",
    "print(ypred)"
   ]
  },
  {
   "cell_type": "code",
   "execution_count": 764,
   "metadata": {},
   "outputs": [
    {
     "data": {
      "text/html": [
       "<div>\n",
       "<style scoped>\n",
       "    .dataframe tbody tr th:only-of-type {\n",
       "        vertical-align: middle;\n",
       "    }\n",
       "\n",
       "    .dataframe tbody tr th {\n",
       "        vertical-align: top;\n",
       "    }\n",
       "\n",
       "    .dataframe thead th {\n",
       "        text-align: right;\n",
       "    }\n",
       "</style>\n",
       "<table border=\"1\" class=\"dataframe\">\n",
       "  <thead>\n",
       "    <tr style=\"text-align: right;\">\n",
       "      <th></th>\n",
       "      <th>Actual</th>\n",
       "      <th>Predicted</th>\n",
       "    </tr>\n",
       "  </thead>\n",
       "  <tbody>\n",
       "    <tr>\n",
       "      <th>136</th>\n",
       "      <td>129.2</td>\n",
       "      <td>127.496680</td>\n",
       "    </tr>\n",
       "    <tr>\n",
       "      <th>137</th>\n",
       "      <td>131.3</td>\n",
       "      <td>133.345543</td>\n",
       "    </tr>\n",
       "    <tr>\n",
       "      <th>138</th>\n",
       "      <td>124.3</td>\n",
       "      <td>134.931916</td>\n",
       "    </tr>\n",
       "    <tr>\n",
       "      <th>139</th>\n",
       "      <td>135.8</td>\n",
       "      <td>129.361636</td>\n",
       "    </tr>\n",
       "    <tr>\n",
       "      <th>140</th>\n",
       "      <td>134.2</td>\n",
       "      <td>132.631063</td>\n",
       "    </tr>\n",
       "    <tr>\n",
       "      <th>141</th>\n",
       "      <td>126.3</td>\n",
       "      <td>135.696475</td>\n",
       "    </tr>\n",
       "    <tr>\n",
       "      <th>142</th>\n",
       "      <td>126.1</td>\n",
       "      <td>139.866868</td>\n",
       "    </tr>\n",
       "    <tr>\n",
       "      <th>143</th>\n",
       "      <td>126.8</td>\n",
       "      <td>143.869606</td>\n",
       "    </tr>\n",
       "  </tbody>\n",
       "</table>\n",
       "</div>"
      ],
      "text/plain": [
       "     Actual   Predicted\n",
       "136   129.2  127.496680\n",
       "137   131.3  133.345543\n",
       "138   124.3  134.931916\n",
       "139   135.8  129.361636\n",
       "140   134.2  132.631063\n",
       "141   126.3  135.696475\n",
       "142   126.1  139.866868\n",
       "143   126.8  143.869606"
      ]
     },
     "execution_count": 764,
     "metadata": {},
     "output_type": "execute_result"
    }
   ],
   "source": [
    "check = pd.DataFrame({'Actual':y_val,'Predicted':ypred})\n",
    "check"
   ]
  },
  {
   "cell_type": "code",
   "execution_count": 765,
   "metadata": {},
   "outputs": [
    {
     "name": "stdout",
     "output_type": "stream",
     "text": [
      "R2: -5.073\n",
      "MAE: 7.8\n",
      "RMSE: 9.6\n"
     ]
    }
   ],
   "source": [
    "#MAE - Mean absolute error and RMSE - Root mean squared error\n",
    "\n",
    "R2 = sklearn.metrics.r2_score(y_val,ypred)\n",
    "MAE = sklearn.metrics.mean_absolute_error(y_val,ypred)\n",
    "RMSE = nm.sqrt(sklearn.metrics.mean_squared_error(y_val,ypred))\n",
    "\n",
    "print(\"R2: {0:.3f}\".format(R2))\n",
    "print(\"MAE: {0:.1f}\".format(MAE))\n",
    "print(\"RMSE: {0:.1f}\".format(RMSE))"
   ]
  },
  {
   "cell_type": "markdown",
   "metadata": {},
   "source": [
    "### Test for model properties i.e error normality, residul vs fitted, error scatter plot"
   ]
  },
  {
   "cell_type": "code",
   "execution_count": 632,
   "metadata": {},
   "outputs": [],
   "source": [
    "pred_val = model.fittedvalues.copy()\n",
    "true_val = train['pandas_EMA'].values.copy()\n",
    "residual = true_val - pred_val"
   ]
  },
  {
   "cell_type": "code",
   "execution_count": 633,
   "metadata": {},
   "outputs": [
    {
     "data": {
      "image/png": "[encoded data removed]",
      "text/plain": [
       "<Figure size 432x180 with 1 Axes>"
      ]
     },
     "metadata": {},
     "output_type": "display_data"
    }
   ],
   "source": [
    "fig, ax = plt.subplots(figsize=(6,2.5))\n",
    "_ = ax.scatter(residual, pred_val)"
   ]
  },
  {
   "cell_type": "code",
   "execution_count": 636,
   "metadata": {},
   "outputs": [
    {
     "data": {
      "text/plain": [
       "0.9872571978014918"
      ]
     },
     "execution_count": 636,
     "metadata": {},
     "output_type": "execute_result"
    },
    {
     "data": {
      "image/png": "[encoded data removed]",
      "text/plain": [
       "<Figure size 432x180 with 1 Axes>"
      ]
     },
     "metadata": {},
     "output_type": "display_data"
    }
   ],
   "source": [
    "# Error QQ plot - testing for normality\n",
    "\n",
    "fig, ax = plt.subplots(figsize=(6,2.5))\n",
    "_, (__, ___, r) = sp.stats.probplot(residual, plot=ax, fit=True)\n",
    "r**2\n"
   ]
  },
  {
   "cell_type": "code",
   "execution_count": 638,
   "metadata": {},
   "outputs": [
    {
     "data": {
      "text/plain": [
       "(9.786348884292399e-11, 2.8097235607765093e-12)"
      ]
     },
     "execution_count": 638,
     "metadata": {},
     "output_type": "execute_result"
    }
   ],
   "source": [
    "\n",
    "_, pval, __, f_pval = statsmodels.stats.diagnostic.het_breuschpagan(residual, train[['unempvalue','phsival','snpval']])\n",
    "pval, f_pval\n"
   ]
  },
  {
   "cell_type": "code",
   "execution_count": 221,
   "metadata": {},
   "outputs": [],
   "source": [
    "plt.style.use('seaborn') # pretty matplotlib plots\n",
    "\n",
    "plt.rc('font', size=14)\n",
    "plt.rc('figure', titlesize=18)\n",
    "plt.rc('axes', labelsize=15)\n",
    "plt.rc('axes', titlesize=18)"
   ]
  },
  {
   "cell_type": "code",
   "execution_count": 223,
   "metadata": {},
   "outputs": [],
   "source": [
    "# fitted values (need a constant term for intercept)\n",
    "model_fitted_y = model.fittedvalues\n",
    "\n",
    "# model residuals\n",
    "model_residuals = model.resid\n",
    "\n",
    "# normalized residuals\n",
    "model_norm_residuals = model.get_influence().resid_studentized_internal\n",
    "\n",
    "# absolute squared normalized residuals\n",
    "model_norm_residuals_abs_sqrt = nm.sqrt(nm.abs(model_norm_residuals))\n",
    "\n",
    "# absolute residuals\n",
    "model_abs_resid = nm.abs(model_residuals)\n",
    "\n",
    "# leverage, from statsmodels internals\n",
    "model_leverage = model.get_influence().hat_matrix_diag\n",
    "\n",
    "# cook's distance, from statsmodels internals\n",
    "model_cooks = model.get_influence().cooks_distance[0]"
   ]
  },
  {
   "cell_type": "code",
   "execution_count": 224,
   "metadata": {},
   "outputs": [
    {
     "data": {
      "image/png": "[encoded data removed]",
      "text/plain": [
       "<Figure size 864x576 with 1 Axes>"
      ]
     },
     "metadata": {},
     "output_type": "display_data"
    }
   ],
   "source": [
    "plot_lm_1 = plt.figure(1)\n",
    "plot_lm_1.set_figheight(8)\n",
    "plot_lm_1.set_figwidth(12)\n",
    "\n",
    "plot_lm_1.axes[0] = sns.residplot(model_fitted_y, 'GRAND TOTAL', data=train, \n",
    "                          lowess=True, \n",
    "                          scatter_kws={'alpha': 0.5}, \n",
    "                          line_kws={'color': 'red', 'lw': 1, 'alpha': 0.8})\n",
    "\n",
    "plot_lm_1.axes[0].set_title('Residuals vs Fitted')\n",
    "plot_lm_1.axes[0].set_xlabel('Fitted values')\n",
    "plot_lm_1.axes[0].set_ylabel('Residuals')\n",
    "\n",
    "# annotations\n",
    "abs_resid = model_abs_resid.sort_values(ascending=False)\n",
    "abs_resid_top_3 = abs_resid[:3]\n",
    "\n",
    "for i in abs_resid_top_3.index:\n",
    "    plot_lm_1.axes[0].annotate(i, \n",
    "                               xy=(model_fitted_y[i], \n",
    "                                   model_residuals[i]));\n"
   ]
  },
  {
   "cell_type": "code",
   "execution_count": 228,
   "metadata": {},
   "outputs": [
    {
     "data": {
      "image/png": "[encoded data removed]",
      "text/plain": [
       "<Figure size 864x576 with 1 Axes>"
      ]
     },
     "metadata": {},
     "output_type": "display_data"
    }
   ],
   "source": [
    "QQ = ProbPlot(model_norm_residuals)\n",
    "plot_lm_2 = QQ.qqplot(line='45', alpha=0.5, color='#4C72B0', lw=1)\n",
    "\n",
    "plot_lm_2.set_figheight(8)\n",
    "plot_lm_2.set_figwidth(12)\n",
    "\n",
    "plot_lm_2.axes[0].set_title('Normal Q-Q')\n",
    "plot_lm_2.axes[0].set_xlabel('Theoretical Quantiles')\n",
    "plot_lm_2.axes[0].set_ylabel('Standardized Residuals');\n",
    "\n",
    "# annotations\n",
    "abs_norm_resid = nm.flip(nm.argsort(nm.abs(model_norm_residuals)), 0)\n",
    "abs_norm_resid_top_3 = abs_norm_resid[:3]\n",
    "\n",
    "for r, i in enumerate(abs_norm_resid_top_3):\n",
    "    plot_lm_2.axes[0].annotate(i, \n",
    "                               xy=(nm.flip(QQ.theoretical_quantiles, 0)[r],\n",
    "                                   model_norm_residuals[i]));"
   ]
  },
  {
   "cell_type": "code",
   "execution_count": 657,
   "metadata": {},
   "outputs": [
    {
     "data": {
      "text/html": [
       "<table class=\"simpletable\">\n",
       "<caption>OLS Regression Results</caption>\n",
       "<tr>\n",
       "  <th>Dep. Variable:</th>       <td>pandas_EMA</td>    <th>  R-squared:         </th> <td>   0.930</td>\n",
       "</tr>\n",
       "<tr>\n",
       "  <th>Model:</th>                   <td>OLS</td>       <th>  Adj. R-squared:    </th> <td>   0.928</td>\n",
       "</tr>\n",
       "<tr>\n",
       "  <th>Method:</th>             <td>Least Squares</td>  <th>  F-statistic:       </th> <td>   517.5</td>\n",
       "</tr>\n",
       "<tr>\n",
       "  <th>Date:</th>             <td>Wed, 08 Apr 2020</td> <th>  Prob (F-statistic):</th> <td>2.46e-67</td>\n",
       "</tr>\n",
       "<tr>\n",
       "  <th>Time:</th>                 <td>22:40:56</td>     <th>  Log-Likelihood:    </th> <td>  229.84</td>\n",
       "</tr>\n",
       "<tr>\n",
       "  <th>No. Observations:</th>      <td>   121</td>      <th>  AIC:               </th> <td>  -451.7</td>\n",
       "</tr>\n",
       "<tr>\n",
       "  <th>Df Residuals:</th>          <td>   117</td>      <th>  BIC:               </th> <td>  -440.5</td>\n",
       "</tr>\n",
       "<tr>\n",
       "  <th>Df Model:</th>              <td>     3</td>      <th>                     </th>     <td> </td>   \n",
       "</tr>\n",
       "<tr>\n",
       "  <th>Covariance Type:</th>      <td>nonrobust</td>    <th>                     </th>     <td> </td>   \n",
       "</tr>\n",
       "</table>\n",
       "<table class=\"simpletable\">\n",
       "<tr>\n",
       "       <td></td>          <th>coef</th>     <th>std err</th>      <th>t</th>      <th>P>|t|</th>  <th>[0.025</th>    <th>0.975]</th>  \n",
       "</tr>\n",
       "<tr>\n",
       "  <th>const</th>       <td>    0.3938</td> <td>    0.003</td> <td>  117.626</td> <td> 0.000</td> <td>    0.387</td> <td>    0.400</td>\n",
       "</tr>\n",
       "<tr>\n",
       "  <th>unempvalue1</th> <td>   -0.1164</td> <td>    0.016</td> <td>   -7.159</td> <td> 0.000</td> <td>   -0.149</td> <td>   -0.084</td>\n",
       "</tr>\n",
       "<tr>\n",
       "  <th>phsival1</th>    <td>    0.0559</td> <td>    0.006</td> <td>    9.106</td> <td> 0.000</td> <td>    0.044</td> <td>    0.068</td>\n",
       "</tr>\n",
       "<tr>\n",
       "  <th>snpval1</th>     <td>   -0.0361</td> <td>    0.014</td> <td>   -2.656</td> <td> 0.009</td> <td>   -0.063</td> <td>   -0.009</td>\n",
       "</tr>\n",
       "</table>\n",
       "<table class=\"simpletable\">\n",
       "<tr>\n",
       "  <th>Omnibus:</th>       <td> 2.772</td> <th>  Durbin-Watson:     </th> <td>   0.307</td>\n",
       "</tr>\n",
       "<tr>\n",
       "  <th>Prob(Omnibus):</th> <td> 0.250</td> <th>  Jarque-Bera (JB):  </th> <td>   2.618</td>\n",
       "</tr>\n",
       "<tr>\n",
       "  <th>Skew:</th>          <td> 0.359</td> <th>  Prob(JB):          </th> <td>   0.270</td>\n",
       "</tr>\n",
       "<tr>\n",
       "  <th>Kurtosis:</th>      <td> 2.942</td> <th>  Cond. No.          </th> <td>    10.3</td>\n",
       "</tr>\n",
       "</table><br/><br/>Warnings:<br/>[1] Standard Errors assume that the covariance matrix of the errors is correctly specified."
      ],
      "text/plain": [
       "<class 'statsmodels.iolib.summary.Summary'>\n",
       "\"\"\"\n",
       "                            OLS Regression Results                            \n",
       "==============================================================================\n",
       "Dep. Variable:             pandas_EMA   R-squared:                       0.930\n",
       "Model:                            OLS   Adj. R-squared:                  0.928\n",
       "Method:                 Least Squares   F-statistic:                     517.5\n",
       "Date:                Wed, 08 Apr 2020   Prob (F-statistic):           2.46e-67\n",
       "Time:                        22:40:56   Log-Likelihood:                 229.84\n",
       "No. Observations:                 121   AIC:                            -451.7\n",
       "Df Residuals:                     117   BIC:                            -440.5\n",
       "Df Model:                           3                                         \n",
       "Covariance Type:            nonrobust                                         \n",
       "===============================================================================\n",
       "                  coef    std err          t      P>|t|      [0.025      0.975]\n",
       "-------------------------------------------------------------------------------\n",
       "const           0.3938      0.003    117.626      0.000       0.387       0.400\n",
       "unempvalue1    -0.1164      0.016     -7.159      0.000      -0.149      -0.084\n",
       "phsival1        0.0559      0.006      9.106      0.000       0.044       0.068\n",
       "snpval1        -0.0361      0.014     -2.656      0.009      -0.063      -0.009\n",
       "==============================================================================\n",
       "Omnibus:                        2.772   Durbin-Watson:                   0.307\n",
       "Prob(Omnibus):                  0.250   Jarque-Bera (JB):                2.618\n",
       "Skew:                           0.359   Prob(JB):                        0.270\n",
       "Kurtosis:                       2.942   Cond. No.                         10.3\n",
       "==============================================================================\n",
       "\n",
       "Warnings:\n",
       "[1] Standard Errors assume that the covariance matrix of the errors is correctly specified.\n",
       "\"\"\""
      ]
     },
     "execution_count": 657,
     "metadata": {},
     "output_type": "execute_result"
    }
   ],
   "source": [
    "\n",
    "x = train[['const','unempvalue1','phsival1','snpval1']]\n",
    "y = train['pandas_EMA']\n",
    "model1 = sm.OLS(y,x).fit()\n",
    "model1.summary()\n",
    "#model.fit(x,y)\n"
   ]
  },
  {
   "cell_type": "code",
   "execution_count": 60,
   "metadata": {},
   "outputs": [
    {
     "data": {
      "text/plain": [
       "Text(0, 0.5, 'value')"
      ]
     },
     "execution_count": 60,
     "metadata": {},
     "output_type": "execute_result"
    },
    {
     "data": {
      "image/png": "[encoded data removed]",
      "text/plain": [
       "<Figure size 792x288 with 1 Axes>"
      ]
     },
     "metadata": {},
     "output_type": "display_data"
    }
   ],
   "source": [
    "#cci ploit\n",
    "sns.set(rc={'figure.figsize':(11, 4)})\n",
    "cci['cciscale'].plot(linewidth=.5).set_ylabel('value')"
   ]
  },
  {
   "cell_type": "code",
   "execution_count": 767,
   "metadata": {},
   "outputs": [
    {
     "data": {
      "text/plain": [
       "Text(0, 0.5, 'value')"
      ]
     },
     "execution_count": 767,
     "metadata": {},
     "output_type": "execute_result"
    },
    {
     "data": {
      "image/png": "[encoded data removed]",
      "text/plain": [
       "<Figure size 792x288 with 1 Axes>"
      ]
     },
     "metadata": {},
     "output_type": "display_data"
    }
   ],
   "source": [
    "sns.set(rc={'figure.figsize':(11, 4)})\n",
    "retail['retailscale'].plot(linewidth=.5).set_ylabel('value')"
   ]
  },
  {
   "cell_type": "code",
   "execution_count": 768,
   "metadata": {},
   "outputs": [
    {
     "data": {
      "text/html": [
       "<div>\n",
       "<style scoped>\n",
       "    .dataframe tbody tr th:only-of-type {\n",
       "        vertical-align: middle;\n",
       "    }\n",
       "\n",
       "    .dataframe tbody tr th {\n",
       "        vertical-align: top;\n",
       "    }\n",
       "\n",
       "    .dataframe thead th {\n",
       "        text-align: right;\n",
       "    }\n",
       "</style>\n",
       "<table border=\"1\" class=\"dataframe\">\n",
       "  <thead>\n",
       "    <tr style=\"text-align: right;\">\n",
       "      <th></th>\n",
       "      <th>n</th>\n",
       "      <th>r</th>\n",
       "      <th>CI95%</th>\n",
       "      <th>r2</th>\n",
       "      <th>adj_r2</th>\n",
       "      <th>p-val</th>\n",
       "      <th>BF10</th>\n",
       "      <th>power</th>\n",
       "    </tr>\n",
       "  </thead>\n",
       "  <tbody>\n",
       "    <tr>\n",
       "      <th>pearson</th>\n",
       "      <td>146</td>\n",
       "      <td>0.958</td>\n",
       "      <td>[0.94, 0.97]</td>\n",
       "      <td>0.918</td>\n",
       "      <td>0.917</td>\n",
       "      <td>5.441047e-80</td>\n",
       "      <td>1.116e+76</td>\n",
       "      <td>1.0</td>\n",
       "    </tr>\n",
       "  </tbody>\n",
       "</table>\n",
       "</div>"
      ],
      "text/plain": [
       "           n      r         CI95%     r2  adj_r2         p-val       BF10  \\\n",
       "pearson  146  0.958  [0.94, 0.97]  0.918   0.917  5.441047e-80  1.116e+76   \n",
       "\n",
       "         power  \n",
       "pearson    1.0  "
      ]
     },
     "execution_count": 768,
     "metadata": {},
     "output_type": "execute_result"
    }
   ],
   "source": [
    "pg.corr(x=retail['retailscale'], y=cci['cciscale'])"
   ]
  },
  {
   "cell_type": "code",
   "execution_count": 976,
   "metadata": {},
   "outputs": [
    {
     "data": {
      "text/plain": [
       "Text(0, 0.5, 'value')"
      ]
     },
     "execution_count": 976,
     "metadata": {},
     "output_type": "execute_result"
    },
    {
     "data": {
      "image/png": "[encoded data removed]",
      "text/plain": [
       "<Figure size 792x288 with 1 Axes>"
      ]
     },
     "metadata": {},
     "output_type": "display_data"
    }
   ],
   "source": [
    "sns.set(rc={'figure.figsize':(11, 4)})\n",
    "train1['snpchange'].plot(linewidth=.5).set_ylabel('value')"
   ]
  },
  {
   "cell_type": "code",
   "execution_count": 1049,
   "metadata": {
    "scrolled": false
   },
   "outputs": [
    {
     "data": {
      "text/html": [
       "<div>\n",
       "<style scoped>\n",
       "    .dataframe tbody tr th:only-of-type {\n",
       "        vertical-align: middle;\n",
       "    }\n",
       "\n",
       "    .dataframe tbody tr th {\n",
       "        vertical-align: top;\n",
       "    }\n",
       "\n",
       "    .dataframe thead th {\n",
       "        text-align: right;\n",
       "    }\n",
       "</style>\n",
       "<table border=\"1\" class=\"dataframe\">\n",
       "  <thead>\n",
       "    <tr style=\"text-align: right;\">\n",
       "      <th></th>\n",
       "      <th>n</th>\n",
       "      <th>r</th>\n",
       "      <th>CI95%</th>\n",
       "      <th>r2</th>\n",
       "      <th>adj_r2</th>\n",
       "      <th>p-val</th>\n",
       "      <th>BF10</th>\n",
       "      <th>power</th>\n",
       "    </tr>\n",
       "  </thead>\n",
       "  <tbody>\n",
       "    <tr>\n",
       "      <th>pearson</th>\n",
       "      <td>146</td>\n",
       "      <td>-0.882</td>\n",
       "      <td>[-0.91, -0.84]</td>\n",
       "      <td>0.778</td>\n",
       "      <td>0.775</td>\n",
       "      <td>6.235998e-49</td>\n",
       "      <td>2.834e+45</td>\n",
       "      <td>1.0</td>\n",
       "    </tr>\n",
       "  </tbody>\n",
       "</table>\n",
       "</div>"
      ],
      "text/plain": [
       "           n      r           CI95%     r2  adj_r2         p-val       BF10  \\\n",
       "pearson  146 -0.882  [-0.91, -0.84]  0.778   0.775  6.235998e-49  2.834e+45   \n",
       "\n",
       "         power  \n",
       "pearson    1.0  "
      ]
     },
     "execution_count": 1049,
     "metadata": {},
     "output_type": "execute_result"
    }
   ],
   "source": [
    "pg.corr(x=train1['retailfoodservValue'], y=train1['value'])"
   ]
  },
  {
   "cell_type": "code",
   "execution_count": 1050,
   "metadata": {},
   "outputs": [
    {
     "data": {
      "text/html": [
       "<table class=\"simpletable\">\n",
       "<caption>OLS Regression Results</caption>\n",
       "<tr>\n",
       "  <th>Dep. Variable:</th>    <td>retailfoodservValue</td> <th>  R-squared:         </th> <td>   0.778</td>\n",
       "</tr>\n",
       "<tr>\n",
       "  <th>Model:</th>                    <td>OLS</td>         <th>  Adj. R-squared:    </th> <td>   0.777</td>\n",
       "</tr>\n",
       "<tr>\n",
       "  <th>Method:</th>              <td>Least Squares</td>    <th>  F-statistic:       </th> <td>   505.0</td>\n",
       "</tr>\n",
       "<tr>\n",
       "  <th>Date:</th>              <td>Fri, 10 Apr 2020</td>   <th>  Prob (F-statistic):</th> <td>6.24e-49</td>\n",
       "</tr>\n",
       "<tr>\n",
       "  <th>Time:</th>                  <td>02:05:32</td>       <th>  Log-Likelihood:    </th> <td> -1696.5</td>\n",
       "</tr>\n",
       "<tr>\n",
       "  <th>No. Observations:</th>       <td>   146</td>        <th>  AIC:               </th> <td>   3397.</td>\n",
       "</tr>\n",
       "<tr>\n",
       "  <th>Df Residuals:</th>           <td>   144</td>        <th>  BIC:               </th> <td>   3403.</td>\n",
       "</tr>\n",
       "<tr>\n",
       "  <th>Df Model:</th>               <td>     1</td>        <th>                     </th>     <td> </td>   \n",
       "</tr>\n",
       "<tr>\n",
       "  <th>Covariance Type:</th>       <td>nonrobust</td>      <th>                     </th>     <td> </td>   \n",
       "</tr>\n",
       "</table>\n",
       "<table class=\"simpletable\">\n",
       "<tr>\n",
       "    <td></td>       <th>coef</th>     <th>std err</th>      <th>t</th>      <th>P>|t|</th>  <th>[0.025</th>    <th>0.975]</th>  \n",
       "</tr>\n",
       "<tr>\n",
       "  <th>cnst</th>  <td> 5.802e+05</td> <td> 7199.114</td> <td>   80.594</td> <td> 0.000</td> <td> 5.66e+05</td> <td> 5.94e+05</td>\n",
       "</tr>\n",
       "<tr>\n",
       "  <th>value</th> <td>-2.402e+04</td> <td> 1068.938</td> <td>  -22.473</td> <td> 0.000</td> <td>-2.61e+04</td> <td>-2.19e+04</td>\n",
       "</tr>\n",
       "</table>\n",
       "<table class=\"simpletable\">\n",
       "<tr>\n",
       "  <th>Omnibus:</th>       <td>60.359</td> <th>  Durbin-Watson:     </th> <td>   0.034</td>\n",
       "</tr>\n",
       "<tr>\n",
       "  <th>Prob(Omnibus):</th> <td> 0.000</td> <th>  Jarque-Bera (JB):  </th> <td> 136.186</td>\n",
       "</tr>\n",
       "<tr>\n",
       "  <th>Skew:</th>          <td>-1.828</td> <th>  Prob(JB):          </th> <td>2.68e-30</td>\n",
       "</tr>\n",
       "<tr>\n",
       "  <th>Kurtosis:</th>      <td> 6.004</td> <th>  Cond. No.          </th> <td>    22.0</td>\n",
       "</tr>\n",
       "</table><br/><br/>Warnings:<br/>[1] Standard Errors assume that the covariance matrix of the errors is correctly specified."
      ],
      "text/plain": [
       "<class 'statsmodels.iolib.summary.Summary'>\n",
       "\"\"\"\n",
       "                             OLS Regression Results                            \n",
       "===============================================================================\n",
       "Dep. Variable:     retailfoodservValue   R-squared:                       0.778\n",
       "Model:                             OLS   Adj. R-squared:                  0.777\n",
       "Method:                  Least Squares   F-statistic:                     505.0\n",
       "Date:                 Fri, 10 Apr 2020   Prob (F-statistic):           6.24e-49\n",
       "Time:                         02:05:32   Log-Likelihood:                -1696.5\n",
       "No. Observations:                  146   AIC:                             3397.\n",
       "Df Residuals:                      144   BIC:                             3403.\n",
       "Df Model:                            1                                         \n",
       "Covariance Type:             nonrobust                                         \n",
       "==============================================================================\n",
       "                 coef    std err          t      P>|t|      [0.025      0.975]\n",
       "------------------------------------------------------------------------------\n",
       "cnst        5.802e+05   7199.114     80.594      0.000    5.66e+05    5.94e+05\n",
       "value      -2.402e+04   1068.938    -22.473      0.000   -2.61e+04   -2.19e+04\n",
       "==============================================================================\n",
       "Omnibus:                       60.359   Durbin-Watson:                   0.034\n",
       "Prob(Omnibus):                  0.000   Jarque-Bera (JB):              136.186\n",
       "Skew:                          -1.828   Prob(JB):                     2.68e-30\n",
       "Kurtosis:                       6.004   Cond. No.                         22.0\n",
       "==============================================================================\n",
       "\n",
       "Warnings:\n",
       "[1] Standard Errors assume that the covariance matrix of the errors is correctly specified.\n",
       "\"\"\""
      ]
     },
     "execution_count": 1050,
     "metadata": {},
     "output_type": "execute_result"
    }
   ],
   "source": [
    "x = train1[['cnst','value']]\n",
    "y = train1['retailfoodservValue']\n",
    "model = sm.OLS(y,x).fit()\n",
    "model.summary()\n",
    "#model.fit(x,y)"
   ]
  },
  {
   "cell_type": "code",
   "execution_count": 1047,
   "metadata": {},
   "outputs": [],
   "source": [
    "# fitted values (need a constant term for intercept)\n",
    "model_fitted_y = model.fittedvalues\n",
    "\n",
    "# model residuals\n",
    "model_residuals = model.resid\n",
    "\n",
    "# normalized residuals\n",
    "model_norm_residuals = model.get_influence().resid_studentized_internal\n",
    "\n",
    "# absolute squared normalized residuals\n",
    "model_norm_residuals_abs_sqrt = np.sqrt(np.abs(model_norm_residuals))\n",
    "\n",
    "# absolute residuals\n",
    "model_abs_resid = np.abs(model_residuals)\n",
    "\n",
    "# leverage, from statsmodels internals\n",
    "model_leverage = model.get_influence().hat_matrix_diag\n",
    "\n",
    "# cook's distance, from statsmodels internals\n",
    "model_cooks = model.get_influence().cooks_distance[0]"
   ]
  },
  {
   "cell_type": "code",
   "execution_count": 1048,
   "metadata": {},
   "outputs": [
    {
     "data": {
      "image/png": "[encoded data removed]",
      "text/plain": [
       "<Figure size 864x576 with 1 Axes>"
      ]
     },
     "metadata": {},
     "output_type": "display_data"
    }
   ],
   "source": [
    "plot_lm_1 = plt.figure(1)\n",
    "plot_lm_1.set_figheight(8)\n",
    "plot_lm_1.set_figwidth(12)\n",
    "\n",
    "plot_lm_1.axes[0] = sns.residplot(model_fitted_y, 'clothingval', data=train1, \n",
    "                          lowess=True, \n",
    "                          scatter_kws={'alpha': 0.5}, \n",
    "                          line_kws={'color': 'red', 'lw': 1, 'alpha': 0.8})\n",
    "\n",
    "plot_lm_1.axes[0].set_title('Residuals vs Fitted')\n",
    "plot_lm_1.axes[0].set_xlabel('Fitted values')\n",
    "plot_lm_1.axes[0].set_ylabel('Residuals')\n",
    "\n",
    "# annotations\n",
    "abs_resid = model_abs_resid.sort_values(ascending=False)\n",
    "abs_resid_top_3 = abs_resid[:3]\n",
    "\n",
    "for i in abs_resid_top_3.index:\n",
    "    plot_lm_1.axes[0].annotate(i, \n",
    "                               xy=(model_fitted_y[i], \n",
    "                                   model_residuals[i]));"
   ]
  },
  {
   "cell_type": "code",
   "execution_count": 990,
   "metadata": {},
   "outputs": [
    {
     "data": {
      "image/png": "[encoded data removed]",
      "text/plain": [
       "<Figure size 864x576 with 1 Axes>"
      ]
     },
     "metadata": {},
     "output_type": "display_data"
    }
   ],
   "source": [
    "QQ = ProbPlot(model_norm_residuals)\n",
    "plot_lm_2 = QQ.qqplot(line='45', alpha=0.5, color='#4C72B0', lw=1)\n",
    "\n",
    "plot_lm_2.set_figheight(8)\n",
    "plot_lm_2.set_figwidth(12)\n",
    "\n",
    "plot_lm_2.axes[0].set_title('Normal Q-Q')\n",
    "plot_lm_2.axes[0].set_xlabel('Theoretical Quantiles')\n",
    "plot_lm_2.axes[0].set_ylabel('Standardized Residuals');\n",
    "\n",
    "# annotations\n",
    "abs_norm_resid = np.flip(np.argsort(np.abs(model_norm_residuals)), 0)\n",
    "abs_norm_resid_top_3 = abs_norm_resid[:3]\n",
    "\n",
    "for r, i in enumerate(abs_norm_resid_top_3):\n",
    "    plot_lm_2.axes[0].annotate(i, \n",
    "                               xy=(np.flip(QQ.theoretical_quantiles, 0)[r],\n",
    "                                   model_norm_residuals[i]));"
   ]
  },
  {
   "cell_type": "code",
   "execution_count": 91,
   "metadata": {},
   "outputs": [
    {
     "data": {
      "text/html": [
       "<div>\n",
       "<style scoped>\n",
       "    .dataframe tbody tr th:only-of-type {\n",
       "        vertical-align: middle;\n",
       "    }\n",
       "\n",
       "    .dataframe tbody tr th {\n",
       "        vertical-align: top;\n",
       "    }\n",
       "\n",
       "    .dataframe thead th {\n",
       "        text-align: right;\n",
       "    }\n",
       "</style>\n",
       "<table border=\"1\" class=\"dataframe\">\n",
       "  <thead>\n",
       "    <tr style=\"text-align: right;\">\n",
       "      <th></th>\n",
       "      <th>n</th>\n",
       "      <th>r</th>\n",
       "      <th>CI95%</th>\n",
       "      <th>r2</th>\n",
       "      <th>adj_r2</th>\n",
       "      <th>p-val</th>\n",
       "      <th>BF10</th>\n",
       "      <th>power</th>\n",
       "    </tr>\n",
       "  </thead>\n",
       "  <tbody>\n",
       "    <tr>\n",
       "      <th>pearson</th>\n",
       "      <td>121</td>\n",
       "      <td>-0.918</td>\n",
       "      <td>[-0.94, -0.88]</td>\n",
       "      <td>0.843</td>\n",
       "      <td>0.84</td>\n",
       "      <td>1.154486e-49</td>\n",
       "      <td>1.267e+46</td>\n",
       "      <td>1.0</td>\n",
       "    </tr>\n",
       "  </tbody>\n",
       "</table>\n",
       "</div>"
      ],
      "text/plain": [
       "           n      r           CI95%     r2  adj_r2         p-val       BF10  \\\n",
       "pearson  121 -0.918  [-0.94, -0.88]  0.843    0.84  1.154486e-49  1.267e+46   \n",
       "\n",
       "         power  \n",
       "pearson    1.0  "
      ]
     },
     "execution_count": 91,
     "metadata": {},
     "output_type": "execute_result"
    }
   ],
   "source": [
    "import pingouin as pg\n",
    "pg.corr(x=unemp1[unemp1.index > '2010-1-1'].iloc[0:121,1], y=adspend['val_EMA'])"
   ]
  },
  {
   "cell_type": "code",
   "execution_count": 95,
   "metadata": {},
   "outputs": [
    {
     "data": {
      "text/html": [
       "<div>\n",
       "<style scoped>\n",
       "    .dataframe tbody tr th:only-of-type {\n",
       "        vertical-align: middle;\n",
       "    }\n",
       "\n",
       "    .dataframe tbody tr th {\n",
       "        vertical-align: top;\n",
       "    }\n",
       "\n",
       "    .dataframe thead th {\n",
       "        text-align: right;\n",
       "    }\n",
       "</style>\n",
       "<table border=\"1\" class=\"dataframe\">\n",
       "  <thead>\n",
       "    <tr style=\"text-align: right;\">\n",
       "      <th></th>\n",
       "      <th>n</th>\n",
       "      <th>r</th>\n",
       "      <th>CI95%</th>\n",
       "      <th>r2</th>\n",
       "      <th>adj_r2</th>\n",
       "      <th>p-val</th>\n",
       "      <th>BF10</th>\n",
       "      <th>power</th>\n",
       "    </tr>\n",
       "  </thead>\n",
       "  <tbody>\n",
       "    <tr>\n",
       "      <th>pearson</th>\n",
       "      <td>121</td>\n",
       "      <td>-0.972</td>\n",
       "      <td>[-0.98, -0.96]</td>\n",
       "      <td>0.945</td>\n",
       "      <td>0.945</td>\n",
       "      <td>5.081671e-77</td>\n",
       "      <td>9.487e+72</td>\n",
       "      <td>1.0</td>\n",
       "    </tr>\n",
       "  </tbody>\n",
       "</table>\n",
       "</div>"
      ],
      "text/plain": [
       "           n      r           CI95%     r2  adj_r2         p-val       BF10  \\\n",
       "pearson  121 -0.972  [-0.98, -0.96]  0.945   0.945  5.081671e-77  9.487e+72   \n",
       "\n",
       "         power  \n",
       "pearson    1.0  "
      ]
     },
     "execution_count": 95,
     "metadata": {},
     "output_type": "execute_result"
    }
   ],
   "source": [
    "\n",
    "pg.corr(x=unemp1[unemp1.index > '2010-1-1'].iloc[0:121,1], y=retail[retail.index > '2010-1-1'].iloc[0:121,1])\n",
    " "
   ]
  }
 ],
 "metadata": {
  "kernelspec": {
   "display_name": "Python 3",
   "language": "python",
   "name": "python3"
  },
  "language_info": {
   "codemirror_mode": {
    "name": "ipython",
    "version": 3
   },
   "file_extension": ".py",
   "mimetype": "text/x-python",
   "name": "python",
   "nbconvert_exporter": "python",
   "pygments_lexer": "ipython3",
   "version": "3.7.1"
  }
 },
 "nbformat": 4,
 "nbformat_minor": 4
}
