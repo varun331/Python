{
 "cells": [
  {
   "cell_type": "code",
   "execution_count": 1,
   "metadata": {},
   "outputs": [],
   "source": [
    "#Intellisense\n",
    "\n",
    "%config IPCompleter.greedy=True"
   ]
  },
  {
   "cell_type": "code",
   "execution_count": 3,
   "metadata": {},
   "outputs": [],
   "source": [
    "import pandas as pd\n",
    "#class to listen the tweets based on certain keywords/ hastags\n",
    "from tweepy.streaming import StreamListener\n",
    "# class for authenticating\n",
    "from tweepy import OAuthHandler\n",
    "from tweepy import Stream"
   ]
  },
  {
   "cell_type": "code",
   "execution_count": null,
   "metadata": {},
   "outputs": [],
   "source": [
    "#access project via service account\n",
    "PROJECT_ID = 'rgadata-m11'\n",
    "\n",
    "#create a client instance for you project\n",
    "from google.cloud import bigquery\n",
    "from google.oauth2 import service_account\n",
    "creds = service_account.Credentials.from_service_account_file(r\"C:\\Users\\varunn\\Documents\\kaggle-competiton\\credentials\\credentials.json\")\n",
    "client = bigquery.Client(project=PROJECT_ID,location='US',credentials=creds)\n"
   ]
  },
  {
   "cell_type": "code",
   "execution_count": 11,
   "metadata": {},
   "outputs": [
    {
     "name": "stdout",
     "output_type": "stream",
     "text": [
      "Please visit this URL to authorize this application: https://accounts.google.com/o/oauth2/auth?response_type=code&client_id=275664291874-jutmedsp4bmt6o40tm0809phnk9tnruc.apps.googleusercontent.com&redirect_uri=http%3A%2F%2Flocalhost%3A8080%2F&scope=https%3A%2F%2Fwww.googleapis.com%2Fauth%2Fbigquery&state=hplCXwb3v9coXk3h2IBIlk2z0ZSFaY&access_type=offline\n"
     ]
    }
   ],
   "source": [
    "#access project via user account\n",
    "from google_auth_oauthlib import flow\n",
    "\n",
    "# TODO: Uncomment the line below to set the `launch_browser` variable.\n",
    "launch_browser = True\n",
    "#\n",
    "# The `launch_browser` boolean variable indicates if a local server is used\n",
    "# as the callback URL in the auth flow. A value of `True` is recommended,\n",
    "# but a local server does not work if accessing the application remotely,\n",
    "# such as over SSH or from a remote Jupyter notebook.\n",
    "\n",
    "appflow = flow.InstalledAppFlow.from_client_secrets_file(\n",
    "    r\"C:\\Users\\varunn\\Documents\\kaggle-competiton\\credentials\\credentials.json\",\n",
    "    scopes=['https://www.googleapis.com/auth/bigquery'])\n",
    "\n",
    "if launch_browser:\n",
    "    appflow.run_local_server()\n",
    "else:\n",
    "    appflow.run_console()\n",
    "\n",
    "credentials = appflow.credentials"
   ]
  },
  {
   "cell_type": "code",
   "execution_count": null,
   "metadata": {},
   "outputs": [],
   "source": [
    "client = bigquery.Client(project=PROJECT_ID,location='US',credentials=credentials)"
   ]
  },
  {
   "cell_type": "code",
   "execution_count": 13,
   "metadata": {
    "scrolled": true
   },
   "outputs": [
    {
     "data": {
      "text/plain": [
       "Dataset(DatasetReference('rgadata-m11', 'sandboxm11'))"
      ]
     },
     "execution_count": 13,
     "metadata": {},
     "output_type": "execute_result"
    }
   ],
   "source": [
    "#create a new dataset\n",
    "client.create_dataset('sandboxm11')"
   ]
  },
  {
   "cell_type": "code",
   "execution_count": null,
   "metadata": {},
   "outputs": [],
   "source": [
    "#create a table in dataset\n",
    "client.create_table(f\"{PROJECT_ID}.sandboxm11.adspend\")"
   ]
  },
  {
   "cell_type": "code",
   "execution_count": 15,
   "metadata": {},
   "outputs": [],
   "source": [
    "import pandas as pd\n",
    "\n",
    "fd = (r\"C:\\Users\\varunn\\Documents\\Confluence attachments\\MarketingSci Regression analysis\\adspendraw\\merged_df.xlsx\")\n",
    "adspend = pd.read_excel(fd,sheet_name=0)"
   ]
  },
  {
   "cell_type": "code",
   "execution_count": 16,
   "metadata": {},
   "outputs": [],
   "source": [
    "adspend.columns = adspend.iloc[0,:]\n",
    "adspend = adspend.drop(0)\n",
    "adspend = adspend.fillna(0)\n",
    "adspend = adspend.rename(columns = {adspend.columns[0]:'first'})\n",
    "adspend = adspend.drop('first', axis=1)"
   ]
  },
  {
   "cell_type": "code",
   "execution_count": 17,
   "metadata": {},
   "outputs": [],
   "source": [
    "adspend = adspend.iloc[:,0:11]"
   ]
  },
  {
   "cell_type": "code",
   "execution_count": 18,
   "metadata": {},
   "outputs": [
    {
     "data": {
      "text/plain": [
       "Index(['MEDIA', 'INDUSTRY', 'JAN 2000  DOLS (000)', 'FEB 2000  DOLS (000)',\n",
       "       'MAR 2000  DOLS (000)', 'APR 2000  DOLS (000)', 'MAY 2000  DOLS (000)',\n",
       "       'JUN 2000  DOLS (000)', 'JUL 2000  DOLS (000)', 'AUG 2000  DOLS (000)',\n",
       "       'SEP 2000  DOLS (000)'],\n",
       "      dtype='object', name=0)"
      ]
     },
     "execution_count": 18,
     "metadata": {},
     "output_type": "execute_result"
    }
   ],
   "source": [
    "adspend.columns"
   ]
  },
  {
   "cell_type": "code",
   "execution_count": 19,
   "metadata": {
    "scrolled": true
   },
   "outputs": [],
   "source": [
    "adspend = adspend.rename(columns={'JAN 2000  DOLS (000)':'Jan2000','FEB 2000  DOLS (000)':'Feb2000','MAR 2000  DOLS (000)':'mar2000', 'APR 2000  DOLS (000)':'apr2000', 'MAY 2000  DOLS (000)':'may2000',\n",
    "       'JUN 2000  DOLS (000)':'jun2000', 'JUL 2000  DOLS (000)':'jul2000', 'AUG 2000  DOLS (000)':'aug2000',\n",
    "       'SEP 2000  DOLS (000)':'sep2000'})"
   ]
  },
  {
   "cell_type": "code",
   "execution_count": 20,
   "metadata": {},
   "outputs": [
    {
     "name": "stdout",
     "output_type": "stream",
     "text": [
      "loaded 1123 rows into sandboxm11:adspend\n"
     ]
    }
   ],
   "source": [
    "dataset_id = 'sandboxm11'\n",
    "table_id = 'adspend'\n",
    "\n",
    "#tell client everything it needs to know to upload your data\n",
    "dataset_ref = client.dataset(dataset_id)\n",
    "table_ref = dataset_ref.table(table_id)\n",
    "job_config = bigquery.LoadJobConfig(schema=[\n",
    "        # Specify the type of columns whose type cannot be auto-detected. For\n",
    "        # example the \"title\" column uses pandas dtype \"object\", so its\n",
    "        # data type is ambiguous.\n",
    "        bigquery.SchemaField(\"MEDIA\", bigquery.enums.SqlTypeNames.STRING),\n",
    "        # Indexes are written if included in the schema by name.\n",
    "        bigquery.SchemaField(\"INDUSTRY\", bigquery.enums.SqlTypeNames.STRING),\n",
    "    ],)\n",
    "job_config.autodetect = True\n",
    "\n",
    "job = client.load_table_from_dataframe(adspend,table_ref,job_config=job_config)\n",
    "job.result()\n",
    "print (\"loaded {} rows into {}:{}\".format(job.output_rows,dataset_id,table_id))"
   ]
  },
  {
   "cell_type": "code",
   "execution_count": null,
   "metadata": {},
   "outputs": [],
   "source": [
    "#query the data\n",
    "query = f\"\"\" Select * from {PROJECT_ID}.sandboxm11.adspend limit 10\"\"\"\n",
    "query_job = client.query(query)\n",
    "#data = query_job.to_dataframe()\n",
    "query_job"
   ]
  },
  {
   "cell_type": "code",
   "execution_count": 28,
   "metadata": {},
   "outputs": [],
   "source": [
    "\n",
    "# some_file.py\n",
    "import sys\n",
    "# insert at 1, 0 is the script path (or '' in REPL)\n",
    "sys.path.insert(1, r'C:\\Users\\varunn\\Documents\\kaggle-competiton\\credentials')\n",
    "\n",
    "import twittercreds\n"
   ]
  },
  {
   "cell_type": "code",
   "execution_count": 144,
   "metadata": {
    "scrolled": false
   },
   "outputs": [
    {
     "name": "stdout",
     "output_type": "stream",
     "text": [
      "{'trends': [{'name': 'COVID', 'url': 'http://twitter.com/search?q=COVID', 'promoted_content': None, 'query': 'COVID', 'tweet_volume': 3039769}, {'name': 'san juan', 'url': 'http://twitter.com/search?q=%22san+juan%22', 'promoted_content': None, 'query': '%22san+juan%22', 'tweet_volume': 22608}, {'name': 'Monat', 'url': 'http://twitter.com/search?q=Monat', 'promoted_content': None, 'query': 'Monat', 'tweet_volume': None}, {'name': 'Malcolm X', 'url': 'http://twitter.com/search?q=%22Malcolm+X%22', 'promoted_content': None, 'query': '%22Malcolm+X%22', 'tweet_volume': 61469}, {'name': 'Andy Halliday', 'url': 'http://twitter.com/search?q=%22Andy+Halliday%22', 'promoted_content': None, 'query': '%22Andy+Halliday%22', 'tweet_volume': None}, {'name': 'Annie Glenn', 'url': 'http://twitter.com/search?q=%22Annie+Glenn%22', 'promoted_content': None, 'query': '%22Annie+Glenn%22', 'tweet_volume': 11361}, {'name': 'Ravi Zacharias', 'url': 'http://twitter.com/search?q=%22Ravi+Zacharias%22', 'promoted_content': None, 'query': '%22Ravi+Zacharias%22', 'tweet_volume': 24131}, {'name': 'Pier 1', 'url': 'http://twitter.com/search?q=%22Pier+1%22', 'promoted_content': None, 'query': '%22Pier+1%22', 'tweet_volume': None}, {'name': 'Mrs Mops', 'url': 'http://twitter.com/search?q=%22Mrs+Mops%22', 'promoted_content': None, 'query': '%22Mrs+Mops%22', 'tweet_volume': None}, {'name': 'Jane Roe', 'url': 'http://twitter.com/search?q=%22Jane+Roe%22', 'promoted_content': None, 'query': '%22Jane+Roe%22', 'tweet_volume': 14656}, {'name': 'Facebook Shops', 'url': 'http://twitter.com/search?q=%22Facebook+Shops%22', 'promoted_content': None, 'query': '%22Facebook+Shops%22', 'tweet_volume': None}, {'name': 'Baby Future', 'url': 'http://twitter.com/search?q=%22Baby+Future%22', 'promoted_content': None, 'query': '%22Baby+Future%22', 'tweet_volume': 10855}, {'name': 'Drake Campana', 'url': 'http://twitter.com/search?q=%22Drake+Campana%22', 'promoted_content': None, 'query': '%22Drake+Campana%22', 'tweet_volume': None}, {'name': 'Mota Jr', 'url': 'http://twitter.com/search?q=%22Mota+Jr%22', 'promoted_content': None, 'query': '%22Mota+Jr%22', 'tweet_volume': 12865}], 'as_of': '2020-05-19T19:49:37Z', 'created_at': '2020-05-19T19:41:42Z', 'locations': [{'name': 'Puerto Rico', 'woeid': 23424935}]}\n"
     ]
    }
   ],
   "source": [
    "import tweepy\n",
    "from twitter import *\n",
    "\n",
    "auth = tweepy.OAuthHandler(twittercreds.CONSUMER_KEY,twittercreds.CONSUMER_SECRET)\n",
    "auth.set_access_token(twittercreds.ACCESS_TOKEN,twittercreds.ACCESS_TOKEN_SECRET)\n",
    "\n",
    "\n",
    "api = tweepy.API(auth)\n",
    "\n",
    "public_tweets = api.home_timeline()\n",
    "\n",
    "# retrieve global trends.\n",
    "# other localised trends can be specified by looking up WOE IDs:\n",
    "#   http://developer.yahoo.com/geo/geoplanet/\n",
    "# twitter API docs: https://dev.twitter.com/rest/reference/get/trends/place\n",
    "#-----------------------------------------------------------------------\n",
    "#trends = api.trends_available()\n",
    "trends = api.trends_place(id =23424935, exclude = 'hashtags')\n",
    "for tweet in trends:\n",
    "    print(tweet)"
   ]
  },
  {
   "cell_type": "code",
   "execution_count": null,
   "metadata": {},
   "outputs": [],
   "source": [
    "#class to print the tweets\n",
    "\n",
    "# # # # TWITTER STREAMER # # # #\n",
    "class TwitterStreamer():\n",
    "    \"\"\"\n",
    "    Class for streaming and processing live tweets.\n",
    "    \"\"\"\n",
    "    def __init__(self):\n",
    "        pass\n",
    "\n",
    "    def stream_tweets(self, fetched_tweets_filename, hash_tag_list):\n",
    "        # This handles Twitter authetification and the connection to Twitter Streaming API\n",
    "        listener = StdOutListener(fetched_tweets_filename)\n",
    "        auth = OAuthHandler(twittercreds.CONSUMER_KEY, twittercreds.CONSUMER_SECRET)\n",
    "        auth.set_access_token(twittercreds.ACCESS_TOKEN, twittercreds.ACCESS_TOKEN_SECRET)\n",
    "        stream = Stream(auth, listener)\n",
    "\n",
    "        # This line filter Twitter Streams to capture data by the keywords: \n",
    "        stream.filter(track=hash_tag_list)\n",
    "\n",
    "\n",
    "# # # # TWITTER STREAM LISTENER # # # #\n",
    "class StdOutListener(StreamListener):\n",
    "    \"\"\"\n",
    "    This is a basic listener that just prints received tweets to stdout.\n",
    "    \"\"\"\n",
    "    def __init__(self, fetched_tweets_filename):\n",
    "        self.fetched_tweets_filename = fetched_tweets_filename\n",
    "\n",
    "    def on_data(self, data):\n",
    "        try:\n",
    "            print(data)\n",
    "            #with open(self.fetched_tweets_filename, 'a') as tf:\n",
    "            #    tf.write(data)\n",
    "            self.fetched_tweets_filename = data\n",
    "            return True\n",
    "        except BaseException as e:\n",
    "            print(\"Error on_data %s\" % str(e))\n",
    "        return True\n",
    "          \n",
    "\n",
    "    def on_error(self, status):\n",
    "        print(status)\n",
    "\n",
    " \n",
    "if __name__ == '__main__':\n",
    " \n",
    "    # Authenticate using config.py and connect to Twitter Streaming API.\n",
    "    hash_tag_list = [\"testing twitter api\"]\n",
    "    fetched_tweets_filename = {}\n",
    "\n",
    "    twitter_streamer = TwitterStreamer()\n",
    "    twitter_streamer.stream_tweets(fetched_tweets_filename, hash_tag_list)"
   ]
  },
  {
   "cell_type": "code",
   "execution_count": 1,
   "metadata": {},
   "outputs": [],
   "source": [
    "from searchtweets import ResultStream, gen_rule_payload, load_credentials\n",
    "from searchtweets import collect_results\n"
   ]
  },
  {
   "cell_type": "code",
   "execution_count": 4,
   "metadata": {},
   "outputs": [
    {
     "name": "stderr",
     "output_type": "stream",
     "text": [
      "c:\\users\\varunn\\appdata\\local\\continuum\\anaconda3\\envs\\py37\\lib\\site-packages\\searchtweets\\credentials.py:34: YAMLLoadWarning: calling yaml.load() without Loader=... is deprecated, as the default Loader is unsafe. Please read https://msg.pyyaml.org/load for full details.\n",
      "  search_creds = yaml.load(f)[yaml_key]\n",
      "Grabbing bearer token from OAUTH\n"
     ]
    }
   ],
   "source": [
    "#permim setup credentials\n",
    " \n",
    "premium_search_args = load_credentials(\"C:/Users/varunn/Documents/kaggle-competiton/credentials/twitter_keys\",\n",
    "                                       yaml_key=\"search_tweets_premium\",\n",
    "                                       env_overwrite=False)\n"
   ]
  },
  {
   "cell_type": "code",
   "execution_count": 104,
   "metadata": {},
   "outputs": [
    {
     "name": "stdout",
     "output_type": "stream",
     "text": [
      "{\"query\": \"covid19\", \"maxResults\": 100}\n"
     ]
    }
   ],
   "source": [
    "#query search criteria\n",
    "rule = gen_rule_payload(\"covid19\", results_per_call=100) # testing with a sandbox account\n",
    "#rule = gen_rule_payload(\"This Indian paint manufacturer is boosting salaries amid the Covid-19 crisis\", results_per_call=100) # testing with a sandbox account\n",
    "print(rule)\n",
    "\n"
   ]
  },
  {
   "cell_type": "code",
   "execution_count": null,
   "metadata": {},
   "outputs": [],
   "source": [
    "tweets1 = collect_results(rule,max_results=4000,result_stream_args=premium_search_args)"
   ]
  },
  {
   "cell_type": "code",
   "execution_count": 114,
   "metadata": {
    "scrolled": true
   },
   "outputs": [
    {
     "data": {
      "text/plain": [
       "{'created_at': 'Tue May 26 14:38:43 +0000 2020',\n",
       " 'id': 1265291277408632832,\n",
       " 'id_str': '1265291277408632832',\n",
       " 'text': 'RT @mbachelet: Saludo la legalización del matrimonio civil igualitario en Costa Rica 🇨🇷 \\nTodos nacemos libres e iguales y tenemos derecho a…',\n",
       " 'source': '<a href=\"http://twitter.com/download/android\" rel=\"nofollow\">Twitter for Android</a>',\n",
       " 'truncated': False,\n",
       " 'in_reply_to_status_id': None,\n",
       " 'in_reply_to_status_id_str': None,\n",
       " 'in_reply_to_user_id': None,\n",
       " 'in_reply_to_user_id_str': None,\n",
       " 'in_reply_to_screen_name': None,\n",
       " 'user': {'id': 32647519,\n",
       "  'id_str': '32647519',\n",
       "  'name': 'Cristobal Acevedo',\n",
       "  'screen_name': 'elcristobalac',\n",
       "  'location': 'Linares - Santiago',\n",
       "  'url': None,\n",
       "  'description': '#RenunciaPiñera #Apruebo\\n http://instagram.com/perocristobalac',\n",
       "  'translator_type': 'regular',\n",
       "  'protected': False,\n",
       "  'verified': False,\n",
       "  'followers_count': 1517,\n",
       "  'friends_count': 1832,\n",
       "  'listed_count': 20,\n",
       "  'favourites_count': 13442,\n",
       "  'statuses_count': 70788,\n",
       "  'created_at': 'Fri Apr 17 23:08:24 +0000 2009',\n",
       "  'utc_offset': None,\n",
       "  'time_zone': None,\n",
       "  'geo_enabled': True,\n",
       "  'lang': None,\n",
       "  'contributors_enabled': False,\n",
       "  'is_translator': False,\n",
       "  'profile_background_color': '185094',\n",
       "  'profile_background_image_url': 'http://abs.twimg.com/images/themes/theme15/bg.png',\n",
       "  'profile_background_image_url_https': 'https://abs.twimg.com/images/themes/theme15/bg.png',\n",
       "  'profile_background_tile': False,\n",
       "  'profile_link_color': '4A913C',\n",
       "  'profile_sidebar_border_color': '000000',\n",
       "  'profile_sidebar_fill_color': '783862',\n",
       "  'profile_text_color': '607075',\n",
       "  'profile_use_background_image': True,\n",
       "  'profile_image_url': 'http://pbs.twimg.com/profile_images/1262535103525326848/fZsx8pjv_normal.jpg',\n",
       "  'profile_image_url_https': 'https://pbs.twimg.com/profile_images/1262535103525326848/fZsx8pjv_normal.jpg',\n",
       "  'profile_banner_url': 'https://pbs.twimg.com/profile_banners/32647519/1456512024',\n",
       "  'default_profile': False,\n",
       "  'default_profile_image': False,\n",
       "  'following': None,\n",
       "  'follow_request_sent': None,\n",
       "  'notifications': None},\n",
       " 'geo': None,\n",
       " 'coordinates': None,\n",
       " 'place': None,\n",
       " 'contributors': None,\n",
       " 'retweeted_status': {'created_at': 'Tue May 26 14:30:00 +0000 2020',\n",
       "  'id': 1265289084345483266,\n",
       "  'id_str': '1265289084345483266',\n",
       "  'text': 'Saludo la legalización del matrimonio civil igualitario en Costa Rica 🇨🇷 \\nTodos nacemos libres e iguales y tenemos… https://t.co/ZO3glqluz2',\n",
       "  'display_text_range': [0, 140],\n",
       "  'source': '<a href=\"https://studio.twitter.com\" rel=\"nofollow\">Twitter Media Studio</a>',\n",
       "  'truncated': True,\n",
       "  'in_reply_to_status_id': None,\n",
       "  'in_reply_to_status_id_str': None,\n",
       "  'in_reply_to_user_id': None,\n",
       "  'in_reply_to_user_id_str': None,\n",
       "  'in_reply_to_screen_name': None,\n",
       "  'user': {'id': 4119914644,\n",
       "   'id_str': '4119914644',\n",
       "   'name': 'Michelle Bachelet',\n",
       "   'screen_name': 'mbachelet',\n",
       "   'location': 'Santiago, Chile',\n",
       "   'url': None,\n",
       "   'description': '@UNHumanRights Chief / Alta Comisionada de la ONU para los Derechos Humanos. Expresidenta de Chile. #StandUp4HumanRights',\n",
       "   'translator_type': 'none',\n",
       "   'protected': False,\n",
       "   'verified': True,\n",
       "   'followers_count': 728995,\n",
       "   'friends_count': 153,\n",
       "   'listed_count': 1084,\n",
       "   'favourites_count': 29,\n",
       "   'statuses_count': 831,\n",
       "   'created_at': 'Thu Nov 05 14:20:16 +0000 2015',\n",
       "   'utc_offset': None,\n",
       "   'time_zone': None,\n",
       "   'geo_enabled': False,\n",
       "   'lang': None,\n",
       "   'contributors_enabled': False,\n",
       "   'is_translator': False,\n",
       "   'profile_background_color': 'C0DEED',\n",
       "   'profile_background_image_url': 'http://abs.twimg.com/images/themes/theme1/bg.png',\n",
       "   'profile_background_image_url_https': 'https://abs.twimg.com/images/themes/theme1/bg.png',\n",
       "   'profile_background_tile': False,\n",
       "   'profile_link_color': '1DA1F2',\n",
       "   'profile_sidebar_border_color': 'C0DEED',\n",
       "   'profile_sidebar_fill_color': 'DDEEF6',\n",
       "   'profile_text_color': '333333',\n",
       "   'profile_use_background_image': True,\n",
       "   'profile_image_url': 'http://pbs.twimg.com/profile_images/1044698595369390082/RTCKBD_K_normal.jpg',\n",
       "   'profile_image_url_https': 'https://pbs.twimg.com/profile_images/1044698595369390082/RTCKBD_K_normal.jpg',\n",
       "   'profile_banner_url': 'https://pbs.twimg.com/profile_banners/4119914644/1537910427',\n",
       "   'default_profile': True,\n",
       "   'default_profile_image': False,\n",
       "   'following': None,\n",
       "   'follow_request_sent': None,\n",
       "   'notifications': None},\n",
       "  'geo': None,\n",
       "  'coordinates': None,\n",
       "  'place': None,\n",
       "  'contributors': None,\n",
       "  'is_quote_status': False,\n",
       "  'extended_tweet': {'full_text': 'Saludo la legalización del matrimonio civil igualitario en Costa Rica 🇨🇷 \\nTodos nacemos libres e iguales y tenemos derecho a vivir sin discriminación, cualquiera sea el motivo. Ejemplos como este mantienen nuestros espíritus en alto durante #COVID19. https://t.co/wGexZw85bO',\n",
       "   'display_text_range': [0, 250],\n",
       "   'entities': {'hashtags': [{'text': 'COVID19', 'indices': [241, 249]}],\n",
       "    'urls': [],\n",
       "    'user_mentions': [],\n",
       "    'symbols': [],\n",
       "    'media': [{'id': 1265255866925821953,\n",
       "      'id_str': '1265255866925821953',\n",
       "      'indices': [251, 274],\n",
       "      'additional_media_info': {'title': '',\n",
       "       'description': '',\n",
       "       'embeddable': True,\n",
       "       'monetizable': False},\n",
       "      'media_url': 'http://pbs.twimg.com/amplify_video_thumb/1265255866925821953/img/xaMcxyiKOFCM20kx.jpg',\n",
       "      'media_url_https': 'https://pbs.twimg.com/amplify_video_thumb/1265255866925821953/img/xaMcxyiKOFCM20kx.jpg',\n",
       "      'url': 'https://t.co/wGexZw85bO',\n",
       "      'display_url': 'pic.twitter.com/wGexZw85bO',\n",
       "      'expanded_url': 'https://twitter.com/mbachelet/status/1265289084345483266/video/1',\n",
       "      'type': 'video',\n",
       "      'video_info': {'aspect_ratio': [16, 9],\n",
       "       'duration_millis': 55600,\n",
       "       'variants': [{'bitrate': 832000,\n",
       "         'content_type': 'video/mp4',\n",
       "         'url': 'https://video.twimg.com/amplify_video/1265255866925821953/vid/640x360/yxqtk4E3CCqe6DXq.mp4?tag=13'},\n",
       "        {'bitrate': 288000,\n",
       "         'content_type': 'video/mp4',\n",
       "         'url': 'https://video.twimg.com/amplify_video/1265255866925821953/vid/480x270/YgRjFp4m_6_M49zU.mp4?tag=13'},\n",
       "        {'content_type': 'application/x-mpegURL',\n",
       "         'url': 'https://video.twimg.com/amplify_video/1265255866925821953/pl/YYVDBQ_UKR96OF1F.m3u8?tag=13'},\n",
       "        {'bitrate': 2176000,\n",
       "         'content_type': 'video/mp4',\n",
       "         'url': 'https://video.twimg.com/amplify_video/1265255866925821953/vid/1280x720/D_mU4okXqr8vJSmR.mp4?tag=13'}]},\n",
       "      'sizes': {'thumb': {'w': 150, 'h': 150, 'resize': 'crop'},\n",
       "       'medium': {'w': 1200, 'h': 675, 'resize': 'fit'},\n",
       "       'small': {'w': 680, 'h': 383, 'resize': 'fit'},\n",
       "       'large': {'w': 1280, 'h': 720, 'resize': 'fit'}}}]},\n",
       "   'extended_entities': {'media': [{'id': 1265255866925821953,\n",
       "      'id_str': '1265255866925821953',\n",
       "      'indices': [251, 274],\n",
       "      'additional_media_info': {'title': '',\n",
       "       'description': '',\n",
       "       'embeddable': True,\n",
       "       'monetizable': False},\n",
       "      'media_url': 'http://pbs.twimg.com/amplify_video_thumb/1265255866925821953/img/xaMcxyiKOFCM20kx.jpg',\n",
       "      'media_url_https': 'https://pbs.twimg.com/amplify_video_thumb/1265255866925821953/img/xaMcxyiKOFCM20kx.jpg',\n",
       "      'url': 'https://t.co/wGexZw85bO',\n",
       "      'display_url': 'pic.twitter.com/wGexZw85bO',\n",
       "      'expanded_url': 'https://twitter.com/mbachelet/status/1265289084345483266/video/1',\n",
       "      'type': 'video',\n",
       "      'video_info': {'aspect_ratio': [16, 9],\n",
       "       'duration_millis': 55600,\n",
       "       'variants': [{'bitrate': 832000,\n",
       "         'content_type': 'video/mp4',\n",
       "         'url': 'https://video.twimg.com/amplify_video/1265255866925821953/vid/640x360/yxqtk4E3CCqe6DXq.mp4?tag=13'},\n",
       "        {'bitrate': 288000,\n",
       "         'content_type': 'video/mp4',\n",
       "         'url': 'https://video.twimg.com/amplify_video/1265255866925821953/vid/480x270/YgRjFp4m_6_M49zU.mp4?tag=13'},\n",
       "        {'content_type': 'application/x-mpegURL',\n",
       "         'url': 'https://video.twimg.com/amplify_video/1265255866925821953/pl/YYVDBQ_UKR96OF1F.m3u8?tag=13'},\n",
       "        {'bitrate': 2176000,\n",
       "         'content_type': 'video/mp4',\n",
       "         'url': 'https://video.twimg.com/amplify_video/1265255866925821953/vid/1280x720/D_mU4okXqr8vJSmR.mp4?tag=13'}]},\n",
       "      'sizes': {'thumb': {'w': 150, 'h': 150, 'resize': 'crop'},\n",
       "       'medium': {'w': 1200, 'h': 675, 'resize': 'fit'},\n",
       "       'small': {'w': 680, 'h': 383, 'resize': 'fit'},\n",
       "       'large': {'w': 1280, 'h': 720, 'resize': 'fit'}}}]}},\n",
       "  'quote_count': 5,\n",
       "  'reply_count': 12,\n",
       "  'retweet_count': 34,\n",
       "  'favorite_count': 147,\n",
       "  'entities': {'hashtags': [],\n",
       "   'urls': [{'url': 'https://t.co/ZO3glqluz2',\n",
       "     'expanded_url': 'https://twitter.com/i/web/status/1265289084345483266',\n",
       "     'display_url': 'twitter.com/i/web/status/1…',\n",
       "     'indices': [116, 139]}],\n",
       "   'user_mentions': [],\n",
       "   'symbols': []},\n",
       "  'favorited': False,\n",
       "  'retweeted': False,\n",
       "  'possibly_sensitive': False,\n",
       "  'filter_level': 'low',\n",
       "  'lang': 'es'},\n",
       " 'is_quote_status': False,\n",
       " 'quote_count': 0,\n",
       " 'reply_count': 0,\n",
       " 'retweet_count': 0,\n",
       " 'favorite_count': 0,\n",
       " 'entities': {'hashtags': [],\n",
       "  'urls': [],\n",
       "  'user_mentions': [{'screen_name': 'mbachelet',\n",
       "    'name': 'Michelle Bachelet',\n",
       "    'id': 4119914644,\n",
       "    'id_str': '4119914644',\n",
       "    'indices': [3, 13]}],\n",
       "  'symbols': []},\n",
       " 'favorited': False,\n",
       " 'retweeted': False,\n",
       " 'filter_level': 'low',\n",
       " 'lang': 'es',\n",
       " 'matching_rules': [{'tag': None}]}"
      ]
     },
     "execution_count": 114,
     "metadata": {},
     "output_type": "execute_result"
    }
   ],
   "source": [
    "tweets1[990]"
   ]
  },
  {
   "cell_type": "code",
   "execution_count": 39,
   "metadata": {},
   "outputs": [
    {
     "name": "stdout",
     "output_type": "stream",
     "text": [
      "RT @fanniew08: Continue to honor #MLKDay #MLK \n",
      "#MLK2020 \n",
      "#VoterRegistrationCheck \n",
      "#VoterSuppressionIsReal\n",
      "Support:\n",
      "@fairfightaction \n",
      "@MomsD…\n",
      "\n",
      "RT @IAmRichBenjamin: WH doing damnedest to dodge the Law. FBI arrests 3 Neo-Nazis from military-style training camps headed to gun rally in…\n",
      "\n",
      "RT @erinlimofficial: #MLK2020 https://t.co/v4aWcXCnkD\n",
      "\n",
      "RT @HawaiiDelilah: Powerful ad from Joe Biden - the one candidate continuously talking about the poisonous hatred Trump disseminates. #MLK2…\n",
      "\n",
      "RT @HawaiiDelilah: Powerful ad from Joe Biden - the one candidate continuously talking about the poisonous hatred Trump disseminates. #MLK2…\n",
      "\n",
      "RT @quotesbybaldwin: and baffle them.  He does not offer any easy comfort and this keeps his hearers absolutely tense. He allows them their…\n",
      "\n",
      "These drive thru graduations are SUPER BOMB.. I know it was not ideal, but y’all’s graduation ceremonies were condu… https://t.co/pQXlpoakYi\n",
      "\n",
      "RT @rankandfileca: \"The labor movement was the principal force that transformed misery and despair into hope and progress...The captains of…\n",
      "\n",
      "RT @HawaiiDelilah: Powerful ad from Joe Biden - the one candidate continuously talking about the poisonous hatred Trump disseminates. #MLK2…\n",
      "\n",
      "@HamillHimself @JoeBiden Biden is a career liar. \n",
      "Drops Out of Presidential Race 1987 \n",
      "\"the disclosures about his p… https://t.co/SGiPMIGla2\n",
      "\n",
      "@TruthsOverTrump @NYGovCuomo Biden is a career liar. \n",
      "Drops Out of Presidential Race 1987 \n",
      "\"the disclosures about h… https://t.co/HypbNnzumQ\n",
      "\n",
      "@Analisa_Swan @Lawrence Biden is a career liar. \n",
      "Drops Out of Presidential Race 1987 \n",
      "\"the disclosures about his pl… https://t.co/8yoRc8Bvt6\n",
      "\n",
      "RT @MartinPooper: Breaking: It is my distinct privilege and honor to announce today, on MLK day, that I will be officially launching my cam…\n",
      "\n",
      "RT @dyllonburnside: “Authenticity is my SUPERPOWER.” Remarks on freedom from the @HRC dinner in South Florida where I received the visibili…\n",
      "\n",
      "RT @iBrianHamilton: @mmurraypolitics Biden is a career liar. \n",
      "Drops Out of Presidential Race 1987 \n",
      "\"the disclosures about his plagiarism in…\n",
      "\n",
      "RT @10INCH_KYNG: DAMN DADDIES! 🤤💦#MLK2020 \n",
      "@yardiestyle1 @cravemello @Nitenday8_ @Arsenal4point0 @richchocolate6 @MRTrunk3 @MemphisStrokess…\n",
      "\n",
      "RT @10INCH_KYNG: DAMN DADDIES! 🤤💦#MLK2020 \n",
      "@yardiestyle1 @cravemello @Nitenday8_ @Arsenal4point0 @richchocolate6 @MRTrunk3 @MemphisStrokess…\n",
      "\n",
      "RT @HawaiiDelilah: Powerful ad from Joe Biden - the one candidate continuously talking about the poisonous hatred Trump disseminates. #MLK2…\n",
      "\n",
      "RT @MrKlinzibo: Quote of the day:\n",
      "#MLKDay #MLK2020 #MLKDayofService https://t.co/whcj2k8IhP\n",
      "\n",
      "RT @HawaiiDelilah: Powerful ad from Joe Biden - the one candidate continuously talking about the poisonous hatred Trump disseminates. #MLK2…\n",
      "\n",
      "RT @glengouldonline: What is your favorite MLK quote? #mlk #mlk2020 #martinlutherking https://t.co/u3bjWsKeJB\n",
      "\n",
      "RT @SarahPPerry: The best leaders are just, humble, kind. #MLK2020 https://t.co/fhub4rCzXb\n",
      "\n",
      "RT @KindAndUnblind: VIDEO: Martin Luther King called for the end of US racism, economic exploitation, and militarism. He demanded a \"revolu…\n",
      "\n",
      "RT @dyllonburnside: “Authenticity is my SUPERPOWER.” Remarks on freedom from the @HRC dinner in South Florida where I received the visibili…\n",
      "\n",
      "RT @DMwambonu: @soledadobrien In fact, not many people are aware that King’s mother, Alberta King, was also shot and killed as her son.\n",
      "\n",
      "Th…\n",
      "\n",
      "RT @MrKlinzibo: Quote of the day:\n",
      "#MLKDay #MLK2020 #MLKDayofService https://t.co/whcj2k8IhP\n",
      "\n",
      "RT @Daniel4Judge: Helene Daniel had a great time today at the 40th Annual MLK Leadership Breakfast hosted by the Tampa Organization of Blac…\n",
      "\n",
      "RT @Daniel4Judge: Good times with great people at the Dr. Martin Luther King Jr. Day Parade in Tampa. #MLK2020 #MLKDay #Tampa https://t.co/…\n",
      "\n",
      "RT @AutismFaithNet: This is our heartfelt prayer for this year. Thank you, Dr. King, for your vision, determination and sacrifice! \n",
      "\n",
      "#MLK20…\n",
      "\n",
      "RT @olivia_awaken: U know what got me angry? every leftist liberal acting as if black people don't exist, and this rally was somehow just w…\n",
      "\n",
      "RT @AlphaWriter: I will write both commercial and informational content for your amazon affiliate blog \n",
      "check out my #fiverrgig  on #Fiverr…\n",
      "\n",
      "RT @AlphaWriter: I will write both commercial and informational content for your amazon affiliate blog \n",
      "check out my #fiverrgig  on #Fiverr…\n",
      "\n",
      "RT @AlphaWriter: I will write both commercial and informational content for your amazon affiliate blog \n",
      "check out my #fiverrgig  on #Fiverr…\n",
      "\n",
      "RT @lnsane_Fights: Those first two punches were ineffective 🥊😳👏🏼 #BlueMonday #MLK2020 #ufc #fight #wshh #mma https://t.co/8COPHYTG6A\n",
      "\n",
      "RT @J_H_5: How to legally do a Moloch sacrifice. Demon God of child sacrifice, name spelled with MLK, auspicious Martin Luther King tie in…\n",
      "\n",
      "RT @wongrog: First (and fun) time volunteering w/ the #accessibility team at the #WomensMarch2020 today, and got goosebumps when #UnViolado…\n",
      "\n",
      "@OfficialMLK3 If Yang unsuspends.. https://t.co/GgHL3lkdtT #mlk2020\n",
      "\n",
      "RT @BenSwann_: #MLK2020 https://t.co/nHIprfKvf8\n",
      "\n",
      "RT @dyllonburnside: “Authenticity is my SUPERPOWER.” Remarks on freedom from the @HRC dinner in South Florida where I received the visibili…\n",
      "\n",
      "RT @MartinPooper: Breaking: It is my distinct privilege and honor to announce today, on MLK day, that I will be officially launching my cam…\n",
      "\n",
      "RT @MartinPooper: Breaking: It is my distinct privilege and honor to announce today, on MLK day, that I will be officially launching my cam…\n",
      "\n",
      "RT @butta_nutt: 🗣🗣 MORNING #ATL #MLK2020 #ButtaNutt #StrokeKing #grownmandick https://t.co/09QhP9zqnk\n",
      "\n",
      "RT @latoyajackson: #MLK2020 #MLKNow #MLKDay #mondaythoughts #life #love #equality #Grateful #PositiveVibesOnly #unity #peace #latoyajackson…\n",
      "\n",
      "RT @ceojaved: \"To ignore evil is to become accomplice to it\" #MLK taught us that our lives end the day we become silent about the things th…\n",
      "\n"
     ]
    },
    {
     "data": {
      "text/plain": [
       "[None,\n",
       " None,\n",
       " None,\n",
       " None,\n",
       " None,\n",
       " None,\n",
       " None,\n",
       " None,\n",
       " None,\n",
       " None,\n",
       " None,\n",
       " None,\n",
       " None,\n",
       " None,\n",
       " None,\n",
       " None,\n",
       " None,\n",
       " None,\n",
       " None,\n",
       " None,\n",
       " None,\n",
       " None,\n",
       " None,\n",
       " None,\n",
       " None,\n",
       " None,\n",
       " None,\n",
       " None,\n",
       " None,\n",
       " None,\n",
       " None,\n",
       " None,\n",
       " None,\n",
       " None,\n",
       " None,\n",
       " None,\n",
       " None,\n",
       " None,\n",
       " None,\n",
       " None,\n",
       " None,\n",
       " None,\n",
       " None,\n",
       " None]"
      ]
     },
     "execution_count": 39,
     "metadata": {},
     "output_type": "execute_result"
    }
   ],
   "source": [
    "[print(tweetd.text, end='\\n\\n') for tweetd in tweets1]"
   ]
  },
  {
   "cell_type": "code",
   "execution_count": null,
   "metadata": {},
   "outputs": [],
   "source": []
  }
 ],
 "metadata": {
  "kernelspec": {
   "display_name": "Python 3",
   "language": "python",
   "name": "python3"
  },
  "language_info": {
   "codemirror_mode": {
    "name": "ipython",
    "version": 3
   },
   "file_extension": ".py",
   "mimetype": "text/x-python",
   "name": "python",
   "nbconvert_exporter": "python",
   "pygments_lexer": "ipython3",
   "version": "3.7.1"
  }
 },
 "nbformat": 4,
 "nbformat_minor": 4
}
